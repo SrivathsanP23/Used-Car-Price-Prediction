{
 "cells": [
  {
   "cell_type": "code",
   "execution_count": 236,
   "metadata": {},
   "outputs": [],
   "source": [
    "import pandas as pd"
   ]
  },
  {
   "cell_type": "code",
   "execution_count": 237,
   "metadata": {},
   "outputs": [],
   "source": [
    "new_car=pd.read_csv(\"finalcarsdata.csv\")"
   ]
  },
  {
   "cell_type": "code",
   "execution_count": 238,
   "metadata": {},
   "outputs": [
    {
     "name": "stdout",
     "output_type": "stream",
     "text": [
      "<class 'pandas.core.frame.DataFrame'>\n",
      "RangeIndex: 8732 entries, 0 to 8731\n",
      "Data columns (total 24 columns):\n",
      " #   Column               Non-Null Count  Dtype  \n",
      "---  ------               --------------  -----  \n",
      " 0   bodytype             8732 non-null   object \n",
      " 1   fueltype             8732 non-null   object \n",
      " 2   oem                  8732 non-null   object \n",
      " 3   owner                8732 non-null   object \n",
      " 4   transmission         8732 non-null   object \n",
      " 5   ownerNo              8732 non-null   int64  \n",
      " 6   kms driven           8732 non-null   object \n",
      " 7   Mileage              8732 non-null   float64\n",
      " 8   model                8732 non-null   object \n",
      " 9   variantName          8732 non-null   object \n",
      " 10  Seats                8732 non-null   object \n",
      " 11  DriveType            8732 non-null   object \n",
      " 12  Insurance            8732 non-null   object \n",
      " 13  modelYear            8732 non-null   int64  \n",
      " 14  Registration Year    8732 non-null   object \n",
      " 15  Gearbox              8732 non-null   int64  \n",
      " 16  Torque               8732 non-null   float64\n",
      " 17  Year of Manufacture  8732 non-null   int64  \n",
      " 18  Carlength            8732 non-null   int64  \n",
      " 19  Engine Displacement  8732 non-null   object \n",
      " 20  Carwidth             8732 non-null   int64  \n",
      " 21  city                 8732 non-null   object \n",
      " 22  Max Power            8732 non-null   float64\n",
      " 23  price                8732 non-null   int64  \n",
      "dtypes: float64(3), int64(7), object(14)\n",
      "memory usage: 1.6+ MB\n"
     ]
    }
   ],
   "source": [
    "new_car.info()"
   ]
  },
  {
   "cell_type": "code",
   "execution_count": 239,
   "metadata": {},
   "outputs": [
    {
     "data": {
      "text/html": [
       "<div>\n",
       "<style scoped>\n",
       "    .dataframe tbody tr th:only-of-type {\n",
       "        vertical-align: middle;\n",
       "    }\n",
       "\n",
       "    .dataframe tbody tr th {\n",
       "        vertical-align: top;\n",
       "    }\n",
       "\n",
       "    .dataframe thead th {\n",
       "        text-align: right;\n",
       "    }\n",
       "</style>\n",
       "<table border=\"1\" class=\"dataframe\">\n",
       "  <thead>\n",
       "    <tr style=\"text-align: right;\">\n",
       "      <th></th>\n",
       "      <th>ownerNo</th>\n",
       "      <th>Mileage</th>\n",
       "      <th>modelYear</th>\n",
       "      <th>Gearbox</th>\n",
       "      <th>Torque</th>\n",
       "      <th>Year of Manufacture</th>\n",
       "      <th>Carlength</th>\n",
       "      <th>Carwidth</th>\n",
       "      <th>Max Power</th>\n",
       "      <th>price</th>\n",
       "    </tr>\n",
       "  </thead>\n",
       "  <tbody>\n",
       "    <tr>\n",
       "      <th>count</th>\n",
       "      <td>8732.000000</td>\n",
       "      <td>8732.000000</td>\n",
       "      <td>8732.000000</td>\n",
       "      <td>8732.000000</td>\n",
       "      <td>8732.000000</td>\n",
       "      <td>8732.000000</td>\n",
       "      <td>8732.000000</td>\n",
       "      <td>8732.000000</td>\n",
       "      <td>8732.000000</td>\n",
       "      <td>8.732000e+03</td>\n",
       "    </tr>\n",
       "    <tr>\n",
       "      <th>mean</th>\n",
       "      <td>1.338754</td>\n",
       "      <td>19.276229</td>\n",
       "      <td>2016.576729</td>\n",
       "      <td>5.445259</td>\n",
       "      <td>174.684124</td>\n",
       "      <td>2016.487746</td>\n",
       "      <td>4099.921553</td>\n",
       "      <td>1729.481906</td>\n",
       "      <td>104.389885</td>\n",
       "      <td>9.691022e+05</td>\n",
       "    </tr>\n",
       "    <tr>\n",
       "      <th>std</th>\n",
       "      <td>0.603313</td>\n",
       "      <td>4.064497</td>\n",
       "      <td>3.875682</td>\n",
       "      <td>0.908280</td>\n",
       "      <td>108.064840</td>\n",
       "      <td>3.934024</td>\n",
       "      <td>389.980060</td>\n",
       "      <td>125.244539</td>\n",
       "      <td>45.403812</td>\n",
       "      <td>1.411604e+06</td>\n",
       "    </tr>\n",
       "    <tr>\n",
       "      <th>min</th>\n",
       "      <td>0.000000</td>\n",
       "      <td>7.080000</td>\n",
       "      <td>1985.000000</td>\n",
       "      <td>4.000000</td>\n",
       "      <td>4.800000</td>\n",
       "      <td>1985.000000</td>\n",
       "      <td>2974.000000</td>\n",
       "      <td>1410.000000</td>\n",
       "      <td>25.400000</td>\n",
       "      <td>2.016100e+04</td>\n",
       "    </tr>\n",
       "    <tr>\n",
       "      <th>25%</th>\n",
       "      <td>1.000000</td>\n",
       "      <td>17.100000</td>\n",
       "      <td>2014.000000</td>\n",
       "      <td>5.000000</td>\n",
       "      <td>111.800000</td>\n",
       "      <td>2014.000000</td>\n",
       "      <td>3825.000000</td>\n",
       "      <td>1680.000000</td>\n",
       "      <td>79.912500</td>\n",
       "      <td>4.099990e+05</td>\n",
       "    </tr>\n",
       "    <tr>\n",
       "      <th>50%</th>\n",
       "      <td>1.000000</td>\n",
       "      <td>18.900000</td>\n",
       "      <td>2017.000000</td>\n",
       "      <td>5.000000</td>\n",
       "      <td>134.000000</td>\n",
       "      <td>2017.000000</td>\n",
       "      <td>3995.000000</td>\n",
       "      <td>1729.000000</td>\n",
       "      <td>88.500000</td>\n",
       "      <td>6.200000e+05</td>\n",
       "    </tr>\n",
       "    <tr>\n",
       "      <th>75%</th>\n",
       "      <td>2.000000</td>\n",
       "      <td>21.400000</td>\n",
       "      <td>2019.000000</td>\n",
       "      <td>6.000000</td>\n",
       "      <td>205.000000</td>\n",
       "      <td>2019.000000</td>\n",
       "      <td>4417.000000</td>\n",
       "      <td>1780.000000</td>\n",
       "      <td>118.350000</td>\n",
       "      <td>9.690000e+05</td>\n",
       "    </tr>\n",
       "    <tr>\n",
       "      <th>max</th>\n",
       "      <td>5.000000</td>\n",
       "      <td>140.000000</td>\n",
       "      <td>2023.000000</td>\n",
       "      <td>10.000000</td>\n",
       "      <td>850.000000</td>\n",
       "      <td>2023.000000</td>\n",
       "      <td>5462.000000</td>\n",
       "      <td>2220.000000</td>\n",
       "      <td>576.630000</td>\n",
       "      <td>4.150000e+07</td>\n",
       "    </tr>\n",
       "  </tbody>\n",
       "</table>\n",
       "</div>"
      ],
      "text/plain": [
       "           ownerNo      Mileage    modelYear      Gearbox       Torque  \\\n",
       "count  8732.000000  8732.000000  8732.000000  8732.000000  8732.000000   \n",
       "mean      1.338754    19.276229  2016.576729     5.445259   174.684124   \n",
       "std       0.603313     4.064497     3.875682     0.908280   108.064840   \n",
       "min       0.000000     7.080000  1985.000000     4.000000     4.800000   \n",
       "25%       1.000000    17.100000  2014.000000     5.000000   111.800000   \n",
       "50%       1.000000    18.900000  2017.000000     5.000000   134.000000   \n",
       "75%       2.000000    21.400000  2019.000000     6.000000   205.000000   \n",
       "max       5.000000   140.000000  2023.000000    10.000000   850.000000   \n",
       "\n",
       "       Year of Manufacture    Carlength     Carwidth    Max Power  \\\n",
       "count          8732.000000  8732.000000  8732.000000  8732.000000   \n",
       "mean           2016.487746  4099.921553  1729.481906   104.389885   \n",
       "std               3.934024   389.980060   125.244539    45.403812   \n",
       "min            1985.000000  2974.000000  1410.000000    25.400000   \n",
       "25%            2014.000000  3825.000000  1680.000000    79.912500   \n",
       "50%            2017.000000  3995.000000  1729.000000    88.500000   \n",
       "75%            2019.000000  4417.000000  1780.000000   118.350000   \n",
       "max            2023.000000  5462.000000  2220.000000   576.630000   \n",
       "\n",
       "              price  \n",
       "count  8.732000e+03  \n",
       "mean   9.691022e+05  \n",
       "std    1.411604e+06  \n",
       "min    2.016100e+04  \n",
       "25%    4.099990e+05  \n",
       "50%    6.200000e+05  \n",
       "75%    9.690000e+05  \n",
       "max    4.150000e+07  "
      ]
     },
     "execution_count": 239,
     "metadata": {},
     "output_type": "execute_result"
    }
   ],
   "source": [
    "new_car.describe()\n"
   ]
  },
  {
   "cell_type": "markdown",
   "metadata": {},
   "source": [
    "#### Frequency of each category"
   ]
  },
  {
   "cell_type": "code",
   "execution_count": 240,
   "metadata": {},
   "outputs": [
    {
     "data": {
      "text/plain": [
       "owner\n",
       "1st Owner    6197\n",
       "2nd Owner    2098\n",
       "3rd Owner     343\n",
       "4th Owner      47\n",
       "0th Owner      31\n",
       "5th Owner      16\n",
       "Name: count, dtype: int64"
      ]
     },
     "execution_count": 240,
     "metadata": {},
     "output_type": "execute_result"
    }
   ],
   "source": [
    "new_car['owner'].value_counts()\n"
   ]
  },
  {
   "cell_type": "code",
   "execution_count": 241,
   "metadata": {},
   "outputs": [
    {
     "data": {
      "text/plain": [
       "transmission\n",
       "Manual       6230\n",
       "Automatic    2502\n",
       "Name: count, dtype: int64"
      ]
     },
     "execution_count": 241,
     "metadata": {},
     "output_type": "execute_result"
    }
   ],
   "source": [
    "new_car['transmission'].value_counts()\n"
   ]
  },
  {
   "cell_type": "code",
   "execution_count": 242,
   "metadata": {},
   "outputs": [
    {
     "data": {
      "text/plain": [
       "bodytype\n",
       "Hatchback        3770\n",
       "SUV              2286\n",
       "Sedan            2256\n",
       "MUV               374\n",
       "Minivans           23\n",
       "Coupe               9\n",
       "Pickup Trucks       6\n",
       "Convertibles        6\n",
       "Hybrids             1\n",
       "Wagon               1\n",
       "Name: count, dtype: int64"
      ]
     },
     "execution_count": 242,
     "metadata": {},
     "output_type": "execute_result"
    }
   ],
   "source": [
    "new_car['bodytype'].value_counts()"
   ]
  },
  {
   "cell_type": "code",
   "execution_count": 243,
   "metadata": {},
   "outputs": [
    {
     "data": {
      "text/plain": [
       "fueltype\n",
       "Petrol      5845\n",
       "Diesel      2747\n",
       "Cng           97\n",
       "Electric      27\n",
       "Lpg           16\n",
       "Name: count, dtype: int64"
      ]
     },
     "execution_count": 243,
     "metadata": {},
     "output_type": "execute_result"
    }
   ],
   "source": [
    "new_car['fueltype'].value_counts()"
   ]
  },
  {
   "cell_type": "code",
   "execution_count": 244,
   "metadata": {},
   "outputs": [
    {
     "data": {
      "text/plain": [
       "fueltype\n",
       "Petrol      5845\n",
       "Diesel      2747\n",
       "Cng           97\n",
       "Electric      27\n",
       "Lpg           16\n",
       "Name: count, dtype: int64"
      ]
     },
     "execution_count": 244,
     "metadata": {},
     "output_type": "execute_result"
    }
   ],
   "source": [
    "new_car.fueltype.value_counts()"
   ]
  },
  {
   "cell_type": "code",
   "execution_count": 245,
   "metadata": {},
   "outputs": [
    {
     "data": {
      "text/plain": [
       "DriveType\n",
       "FWD    7510\n",
       "RWD     648\n",
       "AWD     292\n",
       "4WD     282\n",
       "Name: count, dtype: int64"
      ]
     },
     "execution_count": 245,
     "metadata": {},
     "output_type": "execute_result"
    }
   ],
   "source": [
    "new_car['DriveType'].value_counts()"
   ]
  },
  {
   "cell_type": "code",
   "execution_count": 246,
   "metadata": {},
   "outputs": [
    {
     "data": {
      "text/plain": [
       "oem\n",
       "Maruti              2333\n",
       "Hyundai             1749\n",
       "Honda                890\n",
       "Tata                 464\n",
       "Mahindra             377\n",
       "Toyota               344\n",
       "Ford                 332\n",
       "Renault              320\n",
       "Volkswagen           314\n",
       "Mercedes-Benz        260\n",
       "BMW                  187\n",
       "Audi                 163\n",
       "Skoda                161\n",
       "Kia                  144\n",
       "Jeep                 118\n",
       "MG                   101\n",
       "Datsun                92\n",
       "Nissan                86\n",
       "Chevrolet             71\n",
       "Volvo                 50\n",
       "Land Rover            45\n",
       "Jaguar                39\n",
       "Fiat                  35\n",
       "Mini                  12\n",
       "Mitsubishi            11\n",
       "Citroen                7\n",
       "Ssangyong              5\n",
       "Lexus                  5\n",
       "Hindustan Motors       5\n",
       "Porsche                5\n",
       "Isuzu                  4\n",
       "Opel                   3\n",
       "Name: count, dtype: int64"
      ]
     },
     "execution_count": 246,
     "metadata": {},
     "output_type": "execute_result"
    }
   ],
   "source": [
    "new_car['oem'].value_counts()"
   ]
  },
  {
   "cell_type": "code",
   "execution_count": 247,
   "metadata": {},
   "outputs": [
    {
     "data": {
      "text/plain": [
       "array(['998 cc', '1196 cc', '999 cc', '1086 cc', '1199 cc', '2143 cc',\n",
       "       '1995 cc', '1497 cc', '1197 cc', '1956 cc', '2755 cc', '1198 cc',\n",
       "       '1248 cc', '0 cc', '1582 cc', '1984 cc', '2694 cc', '1498 cc',\n",
       "       '1298 cc', '1461 cc', '1798 cc', '1364 cc', '1591 cc', '1968 cc',\n",
       "       '2967 cc', '2393 cc', '2993 cc', '1368 cc', '2198 cc', '1373 cc',\n",
       "       '1598 cc', '2179 cc', '1462 cc', '1451 cc', '1194 cc', '1991 cc',\n",
       "       '1493 cc', '1998 cc', '4663 cc', '2987 cc', '796 cc', '1186 cc',\n",
       "       '1799 cc', '1950 cc', '1496 cc', '2925 cc', '1396 cc', '1353 cc',\n",
       "       '799 cc', '1405 cc', '814 cc', '2494 cc', '1399 cc', '1997 cc',\n",
       "       '1047 cc', '2999 cc', '1499 cc', '2184 cc', '1896 cc', '1999 cc',\n",
       "       '1969 cc', '1495 cc', '1390 cc', '1120 cc', '1482 cc', '2523 cc',\n",
       "       '2354 cc', '624 cc', '793 cc', '936 cc', '4134 cc', '993 cc',\n",
       "       '2499 cc', '2982 cc', '1596 cc', '1796 cc', '1422 cc', '1172 cc',\n",
       "       '1468 cc', '1599 cc', '1586 cc', '1193 cc', '2199 cc', '1330 cc',\n",
       "       '2696 cc', '2400 cc', '2477 cc', '2998 cc', '2997 cc', '2995 cc',\n",
       "       '1395 cc', '2487 cc', '1797 cc', '1341 cc', '1397 cc', '3198 cc',\n",
       "       '1332 cc', '2148 cc', '1299 cc', '1061 cc', '2497 cc', '1590 cc',\n",
       "       '1781 cc', '2953 cc', '1595 cc', '2496 cc', '2362 cc', '970 cc',\n",
       "       '1389 cc', '1597 cc', '2498 cc', '995 cc', '72 cc', '1589 cc',\n",
       "       '3597 cc', '5000 cc', '2200 cc', '2996 cc', '1108 cc', '1996 cc',\n",
       "       '1985 cc', '2157 cc', '2112 cc', '2446 cc', '1794 cc', '2359 cc',\n",
       "       '2609 cc', '2956 cc', '2231 cc', '1349 cc', '3456 cc', '2360 cc',\n",
       "       '3982 cc', '2894 cc', '3346 cc', '3498 cc', '2979 cc', '2835 cc',\n",
       "       '1150 cc', '1343 cc', '2981 cc', '4395 cc', '1817 cc', '3993 cc',\n",
       "       '1948 cc', '4806 cc', '2994 cc', '1993 cc', '1490 cc', '2489 cc'],\n",
       "      dtype=object)"
      ]
     },
     "execution_count": 247,
     "metadata": {},
     "output_type": "execute_result"
    }
   ],
   "source": [
    "new_car['Engine Displacement'].unique()"
   ]
  },
  {
   "cell_type": "code",
   "execution_count": 248,
   "metadata": {},
   "outputs": [],
   "source": [
    "new_car['Engine Displacement']=new_car['Engine Displacement'].str.replace(\" cc\",\"\").str.strip()"
   ]
  },
  {
   "cell_type": "code",
   "execution_count": 249,
   "metadata": {},
   "outputs": [],
   "source": [
    "new_car['Engine Displacement'] = new_car['Engine Displacement'].astype(int)"
   ]
  },
  {
   "cell_type": "code",
   "execution_count": 250,
   "metadata": {},
   "outputs": [
    {
     "data": {
      "text/plain": [
       "1415.1643380668804"
      ]
     },
     "execution_count": 250,
     "metadata": {},
     "output_type": "execute_result"
    }
   ],
   "source": [
    "new_car['Engine Displacement'].mean()"
   ]
  },
  {
   "cell_type": "code",
   "execution_count": 251,
   "metadata": {},
   "outputs": [
    {
     "data": {
      "text/plain": [
       "140.0"
      ]
     },
     "execution_count": 251,
     "metadata": {},
     "output_type": "execute_result"
    }
   ],
   "source": [
    "new_car.Mileage.max()"
   ]
  },
  {
   "cell_type": "code",
   "execution_count": 252,
   "metadata": {},
   "outputs": [
    {
     "data": {
      "text/plain": [
       "Year of Manufacture\n",
       "2018    1024\n",
       "2017     975\n",
       "2016     851\n",
       "2019     819\n",
       "2021     723\n",
       "2020     634\n",
       "2015     631\n",
       "2014     606\n",
       "2022     590\n",
       "2013     423\n",
       "2012     352\n",
       "2011     287\n",
       "2010     266\n",
       "2009     149\n",
       "2023     104\n",
       "2008      94\n",
       "2007      61\n",
       "2006      48\n",
       "2004      30\n",
       "2005      22\n",
       "2003      15\n",
       "2002      11\n",
       "2001       8\n",
       "1995       2\n",
       "1998       2\n",
       "1985       2\n",
       "1997       2\n",
       "2000       1\n",
       "Name: count, dtype: int64"
      ]
     },
     "execution_count": 252,
     "metadata": {},
     "output_type": "execute_result"
    }
   ],
   "source": [
    "new_car['Year of Manufacture'].value_counts()"
   ]
  },
  {
   "cell_type": "code",
   "execution_count": 253,
   "metadata": {},
   "outputs": [
    {
     "data": {
      "text/plain": [
       "Registration Year\n",
       "2022        225\n",
       "2018        201\n",
       "2017        195\n",
       "2021        188\n",
       "2016        187\n",
       "           ... \n",
       "Apr 2004      1\n",
       "Jul 2004      1\n",
       "Feb 2004      1\n",
       "Jul 2009      1\n",
       "Mar 2009      1\n",
       "Name: count, Length: 261, dtype: int64"
      ]
     },
     "execution_count": 253,
     "metadata": {},
     "output_type": "execute_result"
    }
   ],
   "source": [
    "new_car['Registration Year'].value_counts()"
   ]
  },
  {
   "cell_type": "markdown",
   "metadata": {},
   "source": [
    "### Distribution"
   ]
  },
  {
   "cell_type": "code",
   "execution_count": 254,
   "metadata": {},
   "outputs": [
    {
     "data": {
      "text/plain": [
       "<Axes: xlabel='price', ylabel='Count'>"
      ]
     },
     "execution_count": 254,
     "metadata": {},
     "output_type": "execute_result"
    },
    {
     "data": {
      "image/png": "[encoded data removed]",
      "text/plain": [
       "<Figure size 640x480 with 1 Axes>"
      ]
     },
     "metadata": {},
     "output_type": "display_data"
    }
   ],
   "source": [
    "import seaborn as sns\n",
    "sns.histplot(new_car['price'], kde=True)\n"
   ]
  },
  {
   "cell_type": "code",
   "execution_count": 255,
   "metadata": {},
   "outputs": [
    {
     "data": {
      "text/plain": [
       "<Axes: ylabel='price'>"
      ]
     },
     "execution_count": 255,
     "metadata": {},
     "output_type": "execute_result"
    },
    {
     "data": {
      "image/png": "[encoded data removed]",
      "text/plain": [
       "<Figure size 640x480 with 1 Axes>"
      ]
     },
     "metadata": {},
     "output_type": "display_data"
    }
   ],
   "source": [
    "sns.boxplot(new_car['price'])\n"
   ]
  },
  {
   "cell_type": "code",
   "execution_count": 256,
   "metadata": {},
   "outputs": [
    {
     "data": {
      "text/plain": [
       "<Axes: xlabel='kms driven', ylabel='price'>"
      ]
     },
     "execution_count": 256,
     "metadata": {},
     "output_type": "execute_result"
    },
    {
     "data": {
      "image/png": "[encoded data removed]",
      "text/plain": [
       "<Figure size 640x480 with 1 Axes>"
      ]
     },
     "metadata": {},
     "output_type": "display_data"
    }
   ],
   "source": [
    "sns.scatterplot(x='kms driven', y='price', data=new_car)\n"
   ]
  },
  {
   "cell_type": "code",
   "execution_count": 257,
   "metadata": {},
   "outputs": [
    {
     "data": {
      "text/plain": [
       "<seaborn.axisgrid.PairGrid at 0x1fa145683e0>"
      ]
     },
     "execution_count": 257,
     "metadata": {},
     "output_type": "execute_result"
    },
    {
     "data": {
      "image/png": "[encoded data removed]",
      "text/plain": [
       "<Figure size 500x500 with 6 Axes>"
      ]
     },
     "metadata": {},
     "output_type": "display_data"
    }
   ],
   "source": [
    "sns.pairplot(new_car[['price', 'kms driven', 'modelYear']])\n",
    "\n"
   ]
  },
  {
   "cell_type": "code",
   "execution_count": 258,
   "metadata": {},
   "outputs": [
    {
     "data": {
      "text/plain": [
       "dtype('O')"
      ]
     },
     "execution_count": 258,
     "metadata": {},
     "output_type": "execute_result"
    }
   ],
   "source": [
    "new_car['kms driven'].dtype"
   ]
  },
  {
   "cell_type": "code",
   "execution_count": 259,
   "metadata": {},
   "outputs": [
    {
     "data": {
      "text/plain": [
       "array(['20,000', '20,687', '30,000', ..., '53,562', '32,190', '1,51,000'],\n",
       "      dtype=object)"
      ]
     },
     "execution_count": 259,
     "metadata": {},
     "output_type": "execute_result"
    }
   ],
   "source": [
    "new_car['kms driven'].unique()"
   ]
  },
  {
   "cell_type": "code",
   "execution_count": 260,
   "metadata": {},
   "outputs": [],
   "source": [
    "new_car['kms driven'] = new_car['kms driven'].str.replace(',', '')\n"
   ]
  },
  {
   "cell_type": "code",
   "execution_count": 261,
   "metadata": {},
   "outputs": [],
   "source": [
    "new_car['kms driven']=new_car['kms driven'].astype(int)"
   ]
  },
  {
   "cell_type": "code",
   "execution_count": 262,
   "metadata": {},
   "outputs": [
    {
     "data": {
      "text/plain": [
       "<Axes: >"
      ]
     },
     "execution_count": 262,
     "metadata": {},
     "output_type": "execute_result"
    },
    {
     "data": {
      "image/png": "[encoded data removed]",
      "text/plain": [
       "<Figure size 640x480 with 2 Axes>"
      ]
     },
     "metadata": {},
     "output_type": "display_data"
    }
   ],
   "source": [
    "correlation_matrix = new_car[['kms driven','Engine Displacement','ownerNo']].corr()\n",
    "sns.heatmap(correlation_matrix, annot=True, cmap='coolwarm')\n"
   ]
  },
  {
   "cell_type": "code",
   "execution_count": 263,
   "metadata": {},
   "outputs": [
    {
     "data": {
      "text/plain": [
       "<Axes: xlabel='owner', ylabel='count'>"
      ]
     },
     "execution_count": 263,
     "metadata": {},
     "output_type": "execute_result"
    },
    {
     "data": {
      "image/png": "[encoded data removed]",
      "text/plain": [
       "<Figure size 640x480 with 1 Axes>"
      ]
     },
     "metadata": {},
     "output_type": "display_data"
    }
   ],
   "source": [
    "sns.countplot(x='owner', data=new_car)\n"
   ]
  },
  {
   "cell_type": "code",
   "execution_count": 264,
   "metadata": {},
   "outputs": [
    {
     "data": {
      "text/plain": [
       "<Axes: xlabel='transmission', ylabel='price'>"
      ]
     },
     "execution_count": 264,
     "metadata": {},
     "output_type": "execute_result"
    },
    {
     "data": {
      "image/png": "[encoded data removed]",
      "text/plain": [
       "<Figure size 640x480 with 1 Axes>"
      ]
     },
     "metadata": {},
     "output_type": "display_data"
    }
   ],
   "source": [
    "sns.boxplot(x='transmission', y='price', data=new_car)\n"
   ]
  },
  {
   "cell_type": "code",
   "execution_count": 265,
   "metadata": {},
   "outputs": [
    {
     "data": {
      "text/plain": [
       "<Axes: xlabel='owner', ylabel='transmission'>"
      ]
     },
     "execution_count": 265,
     "metadata": {},
     "output_type": "execute_result"
    },
    {
     "data": {
      "image/png": "[encoded data removed]",
      "text/plain": [
       "<Figure size 640x480 with 2 Axes>"
      ]
     },
     "metadata": {},
     "output_type": "display_data"
    }
   ],
   "source": [
    "pivot = new_car.pivot_table(index='transmission', columns='owner', values='price', aggfunc='mean')\n",
    "sns.heatmap(pivot, annot=True, cmap='viridis')\n"
   ]
  },
  {
   "cell_type": "code",
   "execution_count": 266,
   "metadata": {},
   "outputs": [
    {
     "data": {
      "text/plain": [
       "<Axes: xlabel='owner', ylabel='count'>"
      ]
     },
     "execution_count": 266,
     "metadata": {},
     "output_type": "execute_result"
    },
    {
     "data": {
      "image/png": "[encoded data removed]",
      "text/plain": [
       "<Figure size 640x480 with 1 Axes>"
      ]
     },
     "metadata": {},
     "output_type": "display_data"
    }
   ],
   "source": [
    "sns.countplot(x='owner', data=new_car)\n"
   ]
  },
  {
   "cell_type": "code",
   "execution_count": 267,
   "metadata": {},
   "outputs": [
    {
     "data": {
      "text/plain": [
       "<Axes: xlabel='city', ylabel='count'>"
      ]
     },
     "execution_count": 267,
     "metadata": {},
     "output_type": "execute_result"
    },
    {
     "data": {
      "image/png": "[encoded data removed]",
      "text/plain": [
       "<Figure size 640x480 with 1 Axes>"
      ]
     },
     "metadata": {},
     "output_type": "display_data"
    }
   ],
   "source": [
    "sns.countplot(x='city', data=new_car)\n"
   ]
  },
  {
   "cell_type": "code",
   "execution_count": 268,
   "metadata": {},
   "outputs": [
    {
     "data": {
      "text/plain": [
       "<seaborn.axisgrid.FacetGrid at 0x1fa1f0c8350>"
      ]
     },
     "execution_count": 268,
     "metadata": {},
     "output_type": "execute_result"
    },
    {
     "data": {
      "image/png": "[encoded data removed]",
      "text/plain": [
       "<Figure size 500x500 with 1 Axes>"
      ]
     },
     "metadata": {},
     "output_type": "display_data"
    }
   ],
   "source": [
    "import seaborn as sns\n",
    "sns.displot(new_car['price'])\n"
   ]
  },
  {
   "cell_type": "code",
   "execution_count": 269,
   "metadata": {},
   "outputs": [
    {
     "name": "stdout",
     "output_type": "stream",
     "text": [
      "Highest allowed 5203914.587068693\n",
      "Lowest allowed -3265710.1546362606\n"
     ]
    }
   ],
   "source": [
    "#Finding the Boundary Values\n",
    "print(\"Highest allowed\",new_car['price'].mean() + 3*new_car['price'].std())\n",
    "print(\"Lowest allowed\",new_car['price'].mean() - 3*new_car['price'].std())"
   ]
  },
  {
   "cell_type": "code",
   "execution_count": 270,
   "metadata": {},
   "outputs": [
    {
     "data": {
      "text/plain": [
       "1411604.1236174924"
      ]
     },
     "execution_count": 270,
     "metadata": {},
     "output_type": "execute_result"
    }
   ],
   "source": [
    "new_car['price'].std()"
   ]
  },
  {
   "cell_type": "markdown",
   "metadata": {},
   "source": [
    "### outlier detection"
   ]
  },
  {
   "cell_type": "code",
   "execution_count": 271,
   "metadata": {},
   "outputs": [
    {
     "data": {
      "text/plain": [
       "(153, 24)"
      ]
     },
     "execution_count": 271,
     "metadata": {},
     "output_type": "execute_result"
    }
   ],
   "source": [
    "dfn=new_car[(new_car['price'] > 5204453.085379789) | (new_car['price'] < -3266036.0056547024)]\n",
    "dfn.shape\n"
   ]
  },
  {
   "cell_type": "markdown",
   "metadata": {},
   "source": [
    "Trimming of outliers"
   ]
  },
  {
   "cell_type": "code",
   "execution_count": 272,
   "metadata": {},
   "outputs": [],
   "source": [
    "car_new=new_car[(new_car['price'] < 5204453.085379789) & (new_car['price'] > -3266036.0056547024)]"
   ]
  },
  {
   "cell_type": "code",
   "execution_count": 273,
   "metadata": {},
   "outputs": [
    {
     "data": {
      "text/plain": [
       "(8579, 24)"
      ]
     },
     "execution_count": 273,
     "metadata": {},
     "output_type": "execute_result"
    }
   ],
   "source": [
    "car_new.shape"
   ]
  },
  {
   "cell_type": "code",
   "execution_count": 274,
   "metadata": {},
   "outputs": [
    {
     "data": {
      "text/plain": [
       "<seaborn.axisgrid.FacetGrid at 0x1fa6513b1a0>"
      ]
     },
     "execution_count": 274,
     "metadata": {},
     "output_type": "execute_result"
    },
    {
     "data": {
      "image/png": "[encoded data removed]",
      "text/plain": [
       "<Figure size 500x500 with 1 Axes>"
      ]
     },
     "metadata": {},
     "output_type": "display_data"
    }
   ],
   "source": [
    "import seaborn as sns\n",
    "sns.displot(car_new['price'])\n"
   ]
  },
  {
   "cell_type": "code",
   "execution_count": 275,
   "metadata": {},
   "outputs": [
    {
     "name": "stdout",
     "output_type": "stream",
     "text": [
      "Highest allowed 3161250.700691215\n",
      "Lowest allowed -1478400.3558957842\n"
     ]
    }
   ],
   "source": [
    "#Finding the Boundary Values\n",
    "print(\"Highest allowed\",car_new['price'].mean() + 3*car_new['price'].std())\n",
    "print(\"Lowest allowed\",car_new['price'].mean() - 3*car_new['price'].std())"
   ]
  },
  {
   "cell_type": "markdown",
   "metadata": {},
   "source": [
    "Capping"
   ]
  },
  {
   "cell_type": "code",
   "execution_count": 276,
   "metadata": {},
   "outputs": [],
   "source": [
    "upperlimit=car_new['price'].mean() + 3*car_new['price'].std()"
   ]
  },
  {
   "cell_type": "code",
   "execution_count": 277,
   "metadata": {},
   "outputs": [],
   "source": [
    "lowerlimit=car_new['price'].mean() - 3*car_new['price'].std()"
   ]
  },
  {
   "cell_type": "code",
   "execution_count": 278,
   "metadata": {},
   "outputs": [
    {
     "name": "stdout",
     "output_type": "stream",
     "text": [
      "3161250.700691215 -1478400.3558957842\n"
     ]
    }
   ],
   "source": [
    "print(upperlimit,lowerlimit)"
   ]
  },
  {
   "cell_type": "code",
   "execution_count": 279,
   "metadata": {},
   "outputs": [
    {
     "name": "stderr",
     "output_type": "stream",
     "text": [
      "C:\\Users\\Srivathsan\\AppData\\Local\\Temp\\ipykernel_29332\\4115539186.py:2: SettingWithCopyWarning: \n",
      "A value is trying to be set on a copy of a slice from a DataFrame.\n",
      "Try using .loc[row_indexer,col_indexer] = value instead\n",
      "\n",
      "See the caveats in the documentation: https://pandas.pydata.org/pandas-docs/stable/user_guide/indexing.html#returning-a-view-versus-a-copy\n",
      "  car_new['price'] = np.where(car_new['price']>3161547.5115003856,3161547.5115003856,car_new['price'])\n",
      "C:\\Users\\Srivathsan\\AppData\\Local\\Temp\\ipykernel_29332\\4115539186.py:4: SettingWithCopyWarning: \n",
      "A value is trying to be set on a copy of a slice from a DataFrame.\n",
      "Try using .loc[row_indexer,col_indexer] = value instead\n",
      "\n",
      "See the caveats in the documentation: https://pandas.pydata.org/pandas-docs/stable/user_guide/indexing.html#returning-a-view-versus-a-copy\n",
      "  car_new['price'] = np.where(car_new['price']<-1478540.2700406676,-1478540.2700406676,car_new['price'])\n"
     ]
    },
    {
     "data": {
      "text/plain": [
       "3161547.5115003856"
      ]
     },
     "execution_count": 279,
     "metadata": {},
     "output_type": "execute_result"
    }
   ],
   "source": [
    "import numpy as np\n",
    "car_new['price'] = np.where(car_new['price']>3161547.5115003856,3161547.5115003856,car_new['price'])\n",
    "\n",
    "car_new['price'] = np.where(car_new['price']<-1478540.2700406676,-1478540.2700406676,car_new['price'])\n",
    "\n",
    "car_new['price'].max()\n"
   ]
  },
  {
   "cell_type": "code",
   "execution_count": 280,
   "metadata": {},
   "outputs": [],
   "source": [
    "Q1 = car_new['price'].quantile(0.25)\n",
    "Q3 = car_new['price'].quantile(0.75)\n",
    "IQR = Q3 - Q1\n",
    "outliers = car_new[(car_new['price'] < (Q1 - 1.5 * IQR)) | (car_new['price'] > (Q3 + 1.5 * IQR))]\n"
   ]
  },
  {
   "cell_type": "code",
   "execution_count": 281,
   "metadata": {},
   "outputs": [
    {
     "data": {
      "text/plain": [
       "bodytype               824\n",
       "fueltype               824\n",
       "oem                    824\n",
       "owner                  824\n",
       "transmission           824\n",
       "ownerNo                824\n",
       "kms driven             824\n",
       "Mileage                824\n",
       "model                  824\n",
       "variantName            824\n",
       "Seats                  824\n",
       "DriveType              824\n",
       "Insurance              824\n",
       "modelYear              824\n",
       "Registration Year      824\n",
       "Gearbox                824\n",
       "Torque                 824\n",
       "Year of Manufacture    824\n",
       "Carlength              824\n",
       "Engine Displacement    824\n",
       "Carwidth               824\n",
       "city                   824\n",
       "Max Power              824\n",
       "price                  824\n",
       "dtype: int64"
      ]
     },
     "execution_count": 281,
     "metadata": {},
     "output_type": "execute_result"
    }
   ],
   "source": [
    "outliers.count()"
   ]
  },
  {
   "cell_type": "code",
   "execution_count": 282,
   "metadata": {},
   "outputs": [
    {
     "name": "stderr",
     "output_type": "stream",
     "text": [
      "C:\\Users\\Srivathsan\\AppData\\Local\\Temp\\ipykernel_29332\\1519666693.py:5: SettingWithCopyWarning: \n",
      "A value is trying to be set on a copy of a slice from a DataFrame.\n",
      "Try using .loc[row_indexer,col_indexer] = value instead\n",
      "\n",
      "See the caveats in the documentation: https://pandas.pydata.org/pandas-docs/stable/user_guide/indexing.html#returning-a-view-versus-a-copy\n",
      "  car_new['price'] = car_new['price'].clip(lower=Q1, upper=Q99)\n"
     ]
    }
   ],
   "source": [
    "# Cap outliers based on percentiles\n",
    "Q1 = car_new['price'].quantile(0.01)\n",
    "Q99 = car_new['price'].quantile(0.99)\n",
    "\n",
    "car_new['price'] = car_new['price'].clip(lower=Q1, upper=Q99)\n"
   ]
  },
  {
   "cell_type": "code",
   "execution_count": 283,
   "metadata": {},
   "outputs": [
    {
     "data": {
      "text/plain": [
       "(8579, 24)"
      ]
     },
     "execution_count": 283,
     "metadata": {},
     "output_type": "execute_result"
    }
   ],
   "source": [
    "car_new.shape"
   ]
  },
  {
   "cell_type": "code",
   "execution_count": 284,
   "metadata": {},
   "outputs": [
    {
     "name": "stderr",
     "output_type": "stream",
     "text": [
      "C:\\Users\\Srivathsan\\AppData\\Local\\Temp\\ipykernel_29332\\2122671762.py:1: SettingWithCopyWarning: \n",
      "A value is trying to be set on a copy of a slice from a DataFrame.\n",
      "Try using .loc[row_indexer,col_indexer] = value instead\n",
      "\n",
      "See the caveats in the documentation: https://pandas.pydata.org/pandas-docs/stable/user_guide/indexing.html#returning-a-view-versus-a-copy\n",
      "  car_new['Registration Year'] = car_new['Registration Year'].str.split('.').str[-1]\n"
     ]
    }
   ],
   "source": [
    "car_new['Registration Year'] = car_new['Registration Year'].str.split('.').str[-1]"
   ]
  },
  {
   "cell_type": "markdown",
   "metadata": {},
   "source": [
    "### Encoding"
   ]
  },
  {
   "cell_type": "code",
   "execution_count": 285,
   "metadata": {},
   "outputs": [
    {
     "data": {
      "text/plain": [
       "Index(['bodytype', 'fueltype', 'oem', 'owner', 'transmission', 'model',\n",
       "       'variantName', 'Seats', 'DriveType', 'Insurance', 'Registration Year',\n",
       "       'city'],\n",
       "      dtype='object')"
      ]
     },
     "execution_count": 285,
     "metadata": {},
     "output_type": "execute_result"
    }
   ],
   "source": [
    "categorical_cols = car_new.select_dtypes(['object']).columns\n",
    "categorical_cols"
   ]
  },
  {
   "cell_type": "code",
   "execution_count": 286,
   "metadata": {},
   "outputs": [
    {
     "data": {
      "text/plain": [
       "Index(['ownerNo', 'Mileage', 'modelYear', 'Gearbox', 'Torque',\n",
       "       'Year of Manufacture', 'Carlength', 'Carwidth', 'Max Power', 'price'],\n",
       "      dtype='object')"
      ]
     },
     "execution_count": 286,
     "metadata": {},
     "output_type": "execute_result"
    }
   ],
   "source": [
    "numerical_cols = car_new.select_dtypes(['int64','float64']).columns\n",
    "numerical_cols"
   ]
  },
  {
   "cell_type": "code",
   "execution_count": 287,
   "metadata": {},
   "outputs": [
    {
     "data": {
      "text/plain": [
       "22"
      ]
     },
     "execution_count": 287,
     "metadata": {},
     "output_type": "execute_result"
    }
   ],
   "source": [
    "total_cols = len(categorical_cols) + len(numerical_cols)\n",
    "total_cols"
   ]
  },
  {
   "cell_type": "code",
   "execution_count": 288,
   "metadata": {},
   "outputs": [
    {
     "name": "stderr",
     "output_type": "stream",
     "text": [
      "C:\\Users\\Srivathsan\\AppData\\Local\\Temp\\ipykernel_29332\\4291963695.py:3: SettingWithCopyWarning: \n",
      "A value is trying to be set on a copy of a slice from a DataFrame.\n",
      "Try using .loc[row_indexer,col_indexer] = value instead\n",
      "\n",
      "See the caveats in the documentation: https://pandas.pydata.org/pandas-docs/stable/user_guide/indexing.html#returning-a-view-versus-a-copy\n",
      "  car_new[categorical_cols] = car_new[categorical_cols].apply(lambda col: le.fit_transform(col))\n"
     ]
    },
    {
     "data": {
      "text/html": [
       "<div>\n",
       "<style scoped>\n",
       "    .dataframe tbody tr th:only-of-type {\n",
       "        vertical-align: middle;\n",
       "    }\n",
       "\n",
       "    .dataframe tbody tr th {\n",
       "        vertical-align: top;\n",
       "    }\n",
       "\n",
       "    .dataframe thead th {\n",
       "        text-align: right;\n",
       "    }\n",
       "</style>\n",
       "<table border=\"1\" class=\"dataframe\">\n",
       "  <thead>\n",
       "    <tr style=\"text-align: right;\">\n",
       "      <th></th>\n",
       "      <th>bodytype</th>\n",
       "      <th>fueltype</th>\n",
       "      <th>oem</th>\n",
       "      <th>owner</th>\n",
       "      <th>transmission</th>\n",
       "      <th>ownerNo</th>\n",
       "      <th>kms driven</th>\n",
       "      <th>Mileage</th>\n",
       "      <th>model</th>\n",
       "      <th>variantName</th>\n",
       "      <th>...</th>\n",
       "      <th>Registration Year</th>\n",
       "      <th>Gearbox</th>\n",
       "      <th>Torque</th>\n",
       "      <th>Year of Manufacture</th>\n",
       "      <th>Carlength</th>\n",
       "      <th>Engine Displacement</th>\n",
       "      <th>Carwidth</th>\n",
       "      <th>city</th>\n",
       "      <th>Max Power</th>\n",
       "      <th>price</th>\n",
       "    </tr>\n",
       "  </thead>\n",
       "  <tbody>\n",
       "    <tr>\n",
       "      <th>0</th>\n",
       "      <td>6</td>\n",
       "      <td>4</td>\n",
       "      <td>13</td>\n",
       "      <td>1</td>\n",
       "      <td>0</td>\n",
       "      <td>1</td>\n",
       "      <td>20000</td>\n",
       "      <td>18.90</td>\n",
       "      <td>100</td>\n",
       "      <td>1561</td>\n",
       "      <td>...</td>\n",
       "      <td>26</td>\n",
       "      <td>7</td>\n",
       "      <td>172.00</td>\n",
       "      <td>2022</td>\n",
       "      <td>3995</td>\n",
       "      <td>998</td>\n",
       "      <td>1790</td>\n",
       "      <td>1</td>\n",
       "      <td>118.36</td>\n",
       "      <td>1150000.0</td>\n",
       "    </tr>\n",
       "    <tr>\n",
       "      <th>1</th>\n",
       "      <td>4</td>\n",
       "      <td>4</td>\n",
       "      <td>18</td>\n",
       "      <td>1</td>\n",
       "      <td>1</td>\n",
       "      <td>1</td>\n",
       "      <td>20687</td>\n",
       "      <td>15.37</td>\n",
       "      <td>152</td>\n",
       "      <td>691</td>\n",
       "      <td>...</td>\n",
       "      <td>89</td>\n",
       "      <td>5</td>\n",
       "      <td>101.00</td>\n",
       "      <td>2015</td>\n",
       "      <td>3675</td>\n",
       "      <td>1196</td>\n",
       "      <td>1475</td>\n",
       "      <td>1</td>\n",
       "      <td>73.00</td>\n",
       "      <td>415000.0</td>\n",
       "    </tr>\n",
       "    <tr>\n",
       "      <th>2</th>\n",
       "      <td>6</td>\n",
       "      <td>4</td>\n",
       "      <td>22</td>\n",
       "      <td>1</td>\n",
       "      <td>1</td>\n",
       "      <td>1</td>\n",
       "      <td>30000</td>\n",
       "      <td>20.00</td>\n",
       "      <td>205</td>\n",
       "      <td>1565</td>\n",
       "      <td>...</td>\n",
       "      <td>25</td>\n",
       "      <td>5</td>\n",
       "      <td>160.00</td>\n",
       "      <td>2021</td>\n",
       "      <td>3994</td>\n",
       "      <td>999</td>\n",
       "      <td>1758</td>\n",
       "      <td>1</td>\n",
       "      <td>98.63</td>\n",
       "      <td>750000.0</td>\n",
       "    </tr>\n",
       "    <tr>\n",
       "      <th>3</th>\n",
       "      <td>2</td>\n",
       "      <td>4</td>\n",
       "      <td>9</td>\n",
       "      <td>1</td>\n",
       "      <td>1</td>\n",
       "      <td>1</td>\n",
       "      <td>59247</td>\n",
       "      <td>19.81</td>\n",
       "      <td>83</td>\n",
       "      <td>1480</td>\n",
       "      <td>...</td>\n",
       "      <td>179</td>\n",
       "      <td>5</td>\n",
       "      <td>99.04</td>\n",
       "      <td>2015</td>\n",
       "      <td>3585</td>\n",
       "      <td>1086</td>\n",
       "      <td>1595</td>\n",
       "      <td>1</td>\n",
       "      <td>68.05</td>\n",
       "      <td>398000.0</td>\n",
       "    </tr>\n",
       "    <tr>\n",
       "      <th>4</th>\n",
       "      <td>2</td>\n",
       "      <td>4</td>\n",
       "      <td>8</td>\n",
       "      <td>1</td>\n",
       "      <td>1</td>\n",
       "      <td>1</td>\n",
       "      <td>50000</td>\n",
       "      <td>18.70</td>\n",
       "      <td>61</td>\n",
       "      <td>160</td>\n",
       "      <td>...</td>\n",
       "      <td>19</td>\n",
       "      <td>5</td>\n",
       "      <td>110.00</td>\n",
       "      <td>2015</td>\n",
       "      <td>3955</td>\n",
       "      <td>1199</td>\n",
       "      <td>1694</td>\n",
       "      <td>1</td>\n",
       "      <td>88.70</td>\n",
       "      <td>550000.0</td>\n",
       "    </tr>\n",
       "    <tr>\n",
       "      <th>...</th>\n",
       "      <td>...</td>\n",
       "      <td>...</td>\n",
       "      <td>...</td>\n",
       "      <td>...</td>\n",
       "      <td>...</td>\n",
       "      <td>...</td>\n",
       "      <td>...</td>\n",
       "      <td>...</td>\n",
       "      <td>...</td>\n",
       "      <td>...</td>\n",
       "      <td>...</td>\n",
       "      <td>...</td>\n",
       "      <td>...</td>\n",
       "      <td>...</td>\n",
       "      <td>...</td>\n",
       "      <td>...</td>\n",
       "      <td>...</td>\n",
       "      <td>...</td>\n",
       "      <td>...</td>\n",
       "      <td>...</td>\n",
       "      <td>...</td>\n",
       "    </tr>\n",
       "    <tr>\n",
       "      <th>8727</th>\n",
       "      <td>2</td>\n",
       "      <td>4</td>\n",
       "      <td>18</td>\n",
       "      <td>1</td>\n",
       "      <td>1</td>\n",
       "      <td>1</td>\n",
       "      <td>10000</td>\n",
       "      <td>25.24</td>\n",
       "      <td>148</td>\n",
       "      <td>1862</td>\n",
       "      <td>...</td>\n",
       "      <td>26</td>\n",
       "      <td>5</td>\n",
       "      <td>89.00</td>\n",
       "      <td>2022</td>\n",
       "      <td>3695</td>\n",
       "      <td>998</td>\n",
       "      <td>1655</td>\n",
       "      <td>5</td>\n",
       "      <td>65.71</td>\n",
       "      <td>509999.0</td>\n",
       "    </tr>\n",
       "    <tr>\n",
       "      <th>8728</th>\n",
       "      <td>2</td>\n",
       "      <td>4</td>\n",
       "      <td>18</td>\n",
       "      <td>1</td>\n",
       "      <td>1</td>\n",
       "      <td>1</td>\n",
       "      <td>120000</td>\n",
       "      <td>22.74</td>\n",
       "      <td>143</td>\n",
       "      <td>1144</td>\n",
       "      <td>...</td>\n",
       "      <td>18</td>\n",
       "      <td>5</td>\n",
       "      <td>69.00</td>\n",
       "      <td>2014</td>\n",
       "      <td>3395</td>\n",
       "      <td>796</td>\n",
       "      <td>1490</td>\n",
       "      <td>5</td>\n",
       "      <td>47.30</td>\n",
       "      <td>180000.0</td>\n",
       "    </tr>\n",
       "    <tr>\n",
       "      <th>8729</th>\n",
       "      <td>7</td>\n",
       "      <td>4</td>\n",
       "      <td>19</td>\n",
       "      <td>3</td>\n",
       "      <td>0</td>\n",
       "      <td>3</td>\n",
       "      <td>50000</td>\n",
       "      <td>11.74</td>\n",
       "      <td>181</td>\n",
       "      <td>807</td>\n",
       "      <td>...</td>\n",
       "      <td>15</td>\n",
       "      <td>7</td>\n",
       "      <td>285.00</td>\n",
       "      <td>2011</td>\n",
       "      <td>4591</td>\n",
       "      <td>1796</td>\n",
       "      <td>1770</td>\n",
       "      <td>5</td>\n",
       "      <td>186.00</td>\n",
       "      <td>550000.0</td>\n",
       "    </tr>\n",
       "    <tr>\n",
       "      <th>8730</th>\n",
       "      <td>2</td>\n",
       "      <td>4</td>\n",
       "      <td>18</td>\n",
       "      <td>1</td>\n",
       "      <td>1</td>\n",
       "      <td>1</td>\n",
       "      <td>40000</td>\n",
       "      <td>18.50</td>\n",
       "      <td>163</td>\n",
       "      <td>1879</td>\n",
       "      <td>...</td>\n",
       "      <td>16</td>\n",
       "      <td>5</td>\n",
       "      <td>114.00</td>\n",
       "      <td>2012</td>\n",
       "      <td>3775</td>\n",
       "      <td>1197</td>\n",
       "      <td>1680</td>\n",
       "      <td>5</td>\n",
       "      <td>85.80</td>\n",
       "      <td>140000.0</td>\n",
       "    </tr>\n",
       "    <tr>\n",
       "      <th>8731</th>\n",
       "      <td>6</td>\n",
       "      <td>1</td>\n",
       "      <td>25</td>\n",
       "      <td>2</td>\n",
       "      <td>1</td>\n",
       "      <td>2</td>\n",
       "      <td>120000</td>\n",
       "      <td>19.72</td>\n",
       "      <td>214</td>\n",
       "      <td>430</td>\n",
       "      <td>...</td>\n",
       "      <td>21</td>\n",
       "      <td>6</td>\n",
       "      <td>245.00</td>\n",
       "      <td>2017</td>\n",
       "      <td>4315</td>\n",
       "      <td>1461</td>\n",
       "      <td>1822</td>\n",
       "      <td>5</td>\n",
       "      <td>108.45</td>\n",
       "      <td>500000.0</td>\n",
       "    </tr>\n",
       "  </tbody>\n",
       "</table>\n",
       "<p>8579 rows × 24 columns</p>\n",
       "</div>"
      ],
      "text/plain": [
       "      bodytype  fueltype  oem  owner  transmission  ownerNo  kms driven  \\\n",
       "0            6         4   13      1             0        1       20000   \n",
       "1            4         4   18      1             1        1       20687   \n",
       "2            6         4   22      1             1        1       30000   \n",
       "3            2         4    9      1             1        1       59247   \n",
       "4            2         4    8      1             1        1       50000   \n",
       "...        ...       ...  ...    ...           ...      ...         ...   \n",
       "8727         2         4   18      1             1        1       10000   \n",
       "8728         2         4   18      1             1        1      120000   \n",
       "8729         7         4   19      3             0        3       50000   \n",
       "8730         2         4   18      1             1        1       40000   \n",
       "8731         6         1   25      2             1        2      120000   \n",
       "\n",
       "      Mileage  model  variantName  ...  Registration Year  Gearbox  Torque  \\\n",
       "0       18.90    100         1561  ...                 26        7  172.00   \n",
       "1       15.37    152          691  ...                 89        5  101.00   \n",
       "2       20.00    205         1565  ...                 25        5  160.00   \n",
       "3       19.81     83         1480  ...                179        5   99.04   \n",
       "4       18.70     61          160  ...                 19        5  110.00   \n",
       "...       ...    ...          ...  ...                ...      ...     ...   \n",
       "8727    25.24    148         1862  ...                 26        5   89.00   \n",
       "8728    22.74    143         1144  ...                 18        5   69.00   \n",
       "8729    11.74    181          807  ...                 15        7  285.00   \n",
       "8730    18.50    163         1879  ...                 16        5  114.00   \n",
       "8731    19.72    214          430  ...                 21        6  245.00   \n",
       "\n",
       "      Year of Manufacture  Carlength  Engine Displacement  Carwidth  city  \\\n",
       "0                    2022       3995                  998      1790     1   \n",
       "1                    2015       3675                 1196      1475     1   \n",
       "2                    2021       3994                  999      1758     1   \n",
       "3                    2015       3585                 1086      1595     1   \n",
       "4                    2015       3955                 1199      1694     1   \n",
       "...                   ...        ...                  ...       ...   ...   \n",
       "8727                 2022       3695                  998      1655     5   \n",
       "8728                 2014       3395                  796      1490     5   \n",
       "8729                 2011       4591                 1796      1770     5   \n",
       "8730                 2012       3775                 1197      1680     5   \n",
       "8731                 2017       4315                 1461      1822     5   \n",
       "\n",
       "      Max Power      price  \n",
       "0        118.36  1150000.0  \n",
       "1         73.00   415000.0  \n",
       "2         98.63   750000.0  \n",
       "3         68.05   398000.0  \n",
       "4         88.70   550000.0  \n",
       "...         ...        ...  \n",
       "8727      65.71   509999.0  \n",
       "8728      47.30   180000.0  \n",
       "8729     186.00   550000.0  \n",
       "8730      85.80   140000.0  \n",
       "8731     108.45   500000.0  \n",
       "\n",
       "[8579 rows x 24 columns]"
      ]
     },
     "execution_count": 288,
     "metadata": {},
     "output_type": "execute_result"
    }
   ],
   "source": [
    "from sklearn.preprocessing import LabelEncoder\n",
    "le = LabelEncoder()\n",
    "car_new[categorical_cols] = car_new[categorical_cols].apply(lambda col: le.fit_transform(col))\n",
    "car_new\n",
    "\n"
   ]
  },
  {
   "cell_type": "code",
   "execution_count": 292,
   "metadata": {},
   "outputs": [],
   "source": [
    "features = ['Gearbox', 'Year of Manufacture', 'modelYear', 'kms driven', 'transmission','Mileage',\n",
    "            'city','bodytype','ownerNo','Insurance','fueltype']"
   ]
  },
  {
   "cell_type": "code",
   "execution_count": 293,
   "metadata": {},
   "outputs": [
    {
     "data": {
      "text/plain": [
       "(8485, 24)"
      ]
     },
     "execution_count": 293,
     "metadata": {},
     "output_type": "execute_result"
    }
   ],
   "source": [
    "# Outliers removal using IQR\n",
    "\n",
    "Q1 = car_new.quantile(0.05)\n",
    "Q3 = car_new.quantile(0.95)\n",
    "IQR = Q3 - Q1\n",
    "car_df = car_new[~((car_new < (Q1 - 1.5 * IQR)) |(car_new > (Q3 + 1.5 * IQR))).any(axis=1)]\n",
    "car_df.shape"
   ]
  },
  {
   "cell_type": "code",
   "execution_count": 294,
   "metadata": {},
   "outputs": [
    {
     "name": "stderr",
     "output_type": "stream",
     "text": [
      "C:\\Users\\Srivathsan\\AppData\\Local\\Temp\\ipykernel_29332\\3446039934.py:4: SettingWithCopyWarning: \n",
      "A value is trying to be set on a copy of a slice from a DataFrame.\n",
      "Try using .loc[row_indexer,col_indexer] = value instead\n",
      "\n",
      "See the caveats in the documentation: https://pandas.pydata.org/pandas-docs/stable/user_guide/indexing.html#returning-a-view-versus-a-copy\n",
      "  car_df[features] = scaler.fit_transform(car_df[features])\n"
     ]
    }
   ],
   "source": [
    "#scaling the data\n",
    "from sklearn.preprocessing import MinMaxScaler\n",
    "scaler = MinMaxScaler()\n",
    "car_df[features] = scaler.fit_transform(car_df[features])"
   ]
  },
  {
   "cell_type": "code",
   "execution_count": 340,
   "metadata": {},
   "outputs": [],
   "source": [
    "from sklearn.model_selection import train_test_split\n",
    "from sklearn.ensemble import RandomForestRegressor\n",
    "from sklearn.metrics import mean_squared_error\n",
    "from sklearn.metrics import r2_score\n",
    "X = car_df[features]\n",
    "y = car_df['price']\n",
    "X_train, X_test, y_train, y_test = train_test_split(X, y, test_size=0.2, random_state=42)"
   ]
  },
  {
   "cell_type": "code",
   "execution_count": null,
   "metadata": {},
   "outputs": [],
   "source": [
    "X_train.shape, X_test.shape, y_train.shape, y_test.shape"
   ]
  },
  {
   "cell_type": "code",
   "execution_count": 341,
   "metadata": {},
   "outputs": [
    {
     "data": {
      "text/plain": [
       "array([ 593098.50252726, 2152030.71436756,  591245.85762098, ...,\n",
       "        628277.43352111,  594030.18786645, 1102089.24169648])"
      ]
     },
     "execution_count": 341,
     "metadata": {},
     "output_type": "execute_result"
    }
   ],
   "source": [
    "from sklearn.linear_model import LinearRegression\n",
    "\n",
    "# Initialize the model\n",
    "models = LinearRegression()\n",
    "\n",
    "# Fit the model on the training data\n",
    "models.fit(X_train, y_train)\n",
    "\n",
    "# Optionally, you can make predictions on the test set\n",
    "y_pred = models.predict(X_test)\n",
    "\n",
    "# Display predictions (optional)\n",
    "y_pred\n"
   ]
  },
  {
   "cell_type": "code",
   "execution_count": 358,
   "metadata": {},
   "outputs": [
    {
     "name": "stdout",
     "output_type": "stream",
     "text": [
      "Mean Absolute Error (MAE): 165426.117701\n",
      "Mean Squared Error (MSE): 82933226455.15\n",
      "R-squared: 0.83\n",
      "Root Mean Squared Error: 287981.2953216733\n"
     ]
    }
   ],
   "source": [
    "from sklearn import metrics\n",
    "from sklearn.metrics import mean_absolute_error, mean_squared_error, r2_score\n",
    "\n",
    "# Calculate evaluation metrics\n",
    "mae = mean_absolute_error(y_test, y_pred)\n",
    "mse = mean_squared_error(y_test, y_pred)\n",
    "r2 = r2_score(y_test, y_pred)\n",
    "\n",
    "# for evaluation / accuracy--  prediction + y_test\n",
    "# Display the results\n",
    "print(f\"Mean Absolute Error (MAE): {mae:f}\")\n",
    "print(f\"Mean Squared Error (MSE): {mse:.2f}\")\n",
    "print(f\"R-squared: {r2:.2f}\")\n",
    "print('Root Mean Squared Error:', np.sqrt(metrics.mean_squared_error(y_test, y_pred)))"
   ]
  },
  {
   "cell_type": "markdown",
   "metadata": {},
   "source": [
    "### RANDOM FOREST\n"
   ]
  },
  {
   "cell_type": "code",
   "execution_count": 355,
   "metadata": {},
   "outputs": [
    {
     "name": "stdout",
     "output_type": "stream",
     "text": [
      "Mean Squared Error: 84643311508.35672\n",
      "root mean square : 0.8383908926606883\n",
      "Mean Absolute Error (MAE): 149065.90\n",
      "Root Mean Squared Error: 284067.98504324147\n"
     ]
    }
   ],
   "source": [
    "from sklearn.model_selection import train_test_split\n",
    "from sklearn.ensemble import RandomForestRegressor\n",
    "from sklearn.metrics import mean_squared_error\n",
    "from sklearn.metrics import r2_score\n",
    "X = car_df[features]\n",
    "y = car_df['price']\n",
    "X_train, X_test, y_train, y_test = train_test_split(X, y, test_size=0.2, random_state=42)\n",
    "\n",
    "model = RandomForestRegressor(random_state=42)\n",
    "model.fit(X_train, y_train)\n",
    "\n",
    "y_pred = model.predict(X_test)\n",
    "mean_squared_error(y_test, y_pred)\n",
    "print(f'Mean Squared Error: {mse}')\n",
    "print('root mean square :',r2_score(y_test, y_pred))\n",
    "a=mean_absolute_error(y_test, y_pred)\n",
    "print(f\"Mean Absolute Error (MAE): {a:.2f}\")\n",
    "print('Root Mean Squared Error:', np.sqrt(metrics.mean_squared_error(y_test, y_pred)))"
   ]
  },
  {
   "cell_type": "code",
   "execution_count": 328,
   "metadata": {},
   "outputs": [
    {
     "data": {
      "text/html": [
       "<div>\n",
       "<style scoped>\n",
       "    .dataframe tbody tr th:only-of-type {\n",
       "        vertical-align: middle;\n",
       "    }\n",
       "\n",
       "    .dataframe tbody tr th {\n",
       "        vertical-align: top;\n",
       "    }\n",
       "\n",
       "    .dataframe thead th {\n",
       "        text-align: right;\n",
       "    }\n",
       "</style>\n",
       "<table border=\"1\" class=\"dataframe\">\n",
       "  <thead>\n",
       "    <tr style=\"text-align: right;\">\n",
       "      <th></th>\n",
       "      <th>Feature</th>\n",
       "      <th>Importance</th>\n",
       "    </tr>\n",
       "  </thead>\n",
       "  <tbody>\n",
       "    <tr>\n",
       "      <th>0</th>\n",
       "      <td>Gearbox</td>\n",
       "      <td>0.373229</td>\n",
       "    </tr>\n",
       "    <tr>\n",
       "      <th>2</th>\n",
       "      <td>modelYear</td>\n",
       "      <td>0.129998</td>\n",
       "    </tr>\n",
       "    <tr>\n",
       "      <th>5</th>\n",
       "      <td>Mileage</td>\n",
       "      <td>0.107223</td>\n",
       "    </tr>\n",
       "    <tr>\n",
       "      <th>7</th>\n",
       "      <td>bodytype</td>\n",
       "      <td>0.098859</td>\n",
       "    </tr>\n",
       "    <tr>\n",
       "      <th>4</th>\n",
       "      <td>transmission</td>\n",
       "      <td>0.092060</td>\n",
       "    </tr>\n",
       "    <tr>\n",
       "      <th>1</th>\n",
       "      <td>Year of Manufacture</td>\n",
       "      <td>0.059311</td>\n",
       "    </tr>\n",
       "    <tr>\n",
       "      <th>3</th>\n",
       "      <td>kms driven</td>\n",
       "      <td>0.054999</td>\n",
       "    </tr>\n",
       "    <tr>\n",
       "      <th>10</th>\n",
       "      <td>fueltype</td>\n",
       "      <td>0.039362</td>\n",
       "    </tr>\n",
       "    <tr>\n",
       "      <th>6</th>\n",
       "      <td>city</td>\n",
       "      <td>0.030716</td>\n",
       "    </tr>\n",
       "    <tr>\n",
       "      <th>9</th>\n",
       "      <td>Insurance</td>\n",
       "      <td>0.008503</td>\n",
       "    </tr>\n",
       "    <tr>\n",
       "      <th>8</th>\n",
       "      <td>ownerNo</td>\n",
       "      <td>0.005741</td>\n",
       "    </tr>\n",
       "  </tbody>\n",
       "</table>\n",
       "</div>"
      ],
      "text/plain": [
       "                Feature  Importance\n",
       "0               Gearbox    0.373229\n",
       "2             modelYear    0.129998\n",
       "5               Mileage    0.107223\n",
       "7              bodytype    0.098859\n",
       "4          transmission    0.092060\n",
       "1   Year of Manufacture    0.059311\n",
       "3            kms driven    0.054999\n",
       "10             fueltype    0.039362\n",
       "6                  city    0.030716\n",
       "9             Insurance    0.008503\n",
       "8               ownerNo    0.005741"
      ]
     },
     "execution_count": 328,
     "metadata": {},
     "output_type": "execute_result"
    }
   ],
   "source": [
    "importances = model.feature_importances_\n",
    "feature_importances = pd.DataFrame({'Feature': X.columns, 'Importance': importances})\n",
    "feature_importances = feature_importances.sort_values(by='Importance', ascending=False)\n",
    "feature_importances"
   ]
  },
  {
   "cell_type": "code",
   "execution_count": 356,
   "metadata": {},
   "outputs": [
    {
     "name": "stderr",
     "output_type": "stream",
     "text": [
      "C:\\Users\\Srivathsan\\AppData\\Roaming\\Python\\Python312\\site-packages\\sklearn\\model_selection\\_validation.py:540: FitFailedWarning: \n",
      "96 fits failed out of a total of 192.\n",
      "The score on these train-test partitions for these parameters will be set to nan.\n",
      "If these failures are not expected, you can try to debug them by setting error_score='raise'.\n",
      "\n",
      "Below are more details about the failures:\n",
      "--------------------------------------------------------------------------------\n",
      "58 fits failed with the following error:\n",
      "Traceback (most recent call last):\n",
      "  File \"C:\\Users\\Srivathsan\\AppData\\Roaming\\Python\\Python312\\site-packages\\sklearn\\model_selection\\_validation.py\", line 888, in _fit_and_score\n",
      "    estimator.fit(X_train, y_train, **fit_params)\n",
      "  File \"C:\\Users\\Srivathsan\\AppData\\Roaming\\Python\\Python312\\site-packages\\sklearn\\base.py\", line 1466, in wrapper\n",
      "    estimator._validate_params()\n",
      "  File \"C:\\Users\\Srivathsan\\AppData\\Roaming\\Python\\Python312\\site-packages\\sklearn\\base.py\", line 666, in _validate_params\n",
      "    validate_parameter_constraints(\n",
      "  File \"C:\\Users\\Srivathsan\\AppData\\Roaming\\Python\\Python312\\site-packages\\sklearn\\utils\\_param_validation.py\", line 95, in validate_parameter_constraints\n",
      "    raise InvalidParameterError(\n",
      "sklearn.utils._param_validation.InvalidParameterError: The 'max_features' parameter of RandomForestRegressor must be an int in the range [1, inf), a float in the range (0.0, 1.0], a str among {'log2', 'sqrt'} or None. Got 'auto' instead.\n",
      "\n",
      "--------------------------------------------------------------------------------\n",
      "38 fits failed with the following error:\n",
      "Traceback (most recent call last):\n",
      "  File \"C:\\Users\\Srivathsan\\AppData\\Roaming\\Python\\Python312\\site-packages\\sklearn\\model_selection\\_validation.py\", line 888, in _fit_and_score\n",
      "    estimator.fit(X_train, y_train, **fit_params)\n",
      "  File \"C:\\Users\\Srivathsan\\AppData\\Roaming\\Python\\Python312\\site-packages\\sklearn\\base.py\", line 1466, in wrapper\n",
      "    estimator._validate_params()\n",
      "  File \"C:\\Users\\Srivathsan\\AppData\\Roaming\\Python\\Python312\\site-packages\\sklearn\\base.py\", line 666, in _validate_params\n",
      "    validate_parameter_constraints(\n",
      "  File \"C:\\Users\\Srivathsan\\AppData\\Roaming\\Python\\Python312\\site-packages\\sklearn\\utils\\_param_validation.py\", line 95, in validate_parameter_constraints\n",
      "    raise InvalidParameterError(\n",
      "sklearn.utils._param_validation.InvalidParameterError: The 'max_features' parameter of RandomForestRegressor must be an int in the range [1, inf), a float in the range (0.0, 1.0], a str among {'sqrt', 'log2'} or None. Got 'auto' instead.\n",
      "\n",
      "  warnings.warn(some_fits_failed_message, FitFailedWarning)\n",
      "C:\\Users\\Srivathsan\\AppData\\Roaming\\Python\\Python312\\site-packages\\sklearn\\model_selection\\_search.py:1102: UserWarning: One or more of the test scores are non-finite: [       nan        nan        nan        nan        nan        nan\n",
      "        nan        nan 0.72898773 0.73066505 0.72970388 0.73094034\n",
      " 0.7289182  0.73035878 0.72923934 0.7301719         nan        nan\n",
      "        nan        nan        nan        nan        nan        nan\n",
      " 0.82137477 0.82375236 0.82139246 0.8225749  0.81761052 0.81814195\n",
      " 0.81734171 0.81816488        nan        nan        nan        nan\n",
      "        nan        nan        nan        nan 0.70996551 0.71046888\n",
      " 0.70897302 0.7106263  0.70716289 0.708527   0.70750694 0.70837221\n",
      "        nan        nan        nan        nan        nan        nan\n",
      "        nan        nan 0.81640358 0.8165891  0.81537518 0.81548812\n",
      " 0.80951664 0.81195007 0.8104033  0.81178856]\n",
      "  warnings.warn(\n"
     ]
    },
    {
     "name": "stdout",
     "output_type": "stream",
     "text": [
      "{'bootstrap': True, 'criterion': 'squared_error', 'max_depth': 12, 'max_features': 'sqrt', 'min_samples_leaf': 1, 'min_samples_split': 2, 'n_estimators': 200}\n"
     ]
    }
   ],
   "source": [
    "parameters = {\n",
    "    'n_estimators': [100, 200],\n",
    "    'max_depth': [5, 12],\n",
    "    'min_samples_split': [2, 5],\n",
    "    'min_samples_leaf': [1, 2],\n",
    "    'bootstrap': [True],\n",
    "    'criterion': ['squared_error', 'absolute_error'],\n",
    "    'max_features': ['auto', 'sqrt'],\n",
    "}\n",
    "from sklearn.model_selection import GridSearchCV\n",
    "grid_search = GridSearchCV(estimator=model, param_grid=parameters, cv=3, n_jobs=-1)\n",
    "grid_search.fit(X_train, y_train)\n",
    "\n",
    "best_params = grid_search.best_params_\n",
    "print(best_params)"
   ]
  },
  {
   "cell_type": "code",
   "execution_count": 362,
   "metadata": {},
   "outputs": [
    {
     "name": "stdout",
     "output_type": "stream",
     "text": [
      "Mean Squared Error: 83459222166.195\n",
      "r2 score '0.833'\n"
     ]
    }
   ],
   "source": [
    "model = RandomForestRegressor(**best_params)\n",
    "model.fit(X_train, y_train)\n",
    "\n",
    "y_pred = model.predict(X_test)\n",
    "mse = mean_squared_error(y_test, y_pred)\n",
    "print(f'Mean Squared Error: {mse}')\n",
    "r=r2_score(y_test, y_pred)\n",
    "print(f\"r2 score '{r:.3f}'\")"
   ]
  },
  {
   "cell_type": "markdown",
   "metadata": {},
   "source": [
    "### MODEL PICKLING"
   ]
  },
  {
   "cell_type": "code",
   "execution_count": 363,
   "metadata": {},
   "outputs": [],
   "source": [
    "import pickle\n",
    "\n",
    "# Save the Linear Regression model\n",
    "with open('linear.pkl', 'wb') as linear_file:\n",
    "    pickle.dump(models, linear_file)\n",
    "\n",
    "# Save the Random Forest model\n",
    "with open('randomforest.pkl', 'wb') as rf_file:\n",
    "    pickle.dump(model, rf_file)\n"
   ]
  },
  {
   "cell_type": "markdown",
   "metadata": {},
   "source": []
  }
 ],
 "metadata": {
  "kernelspec": {
   "display_name": "Python 3",
   "language": "python",
   "name": "python3"
  },
  "language_info": {
   "codemirror_mode": {
    "name": "ipython",
    "version": 3
   },
   "file_extension": ".py",
   "mimetype": "text/x-python",
   "name": "python",
   "nbconvert_exporter": "python",
   "pygments_lexer": "ipython3",
   "version": "3.12.4"
  }
 },
 "nbformat": 4,
 "nbformat_minor": 2
}
