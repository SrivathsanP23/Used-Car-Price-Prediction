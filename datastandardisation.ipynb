{
 "cells": [
  {
   "cell_type": "code",
   "execution_count": 252,
   "metadata": {},
   "outputs": [],
   "source": [
    "import pandas as pd"
   ]
  },
  {
   "cell_type": "code",
   "execution_count": 253,
   "metadata": {},
   "outputs": [],
   "source": [
    "new_car=pd.read_csv(\"cardata.csv\")"
   ]
  },
  {
   "cell_type": "code",
   "execution_count": 254,
   "metadata": {},
   "outputs": [
    {
     "name": "stdout",
     "output_type": "stream",
     "text": [
      "<class 'pandas.core.frame.DataFrame'>\n",
      "RangeIndex: 8732 entries, 0 to 8731\n",
      "Data columns (total 17 columns):\n",
      " #   Column               Non-Null Count  Dtype  \n",
      "---  ------               --------------  -----  \n",
      " 0   bodytype             8732 non-null   object \n",
      " 1   fueltype             8732 non-null   object \n",
      " 2   transmission         8732 non-null   object \n",
      " 3   DriveType            8732 non-null   object \n",
      " 4   Insurance            8732 non-null   object \n",
      " 5   oem                  8732 non-null   object \n",
      " 6   seats                8732 non-null   float64\n",
      " 7   kms driven           8732 non-null   float64\n",
      " 8   Registration Year    8732 non-null   float64\n",
      " 9   owner                8732 non-null   float64\n",
      " 10  Engine Displacement  8732 non-null   float64\n",
      " 11  modelYear            8732 non-null   int64  \n",
      " 12  Year of Manufacture  8732 non-null   int64  \n",
      " 13  Gearbox              8732 non-null   float64\n",
      " 14  Mileage              8732 non-null   float64\n",
      " 15  city                 8732 non-null   object \n",
      " 16  price                8732 non-null   int64  \n",
      "dtypes: float64(7), int64(3), object(7)\n",
      "memory usage: 1.1+ MB\n"
     ]
    }
   ],
   "source": [
    "new_car.info()\n"
   ]
  },
  {
   "cell_type": "code",
   "execution_count": 255,
   "metadata": {},
   "outputs": [
    {
     "data": {
      "text/html": [
       "<div>\n",
       "<style scoped>\n",
       "    .dataframe tbody tr th:only-of-type {\n",
       "        vertical-align: middle;\n",
       "    }\n",
       "\n",
       "    .dataframe tbody tr th {\n",
       "        vertical-align: top;\n",
       "    }\n",
       "\n",
       "    .dataframe thead th {\n",
       "        text-align: right;\n",
       "    }\n",
       "</style>\n",
       "<table border=\"1\" class=\"dataframe\">\n",
       "  <thead>\n",
       "    <tr style=\"text-align: right;\">\n",
       "      <th></th>\n",
       "      <th>bodytype</th>\n",
       "      <th>fueltype</th>\n",
       "      <th>transmission</th>\n",
       "      <th>DriveType</th>\n",
       "      <th>Insurance</th>\n",
       "      <th>oem</th>\n",
       "      <th>seats</th>\n",
       "      <th>kms driven</th>\n",
       "      <th>Registration Year</th>\n",
       "      <th>owner</th>\n",
       "      <th>Engine Displacement</th>\n",
       "      <th>modelYear</th>\n",
       "      <th>Year of Manufacture</th>\n",
       "      <th>Gearbox</th>\n",
       "      <th>Mileage</th>\n",
       "      <th>city</th>\n",
       "      <th>price</th>\n",
       "    </tr>\n",
       "  </thead>\n",
       "  <tbody>\n",
       "    <tr>\n",
       "      <th>0</th>\n",
       "      <td>SUV</td>\n",
       "      <td>Petrol</td>\n",
       "      <td>Automatic</td>\n",
       "      <td>FWD</td>\n",
       "      <td>Third Party insurance</td>\n",
       "      <td>Kia</td>\n",
       "      <td>5.0</td>\n",
       "      <td>20000.0</td>\n",
       "      <td>2022.0</td>\n",
       "      <td>1.0</td>\n",
       "      <td>998.0</td>\n",
       "      <td>2022</td>\n",
       "      <td>2022</td>\n",
       "      <td>7.0</td>\n",
       "      <td>18.90</td>\n",
       "      <td>chennai</td>\n",
       "      <td>1150000</td>\n",
       "    </tr>\n",
       "    <tr>\n",
       "      <th>1</th>\n",
       "      <td>Minivans</td>\n",
       "      <td>Petrol</td>\n",
       "      <td>Manual</td>\n",
       "      <td>RWD</td>\n",
       "      <td>Comprehensive</td>\n",
       "      <td>Maruti</td>\n",
       "      <td>7.0</td>\n",
       "      <td>20687.0</td>\n",
       "      <td>2015.0</td>\n",
       "      <td>1.0</td>\n",
       "      <td>1196.0</td>\n",
       "      <td>2015</td>\n",
       "      <td>2015</td>\n",
       "      <td>5.0</td>\n",
       "      <td>15.37</td>\n",
       "      <td>chennai</td>\n",
       "      <td>415000</td>\n",
       "    </tr>\n",
       "    <tr>\n",
       "      <th>2</th>\n",
       "      <td>SUV</td>\n",
       "      <td>Petrol</td>\n",
       "      <td>Manual</td>\n",
       "      <td>FWD</td>\n",
       "      <td>Third Party insurance</td>\n",
       "      <td>Nissan</td>\n",
       "      <td>5.0</td>\n",
       "      <td>30000.0</td>\n",
       "      <td>2021.0</td>\n",
       "      <td>1.0</td>\n",
       "      <td>999.0</td>\n",
       "      <td>2021</td>\n",
       "      <td>2021</td>\n",
       "      <td>5.0</td>\n",
       "      <td>20.00</td>\n",
       "      <td>chennai</td>\n",
       "      <td>750000</td>\n",
       "    </tr>\n",
       "    <tr>\n",
       "      <th>3</th>\n",
       "      <td>Hatchback</td>\n",
       "      <td>Petrol</td>\n",
       "      <td>Manual</td>\n",
       "      <td>FWD</td>\n",
       "      <td>Comprehensive</td>\n",
       "      <td>Hyundai</td>\n",
       "      <td>5.0</td>\n",
       "      <td>59247.0</td>\n",
       "      <td>2015.0</td>\n",
       "      <td>1.0</td>\n",
       "      <td>1086.0</td>\n",
       "      <td>2015</td>\n",
       "      <td>2015</td>\n",
       "      <td>5.0</td>\n",
       "      <td>19.81</td>\n",
       "      <td>chennai</td>\n",
       "      <td>398000</td>\n",
       "    </tr>\n",
       "    <tr>\n",
       "      <th>4</th>\n",
       "      <td>Hatchback</td>\n",
       "      <td>Petrol</td>\n",
       "      <td>Manual</td>\n",
       "      <td>FWD</td>\n",
       "      <td>Third Party insurance</td>\n",
       "      <td>Honda</td>\n",
       "      <td>5.0</td>\n",
       "      <td>50000.0</td>\n",
       "      <td>2015.0</td>\n",
       "      <td>1.0</td>\n",
       "      <td>1199.0</td>\n",
       "      <td>2015</td>\n",
       "      <td>2015</td>\n",
       "      <td>5.0</td>\n",
       "      <td>18.70</td>\n",
       "      <td>chennai</td>\n",
       "      <td>550000</td>\n",
       "    </tr>\n",
       "  </tbody>\n",
       "</table>\n",
       "</div>"
      ],
      "text/plain": [
       "    bodytype fueltype transmission DriveType              Insurance      oem  \\\n",
       "0        SUV   Petrol    Automatic       FWD  Third Party insurance      Kia   \n",
       "1   Minivans   Petrol       Manual       RWD          Comprehensive   Maruti   \n",
       "2        SUV   Petrol       Manual       FWD  Third Party insurance   Nissan   \n",
       "3  Hatchback   Petrol       Manual       FWD          Comprehensive  Hyundai   \n",
       "4  Hatchback   Petrol       Manual       FWD  Third Party insurance    Honda   \n",
       "\n",
       "   seats  kms driven  Registration Year  owner  Engine Displacement  \\\n",
       "0    5.0     20000.0             2022.0    1.0                998.0   \n",
       "1    7.0     20687.0             2015.0    1.0               1196.0   \n",
       "2    5.0     30000.0             2021.0    1.0                999.0   \n",
       "3    5.0     59247.0             2015.0    1.0               1086.0   \n",
       "4    5.0     50000.0             2015.0    1.0               1199.0   \n",
       "\n",
       "   modelYear  Year of Manufacture  Gearbox  Mileage     city    price  \n",
       "0       2022                 2022      7.0    18.90  chennai  1150000  \n",
       "1       2015                 2015      5.0    15.37  chennai   415000  \n",
       "2       2021                 2021      5.0    20.00  chennai   750000  \n",
       "3       2015                 2015      5.0    19.81  chennai   398000  \n",
       "4       2015                 2015      5.0    18.70  chennai   550000  "
      ]
     },
     "execution_count": 255,
     "metadata": {},
     "output_type": "execute_result"
    }
   ],
   "source": [
    "new_car.head()"
   ]
  },
  {
   "cell_type": "code",
   "execution_count": 256,
   "metadata": {},
   "outputs": [
    {
     "data": {
      "text/html": [
       "<div>\n",
       "<style scoped>\n",
       "    .dataframe tbody tr th:only-of-type {\n",
       "        vertical-align: middle;\n",
       "    }\n",
       "\n",
       "    .dataframe tbody tr th {\n",
       "        vertical-align: top;\n",
       "    }\n",
       "\n",
       "    .dataframe thead th {\n",
       "        text-align: right;\n",
       "    }\n",
       "</style>\n",
       "<table border=\"1\" class=\"dataframe\">\n",
       "  <thead>\n",
       "    <tr style=\"text-align: right;\">\n",
       "      <th></th>\n",
       "      <th>seats</th>\n",
       "      <th>kms driven</th>\n",
       "      <th>Registration Year</th>\n",
       "      <th>owner</th>\n",
       "      <th>Engine Displacement</th>\n",
       "      <th>modelYear</th>\n",
       "      <th>Year of Manufacture</th>\n",
       "      <th>Gearbox</th>\n",
       "      <th>Mileage</th>\n",
       "      <th>price</th>\n",
       "    </tr>\n",
       "  </thead>\n",
       "  <tbody>\n",
       "    <tr>\n",
       "      <th>count</th>\n",
       "      <td>8732.000000</td>\n",
       "      <td>8.732000e+03</td>\n",
       "      <td>8732.000000</td>\n",
       "      <td>8732.000000</td>\n",
       "      <td>8732.000000</td>\n",
       "      <td>8732.000000</td>\n",
       "      <td>8732.000000</td>\n",
       "      <td>8732.000000</td>\n",
       "      <td>8732.000000</td>\n",
       "      <td>8.732000e+03</td>\n",
       "    </tr>\n",
       "    <tr>\n",
       "      <th>mean</th>\n",
       "      <td>5.194686</td>\n",
       "      <td>5.821430e+04</td>\n",
       "      <td>2016.550046</td>\n",
       "      <td>1.338754</td>\n",
       "      <td>1415.164338</td>\n",
       "      <td>2016.576729</td>\n",
       "      <td>2016.487746</td>\n",
       "      <td>5.445259</td>\n",
       "      <td>19.276229</td>\n",
       "      <td>9.691022e+05</td>\n",
       "    </tr>\n",
       "    <tr>\n",
       "      <th>std</th>\n",
       "      <td>0.650897</td>\n",
       "      <td>7.224426e+04</td>\n",
       "      <td>3.941374</td>\n",
       "      <td>0.603313</td>\n",
       "      <td>469.711387</td>\n",
       "      <td>3.875682</td>\n",
       "      <td>3.934024</td>\n",
       "      <td>0.908280</td>\n",
       "      <td>4.064497</td>\n",
       "      <td>1.411604e+06</td>\n",
       "    </tr>\n",
       "    <tr>\n",
       "      <th>min</th>\n",
       "      <td>2.000000</td>\n",
       "      <td>0.000000e+00</td>\n",
       "      <td>1985.000000</td>\n",
       "      <td>0.000000</td>\n",
       "      <td>0.000000</td>\n",
       "      <td>1985.000000</td>\n",
       "      <td>1985.000000</td>\n",
       "      <td>4.000000</td>\n",
       "      <td>7.080000</td>\n",
       "      <td>2.016100e+04</td>\n",
       "    </tr>\n",
       "    <tr>\n",
       "      <th>25%</th>\n",
       "      <td>5.000000</td>\n",
       "      <td>3.022400e+04</td>\n",
       "      <td>2014.000000</td>\n",
       "      <td>1.000000</td>\n",
       "      <td>1197.000000</td>\n",
       "      <td>2014.000000</td>\n",
       "      <td>2014.000000</td>\n",
       "      <td>5.000000</td>\n",
       "      <td>17.100000</td>\n",
       "      <td>4.099990e+05</td>\n",
       "    </tr>\n",
       "    <tr>\n",
       "      <th>50%</th>\n",
       "      <td>5.000000</td>\n",
       "      <td>5.365100e+04</td>\n",
       "      <td>2017.000000</td>\n",
       "      <td>1.000000</td>\n",
       "      <td>1199.000000</td>\n",
       "      <td>2017.000000</td>\n",
       "      <td>2017.000000</td>\n",
       "      <td>5.000000</td>\n",
       "      <td>18.900000</td>\n",
       "      <td>6.200000e+05</td>\n",
       "    </tr>\n",
       "    <tr>\n",
       "      <th>75%</th>\n",
       "      <td>5.000000</td>\n",
       "      <td>7.950325e+04</td>\n",
       "      <td>2019.000000</td>\n",
       "      <td>2.000000</td>\n",
       "      <td>1498.000000</td>\n",
       "      <td>2019.000000</td>\n",
       "      <td>2019.000000</td>\n",
       "      <td>6.000000</td>\n",
       "      <td>21.400000</td>\n",
       "      <td>9.690000e+05</td>\n",
       "    </tr>\n",
       "    <tr>\n",
       "      <th>max</th>\n",
       "      <td>10.000000</td>\n",
       "      <td>5.500000e+06</td>\n",
       "      <td>2023.000000</td>\n",
       "      <td>5.000000</td>\n",
       "      <td>5000.000000</td>\n",
       "      <td>2023.000000</td>\n",
       "      <td>2023.000000</td>\n",
       "      <td>10.000000</td>\n",
       "      <td>140.000000</td>\n",
       "      <td>4.150000e+07</td>\n",
       "    </tr>\n",
       "  </tbody>\n",
       "</table>\n",
       "</div>"
      ],
      "text/plain": [
       "             seats    kms driven  Registration Year        owner  \\\n",
       "count  8732.000000  8.732000e+03        8732.000000  8732.000000   \n",
       "mean      5.194686  5.821430e+04        2016.550046     1.338754   \n",
       "std       0.650897  7.224426e+04           3.941374     0.603313   \n",
       "min       2.000000  0.000000e+00        1985.000000     0.000000   \n",
       "25%       5.000000  3.022400e+04        2014.000000     1.000000   \n",
       "50%       5.000000  5.365100e+04        2017.000000     1.000000   \n",
       "75%       5.000000  7.950325e+04        2019.000000     2.000000   \n",
       "max      10.000000  5.500000e+06        2023.000000     5.000000   \n",
       "\n",
       "       Engine Displacement    modelYear  Year of Manufacture      Gearbox  \\\n",
       "count          8732.000000  8732.000000          8732.000000  8732.000000   \n",
       "mean           1415.164338  2016.576729          2016.487746     5.445259   \n",
       "std             469.711387     3.875682             3.934024     0.908280   \n",
       "min               0.000000  1985.000000          1985.000000     4.000000   \n",
       "25%            1197.000000  2014.000000          2014.000000     5.000000   \n",
       "50%            1199.000000  2017.000000          2017.000000     5.000000   \n",
       "75%            1498.000000  2019.000000          2019.000000     6.000000   \n",
       "max            5000.000000  2023.000000          2023.000000    10.000000   \n",
       "\n",
       "           Mileage         price  \n",
       "count  8732.000000  8.732000e+03  \n",
       "mean     19.276229  9.691022e+05  \n",
       "std       4.064497  1.411604e+06  \n",
       "min       7.080000  2.016100e+04  \n",
       "25%      17.100000  4.099990e+05  \n",
       "50%      18.900000  6.200000e+05  \n",
       "75%      21.400000  9.690000e+05  \n",
       "max     140.000000  4.150000e+07  "
      ]
     },
     "execution_count": 256,
     "metadata": {},
     "output_type": "execute_result"
    }
   ],
   "source": [
    "new_car.describe()\n"
   ]
  },
  {
   "cell_type": "code",
   "execution_count": 257,
   "metadata": {},
   "outputs": [
    {
     "data": {
      "text/html": [
       "<div>\n",
       "<style scoped>\n",
       "    .dataframe tbody tr th:only-of-type {\n",
       "        vertical-align: middle;\n",
       "    }\n",
       "\n",
       "    .dataframe tbody tr th {\n",
       "        vertical-align: top;\n",
       "    }\n",
       "\n",
       "    .dataframe thead th {\n",
       "        text-align: right;\n",
       "    }\n",
       "</style>\n",
       "<table border=\"1\" class=\"dataframe\">\n",
       "  <thead>\n",
       "    <tr style=\"text-align: right;\">\n",
       "      <th></th>\n",
       "      <th>bodytype</th>\n",
       "      <th>fueltype</th>\n",
       "      <th>transmission</th>\n",
       "      <th>DriveType</th>\n",
       "      <th>Insurance</th>\n",
       "      <th>oem</th>\n",
       "      <th>seats</th>\n",
       "      <th>kms driven</th>\n",
       "      <th>Registration Year</th>\n",
       "      <th>owner</th>\n",
       "      <th>Engine Displacement</th>\n",
       "      <th>modelYear</th>\n",
       "      <th>Year of Manufacture</th>\n",
       "      <th>Gearbox</th>\n",
       "      <th>Mileage</th>\n",
       "      <th>city</th>\n",
       "      <th>price</th>\n",
       "    </tr>\n",
       "  </thead>\n",
       "  <tbody>\n",
       "    <tr>\n",
       "      <th>0</th>\n",
       "      <td>SUV</td>\n",
       "      <td>Petrol</td>\n",
       "      <td>Automatic</td>\n",
       "      <td>FWD</td>\n",
       "      <td>Third Party insurance</td>\n",
       "      <td>Kia</td>\n",
       "      <td>5.0</td>\n",
       "      <td>20000.0</td>\n",
       "      <td>2022.0</td>\n",
       "      <td>1.0</td>\n",
       "      <td>998.0</td>\n",
       "      <td>2022</td>\n",
       "      <td>2022</td>\n",
       "      <td>7.0</td>\n",
       "      <td>18.90</td>\n",
       "      <td>chennai</td>\n",
       "      <td>1150000</td>\n",
       "    </tr>\n",
       "    <tr>\n",
       "      <th>1</th>\n",
       "      <td>Minivans</td>\n",
       "      <td>Petrol</td>\n",
       "      <td>Manual</td>\n",
       "      <td>RWD</td>\n",
       "      <td>Comprehensive</td>\n",
       "      <td>Maruti</td>\n",
       "      <td>7.0</td>\n",
       "      <td>20687.0</td>\n",
       "      <td>2015.0</td>\n",
       "      <td>1.0</td>\n",
       "      <td>1196.0</td>\n",
       "      <td>2015</td>\n",
       "      <td>2015</td>\n",
       "      <td>5.0</td>\n",
       "      <td>15.37</td>\n",
       "      <td>chennai</td>\n",
       "      <td>415000</td>\n",
       "    </tr>\n",
       "    <tr>\n",
       "      <th>2</th>\n",
       "      <td>SUV</td>\n",
       "      <td>Petrol</td>\n",
       "      <td>Manual</td>\n",
       "      <td>FWD</td>\n",
       "      <td>Third Party insurance</td>\n",
       "      <td>Nissan</td>\n",
       "      <td>5.0</td>\n",
       "      <td>30000.0</td>\n",
       "      <td>2021.0</td>\n",
       "      <td>1.0</td>\n",
       "      <td>999.0</td>\n",
       "      <td>2021</td>\n",
       "      <td>2021</td>\n",
       "      <td>5.0</td>\n",
       "      <td>20.00</td>\n",
       "      <td>chennai</td>\n",
       "      <td>750000</td>\n",
       "    </tr>\n",
       "    <tr>\n",
       "      <th>3</th>\n",
       "      <td>Hatchback</td>\n",
       "      <td>Petrol</td>\n",
       "      <td>Manual</td>\n",
       "      <td>FWD</td>\n",
       "      <td>Comprehensive</td>\n",
       "      <td>Hyundai</td>\n",
       "      <td>5.0</td>\n",
       "      <td>59247.0</td>\n",
       "      <td>2015.0</td>\n",
       "      <td>1.0</td>\n",
       "      <td>1086.0</td>\n",
       "      <td>2015</td>\n",
       "      <td>2015</td>\n",
       "      <td>5.0</td>\n",
       "      <td>19.81</td>\n",
       "      <td>chennai</td>\n",
       "      <td>398000</td>\n",
       "    </tr>\n",
       "    <tr>\n",
       "      <th>4</th>\n",
       "      <td>Hatchback</td>\n",
       "      <td>Petrol</td>\n",
       "      <td>Manual</td>\n",
       "      <td>FWD</td>\n",
       "      <td>Third Party insurance</td>\n",
       "      <td>Honda</td>\n",
       "      <td>5.0</td>\n",
       "      <td>50000.0</td>\n",
       "      <td>2015.0</td>\n",
       "      <td>1.0</td>\n",
       "      <td>1199.0</td>\n",
       "      <td>2015</td>\n",
       "      <td>2015</td>\n",
       "      <td>5.0</td>\n",
       "      <td>18.70</td>\n",
       "      <td>chennai</td>\n",
       "      <td>550000</td>\n",
       "    </tr>\n",
       "  </tbody>\n",
       "</table>\n",
       "</div>"
      ],
      "text/plain": [
       "    bodytype fueltype transmission DriveType              Insurance      oem  \\\n",
       "0        SUV   Petrol    Automatic       FWD  Third Party insurance      Kia   \n",
       "1   Minivans   Petrol       Manual       RWD          Comprehensive   Maruti   \n",
       "2        SUV   Petrol       Manual       FWD  Third Party insurance   Nissan   \n",
       "3  Hatchback   Petrol       Manual       FWD          Comprehensive  Hyundai   \n",
       "4  Hatchback   Petrol       Manual       FWD  Third Party insurance    Honda   \n",
       "\n",
       "   seats  kms driven  Registration Year  owner  Engine Displacement  \\\n",
       "0    5.0     20000.0             2022.0    1.0                998.0   \n",
       "1    7.0     20687.0             2015.0    1.0               1196.0   \n",
       "2    5.0     30000.0             2021.0    1.0                999.0   \n",
       "3    5.0     59247.0             2015.0    1.0               1086.0   \n",
       "4    5.0     50000.0             2015.0    1.0               1199.0   \n",
       "\n",
       "   modelYear  Year of Manufacture  Gearbox  Mileage     city    price  \n",
       "0       2022                 2022      7.0    18.90  chennai  1150000  \n",
       "1       2015                 2015      5.0    15.37  chennai   415000  \n",
       "2       2021                 2021      5.0    20.00  chennai   750000  \n",
       "3       2015                 2015      5.0    19.81  chennai   398000  \n",
       "4       2015                 2015      5.0    18.70  chennai   550000  "
      ]
     },
     "execution_count": 257,
     "metadata": {},
     "output_type": "execute_result"
    }
   ],
   "source": [
    "new_car.head()"
   ]
  },
  {
   "cell_type": "markdown",
   "metadata": {},
   "source": [
    "#### Frequency of each category"
   ]
  },
  {
   "cell_type": "code",
   "execution_count": 258,
   "metadata": {},
   "outputs": [
    {
     "data": {
      "text/plain": [
       "owner\n",
       "1.0    6197\n",
       "2.0    2098\n",
       "3.0     343\n",
       "4.0      47\n",
       "0.0      31\n",
       "5.0      16\n",
       "Name: count, dtype: int64"
      ]
     },
     "execution_count": 258,
     "metadata": {},
     "output_type": "execute_result"
    }
   ],
   "source": [
    "new_car['owner'].value_counts()\n"
   ]
  },
  {
   "cell_type": "code",
   "execution_count": 259,
   "metadata": {},
   "outputs": [
    {
     "data": {
      "text/plain": [
       "transmission\n",
       "Manual       6230\n",
       "Automatic    2502\n",
       "Name: count, dtype: int64"
      ]
     },
     "execution_count": 259,
     "metadata": {},
     "output_type": "execute_result"
    }
   ],
   "source": [
    "new_car['transmission'].value_counts()\n"
   ]
  },
  {
   "cell_type": "code",
   "execution_count": 260,
   "metadata": {},
   "outputs": [
    {
     "data": {
      "text/plain": [
       "bodytype\n",
       "Hatchback        3770\n",
       "SUV              2286\n",
       "Sedan            2256\n",
       "MUV               374\n",
       "Minivans           23\n",
       "Coupe               9\n",
       "Pickup Trucks       6\n",
       "Convertibles        6\n",
       "Hybrids             1\n",
       "Wagon               1\n",
       "Name: count, dtype: int64"
      ]
     },
     "execution_count": 260,
     "metadata": {},
     "output_type": "execute_result"
    }
   ],
   "source": [
    "new_car['bodytype'].value_counts()"
   ]
  },
  {
   "cell_type": "code",
   "execution_count": 261,
   "metadata": {},
   "outputs": [
    {
     "data": {
      "text/plain": [
       "fueltype\n",
       "Petrol      5845\n",
       "Diesel      2747\n",
       "Cng           97\n",
       "Electric      27\n",
       "Lpg           16\n",
       "Name: count, dtype: int64"
      ]
     },
     "execution_count": 261,
     "metadata": {},
     "output_type": "execute_result"
    }
   ],
   "source": [
    "new_car['fueltype'].value_counts()"
   ]
  },
  {
   "cell_type": "code",
   "execution_count": 262,
   "metadata": {},
   "outputs": [
    {
     "data": {
      "text/plain": [
       "fueltype\n",
       "Petrol      5845\n",
       "Diesel      2747\n",
       "Cng           97\n",
       "Electric      27\n",
       "Lpg           16\n",
       "Name: count, dtype: int64"
      ]
     },
     "execution_count": 262,
     "metadata": {},
     "output_type": "execute_result"
    }
   ],
   "source": [
    "new_car.fueltype.value_counts()"
   ]
  },
  {
   "cell_type": "code",
   "execution_count": 263,
   "metadata": {},
   "outputs": [
    {
     "data": {
      "text/plain": [
       "DriveType\n",
       "FWD    7510\n",
       "RWD     648\n",
       "AWD     292\n",
       "4WD     282\n",
       "Name: count, dtype: int64"
      ]
     },
     "execution_count": 263,
     "metadata": {},
     "output_type": "execute_result"
    }
   ],
   "source": [
    "new_car['DriveType'].value_counts()"
   ]
  },
  {
   "cell_type": "code",
   "execution_count": 264,
   "metadata": {},
   "outputs": [
    {
     "data": {
      "text/plain": [
       "array(['SUV', 'Minivans', 'Hatchback', 'Sedan', 'MUV', 'Hybrids', 'Coupe',\n",
       "       'Pickup Trucks', 'Convertibles', 'Wagon'], dtype=object)"
      ]
     },
     "execution_count": 264,
     "metadata": {},
     "output_type": "execute_result"
    }
   ],
   "source": [
    "new_car['bodytype'].unique()"
   ]
  },
  {
   "cell_type": "code",
   "execution_count": 265,
   "metadata": {},
   "outputs": [
    {
     "data": {
      "text/plain": [
       "oem\n",
       "Maruti              2333\n",
       "Hyundai             1749\n",
       "Honda                890\n",
       "Tata                 464\n",
       "Mahindra             377\n",
       "Toyota               344\n",
       "Ford                 332\n",
       "Renault              320\n",
       "Volkswagen           314\n",
       "Mercedes-Benz        260\n",
       "BMW                  187\n",
       "Audi                 163\n",
       "Skoda                161\n",
       "Kia                  144\n",
       "Jeep                 118\n",
       "MG                   101\n",
       "Datsun                92\n",
       "Nissan                86\n",
       "Chevrolet             71\n",
       "Volvo                 50\n",
       "Land Rover            45\n",
       "Jaguar                39\n",
       "Fiat                  35\n",
       "Mini                  12\n",
       "Mitsubishi            11\n",
       "Citroen                7\n",
       "Ssangyong              5\n",
       "Lexus                  5\n",
       "Hindustan Motors       5\n",
       "Porsche                5\n",
       "Isuzu                  4\n",
       "Opel                   3\n",
       "Name: count, dtype: int64"
      ]
     },
     "execution_count": 265,
     "metadata": {},
     "output_type": "execute_result"
    }
   ],
   "source": [
    "new_car['oem'].value_counts()"
   ]
  },
  {
   "cell_type": "code",
   "execution_count": 266,
   "metadata": {},
   "outputs": [
    {
     "data": {
      "text/plain": [
       "array([ 998., 1196.,  999., 1086., 1199., 2143., 1995., 1497., 1197.,\n",
       "       1956., 2755., 1198., 1248.,    0., 1582., 1984., 2694., 1498.,\n",
       "       1298., 1461., 1798., 1364., 1591., 1968., 2967., 2393., 2993.,\n",
       "       1368., 2198., 1373., 1598., 2179., 1462., 1451., 1194., 1991.,\n",
       "       1493., 1998., 4663., 2987.,  796., 1186., 1799., 1950., 1496.,\n",
       "       2925., 1396., 1353.,  799., 1405.,  814., 2494., 1399., 1997.,\n",
       "       1047., 2999., 1499., 2184., 1896., 1999., 1969., 1495., 1390.,\n",
       "       1120., 1482., 2523., 2354.,  624.,  793.,  936., 4134.,  993.,\n",
       "       2499., 2982., 1596., 1796., 1422., 1172., 1468., 1599., 1586.,\n",
       "       1193., 2199., 1330., 2696., 2400., 2477., 2998., 2997., 2995.,\n",
       "       1395., 2487., 1797., 1341., 1397., 3198., 1332., 2148., 1299.,\n",
       "       1061., 2497., 1590., 1781., 2953., 1595., 2496., 2362.,  970.,\n",
       "       1389., 1597., 2498.,  995.,   72., 1589., 3597., 5000., 2200.,\n",
       "       2996., 1108., 1996., 1985., 2157., 2112., 2446., 1794., 2359.,\n",
       "       2609., 2956., 2231., 1349., 3456., 2360., 3982., 2894., 3346.,\n",
       "       3498., 2979., 2835., 1150., 1343., 2981., 4395., 1817., 3993.,\n",
       "       1948., 4806., 2994., 1993., 1490., 2489.])"
      ]
     },
     "execution_count": 266,
     "metadata": {},
     "output_type": "execute_result"
    }
   ],
   "source": [
    "new_car['Engine Displacement'].unique()"
   ]
  },
  {
   "cell_type": "code",
   "execution_count": 267,
   "metadata": {},
   "outputs": [
    {
     "data": {
      "text/plain": [
       "1415.1643380668804"
      ]
     },
     "execution_count": 267,
     "metadata": {},
     "output_type": "execute_result"
    }
   ],
   "source": [
    "new_car['Engine Displacement'].mean()"
   ]
  },
  {
   "cell_type": "code",
   "execution_count": 268,
   "metadata": {},
   "outputs": [
    {
     "data": {
      "text/plain": [
       "140.0"
      ]
     },
     "execution_count": 268,
     "metadata": {},
     "output_type": "execute_result"
    }
   ],
   "source": [
    "new_car.Mileage.max()"
   ]
  },
  {
   "cell_type": "code",
   "execution_count": 269,
   "metadata": {},
   "outputs": [
    {
     "data": {
      "text/plain": [
       "Year of Manufacture\n",
       "2018    1024\n",
       "2017     975\n",
       "2016     851\n",
       "2019     819\n",
       "2021     723\n",
       "2020     634\n",
       "2015     631\n",
       "2014     606\n",
       "2022     590\n",
       "2013     423\n",
       "2012     352\n",
       "2011     287\n",
       "2010     266\n",
       "2009     149\n",
       "2023     104\n",
       "2008      94\n",
       "2007      61\n",
       "2006      48\n",
       "2004      30\n",
       "2005      22\n",
       "2003      15\n",
       "2002      11\n",
       "2001       8\n",
       "1995       2\n",
       "1998       2\n",
       "1985       2\n",
       "1997       2\n",
       "2000       1\n",
       "Name: count, dtype: int64"
      ]
     },
     "execution_count": 269,
     "metadata": {},
     "output_type": "execute_result"
    }
   ],
   "source": [
    "new_car['Year of Manufacture'].value_counts()"
   ]
  },
  {
   "cell_type": "code",
   "execution_count": 270,
   "metadata": {},
   "outputs": [
    {
     "data": {
      "text/plain": [
       "Registration Year\n",
       "2018.0    1025\n",
       "2017.0     971\n",
       "2016.0     839\n",
       "2019.0     831\n",
       "2021.0     730\n",
       "2020.0     663\n",
       "2014.0     611\n",
       "2022.0     603\n",
       "2015.0     598\n",
       "2013.0     407\n",
       "2012.0     345\n",
       "2011.0     289\n",
       "2010.0     259\n",
       "2009.0     149\n",
       "2023.0     119\n",
       "2008.0      92\n",
       "2007.0      60\n",
       "2006.0      46\n",
       "2004.0      30\n",
       "2005.0      22\n",
       "2003.0      15\n",
       "2002.0      11\n",
       "2001.0       8\n",
       "1995.0       2\n",
       "1998.0       2\n",
       "1985.0       2\n",
       "1997.0       2\n",
       "2000.0       1\n",
       "Name: count, dtype: int64"
      ]
     },
     "execution_count": 270,
     "metadata": {},
     "output_type": "execute_result"
    }
   ],
   "source": [
    "new_car['Registration Year'].value_counts()"
   ]
  },
  {
   "cell_type": "markdown",
   "metadata": {},
   "source": [
    "### Distribution"
   ]
  },
  {
   "cell_type": "code",
   "execution_count": 271,
   "metadata": {},
   "outputs": [
    {
     "data": {
      "text/plain": [
       "<Axes: xlabel='price', ylabel='Count'>"
      ]
     },
     "execution_count": 271,
     "metadata": {},
     "output_type": "execute_result"
    },
    {
     "data": {
      "image/png": "[encoded data removed]",
      "text/plain": [
       "<Figure size 640x480 with 1 Axes>"
      ]
     },
     "metadata": {},
     "output_type": "display_data"
    }
   ],
   "source": [
    "import seaborn as sns\n",
    "sns.histplot(new_car['price'], kde=True)\n"
   ]
  },
  {
   "cell_type": "code",
   "execution_count": 272,
   "metadata": {},
   "outputs": [
    {
     "data": {
      "text/plain": [
       "<Axes: ylabel='price'>"
      ]
     },
     "execution_count": 272,
     "metadata": {},
     "output_type": "execute_result"
    },
    {
     "data": {
      "image/png": "[encoded data removed]",
      "text/plain": [
       "<Figure size 640x480 with 1 Axes>"
      ]
     },
     "metadata": {},
     "output_type": "display_data"
    }
   ],
   "source": [
    "sns.boxplot(new_car['price'])\n"
   ]
  },
  {
   "cell_type": "code",
   "execution_count": 273,
   "metadata": {},
   "outputs": [
    {
     "data": {
      "text/plain": [
       "<Axes: xlabel='kms driven', ylabel='price'>"
      ]
     },
     "execution_count": 273,
     "metadata": {},
     "output_type": "execute_result"
    },
    {
     "data": {
      "image/png": "[encoded data removed]",
      "text/plain": [
       "<Figure size 640x480 with 1 Axes>"
      ]
     },
     "metadata": {},
     "output_type": "display_data"
    }
   ],
   "source": [
    "sns.scatterplot(x='kms driven', y='price', data=new_car)\n"
   ]
  },
  {
   "cell_type": "code",
   "execution_count": 274,
   "metadata": {},
   "outputs": [
    {
     "data": {
      "text/plain": [
       "<seaborn.axisgrid.PairGrid at 0x24dd09b8ce0>"
      ]
     },
     "execution_count": 274,
     "metadata": {},
     "output_type": "execute_result"
    },
    {
     "data": {
      "image/png": "[encoded data removed]",
      "text/plain": [
       "<Figure size 750x750 with 12 Axes>"
      ]
     },
     "metadata": {},
     "output_type": "display_data"
    }
   ],
   "source": [
    "sns.pairplot(new_car[['price', 'kms driven', 'modelYear']])\n",
    "\n"
   ]
  },
  {
   "cell_type": "code",
   "execution_count": 275,
   "metadata": {},
   "outputs": [
    {
     "data": {
      "text/plain": [
       "dtype('float64')"
      ]
     },
     "execution_count": 275,
     "metadata": {},
     "output_type": "execute_result"
    }
   ],
   "source": [
    "new_car['kms driven'].dtype"
   ]
  },
  {
   "cell_type": "code",
   "execution_count": 276,
   "metadata": {},
   "outputs": [
    {
     "data": {
      "text/plain": [
       "array([ 20000.,  20687.,  30000., ...,  53562.,  32190., 151000.])"
      ]
     },
     "execution_count": 276,
     "metadata": {},
     "output_type": "execute_result"
    }
   ],
   "source": [
    "new_car['kms driven'].unique()"
   ]
  },
  {
   "cell_type": "code",
   "execution_count": 277,
   "metadata": {},
   "outputs": [
    {
     "data": {
      "text/plain": [
       "<Axes: xlabel='owner', ylabel='count'>"
      ]
     },
     "execution_count": 277,
     "metadata": {},
     "output_type": "execute_result"
    },
    {
     "data": {
      "image/png": "[encoded data removed]",
      "text/plain": [
       "<Figure size 640x480 with 1 Axes>"
      ]
     },
     "metadata": {},
     "output_type": "display_data"
    }
   ],
   "source": [
    "sns.countplot(x='owner', data=new_car)\n"
   ]
  },
  {
   "cell_type": "code",
   "execution_count": 278,
   "metadata": {},
   "outputs": [
    {
     "data": {
      "text/plain": [
       "<Axes: xlabel='transmission', ylabel='price'>"
      ]
     },
     "execution_count": 278,
     "metadata": {},
     "output_type": "execute_result"
    },
    {
     "data": {
      "image/png": "[encoded data removed]",
      "text/plain": [
       "<Figure size 640x480 with 1 Axes>"
      ]
     },
     "metadata": {},
     "output_type": "display_data"
    }
   ],
   "source": [
    "sns.boxplot(x='transmission', y='price', data=new_car)\n"
   ]
  },
  {
   "cell_type": "code",
   "execution_count": 279,
   "metadata": {},
   "outputs": [
    {
     "data": {
      "text/plain": [
       "<Axes: xlabel='owner', ylabel='transmission'>"
      ]
     },
     "execution_count": 279,
     "metadata": {},
     "output_type": "execute_result"
    },
    {
     "data": {
      "image/png": "[encoded data removed]",
      "text/plain": [
       "<Figure size 640x480 with 2 Axes>"
      ]
     },
     "metadata": {},
     "output_type": "display_data"
    }
   ],
   "source": [
    "pivot = new_car.pivot_table(index='transmission', columns='owner', values='price', aggfunc='mean')\n",
    "sns.heatmap(pivot, annot=True, cmap='viridis')\n"
   ]
  },
  {
   "cell_type": "code",
   "execution_count": 280,
   "metadata": {},
   "outputs": [
    {
     "data": {
      "text/plain": [
       "<Axes: xlabel='owner', ylabel='count'>"
      ]
     },
     "execution_count": 280,
     "metadata": {},
     "output_type": "execute_result"
    },
    {
     "data": {
      "image/png": "[encoded data removed]",
      "text/plain": [
       "<Figure size 640x480 with 1 Axes>"
      ]
     },
     "metadata": {},
     "output_type": "display_data"
    }
   ],
   "source": [
    "sns.countplot(x='owner', data=new_car)\n"
   ]
  },
  {
   "cell_type": "code",
   "execution_count": 281,
   "metadata": {},
   "outputs": [
    {
     "data": {
      "text/plain": [
       "<Axes: xlabel='city', ylabel='count'>"
      ]
     },
     "execution_count": 281,
     "metadata": {},
     "output_type": "execute_result"
    },
    {
     "data": {
      "image/png": "[encoded data removed]",
      "text/plain": [
       "<Figure size 640x480 with 1 Axes>"
      ]
     },
     "metadata": {},
     "output_type": "display_data"
    }
   ],
   "source": [
    "sns.countplot(x='city', data=new_car)\n"
   ]
  },
  {
   "cell_type": "code",
   "execution_count": 282,
   "metadata": {},
   "outputs": [
    {
     "data": {
      "text/plain": [
       "<seaborn.axisgrid.FacetGrid at 0x24db8809220>"
      ]
     },
     "execution_count": 282,
     "metadata": {},
     "output_type": "execute_result"
    },
    {
     "data": {
      "image/png": "[encoded data removed]",
      "text/plain": [
       "<Figure size 500x500 with 1 Axes>"
      ]
     },
     "metadata": {},
     "output_type": "display_data"
    }
   ],
   "source": [
    "import seaborn as sns\n",
    "sns.displot(new_car['price'])\n"
   ]
  },
  {
   "cell_type": "code",
   "execution_count": 283,
   "metadata": {},
   "outputs": [
    {
     "name": "stdout",
     "output_type": "stream",
     "text": [
      "Highest allowed 5203914.587068693\n",
      "Lowest allowed -3265710.1546362606\n"
     ]
    }
   ],
   "source": [
    "#Finding the Boundary Values\n",
    "print(\"Highest allowed\",new_car['price'].mean() + 3*new_car['price'].std())\n",
    "print(\"Lowest allowed\",new_car['price'].mean() - 3*new_car['price'].std())"
   ]
  },
  {
   "cell_type": "code",
   "execution_count": 284,
   "metadata": {},
   "outputs": [
    {
     "data": {
      "text/plain": [
       "1411604.1236174924"
      ]
     },
     "execution_count": 284,
     "metadata": {},
     "output_type": "execute_result"
    }
   ],
   "source": [
    "new_car['price'].std()"
   ]
  },
  {
   "cell_type": "code",
   "execution_count": 285,
   "metadata": {},
   "outputs": [
    {
     "data": {
      "text/plain": [
       "Index(['bodytype', 'fueltype', 'transmission', 'DriveType', 'Insurance', 'oem',\n",
       "       'city'],\n",
       "      dtype='object')"
      ]
     },
     "execution_count": 285,
     "metadata": {},
     "output_type": "execute_result"
    }
   ],
   "source": [
    "categorical_cols=new_car.select_dtypes(['object']).columns\n",
    "categorical_cols"
   ]
  },
  {
   "cell_type": "code",
   "execution_count": 286,
   "metadata": {},
   "outputs": [],
   "source": [
    "numerical_cols = new_car.select_dtypes(['number']).columns\n",
    "numerical_cols1=numerical_cols.drop('price')"
   ]
  },
  {
   "cell_type": "code",
   "execution_count": 289,
   "metadata": {},
   "outputs": [
    {
     "data": {
      "text/plain": [
       "Index(['seats', 'kms driven', 'Registration Year', 'owner',\n",
       "       'Engine Displacement', 'modelYear', 'Year of Manufacture', 'Gearbox',\n",
       "       'Mileage'],\n",
       "      dtype='object')"
      ]
     },
     "execution_count": 289,
     "metadata": {},
     "output_type": "execute_result"
    }
   ],
   "source": [
    "numerical_cols1"
   ]
  },
  {
   "cell_type": "code",
   "execution_count": 223,
   "metadata": {},
   "outputs": [
    {
     "data": {
      "text/plain": [
       "16"
      ]
     },
     "execution_count": 223,
     "metadata": {},
     "output_type": "execute_result"
    }
   ],
   "source": [
    "total_cols = len(categorical_cols) + len(numerical_cols1)\n",
    "total_cols"
   ]
  },
  {
   "cell_type": "code",
   "execution_count": 224,
   "metadata": {},
   "outputs": [
    {
     "name": "stdout",
     "output_type": "stream",
     "text": [
      "<class 'pandas.core.frame.DataFrame'>\n",
      "RangeIndex: 8732 entries, 0 to 8731\n",
      "Data columns (total 17 columns):\n",
      " #   Column               Non-Null Count  Dtype  \n",
      "---  ------               --------------  -----  \n",
      " 0   bodytype             8732 non-null   object \n",
      " 1   fueltype             8732 non-null   object \n",
      " 2   transmission         8732 non-null   object \n",
      " 3   DriveType            8732 non-null   object \n",
      " 4   Insurance            8732 non-null   object \n",
      " 5   oem                  8732 non-null   object \n",
      " 6   seats                8732 non-null   float64\n",
      " 7   kms driven           8732 non-null   float64\n",
      " 8   Registration Year    8732 non-null   float64\n",
      " 9   owner                8732 non-null   float64\n",
      " 10  Engine Displacement  8732 non-null   float64\n",
      " 11  modelYear            8732 non-null   int64  \n",
      " 12  Year of Manufacture  8732 non-null   int64  \n",
      " 13  Gearbox              8732 non-null   float64\n",
      " 14  Mileage              8732 non-null   float64\n",
      " 15  city                 8732 non-null   object \n",
      " 16  price                8732 non-null   int64  \n",
      "dtypes: float64(7), int64(3), object(7)\n",
      "memory usage: 1.1+ MB\n"
     ]
    }
   ],
   "source": [
    "new_car.info()"
   ]
  },
  {
   "cell_type": "code",
   "execution_count": 288,
   "metadata": {},
   "outputs": [
    {
     "data": {
      "text/html": [
       "<div>\n",
       "<style scoped>\n",
       "    .dataframe tbody tr th:only-of-type {\n",
       "        vertical-align: middle;\n",
       "    }\n",
       "\n",
       "    .dataframe tbody tr th {\n",
       "        vertical-align: top;\n",
       "    }\n",
       "\n",
       "    .dataframe thead th {\n",
       "        text-align: right;\n",
       "    }\n",
       "</style>\n",
       "<table border=\"1\" class=\"dataframe\">\n",
       "  <thead>\n",
       "    <tr style=\"text-align: right;\">\n",
       "      <th></th>\n",
       "      <th>bodytype</th>\n",
       "      <th>fueltype</th>\n",
       "      <th>transmission</th>\n",
       "      <th>DriveType</th>\n",
       "      <th>Insurance</th>\n",
       "      <th>oem</th>\n",
       "      <th>seats</th>\n",
       "      <th>kms driven</th>\n",
       "      <th>Registration Year</th>\n",
       "      <th>owner</th>\n",
       "      <th>Engine Displacement</th>\n",
       "      <th>modelYear</th>\n",
       "      <th>Year of Manufacture</th>\n",
       "      <th>Gearbox</th>\n",
       "      <th>Mileage</th>\n",
       "      <th>city</th>\n",
       "      <th>price</th>\n",
       "    </tr>\n",
       "  </thead>\n",
       "  <tbody>\n",
       "    <tr>\n",
       "      <th>0</th>\n",
       "      <td>SUV</td>\n",
       "      <td>Petrol</td>\n",
       "      <td>Automatic</td>\n",
       "      <td>FWD</td>\n",
       "      <td>Third Party insurance</td>\n",
       "      <td>Kia</td>\n",
       "      <td>5.0</td>\n",
       "      <td>20000.0</td>\n",
       "      <td>2022.0</td>\n",
       "      <td>1.0</td>\n",
       "      <td>998.0</td>\n",
       "      <td>2022</td>\n",
       "      <td>2022</td>\n",
       "      <td>7.0</td>\n",
       "      <td>18.90</td>\n",
       "      <td>chennai</td>\n",
       "      <td>1150000</td>\n",
       "    </tr>\n",
       "    <tr>\n",
       "      <th>1</th>\n",
       "      <td>Minivans</td>\n",
       "      <td>Petrol</td>\n",
       "      <td>Manual</td>\n",
       "      <td>RWD</td>\n",
       "      <td>Comprehensive</td>\n",
       "      <td>Maruti</td>\n",
       "      <td>7.0</td>\n",
       "      <td>20687.0</td>\n",
       "      <td>2015.0</td>\n",
       "      <td>1.0</td>\n",
       "      <td>1196.0</td>\n",
       "      <td>2015</td>\n",
       "      <td>2015</td>\n",
       "      <td>5.0</td>\n",
       "      <td>15.37</td>\n",
       "      <td>chennai</td>\n",
       "      <td>415000</td>\n",
       "    </tr>\n",
       "    <tr>\n",
       "      <th>2</th>\n",
       "      <td>SUV</td>\n",
       "      <td>Petrol</td>\n",
       "      <td>Manual</td>\n",
       "      <td>FWD</td>\n",
       "      <td>Third Party insurance</td>\n",
       "      <td>Nissan</td>\n",
       "      <td>5.0</td>\n",
       "      <td>30000.0</td>\n",
       "      <td>2021.0</td>\n",
       "      <td>1.0</td>\n",
       "      <td>999.0</td>\n",
       "      <td>2021</td>\n",
       "      <td>2021</td>\n",
       "      <td>5.0</td>\n",
       "      <td>20.00</td>\n",
       "      <td>chennai</td>\n",
       "      <td>750000</td>\n",
       "    </tr>\n",
       "    <tr>\n",
       "      <th>3</th>\n",
       "      <td>Hatchback</td>\n",
       "      <td>Petrol</td>\n",
       "      <td>Manual</td>\n",
       "      <td>FWD</td>\n",
       "      <td>Comprehensive</td>\n",
       "      <td>Hyundai</td>\n",
       "      <td>5.0</td>\n",
       "      <td>59247.0</td>\n",
       "      <td>2015.0</td>\n",
       "      <td>1.0</td>\n",
       "      <td>1086.0</td>\n",
       "      <td>2015</td>\n",
       "      <td>2015</td>\n",
       "      <td>5.0</td>\n",
       "      <td>19.81</td>\n",
       "      <td>chennai</td>\n",
       "      <td>398000</td>\n",
       "    </tr>\n",
       "    <tr>\n",
       "      <th>4</th>\n",
       "      <td>Hatchback</td>\n",
       "      <td>Petrol</td>\n",
       "      <td>Manual</td>\n",
       "      <td>FWD</td>\n",
       "      <td>Third Party insurance</td>\n",
       "      <td>Honda</td>\n",
       "      <td>5.0</td>\n",
       "      <td>50000.0</td>\n",
       "      <td>2015.0</td>\n",
       "      <td>1.0</td>\n",
       "      <td>1199.0</td>\n",
       "      <td>2015</td>\n",
       "      <td>2015</td>\n",
       "      <td>5.0</td>\n",
       "      <td>18.70</td>\n",
       "      <td>chennai</td>\n",
       "      <td>550000</td>\n",
       "    </tr>\n",
       "    <tr>\n",
       "      <th>...</th>\n",
       "      <td>...</td>\n",
       "      <td>...</td>\n",
       "      <td>...</td>\n",
       "      <td>...</td>\n",
       "      <td>...</td>\n",
       "      <td>...</td>\n",
       "      <td>...</td>\n",
       "      <td>...</td>\n",
       "      <td>...</td>\n",
       "      <td>...</td>\n",
       "      <td>...</td>\n",
       "      <td>...</td>\n",
       "      <td>...</td>\n",
       "      <td>...</td>\n",
       "      <td>...</td>\n",
       "      <td>...</td>\n",
       "      <td>...</td>\n",
       "    </tr>\n",
       "    <tr>\n",
       "      <th>8727</th>\n",
       "      <td>Hatchback</td>\n",
       "      <td>Petrol</td>\n",
       "      <td>Manual</td>\n",
       "      <td>FWD</td>\n",
       "      <td>Third Party insurance</td>\n",
       "      <td>Maruti</td>\n",
       "      <td>5.0</td>\n",
       "      <td>10000.0</td>\n",
       "      <td>2022.0</td>\n",
       "      <td>1.0</td>\n",
       "      <td>998.0</td>\n",
       "      <td>2022</td>\n",
       "      <td>2022</td>\n",
       "      <td>5.0</td>\n",
       "      <td>25.24</td>\n",
       "      <td>kolkata</td>\n",
       "      <td>509999</td>\n",
       "    </tr>\n",
       "    <tr>\n",
       "      <th>8728</th>\n",
       "      <td>Hatchback</td>\n",
       "      <td>Petrol</td>\n",
       "      <td>Manual</td>\n",
       "      <td>FWD</td>\n",
       "      <td>Third Party insurance</td>\n",
       "      <td>Maruti</td>\n",
       "      <td>5.0</td>\n",
       "      <td>120000.0</td>\n",
       "      <td>2014.0</td>\n",
       "      <td>1.0</td>\n",
       "      <td>796.0</td>\n",
       "      <td>2014</td>\n",
       "      <td>2014</td>\n",
       "      <td>5.0</td>\n",
       "      <td>22.74</td>\n",
       "      <td>kolkata</td>\n",
       "      <td>180000</td>\n",
       "    </tr>\n",
       "    <tr>\n",
       "      <th>8729</th>\n",
       "      <td>Sedan</td>\n",
       "      <td>Petrol</td>\n",
       "      <td>Automatic</td>\n",
       "      <td>RWD</td>\n",
       "      <td>Third Party insurance</td>\n",
       "      <td>Mercedes-Benz</td>\n",
       "      <td>5.0</td>\n",
       "      <td>50000.0</td>\n",
       "      <td>2011.0</td>\n",
       "      <td>3.0</td>\n",
       "      <td>1796.0</td>\n",
       "      <td>2011</td>\n",
       "      <td>2011</td>\n",
       "      <td>7.0</td>\n",
       "      <td>11.74</td>\n",
       "      <td>kolkata</td>\n",
       "      <td>550000</td>\n",
       "    </tr>\n",
       "    <tr>\n",
       "      <th>8730</th>\n",
       "      <td>Hatchback</td>\n",
       "      <td>Petrol</td>\n",
       "      <td>Manual</td>\n",
       "      <td>FWD</td>\n",
       "      <td>Third Party insurance</td>\n",
       "      <td>Maruti</td>\n",
       "      <td>5.0</td>\n",
       "      <td>40000.0</td>\n",
       "      <td>2012.0</td>\n",
       "      <td>1.0</td>\n",
       "      <td>1197.0</td>\n",
       "      <td>2012</td>\n",
       "      <td>2012</td>\n",
       "      <td>5.0</td>\n",
       "      <td>18.50</td>\n",
       "      <td>kolkata</td>\n",
       "      <td>140000</td>\n",
       "    </tr>\n",
       "    <tr>\n",
       "      <th>8731</th>\n",
       "      <td>SUV</td>\n",
       "      <td>Diesel</td>\n",
       "      <td>Manual</td>\n",
       "      <td>AWD</td>\n",
       "      <td>Third Party insurance</td>\n",
       "      <td>Renault</td>\n",
       "      <td>5.0</td>\n",
       "      <td>120000.0</td>\n",
       "      <td>2017.0</td>\n",
       "      <td>2.0</td>\n",
       "      <td>1461.0</td>\n",
       "      <td>2017</td>\n",
       "      <td>2017</td>\n",
       "      <td>6.0</td>\n",
       "      <td>19.72</td>\n",
       "      <td>kolkata</td>\n",
       "      <td>500000</td>\n",
       "    </tr>\n",
       "  </tbody>\n",
       "</table>\n",
       "<p>8732 rows × 17 columns</p>\n",
       "</div>"
      ],
      "text/plain": [
       "       bodytype fueltype transmission DriveType              Insurance  \\\n",
       "0           SUV   Petrol    Automatic       FWD  Third Party insurance   \n",
       "1      Minivans   Petrol       Manual       RWD          Comprehensive   \n",
       "2           SUV   Petrol       Manual       FWD  Third Party insurance   \n",
       "3     Hatchback   Petrol       Manual       FWD          Comprehensive   \n",
       "4     Hatchback   Petrol       Manual       FWD  Third Party insurance   \n",
       "...         ...      ...          ...       ...                    ...   \n",
       "8727  Hatchback   Petrol       Manual       FWD  Third Party insurance   \n",
       "8728  Hatchback   Petrol       Manual       FWD  Third Party insurance   \n",
       "8729      Sedan   Petrol    Automatic       RWD  Third Party insurance   \n",
       "8730  Hatchback   Petrol       Manual       FWD  Third Party insurance   \n",
       "8731        SUV   Diesel       Manual       AWD  Third Party insurance   \n",
       "\n",
       "                oem  seats  kms driven  Registration Year  owner  \\\n",
       "0               Kia    5.0     20000.0             2022.0    1.0   \n",
       "1            Maruti    7.0     20687.0             2015.0    1.0   \n",
       "2            Nissan    5.0     30000.0             2021.0    1.0   \n",
       "3           Hyundai    5.0     59247.0             2015.0    1.0   \n",
       "4             Honda    5.0     50000.0             2015.0    1.0   \n",
       "...             ...    ...         ...                ...    ...   \n",
       "8727         Maruti    5.0     10000.0             2022.0    1.0   \n",
       "8728         Maruti    5.0    120000.0             2014.0    1.0   \n",
       "8729  Mercedes-Benz    5.0     50000.0             2011.0    3.0   \n",
       "8730         Maruti    5.0     40000.0             2012.0    1.0   \n",
       "8731        Renault    5.0    120000.0             2017.0    2.0   \n",
       "\n",
       "      Engine Displacement  modelYear  Year of Manufacture  Gearbox  Mileage  \\\n",
       "0                   998.0       2022                 2022      7.0    18.90   \n",
       "1                  1196.0       2015                 2015      5.0    15.37   \n",
       "2                   999.0       2021                 2021      5.0    20.00   \n",
       "3                  1086.0       2015                 2015      5.0    19.81   \n",
       "4                  1199.0       2015                 2015      5.0    18.70   \n",
       "...                   ...        ...                  ...      ...      ...   \n",
       "8727                998.0       2022                 2022      5.0    25.24   \n",
       "8728                796.0       2014                 2014      5.0    22.74   \n",
       "8729               1796.0       2011                 2011      7.0    11.74   \n",
       "8730               1197.0       2012                 2012      5.0    18.50   \n",
       "8731               1461.0       2017                 2017      6.0    19.72   \n",
       "\n",
       "         city    price  \n",
       "0     chennai  1150000  \n",
       "1     chennai   415000  \n",
       "2     chennai   750000  \n",
       "3     chennai   398000  \n",
       "4     chennai   550000  \n",
       "...       ...      ...  \n",
       "8727  kolkata   509999  \n",
       "8728  kolkata   180000  \n",
       "8729  kolkata   550000  \n",
       "8730  kolkata   140000  \n",
       "8731  kolkata   500000  \n",
       "\n",
       "[8732 rows x 17 columns]"
      ]
     },
     "execution_count": 288,
     "metadata": {},
     "output_type": "execute_result"
    }
   ],
   "source": [
    "new_car"
   ]
  },
  {
   "cell_type": "markdown",
   "metadata": {},
   "source": [
    "### Outlier removal"
   ]
  },
  {
   "cell_type": "code",
   "execution_count": 290,
   "metadata": {},
   "outputs": [
    {
     "data": {
      "text/plain": [
       "(8588, 17)"
      ]
     },
     "execution_count": 290,
     "metadata": {},
     "output_type": "execute_result"
    }
   ],
   "source": [
    "# Ensure all relevant columns are numerical\n",
    "numerical_cols_o = new_car.select_dtypes(include=['number']).columns\n",
    "\n",
    "# Calculate Q1 and Q3 for numerical columns\n",
    "Q1 = new_car[numerical_cols_o].quantile(0.05)\n",
    "Q3 = new_car[numerical_cols_o].quantile(0.95)\n",
    "\n",
    "# Calculate IQR for numerical columns\n",
    "IQR = Q3 - Q1\n",
    "\n",
    "# Remove outliers from numerical columns\n",
    "car_df = new_car[~((new_car[numerical_cols_o] < (Q1 - 1.5 * IQR)) |(new_car[numerical_cols_o] > (Q3 + 1.5 * IQR))).any(axis=1)]\n",
    "\n",
    "car_df.shape"
   ]
  },
  {
   "cell_type": "markdown",
   "metadata": {},
   "source": [
    "### LABEL ENCODING "
   ]
  },
  {
   "cell_type": "code",
   "execution_count": 291,
   "metadata": {},
   "outputs": [
    {
     "data": {
      "text/html": [
       "<div>\n",
       "<style scoped>\n",
       "    .dataframe tbody tr th:only-of-type {\n",
       "        vertical-align: middle;\n",
       "    }\n",
       "\n",
       "    .dataframe tbody tr th {\n",
       "        vertical-align: top;\n",
       "    }\n",
       "\n",
       "    .dataframe thead th {\n",
       "        text-align: right;\n",
       "    }\n",
       "</style>\n",
       "<table border=\"1\" class=\"dataframe\">\n",
       "  <thead>\n",
       "    <tr style=\"text-align: right;\">\n",
       "      <th></th>\n",
       "      <th>bodytype</th>\n",
       "      <th>fueltype</th>\n",
       "      <th>transmission</th>\n",
       "      <th>DriveType</th>\n",
       "      <th>Insurance</th>\n",
       "      <th>oem</th>\n",
       "      <th>seats</th>\n",
       "      <th>kms driven</th>\n",
       "      <th>Registration Year</th>\n",
       "      <th>owner</th>\n",
       "      <th>Engine Displacement</th>\n",
       "      <th>modelYear</th>\n",
       "      <th>Year of Manufacture</th>\n",
       "      <th>Gearbox</th>\n",
       "      <th>Mileage</th>\n",
       "      <th>city</th>\n",
       "      <th>price</th>\n",
       "    </tr>\n",
       "  </thead>\n",
       "  <tbody>\n",
       "    <tr>\n",
       "      <th>0</th>\n",
       "      <td>SUV</td>\n",
       "      <td>Petrol</td>\n",
       "      <td>Automatic</td>\n",
       "      <td>FWD</td>\n",
       "      <td>Third Party insurance</td>\n",
       "      <td>Kia</td>\n",
       "      <td>5.0</td>\n",
       "      <td>20000.0</td>\n",
       "      <td>2022.0</td>\n",
       "      <td>1.0</td>\n",
       "      <td>998.0</td>\n",
       "      <td>2022</td>\n",
       "      <td>2022</td>\n",
       "      <td>7.0</td>\n",
       "      <td>18.90</td>\n",
       "      <td>chennai</td>\n",
       "      <td>1150000</td>\n",
       "    </tr>\n",
       "    <tr>\n",
       "      <th>1</th>\n",
       "      <td>Minivans</td>\n",
       "      <td>Petrol</td>\n",
       "      <td>Manual</td>\n",
       "      <td>RWD</td>\n",
       "      <td>Comprehensive</td>\n",
       "      <td>Maruti</td>\n",
       "      <td>7.0</td>\n",
       "      <td>20687.0</td>\n",
       "      <td>2015.0</td>\n",
       "      <td>1.0</td>\n",
       "      <td>1196.0</td>\n",
       "      <td>2015</td>\n",
       "      <td>2015</td>\n",
       "      <td>5.0</td>\n",
       "      <td>15.37</td>\n",
       "      <td>chennai</td>\n",
       "      <td>415000</td>\n",
       "    </tr>\n",
       "    <tr>\n",
       "      <th>2</th>\n",
       "      <td>SUV</td>\n",
       "      <td>Petrol</td>\n",
       "      <td>Manual</td>\n",
       "      <td>FWD</td>\n",
       "      <td>Third Party insurance</td>\n",
       "      <td>Nissan</td>\n",
       "      <td>5.0</td>\n",
       "      <td>30000.0</td>\n",
       "      <td>2021.0</td>\n",
       "      <td>1.0</td>\n",
       "      <td>999.0</td>\n",
       "      <td>2021</td>\n",
       "      <td>2021</td>\n",
       "      <td>5.0</td>\n",
       "      <td>20.00</td>\n",
       "      <td>chennai</td>\n",
       "      <td>750000</td>\n",
       "    </tr>\n",
       "    <tr>\n",
       "      <th>3</th>\n",
       "      <td>Hatchback</td>\n",
       "      <td>Petrol</td>\n",
       "      <td>Manual</td>\n",
       "      <td>FWD</td>\n",
       "      <td>Comprehensive</td>\n",
       "      <td>Hyundai</td>\n",
       "      <td>5.0</td>\n",
       "      <td>59247.0</td>\n",
       "      <td>2015.0</td>\n",
       "      <td>1.0</td>\n",
       "      <td>1086.0</td>\n",
       "      <td>2015</td>\n",
       "      <td>2015</td>\n",
       "      <td>5.0</td>\n",
       "      <td>19.81</td>\n",
       "      <td>chennai</td>\n",
       "      <td>398000</td>\n",
       "    </tr>\n",
       "    <tr>\n",
       "      <th>4</th>\n",
       "      <td>Hatchback</td>\n",
       "      <td>Petrol</td>\n",
       "      <td>Manual</td>\n",
       "      <td>FWD</td>\n",
       "      <td>Third Party insurance</td>\n",
       "      <td>Honda</td>\n",
       "      <td>5.0</td>\n",
       "      <td>50000.0</td>\n",
       "      <td>2015.0</td>\n",
       "      <td>1.0</td>\n",
       "      <td>1199.0</td>\n",
       "      <td>2015</td>\n",
       "      <td>2015</td>\n",
       "      <td>5.0</td>\n",
       "      <td>18.70</td>\n",
       "      <td>chennai</td>\n",
       "      <td>550000</td>\n",
       "    </tr>\n",
       "  </tbody>\n",
       "</table>\n",
       "</div>"
      ],
      "text/plain": [
       "    bodytype fueltype transmission DriveType              Insurance      oem  \\\n",
       "0        SUV   Petrol    Automatic       FWD  Third Party insurance      Kia   \n",
       "1   Minivans   Petrol       Manual       RWD          Comprehensive   Maruti   \n",
       "2        SUV   Petrol       Manual       FWD  Third Party insurance   Nissan   \n",
       "3  Hatchback   Petrol       Manual       FWD          Comprehensive  Hyundai   \n",
       "4  Hatchback   Petrol       Manual       FWD  Third Party insurance    Honda   \n",
       "\n",
       "   seats  kms driven  Registration Year  owner  Engine Displacement  \\\n",
       "0    5.0     20000.0             2022.0    1.0                998.0   \n",
       "1    7.0     20687.0             2015.0    1.0               1196.0   \n",
       "2    5.0     30000.0             2021.0    1.0                999.0   \n",
       "3    5.0     59247.0             2015.0    1.0               1086.0   \n",
       "4    5.0     50000.0             2015.0    1.0               1199.0   \n",
       "\n",
       "   modelYear  Year of Manufacture  Gearbox  Mileage     city    price  \n",
       "0       2022                 2022      7.0    18.90  chennai  1150000  \n",
       "1       2015                 2015      5.0    15.37  chennai   415000  \n",
       "2       2021                 2021      5.0    20.00  chennai   750000  \n",
       "3       2015                 2015      5.0    19.81  chennai   398000  \n",
       "4       2015                 2015      5.0    18.70  chennai   550000  "
      ]
     },
     "execution_count": 291,
     "metadata": {},
     "output_type": "execute_result"
    }
   ],
   "source": [
    "car_df.head()"
   ]
  },
  {
   "cell_type": "markdown",
   "metadata": {},
   "source": [
    "### LABEL ENCODING - OEM  (car_df)"
   ]
  },
  {
   "cell_type": "code",
   "execution_count": 229,
   "metadata": {},
   "outputs": [
    {
     "name": "stdout",
     "output_type": "stream",
     "text": [
      "0: Kia -> 13\n",
      "1: Maruti -> 18\n",
      "2: Nissan -> 22\n",
      "3: Hyundai -> 9\n",
      "4: Honda -> 8\n",
      "5: Mercedes-Benz -> 19\n",
      "8: BMW -> 1\n",
      "9: Ford -> 6\n",
      "15: Tata -> 28\n",
      "16: Jeep -> 12\n",
      "18: Toyota -> 29\n",
      "28: Audi -> 0\n",
      "41: Mahindra -> 17\n",
      "42: Renault -> 25\n",
      "51: Chevrolet -> 2\n",
      "59: Volkswagen -> 30\n",
      "62: Datsun -> 4\n",
      "69: Fiat -> 5\n",
      "95: Land Rover -> 14\n",
      "101: MG -> 16\n",
      "146: Skoda -> 26\n",
      "323: Isuzu -> 10\n",
      "340: Mini -> 20\n",
      "349: Volvo -> 31\n",
      "452: Jaguar -> 11\n",
      "484: Citroen -> 3\n",
      "760: Mitsubishi -> 21\n",
      "1164: Ssangyong -> 27\n",
      "1317: Lexus -> 15\n",
      "2119: Opel -> 23\n",
      "3985: Hindustan Motors -> 7\n",
      "4590: Porsche -> 24\n"
     ]
    },
    {
     "name": "stderr",
     "output_type": "stream",
     "text": [
      "C:\\Users\\Srivathsan\\AppData\\Local\\Temp\\ipykernel_36320\\1922199170.py:4: SettingWithCopyWarning: \n",
      "A value is trying to be set on a copy of a slice from a DataFrame.\n",
      "Try using .loc[row_indexer,col_indexer] = value instead\n",
      "\n",
      "See the caveats in the documentation: https://pandas.pydata.org/pandas-docs/stable/user_guide/indexing.html#returning-a-view-versus-a-copy\n",
      "  car_df['oem_encoded1'] = le.fit_transform(car_df['oem'])\n"
     ]
    }
   ],
   "source": [
    "from sklearn.preprocessing import LabelEncoder\n",
    "le = LabelEncoder()\n",
    "# Fit and transform the categorical data\n",
    "car_df['oem_encoded1'] = le.fit_transform(car_df['oem'])\n",
    "# Display the encoded values using a for loop\n",
    "d_oem={}\n",
    "for  idx, (category, encoded) in enumerate(zip(car_df['oem'], car_df['oem_encoded1'])):\n",
    "    if(category in d_oem.keys()):\n",
    "        continue\n",
    "    d_oem[category]=encoded\n",
    "    print(f\"{idx}: {category} -> {encoded}\")\n",
    "\n"
   ]
  },
  {
   "cell_type": "markdown",
   "metadata": {},
   "source": [
    "### LABLE ENCODING - CITY "
   ]
  },
  {
   "cell_type": "code",
   "execution_count": 230,
   "metadata": {},
   "outputs": [
    {
     "name": "stdout",
     "output_type": "stream",
     "text": [
      "0: chennai -> 1\n",
      "1395: bengaluru -> 0\n",
      "2833: hyderabad -> 3\n",
      "4307: delhi -> 2\n",
      "5749: jaipur -> 4\n",
      "7222: kolkata -> 5\n"
     ]
    },
    {
     "name": "stderr",
     "output_type": "stream",
     "text": [
      "C:\\Users\\Srivathsan\\AppData\\Local\\Temp\\ipykernel_36320\\3011919757.py:3: SettingWithCopyWarning: \n",
      "A value is trying to be set on a copy of a slice from a DataFrame.\n",
      "Try using .loc[row_indexer,col_indexer] = value instead\n",
      "\n",
      "See the caveats in the documentation: https://pandas.pydata.org/pandas-docs/stable/user_guide/indexing.html#returning-a-view-versus-a-copy\n",
      "  car_df['city_encoded1'] = le.fit_transform(car_df['city'])\n"
     ]
    }
   ],
   "source": [
    "le = LabelEncoder()\n",
    "# Fit and transform the categorical data\n",
    "car_df['city_encoded1'] = le.fit_transform(car_df['city'])\n",
    "# Display the encoded values using a for loop\n",
    "d_city={}\n",
    "for  idx, (category, encoded) in enumerate(zip(car_df['city'], car_df['city_encoded1'])):\n",
    "    if(category in d_city.keys()):\n",
    "        continue\n",
    "    d_city[category]=encoded\n",
    "    print(f\"{idx}: {category} -> {encoded}\")\n",
    "\n"
   ]
  },
  {
   "cell_type": "markdown",
   "metadata": {},
   "source": [
    "### LABLE ENCODING - BODYTYPE"
   ]
  },
  {
   "cell_type": "code",
   "execution_count": 231,
   "metadata": {},
   "outputs": [
    {
     "name": "stdout",
     "output_type": "stream",
     "text": [
      "0: SUV -> 6\n",
      "1: Minivans -> 4\n",
      "3: Hatchback -> 2\n",
      "5: Sedan -> 7\n",
      "33: MUV -> 3\n",
      "1227: Coupe -> 1\n",
      "2302: Pickup Trucks -> 5\n",
      "2653: Convertibles -> 0\n",
      "4837: Wagon -> 8\n"
     ]
    },
    {
     "name": "stderr",
     "output_type": "stream",
     "text": [
      "C:\\Users\\Srivathsan\\AppData\\Local\\Temp\\ipykernel_36320\\4273968857.py:3: SettingWithCopyWarning: \n",
      "A value is trying to be set on a copy of a slice from a DataFrame.\n",
      "Try using .loc[row_indexer,col_indexer] = value instead\n",
      "\n",
      "See the caveats in the documentation: https://pandas.pydata.org/pandas-docs/stable/user_guide/indexing.html#returning-a-view-versus-a-copy\n",
      "  car_df['bodytype_encoded1'] = le.fit_transform(car_df['bodytype'])\n"
     ]
    }
   ],
   "source": [
    "le = LabelEncoder()\n",
    "# Fit and transform the categorical data\n",
    "car_df['bodytype_encoded1'] = le.fit_transform(car_df['bodytype'])\n",
    "# Display the encoded values using a for loop\n",
    "d_bodytype={}\n",
    "for  idx, (category, encoded) in enumerate(zip(car_df['bodytype'], car_df['bodytype_encoded1'])):\n",
    "    if(category in d_bodytype.keys()):\n",
    "        continue\n",
    "    d_bodytype[category]=encoded\n",
    "    print(f\"{idx}: {category} -> {encoded}\")\n",
    "\n"
   ]
  },
  {
   "cell_type": "markdown",
   "metadata": {},
   "source": [
    "### LABLE ENCODING - FUELTYPE"
   ]
  },
  {
   "cell_type": "code",
   "execution_count": 232,
   "metadata": {},
   "outputs": [
    {
     "name": "stdout",
     "output_type": "stream",
     "text": [
      "0: Petrol -> 4\n",
      "5: Diesel -> 1\n",
      "24: Electric -> 2\n",
      "177: Cng -> 0\n",
      "1421: Lpg -> 3\n"
     ]
    },
    {
     "name": "stderr",
     "output_type": "stream",
     "text": [
      "C:\\Users\\Srivathsan\\AppData\\Local\\Temp\\ipykernel_36320\\3755064207.py:3: SettingWithCopyWarning: \n",
      "A value is trying to be set on a copy of a slice from a DataFrame.\n",
      "Try using .loc[row_indexer,col_indexer] = value instead\n",
      "\n",
      "See the caveats in the documentation: https://pandas.pydata.org/pandas-docs/stable/user_guide/indexing.html#returning-a-view-versus-a-copy\n",
      "  car_df['fueltype_encoded1'] = le.fit_transform(car_df['fueltype'])\n"
     ]
    }
   ],
   "source": [
    "le = LabelEncoder()\n",
    "# Fit and transform the categorical data\n",
    "car_df['fueltype_encoded1'] = le.fit_transform(car_df['fueltype'])\n",
    "# Display the encoded values using a for loop\n",
    "d_fueltype={}\n",
    "for  idx, (category, encoded) in enumerate(zip(car_df['fueltype'], car_df['fueltype_encoded1'])):\n",
    "    if(category in d_fueltype.keys()):\n",
    "        continue\n",
    "    d_fueltype[category]=encoded\n",
    "    print(f\"{idx}: {category} -> {encoded}\")\n",
    "\n"
   ]
  },
  {
   "cell_type": "markdown",
   "metadata": {},
   "source": [
    "### LABLE  ENCODING - TRANSMISSION "
   ]
  },
  {
   "cell_type": "code",
   "execution_count": 233,
   "metadata": {},
   "outputs": [
    {
     "name": "stdout",
     "output_type": "stream",
     "text": [
      "0: Automatic -> 0\n",
      "1: Manual -> 1\n"
     ]
    },
    {
     "name": "stderr",
     "output_type": "stream",
     "text": [
      "C:\\Users\\Srivathsan\\AppData\\Local\\Temp\\ipykernel_36320\\3436804068.py:3: SettingWithCopyWarning: \n",
      "A value is trying to be set on a copy of a slice from a DataFrame.\n",
      "Try using .loc[row_indexer,col_indexer] = value instead\n",
      "\n",
      "See the caveats in the documentation: https://pandas.pydata.org/pandas-docs/stable/user_guide/indexing.html#returning-a-view-versus-a-copy\n",
      "  car_df['transmission_encoded1'] = le.fit_transform(car_df['transmission'])\n"
     ]
    }
   ],
   "source": [
    "le = LabelEncoder()\n",
    "# Fit and transform the categorical data\n",
    "car_df['transmission_encoded1'] = le.fit_transform(car_df['transmission'])\n",
    "# Display the encoded values using a for loop\n",
    "d_transmission={}\n",
    "for  idx, (category, encoded) in enumerate(zip(car_df['transmission'], car_df['transmission_encoded1'])):\n",
    "    if(category in d_transmission.keys()):\n",
    "        continue\n",
    "    d_transmission[category]=encoded\n",
    "    print(f\"{idx}: {category} -> {encoded}\")\n",
    "\n"
   ]
  },
  {
   "cell_type": "markdown",
   "metadata": {},
   "source": [
    "### LABLE ENCODING - DRIVETYPE"
   ]
  },
  {
   "cell_type": "code",
   "execution_count": 234,
   "metadata": {},
   "outputs": [
    {
     "name": "stdout",
     "output_type": "stream",
     "text": [
      "0: FWD -> 2\n",
      "1: RWD -> 3\n",
      "8: AWD -> 1\n",
      "16: 4WD -> 0\n"
     ]
    },
    {
     "name": "stderr",
     "output_type": "stream",
     "text": [
      "C:\\Users\\Srivathsan\\AppData\\Local\\Temp\\ipykernel_36320\\3507353685.py:3: SettingWithCopyWarning: \n",
      "A value is trying to be set on a copy of a slice from a DataFrame.\n",
      "Try using .loc[row_indexer,col_indexer] = value instead\n",
      "\n",
      "See the caveats in the documentation: https://pandas.pydata.org/pandas-docs/stable/user_guide/indexing.html#returning-a-view-versus-a-copy\n",
      "  car_df['DriveType_encoded1'] = le.fit_transform(car_df['DriveType'])\n"
     ]
    }
   ],
   "source": [
    "le = LabelEncoder()\n",
    "# Fit and transform the categorical data\n",
    "car_df['DriveType_encoded1'] = le.fit_transform(car_df['DriveType'])\n",
    "# Display the encoded values using a for loop\n",
    "d_drivetype={}\n",
    "for  idx, (category, encoded) in enumerate(zip(car_df['DriveType'], car_df['DriveType_encoded1'])):\n",
    "    if(category in d_drivetype.keys()):\n",
    "        continue\n",
    "    d_drivetype[category]=encoded\n",
    "    print(f\"{idx}: {category} -> {encoded}\")\n",
    "\n"
   ]
  },
  {
   "cell_type": "markdown",
   "metadata": {},
   "source": [
    "### LABLE ENCODING - INSURANCE"
   ]
  },
  {
   "cell_type": "code",
   "execution_count": 235,
   "metadata": {},
   "outputs": [
    {
     "name": "stdout",
     "output_type": "stream",
     "text": [
      "0: Third Party insurance -> 3\n",
      "1: Comprehensive -> 0\n",
      "26: Third Party -> 2\n",
      "64: Zero Dep -> 4\n",
      "1373: Not Available -> 1\n"
     ]
    },
    {
     "name": "stderr",
     "output_type": "stream",
     "text": [
      "C:\\Users\\Srivathsan\\AppData\\Local\\Temp\\ipykernel_36320\\1210543996.py:3: SettingWithCopyWarning: \n",
      "A value is trying to be set on a copy of a slice from a DataFrame.\n",
      "Try using .loc[row_indexer,col_indexer] = value instead\n",
      "\n",
      "See the caveats in the documentation: https://pandas.pydata.org/pandas-docs/stable/user_guide/indexing.html#returning-a-view-versus-a-copy\n",
      "  car_df['Insurance_encoded1'] = le.fit_transform(car_df['Insurance'])\n"
     ]
    }
   ],
   "source": [
    "le = LabelEncoder()\n",
    "# Fit and transform the categorical data\n",
    "car_df['Insurance_encoded1'] = le.fit_transform(car_df['Insurance'])\n",
    "# Display the encoded values using a for loop\n",
    "d_Insurance={}\n",
    "for  idx, (category, encoded) in enumerate(zip(car_df['Insurance'], car_df['Insurance_encoded1'])):\n",
    "    if(category in d_Insurance.keys()):\n",
    "        continue\n",
    "    d_Insurance[category]=encoded\n",
    "    print(f\"{idx}: {category} -> {encoded}\")\n",
    "\n"
   ]
  },
  {
   "cell_type": "code",
   "execution_count": null,
   "metadata": {},
   "outputs": [],
   "source": []
  },
  {
   "cell_type": "code",
   "execution_count": null,
   "metadata": {},
   "outputs": [],
   "source": []
  },
  {
   "cell_type": "code",
   "execution_count": 183,
   "metadata": {},
   "outputs": [
    {
     "data": {
      "text/html": [
       "<div>\n",
       "<style scoped>\n",
       "    .dataframe tbody tr th:only-of-type {\n",
       "        vertical-align: middle;\n",
       "    }\n",
       "\n",
       "    .dataframe tbody tr th {\n",
       "        vertical-align: top;\n",
       "    }\n",
       "\n",
       "    .dataframe thead th {\n",
       "        text-align: right;\n",
       "    }\n",
       "</style>\n",
       "<table border=\"1\" class=\"dataframe\">\n",
       "  <thead>\n",
       "    <tr style=\"text-align: right;\">\n",
       "      <th></th>\n",
       "      <th>bodytype</th>\n",
       "      <th>fueltype</th>\n",
       "      <th>transmission</th>\n",
       "      <th>DriveType</th>\n",
       "      <th>Insurance</th>\n",
       "      <th>oem</th>\n",
       "      <th>seats</th>\n",
       "      <th>kms driven</th>\n",
       "      <th>Registration Year</th>\n",
       "      <th>owner</th>\n",
       "      <th>...</th>\n",
       "      <th>Mileage</th>\n",
       "      <th>city</th>\n",
       "      <th>price</th>\n",
       "      <th>oem_encoded1</th>\n",
       "      <th>city_encoded1</th>\n",
       "      <th>bodytype_encoded1</th>\n",
       "      <th>fueltype_encoded1</th>\n",
       "      <th>transmission_encoded1</th>\n",
       "      <th>DriveType_encoded1</th>\n",
       "      <th>Insurance_encoded1</th>\n",
       "    </tr>\n",
       "  </thead>\n",
       "  <tbody>\n",
       "    <tr>\n",
       "      <th>0</th>\n",
       "      <td>SUV</td>\n",
       "      <td>Petrol</td>\n",
       "      <td>Automatic</td>\n",
       "      <td>FWD</td>\n",
       "      <td>Third Party insurance</td>\n",
       "      <td>Kia</td>\n",
       "      <td>5.0</td>\n",
       "      <td>20000.0</td>\n",
       "      <td>2022.0</td>\n",
       "      <td>1.0</td>\n",
       "      <td>...</td>\n",
       "      <td>18.90</td>\n",
       "      <td>chennai</td>\n",
       "      <td>1150000</td>\n",
       "      <td>13</td>\n",
       "      <td>1</td>\n",
       "      <td>6</td>\n",
       "      <td>4</td>\n",
       "      <td>0</td>\n",
       "      <td>2</td>\n",
       "      <td>3</td>\n",
       "    </tr>\n",
       "    <tr>\n",
       "      <th>1</th>\n",
       "      <td>Minivans</td>\n",
       "      <td>Petrol</td>\n",
       "      <td>Manual</td>\n",
       "      <td>RWD</td>\n",
       "      <td>Comprehensive</td>\n",
       "      <td>Maruti</td>\n",
       "      <td>7.0</td>\n",
       "      <td>20687.0</td>\n",
       "      <td>2015.0</td>\n",
       "      <td>1.0</td>\n",
       "      <td>...</td>\n",
       "      <td>15.37</td>\n",
       "      <td>chennai</td>\n",
       "      <td>415000</td>\n",
       "      <td>18</td>\n",
       "      <td>1</td>\n",
       "      <td>4</td>\n",
       "      <td>4</td>\n",
       "      <td>1</td>\n",
       "      <td>3</td>\n",
       "      <td>0</td>\n",
       "    </tr>\n",
       "    <tr>\n",
       "      <th>2</th>\n",
       "      <td>SUV</td>\n",
       "      <td>Petrol</td>\n",
       "      <td>Manual</td>\n",
       "      <td>FWD</td>\n",
       "      <td>Third Party insurance</td>\n",
       "      <td>Nissan</td>\n",
       "      <td>5.0</td>\n",
       "      <td>30000.0</td>\n",
       "      <td>2021.0</td>\n",
       "      <td>1.0</td>\n",
       "      <td>...</td>\n",
       "      <td>20.00</td>\n",
       "      <td>chennai</td>\n",
       "      <td>750000</td>\n",
       "      <td>22</td>\n",
       "      <td>1</td>\n",
       "      <td>6</td>\n",
       "      <td>4</td>\n",
       "      <td>1</td>\n",
       "      <td>2</td>\n",
       "      <td>3</td>\n",
       "    </tr>\n",
       "    <tr>\n",
       "      <th>3</th>\n",
       "      <td>Hatchback</td>\n",
       "      <td>Petrol</td>\n",
       "      <td>Manual</td>\n",
       "      <td>FWD</td>\n",
       "      <td>Comprehensive</td>\n",
       "      <td>Hyundai</td>\n",
       "      <td>5.0</td>\n",
       "      <td>59247.0</td>\n",
       "      <td>2015.0</td>\n",
       "      <td>1.0</td>\n",
       "      <td>...</td>\n",
       "      <td>19.81</td>\n",
       "      <td>chennai</td>\n",
       "      <td>398000</td>\n",
       "      <td>9</td>\n",
       "      <td>1</td>\n",
       "      <td>2</td>\n",
       "      <td>4</td>\n",
       "      <td>1</td>\n",
       "      <td>2</td>\n",
       "      <td>0</td>\n",
       "    </tr>\n",
       "    <tr>\n",
       "      <th>4</th>\n",
       "      <td>Hatchback</td>\n",
       "      <td>Petrol</td>\n",
       "      <td>Manual</td>\n",
       "      <td>FWD</td>\n",
       "      <td>Third Party insurance</td>\n",
       "      <td>Honda</td>\n",
       "      <td>5.0</td>\n",
       "      <td>50000.0</td>\n",
       "      <td>2015.0</td>\n",
       "      <td>1.0</td>\n",
       "      <td>...</td>\n",
       "      <td>18.70</td>\n",
       "      <td>chennai</td>\n",
       "      <td>550000</td>\n",
       "      <td>8</td>\n",
       "      <td>1</td>\n",
       "      <td>2</td>\n",
       "      <td>4</td>\n",
       "      <td>1</td>\n",
       "      <td>2</td>\n",
       "      <td>3</td>\n",
       "    </tr>\n",
       "  </tbody>\n",
       "</table>\n",
       "<p>5 rows × 24 columns</p>\n",
       "</div>"
      ],
      "text/plain": [
       "    bodytype fueltype transmission DriveType              Insurance      oem  \\\n",
       "0        SUV   Petrol    Automatic       FWD  Third Party insurance      Kia   \n",
       "1   Minivans   Petrol       Manual       RWD          Comprehensive   Maruti   \n",
       "2        SUV   Petrol       Manual       FWD  Third Party insurance   Nissan   \n",
       "3  Hatchback   Petrol       Manual       FWD          Comprehensive  Hyundai   \n",
       "4  Hatchback   Petrol       Manual       FWD  Third Party insurance    Honda   \n",
       "\n",
       "   seats  kms driven  Registration Year  owner  ...  Mileage     city  \\\n",
       "0    5.0     20000.0             2022.0    1.0  ...    18.90  chennai   \n",
       "1    7.0     20687.0             2015.0    1.0  ...    15.37  chennai   \n",
       "2    5.0     30000.0             2021.0    1.0  ...    20.00  chennai   \n",
       "3    5.0     59247.0             2015.0    1.0  ...    19.81  chennai   \n",
       "4    5.0     50000.0             2015.0    1.0  ...    18.70  chennai   \n",
       "\n",
       "     price  oem_encoded1  city_encoded1 bodytype_encoded1  fueltype_encoded1  \\\n",
       "0  1150000            13              1                 6                  4   \n",
       "1   415000            18              1                 4                  4   \n",
       "2   750000            22              1                 6                  4   \n",
       "3   398000             9              1                 2                  4   \n",
       "4   550000             8              1                 2                  4   \n",
       "\n",
       "   transmission_encoded1  DriveType_encoded1  Insurance_encoded1  \n",
       "0                      0                   2                   3  \n",
       "1                      1                   3                   0  \n",
       "2                      1                   2                   3  \n",
       "3                      1                   2                   0  \n",
       "4                      1                   2                   3  \n",
       "\n",
       "[5 rows x 24 columns]"
      ]
     },
     "execution_count": 183,
     "metadata": {},
     "output_type": "execute_result"
    }
   ],
   "source": [
    "car_df.head()"
   ]
  },
  {
   "cell_type": "code",
   "execution_count": 61,
   "metadata": {},
   "outputs": [
    {
     "data": {
      "text/plain": [
       "(8588, 24)"
      ]
     },
     "execution_count": 61,
     "metadata": {},
     "output_type": "execute_result"
    }
   ],
   "source": [
    "car_df.shape"
   ]
  },
  {
   "cell_type": "markdown",
   "metadata": {},
   "source": [
    "### NEW FEATURE"
   ]
  },
  {
   "cell_type": "code",
   "execution_count": 236,
   "metadata": {},
   "outputs": [],
   "source": [
    "new_feature = ['Gearbox','Year of Manufacture','modelYear','kms driven',\n",
    "'Mileage','owner','seats','Registration Year','Engine Displacement',\n",
    "'city_encoded1','oem_encoded1','bodytype_encoded1','fueltype_encoded1',\n",
    "'transmission_encoded1','DriveType_encoded1','Insurance_encoded1']"
   ]
  },
  {
   "cell_type": "code",
   "execution_count": 63,
   "metadata": {},
   "outputs": [
    {
     "data": {
      "text/plain": [
       "16"
      ]
     },
     "execution_count": 63,
     "metadata": {},
     "output_type": "execute_result"
    }
   ],
   "source": [
    "len(new_feature)"
   ]
  },
  {
   "cell_type": "code",
   "execution_count": 293,
   "metadata": {},
   "outputs": [],
   "source": [
    "numerical_columns = [\n",
    "    'seats', 'kms driven', 'Registration Year', 'owner',\n",
    "    'Engine Displacement', 'modelYear', 'Year of Manufacture', 'Gearbox',\n",
    "    'Mileage'\n",
    "]\n",
    "\n",
    "categorical_columns = [\n",
    "    'bodytype', 'fueltype', 'transmission', 'DriveType', 'Insurance', 'oem',\n",
    "    'city'\n",
    "]"
   ]
  },
  {
   "cell_type": "markdown",
   "metadata": {},
   "source": [
    "### TRAIN TEST SPLITTING OF DATA"
   ]
  },
  {
   "cell_type": "code",
   "execution_count": 295,
   "metadata": {},
   "outputs": [],
   "source": [
    "from sklearn.model_selection import train_test_split\n",
    "from sklearn.ensemble import RandomForestRegressor\n",
    "from sklearn.metrics import mean_squared_error\n",
    "from sklearn.metrics import r2_score\n",
    "X = car_df[numerical_columns + categorical_columns]\n",
    "y = car_df['price']"
   ]
  },
  {
   "cell_type": "code",
   "execution_count": 296,
   "metadata": {},
   "outputs": [
    {
     "name": "stderr",
     "output_type": "stream",
     "text": [
      "C:\\Users\\Srivathsan\\AppData\\Local\\Temp\\ipykernel_36320\\905755819.py:6: SettingWithCopyWarning: \n",
      "A value is trying to be set on a copy of a slice from a DataFrame.\n",
      "Try using .loc[row_indexer,col_indexer] = value instead\n",
      "\n",
      "See the caveats in the documentation: https://pandas.pydata.org/pandas-docs/stable/user_guide/indexing.html#returning-a-view-versus-a-copy\n",
      "  X[column] = le.fit_transform(X[column])\n",
      "C:\\Users\\Srivathsan\\AppData\\Local\\Temp\\ipykernel_36320\\905755819.py:6: SettingWithCopyWarning: \n",
      "A value is trying to be set on a copy of a slice from a DataFrame.\n",
      "Try using .loc[row_indexer,col_indexer] = value instead\n",
      "\n",
      "See the caveats in the documentation: https://pandas.pydata.org/pandas-docs/stable/user_guide/indexing.html#returning-a-view-versus-a-copy\n",
      "  X[column] = le.fit_transform(X[column])\n",
      "C:\\Users\\Srivathsan\\AppData\\Local\\Temp\\ipykernel_36320\\905755819.py:6: SettingWithCopyWarning: \n",
      "A value is trying to be set on a copy of a slice from a DataFrame.\n",
      "Try using .loc[row_indexer,col_indexer] = value instead\n",
      "\n",
      "See the caveats in the documentation: https://pandas.pydata.org/pandas-docs/stable/user_guide/indexing.html#returning-a-view-versus-a-copy\n",
      "  X[column] = le.fit_transform(X[column])\n",
      "C:\\Users\\Srivathsan\\AppData\\Local\\Temp\\ipykernel_36320\\905755819.py:6: SettingWithCopyWarning: \n",
      "A value is trying to be set on a copy of a slice from a DataFrame.\n",
      "Try using .loc[row_indexer,col_indexer] = value instead\n",
      "\n",
      "See the caveats in the documentation: https://pandas.pydata.org/pandas-docs/stable/user_guide/indexing.html#returning-a-view-versus-a-copy\n",
      "  X[column] = le.fit_transform(X[column])\n",
      "C:\\Users\\Srivathsan\\AppData\\Local\\Temp\\ipykernel_36320\\905755819.py:6: SettingWithCopyWarning: \n",
      "A value is trying to be set on a copy of a slice from a DataFrame.\n",
      "Try using .loc[row_indexer,col_indexer] = value instead\n",
      "\n",
      "See the caveats in the documentation: https://pandas.pydata.org/pandas-docs/stable/user_guide/indexing.html#returning-a-view-versus-a-copy\n",
      "  X[column] = le.fit_transform(X[column])\n",
      "C:\\Users\\Srivathsan\\AppData\\Local\\Temp\\ipykernel_36320\\905755819.py:6: SettingWithCopyWarning: \n",
      "A value is trying to be set on a copy of a slice from a DataFrame.\n",
      "Try using .loc[row_indexer,col_indexer] = value instead\n",
      "\n",
      "See the caveats in the documentation: https://pandas.pydata.org/pandas-docs/stable/user_guide/indexing.html#returning-a-view-versus-a-copy\n",
      "  X[column] = le.fit_transform(X[column])\n",
      "C:\\Users\\Srivathsan\\AppData\\Local\\Temp\\ipykernel_36320\\905755819.py:6: SettingWithCopyWarning: \n",
      "A value is trying to be set on a copy of a slice from a DataFrame.\n",
      "Try using .loc[row_indexer,col_indexer] = value instead\n",
      "\n",
      "See the caveats in the documentation: https://pandas.pydata.org/pandas-docs/stable/user_guide/indexing.html#returning-a-view-versus-a-copy\n",
      "  X[column] = le.fit_transform(X[column])\n"
     ]
    }
   ],
   "source": [
    "from sklearn.preprocessing import LabelEncoder\n",
    "# Encode categorical columns using LabelEncoder\n",
    "label_encoders = {}\n",
    "for column in categorical_columns:\n",
    "    le = LabelEncoder()\n",
    "    X[column] = le.fit_transform(X[column])\n",
    "    label_encoders[column] = le"
   ]
  },
  {
   "cell_type": "code",
   "execution_count": 299,
   "metadata": {},
   "outputs": [
    {
     "name": "stderr",
     "output_type": "stream",
     "text": [
      "C:\\Users\\Srivathsan\\AppData\\Local\\Temp\\ipykernel_36320\\1313723292.py:4: SettingWithCopyWarning: \n",
      "A value is trying to be set on a copy of a slice from a DataFrame.\n",
      "Try using .loc[row_indexer,col_indexer] = value instead\n",
      "\n",
      "See the caveats in the documentation: https://pandas.pydata.org/pandas-docs/stable/user_guide/indexing.html#returning-a-view-versus-a-copy\n",
      "  X[numerical_columns] = scaler.fit_transform(X[numerical_columns])\n"
     ]
    }
   ],
   "source": [
    "from sklearn.preprocessing import MinMaxScaler, LabelEncoder\n",
    "# Scale numerical columns\n",
    "scaler = MinMaxScaler()\n",
    "X[numerical_columns] = scaler.fit_transform(X[numerical_columns])"
   ]
  },
  {
   "cell_type": "code",
   "execution_count": 300,
   "metadata": {},
   "outputs": [
    {
     "data": {
      "text/plain": [
       "((6011, 16), (2577, 16), (6011,), (2577,))"
      ]
     },
     "execution_count": 300,
     "metadata": {},
     "output_type": "execute_result"
    }
   ],
   "source": [
    "\n",
    "X_train, X_test, y_train, y_test = train_test_split(X, y, test_size=0.3, random_state=42)\n",
    "X_train.shape, X_test.shape, y_train.shape, y_test.shape"
   ]
  },
  {
   "cell_type": "code",
   "execution_count": 301,
   "metadata": {},
   "outputs": [
    {
     "data": {
      "text/html": [
       "<div>\n",
       "<style scoped>\n",
       "    .dataframe tbody tr th:only-of-type {\n",
       "        vertical-align: middle;\n",
       "    }\n",
       "\n",
       "    .dataframe tbody tr th {\n",
       "        vertical-align: top;\n",
       "    }\n",
       "\n",
       "    .dataframe thead th {\n",
       "        text-align: right;\n",
       "    }\n",
       "</style>\n",
       "<table border=\"1\" class=\"dataframe\">\n",
       "  <thead>\n",
       "    <tr style=\"text-align: right;\">\n",
       "      <th></th>\n",
       "      <th>seats</th>\n",
       "      <th>kms driven</th>\n",
       "      <th>Registration Year</th>\n",
       "      <th>owner</th>\n",
       "      <th>Engine Displacement</th>\n",
       "      <th>modelYear</th>\n",
       "      <th>Year of Manufacture</th>\n",
       "      <th>Gearbox</th>\n",
       "      <th>Mileage</th>\n",
       "      <th>bodytype</th>\n",
       "      <th>fueltype</th>\n",
       "      <th>transmission</th>\n",
       "      <th>DriveType</th>\n",
       "      <th>Insurance</th>\n",
       "      <th>oem</th>\n",
       "      <th>city</th>\n",
       "    </tr>\n",
       "  </thead>\n",
       "  <tbody>\n",
       "    <tr>\n",
       "      <th>289</th>\n",
       "      <td>0.375</td>\n",
       "      <td>0.118354</td>\n",
       "      <td>0.857143</td>\n",
       "      <td>0.333333</td>\n",
       "      <td>0.290034</td>\n",
       "      <td>0.857143</td>\n",
       "      <td>0.857143</td>\n",
       "      <td>0.166667</td>\n",
       "      <td>0.294186</td>\n",
       "      <td>2</td>\n",
       "      <td>4</td>\n",
       "      <td>0</td>\n",
       "      <td>2</td>\n",
       "      <td>0</td>\n",
       "      <td>8</td>\n",
       "      <td>1</td>\n",
       "    </tr>\n",
       "    <tr>\n",
       "      <th>6658</th>\n",
       "      <td>0.375</td>\n",
       "      <td>0.341135</td>\n",
       "      <td>0.821429</td>\n",
       "      <td>0.333333</td>\n",
       "      <td>0.301887</td>\n",
       "      <td>0.785714</td>\n",
       "      <td>0.821429</td>\n",
       "      <td>0.166667</td>\n",
       "      <td>0.470120</td>\n",
       "      <td>6</td>\n",
       "      <td>1</td>\n",
       "      <td>1</td>\n",
       "      <td>2</td>\n",
       "      <td>1</td>\n",
       "      <td>6</td>\n",
       "      <td>4</td>\n",
       "    </tr>\n",
       "    <tr>\n",
       "      <th>6485</th>\n",
       "      <td>0.375</td>\n",
       "      <td>0.461538</td>\n",
       "      <td>0.857143</td>\n",
       "      <td>1.000000</td>\n",
       "      <td>0.327286</td>\n",
       "      <td>0.642857</td>\n",
       "      <td>0.857143</td>\n",
       "      <td>0.500000</td>\n",
       "      <td>0.245155</td>\n",
       "      <td>2</td>\n",
       "      <td>1</td>\n",
       "      <td>1</td>\n",
       "      <td>2</td>\n",
       "      <td>0</td>\n",
       "      <td>9</td>\n",
       "      <td>4</td>\n",
       "    </tr>\n",
       "    <tr>\n",
       "      <th>2635</th>\n",
       "      <td>0.375</td>\n",
       "      <td>0.216254</td>\n",
       "      <td>0.857143</td>\n",
       "      <td>0.333333</td>\n",
       "      <td>0.362119</td>\n",
       "      <td>0.857143</td>\n",
       "      <td>0.857143</td>\n",
       "      <td>0.333333</td>\n",
       "      <td>0.346101</td>\n",
       "      <td>6</td>\n",
       "      <td>1</td>\n",
       "      <td>1</td>\n",
       "      <td>2</td>\n",
       "      <td>3</td>\n",
       "      <td>17</td>\n",
       "      <td>0</td>\n",
       "    </tr>\n",
       "    <tr>\n",
       "      <th>5285</th>\n",
       "      <td>0.375</td>\n",
       "      <td>0.096346</td>\n",
       "      <td>0.857143</td>\n",
       "      <td>0.333333</td>\n",
       "      <td>0.289550</td>\n",
       "      <td>0.857143</td>\n",
       "      <td>0.857143</td>\n",
       "      <td>0.166667</td>\n",
       "      <td>0.386479</td>\n",
       "      <td>2</td>\n",
       "      <td>4</td>\n",
       "      <td>1</td>\n",
       "      <td>2</td>\n",
       "      <td>4</td>\n",
       "      <td>18</td>\n",
       "      <td>2</td>\n",
       "    </tr>\n",
       "  </tbody>\n",
       "</table>\n",
       "</div>"
      ],
      "text/plain": [
       "      seats  kms driven  Registration Year     owner  Engine Displacement  \\\n",
       "289   0.375    0.118354           0.857143  0.333333             0.290034   \n",
       "6658  0.375    0.341135           0.821429  0.333333             0.301887   \n",
       "6485  0.375    0.461538           0.857143  1.000000             0.327286   \n",
       "2635  0.375    0.216254           0.857143  0.333333             0.362119   \n",
       "5285  0.375    0.096346           0.857143  0.333333             0.289550   \n",
       "\n",
       "      modelYear  Year of Manufacture   Gearbox   Mileage  bodytype  fueltype  \\\n",
       "289    0.857143             0.857143  0.166667  0.294186         2         4   \n",
       "6658   0.785714             0.821429  0.166667  0.470120         6         1   \n",
       "6485   0.642857             0.857143  0.500000  0.245155         2         1   \n",
       "2635   0.857143             0.857143  0.333333  0.346101         6         1   \n",
       "5285   0.857143             0.857143  0.166667  0.386479         2         4   \n",
       "\n",
       "      transmission  DriveType  Insurance  oem  city  \n",
       "289              0          2          0    8     1  \n",
       "6658             1          2          1    6     4  \n",
       "6485             1          2          0    9     4  \n",
       "2635             1          2          3   17     0  \n",
       "5285             1          2          4   18     2  "
      ]
     },
     "execution_count": 301,
     "metadata": {},
     "output_type": "execute_result"
    }
   ],
   "source": [
    "X_train.head()"
   ]
  },
  {
   "cell_type": "markdown",
   "metadata": {},
   "source": [
    "### LINEAR REGRESSION MODEL "
   ]
  },
  {
   "cell_type": "code",
   "execution_count": 302,
   "metadata": {},
   "outputs": [
    {
     "data": {
      "text/plain": [
       "array([ 697218.31853746,  303430.25664627,  972342.92814687, ...,\n",
       "        637263.89974607, -184022.58998207,  158032.93087568])"
      ]
     },
     "execution_count": 302,
     "metadata": {},
     "output_type": "execute_result"
    }
   ],
   "source": [
    "from sklearn.linear_model import LinearRegression\n",
    "\n",
    "# Initialize the model\n",
    "models = LinearRegression()\n",
    "\n",
    "# Fit the model on the training data\n",
    "models.fit(X_train, y_train)\n",
    "\n",
    "# Optionally, you can make predictions on the test set\n",
    "y_pred = models.predict(X_test)\n",
    "\n",
    "# Display predictions (optional)\n",
    "y_pred\n"
   ]
  },
  {
   "cell_type": "code",
   "execution_count": 303,
   "metadata": {},
   "outputs": [
    {
     "name": "stdout",
     "output_type": "stream",
     "text": [
      "Mean Absolute Error (MAE): 334762.348079\n",
      "Mean Squared Error (MSE): 324217150990.55\n",
      "R-squared: 0.6444\n",
      "Root Mean Squared Error: 569400.6945820735\n"
     ]
    }
   ],
   "source": [
    "from sklearn import metrics\n",
    "import numpy as np\n",
    "from sklearn.metrics import mean_absolute_error, mean_squared_error, r2_score\n",
    "\n",
    "# Calculate evaluation metrics\n",
    "mae = mean_absolute_error(y_test, y_pred)\n",
    "mse = mean_squared_error(y_test, y_pred)\n",
    "r2 = r2_score(y_test, y_pred)\n",
    "\n",
    "# for evaluation / accuracy--  prediction + y_test\n",
    "# Display the results\n",
    "print(f\"Mean Absolute Error (MAE): {mae:f}\")\n",
    "print(f\"Mean Squared Error (MSE): {mse:.2f}\")\n",
    "print(f\"R-squared: {r2:.4f}\")\n",
    "print('Root Mean Squared Error:', np.sqrt(metrics.mean_squared_error(y_test, y_pred)))"
   ]
  },
  {
   "cell_type": "markdown",
   "metadata": {},
   "source": [
    "### RANDOM FOREST\n"
   ]
  },
  {
   "cell_type": "code",
   "execution_count": 304,
   "metadata": {},
   "outputs": [
    {
     "name": "stdout",
     "output_type": "stream",
     "text": [
      "Mean Squared Error: 324217150990.5477\n",
      "root mean square : 0.8936238926352156\n",
      "Mean Absolute Error (MAE): 147028.14\n",
      "Root Mean Squared Error: 311448.15638306056\n"
     ]
    }
   ],
   "source": [
    "from sklearn.model_selection import train_test_split\n",
    "from sklearn.ensemble import RandomForestRegressor\n",
    "from sklearn.metrics import mean_squared_error\n",
    "from sklearn.metrics import r2_score\n",
    "\n",
    "\n",
    "model = RandomForestRegressor(random_state=42,n_estimators=350,max_depth=50)\n",
    "model.fit(X_train, y_train)\n",
    "\n",
    "y_pred = model.predict(X_test)\n",
    "mean_squared_error(y_test, y_pred)\n",
    "print(f'Mean Squared Error: {mse}')\n",
    "print('root mean square :',r2_score(y_test, y_pred))\n",
    "a=mean_absolute_error(y_test, y_pred)\n",
    "print(f\"Mean Absolute Error (MAE): {a:.2f}\")\n",
    "print('Root Mean Squared Error:', np.sqrt(metrics.mean_squared_error(y_test, y_pred)))"
   ]
  },
  {
   "cell_type": "code",
   "execution_count": 305,
   "metadata": {},
   "outputs": [
    {
     "data": {
      "text/html": [
       "<div>\n",
       "<style scoped>\n",
       "    .dataframe tbody tr th:only-of-type {\n",
       "        vertical-align: middle;\n",
       "    }\n",
       "\n",
       "    .dataframe tbody tr th {\n",
       "        vertical-align: top;\n",
       "    }\n",
       "\n",
       "    .dataframe thead th {\n",
       "        text-align: right;\n",
       "    }\n",
       "</style>\n",
       "<table border=\"1\" class=\"dataframe\">\n",
       "  <thead>\n",
       "    <tr style=\"text-align: right;\">\n",
       "      <th></th>\n",
       "      <th>Feature</th>\n",
       "      <th>Importance</th>\n",
       "    </tr>\n",
       "  </thead>\n",
       "  <tbody>\n",
       "    <tr>\n",
       "      <th>7</th>\n",
       "      <td>Gearbox</td>\n",
       "      <td>0.394587</td>\n",
       "    </tr>\n",
       "    <tr>\n",
       "      <th>4</th>\n",
       "      <td>Engine Displacement</td>\n",
       "      <td>0.160956</td>\n",
       "    </tr>\n",
       "    <tr>\n",
       "      <th>5</th>\n",
       "      <td>modelYear</td>\n",
       "      <td>0.113504</td>\n",
       "    </tr>\n",
       "    <tr>\n",
       "      <th>11</th>\n",
       "      <td>transmission</td>\n",
       "      <td>0.050685</td>\n",
       "    </tr>\n",
       "    <tr>\n",
       "      <th>14</th>\n",
       "      <td>oem</td>\n",
       "      <td>0.048766</td>\n",
       "    </tr>\n",
       "    <tr>\n",
       "      <th>9</th>\n",
       "      <td>bodytype</td>\n",
       "      <td>0.047293</td>\n",
       "    </tr>\n",
       "    <tr>\n",
       "      <th>1</th>\n",
       "      <td>kms driven</td>\n",
       "      <td>0.041982</td>\n",
       "    </tr>\n",
       "    <tr>\n",
       "      <th>2</th>\n",
       "      <td>Registration Year</td>\n",
       "      <td>0.035390</td>\n",
       "    </tr>\n",
       "    <tr>\n",
       "      <th>8</th>\n",
       "      <td>Mileage</td>\n",
       "      <td>0.032953</td>\n",
       "    </tr>\n",
       "    <tr>\n",
       "      <th>6</th>\n",
       "      <td>Year of Manufacture</td>\n",
       "      <td>0.031512</td>\n",
       "    </tr>\n",
       "    <tr>\n",
       "      <th>15</th>\n",
       "      <td>city</td>\n",
       "      <td>0.013476</td>\n",
       "    </tr>\n",
       "    <tr>\n",
       "      <th>10</th>\n",
       "      <td>fueltype</td>\n",
       "      <td>0.009048</td>\n",
       "    </tr>\n",
       "    <tr>\n",
       "      <th>12</th>\n",
       "      <td>DriveType</td>\n",
       "      <td>0.006968</td>\n",
       "    </tr>\n",
       "    <tr>\n",
       "      <th>0</th>\n",
       "      <td>seats</td>\n",
       "      <td>0.004860</td>\n",
       "    </tr>\n",
       "    <tr>\n",
       "      <th>13</th>\n",
       "      <td>Insurance</td>\n",
       "      <td>0.004841</td>\n",
       "    </tr>\n",
       "    <tr>\n",
       "      <th>3</th>\n",
       "      <td>owner</td>\n",
       "      <td>0.003179</td>\n",
       "    </tr>\n",
       "  </tbody>\n",
       "</table>\n",
       "</div>"
      ],
      "text/plain": [
       "                Feature  Importance\n",
       "7               Gearbox    0.394587\n",
       "4   Engine Displacement    0.160956\n",
       "5             modelYear    0.113504\n",
       "11         transmission    0.050685\n",
       "14                  oem    0.048766\n",
       "9              bodytype    0.047293\n",
       "1            kms driven    0.041982\n",
       "2     Registration Year    0.035390\n",
       "8               Mileage    0.032953\n",
       "6   Year of Manufacture    0.031512\n",
       "15                 city    0.013476\n",
       "10             fueltype    0.009048\n",
       "12            DriveType    0.006968\n",
       "0                 seats    0.004860\n",
       "13            Insurance    0.004841\n",
       "3                 owner    0.003179"
      ]
     },
     "execution_count": 305,
     "metadata": {},
     "output_type": "execute_result"
    }
   ],
   "source": [
    "importances = model.feature_importances_\n",
    "feature_importances = pd.DataFrame({'Feature': X.columns, 'Importance': importances})\n",
    "feature_importances = feature_importances.sort_values(by='Importance', ascending=False)\n",
    "feature_importances"
   ]
  },
  {
   "cell_type": "markdown",
   "metadata": {},
   "source": [
    "### XG BOOST"
   ]
  },
  {
   "cell_type": "code",
   "execution_count": 307,
   "metadata": {},
   "outputs": [
    {
     "name": "stdout",
     "output_type": "stream",
     "text": [
      "Fitting 5 folds for each of 972 candidates, totalling 4860 fits\n"
     ]
    },
    {
     "name": "stderr",
     "output_type": "stream",
     "text": [
      "C:\\Users\\Srivathsan\\AppData\\Roaming\\Python\\Python312\\site-packages\\numpy\\ma\\core.py:2820: RuntimeWarning: invalid value encountered in cast\n",
      "  _data = np.array(data, dtype=dtype, copy=copy,\n"
     ]
    },
    {
     "name": "stdout",
     "output_type": "stream",
     "text": [
      "XGBoost Tuned Results:\n",
      "Best Parameters: {'colsample_bytree': 1.0, 'gamma': 0, 'learning_rate': 0.3, 'max_depth': 4, 'n_estimators': 300, 'subsample': 0.8}\n",
      "Mean Squared Error: 73375104239.5194\n",
      "R-squared Score: 0.9195\n",
      "Root Mean Squared Error: 270878.3938\n"
     ]
    }
   ],
   "source": [
    "import xgboost as xgb\n",
    "from sklearn.model_selection import train_test_split, GridSearchCV\n",
    "from sklearn.metrics import mean_squared_error, r2_score\n",
    "import numpy as np\n",
    "import joblib\n",
    "\n",
    "# Assuming X and y are your features and target variable\n",
    "\n",
    "# Create the XGBoost model\n",
    "xgb_model = xgb.XGBRegressor(random_state=42)\n",
    "\n",
    "# Define the hyperparameters to tune\n",
    "param_grid = {\n",
    "    'n_estimators': [100, 200, 300],\n",
    "    'max_depth': [3, 4, 5, 6],\n",
    "    'learning_rate': [0.01, 0.1, 0.3],\n",
    "    'subsample': [0.8, 0.9, 1.0],\n",
    "    'colsample_bytree': [0.8, 0.9, 1.0],\n",
    "    'gamma': [0, 0.1, 0.2]\n",
    "}\n",
    "\n",
    "# Set up GridSearchCV\n",
    "grid_search = GridSearchCV(estimator=xgb_model, param_grid=param_grid, \n",
    "                           cv=5, n_jobs=-1, verbose=2, scoring='r2')\n",
    "\n",
    "# Fit the grid search\n",
    "grid_search.fit(X_train, y_train)\n",
    "\n",
    "# Get the best parameters and model\n",
    "best_params = grid_search.best_params_\n",
    "best_model = grid_search.best_estimator_\n",
    "\n",
    "# Make predictions with the best model\n",
    "y_pred = best_model.predict(X_test)\n",
    "\n",
    "# Calculate metrics\n",
    "mse = mean_squared_error(y_test, y_pred)\n",
    "r2 = r2_score(y_test, y_pred)\n",
    "rmse = np.sqrt(mse)\n",
    "\n",
    "# Print results\n",
    "print(\"XGBoost Tuned Results:\")\n",
    "print(f\"Best Parameters: {best_params}\")\n",
    "print(f\"Mean Squared Error: {mse:.4f}\")\n",
    "print(f\"R-squared Score: {r2:.4f}\")\n",
    "print(f\"Root Mean Squared Error: {rmse:.4f}\")\n",
    "\n"
   ]
  },
  {
   "cell_type": "markdown",
   "metadata": {},
   "source": [
    "### Gradient boosting\n"
   ]
  },
  {
   "cell_type": "code",
   "execution_count": 308,
   "metadata": {},
   "outputs": [
    {
     "name": "stdout",
     "output_type": "stream",
     "text": [
      "Gradient Boosting Regressor Results:\n",
      "Mean Squared Error: 109675905117.5027\n",
      "R-squared Score: 0.8797\n",
      "Mean Absolute Error: 182189.7927\n",
      "Root Mean Squared Error: 331173.5272\n"
     ]
    }
   ],
   "source": [
    "from sklearn.ensemble import GradientBoostingRegressor\n",
    "from sklearn.model_selection import train_test_split\n",
    "from sklearn.metrics import mean_squared_error, r2_score, mean_absolute_error\n",
    "import numpy as np\n",
    "\n",
    "# Assuming X and y are your features and target variable\n",
    "\n",
    "# Create and train the Gradient Boosting model\n",
    "gb_model = GradientBoostingRegressor(n_estimators=100, learning_rate=0.1, max_depth=3, random_state=42)\n",
    "gb_model.fit(X_train, y_train)\n",
    "\n",
    "# Make predictions\n",
    "y_pred = gb_model.predict(X_test)\n",
    "\n",
    "# Calculate metrics\n",
    "mse = mean_squared_error(y_test, y_pred)\n",
    "r2 = r2_score(y_test, y_pred)\n",
    "mae = mean_absolute_error(y_test, y_pred)\n",
    "rmse = np.sqrt(mse)\n",
    "\n",
    "# Print results\n",
    "print(\"Gradient Boosting Regressor Results:\")\n",
    "print(f\"Mean Squared Error: {mse:.4f}\")\n",
    "print(f\"R-squared Score: {r2:.4f}\")\n",
    "print(f\"Mean Absolute Error: {mae:.4f}\")\n",
    "print(f\"Root Mean Squared Error: {rmse:.4f}\")\n"
   ]
  },
  {
   "cell_type": "code",
   "execution_count": 309,
   "metadata": {},
   "outputs": [
    {
     "name": "stdout",
     "output_type": "stream",
     "text": [
      "Feature seats: 0.0026\n",
      "Feature kms driven: 0.0299\n",
      "Feature Registration Year: 0.0301\n",
      "Feature owner: 0.0008\n",
      "Feature Engine Displacement: 0.2010\n",
      "Feature modelYear: 0.1302\n",
      "Feature Year of Manufacture: 0.0099\n",
      "Feature Gearbox: 0.3781\n",
      "Feature Mileage: 0.0063\n",
      "Feature bodytype: 0.0494\n",
      "Feature fueltype: 0.0130\n",
      "Feature transmission: 0.0767\n",
      "Feature DriveType: 0.0059\n",
      "Feature Insurance: 0.0004\n",
      "Feature oem: 0.0537\n",
      "Feature city: 0.0118\n"
     ]
    }
   ],
   "source": [
    "\n",
    "# Feature importance\n",
    "feature_importance = gb_model.feature_importances_\n",
    "for i, importance in enumerate(feature_importance):\n",
    "    print(f\"Feature {X.columns[i]}: {importance:.4f}\")"
   ]
  },
  {
   "cell_type": "markdown",
   "metadata": {},
   "source": [
    "### Comparison"
   ]
  },
  {
   "cell_type": "code",
   "execution_count": 247,
   "metadata": {},
   "outputs": [
    {
     "name": "stdout",
     "output_type": "stream",
     "text": [
      "\n",
      "Linear Regression Results:\n",
      "MSE: 324217150990.5476\n",
      "R2: 0.6444\n",
      "MAE: 334762.3481\n",
      "RMSE: 569400.6946\n",
      "\n",
      "Random Forest Results:\n",
      "MSE: 99672591965.0746\n",
      "R2: 0.8907\n",
      "MAE: 148594.7951\n",
      "RMSE: 315709.6640\n",
      "\n",
      "XGBoost Results:\n",
      "MSE: 76607192594.6108\n",
      "R2: 0.9160\n",
      "MAE: 137780.6653\n",
      "RMSE: 276780.0437\n",
      "\n",
      "Gradient Boosting Results:\n",
      "MSE: 110871094858.6388\n",
      "R2: 0.8784\n",
      "MAE: 182045.6071\n",
      "RMSE: 332973.1143\n",
      "\n",
      "Best model based on R2 score: XGBoost\n"
     ]
    }
   ],
   "source": [
    "from sklearn.linear_model import LinearRegression, ElasticNet\n",
    "from sklearn.ensemble import RandomForestRegressor, GradientBoostingRegressor\n",
    "from sklearn.svm import SVR\n",
    "from sklearn.neighbors import KNeighborsRegressor\n",
    "from sklearn.model_selection import train_test_split\n",
    "from sklearn.metrics import mean_squared_error, r2_score, mean_absolute_error\n",
    "from sklearn.preprocessing import MinMaxScaler\n",
    "import numpy as np\n",
    "import xgboost as xgb\n",
    "\n",
    "def compare_models(X, y):\n",
    "    # Split the data first\n",
    "    X_train, X_test, y_train, y_test = train_test_split(X, y, test_size=0.3, random_state=42)\n",
    "    \n",
    "    # Scale the features using MinMaxScaler\n",
    "    scaler = MinMaxScaler()\n",
    "    X_train_scaled = scaler.fit_transform(X_train)\n",
    "    X_test_scaled = scaler.transform(X_test)\n",
    "    \n",
    "    # Initialize models\n",
    "    models = {\n",
    "        'Linear Regression': LinearRegression(),\n",
    "        'Random Forest': RandomForestRegressor(random_state=42),\n",
    "        'XGBoost': xgb.XGBRegressor(random_state=42, colsample_bytree=1.0, gamma=0, learning_rate=0.3, max_depth=5, n_estimators=300, subsample=0.8),\n",
    "        'Gradient Boosting': GradientBoostingRegressor(random_state=42),\n",
    "        \n",
    "    }\n",
    "    \n",
    "    # Dictionary to store results\n",
    "    results = {}\n",
    "    \n",
    "    for name, model in models.items():\n",
    "        # Train the model\n",
    "        model.fit(X_train_scaled, y_train)\n",
    "        y_pred = model.predict(X_test_scaled)\n",
    "        \n",
    "        # Calculate metrics\n",
    "        mse = mean_squared_error(y_test, y_pred)\n",
    "        r2 = r2_score(y_test, y_pred)\n",
    "        mae = mean_absolute_error(y_test, y_pred)\n",
    "        rmse = np.sqrt(mse)\n",
    "        \n",
    "        # Store results\n",
    "        results[name] = {\n",
    "            'MSE': mse,\n",
    "            'R2': r2,\n",
    "            'MAE': mae,\n",
    "            'RMSE': rmse\n",
    "        }\n",
    "    \n",
    "    # Print results\n",
    "    for name, metrics in results.items():\n",
    "        print(f\"\\n{name} Results:\")\n",
    "        for metric, value in metrics.items():\n",
    "            print(f\"{metric}: {value:.4f}\")\n",
    "    \n",
    "    # Determine the best model\n",
    "    best_model = max(results, key=lambda x: results[x]['R2'])\n",
    "    print(f\"\\nBest model based on R2 score: {best_model}\")\n",
    "    \n",
    "    return results\n",
    "\n",
    "# Usage\n",
    "results = compare_models(X, y)"
   ]
  },
  {
   "cell_type": "markdown",
   "metadata": {},
   "source": [
    "### MODEL PICKLING"
   ]
  },
  {
   "cell_type": "code",
   "execution_count": 313,
   "metadata": {},
   "outputs": [
    {
     "data": {
      "text/plain": [
       "['gradientboost.pkl']"
      ]
     },
     "execution_count": 313,
     "metadata": {},
     "output_type": "execute_result"
    }
   ],
   "source": [
    "import joblib\n",
    "\n",
    "joblib.dump(gb_model, 'gradientboost.pkl')\n",
    "#joblib.dump(model, 'xgb_model.pkl')"
   ]
  },
  {
   "cell_type": "code",
   "execution_count": 312,
   "metadata": {},
   "outputs": [
    {
     "data": {
      "text/plain": [
       "['linarreg.pkl']"
      ]
     },
     "execution_count": 312,
     "metadata": {},
     "output_type": "execute_result"
    }
   ],
   "source": [
    "import joblib\n",
    "\n",
    "joblib.dump(models, 'linarreg.pkl')\n",
    "#joblib.dump(model, 'xgb_model.pkl')"
   ]
  },
  {
   "cell_type": "code",
   "execution_count": 311,
   "metadata": {},
   "outputs": [
    {
     "data": {
      "text/plain": [
       "['randomforest.pkl']"
      ]
     },
     "execution_count": 311,
     "metadata": {},
     "output_type": "execute_result"
    }
   ],
   "source": [
    "import joblib\n",
    "\n",
    "joblib.dump(model, 'randomforest.pkl')\n",
    "#joblib.dump(model, 'xgb_model.pkl')"
   ]
  },
  {
   "cell_type": "code",
   "execution_count": 310,
   "metadata": {},
   "outputs": [
    {
     "data": {
      "text/plain": [
       "['best_xgb_model.pkl']"
      ]
     },
     "execution_count": 310,
     "metadata": {},
     "output_type": "execute_result"
    }
   ],
   "source": [
    "import joblib\n",
    "\n",
    "joblib.dump(best_model, 'best_xgb_model.pkl')\n",
    "#joblib.dump(model, 'xgb_model.pkl')"
   ]
  },
  {
   "cell_type": "code",
   "execution_count": 249,
   "metadata": {},
   "outputs": [],
   "source": [
    "# import pickle\n",
    "\n",
    "# # ... (your existing code for encoding categorical data)\n",
    "\n",
    "# # Pickle each dictionary separately\n",
    "# for dictionary_name, dictionary in [(\"d_city\", d_city), (\"d_bodytype\", d_bodytype), (\"d_fueltype\", d_fueltype), (\"d_oem\", d_oem), (\"d_Insurance\", d_Insurance), (\"d_DriveType\", d_drivetype), (\"d_transmission\", d_transmission)]:\n",
    "#     filename = f\"{dictionary_name}.pkl\"\n",
    "#     with open(filename, \"wb\") as f:\n",
    "#         pickle.dump(dictionary, f)"
   ]
  },
  {
   "cell_type": "markdown",
   "metadata": {},
   "source": []
  },
  {
   "cell_type": "code",
   "execution_count": 314,
   "metadata": {},
   "outputs": [
    {
     "data": {
      "text/plain": [
       "['scaler.pkl']"
      ]
     },
     "execution_count": 314,
     "metadata": {},
     "output_type": "execute_result"
    }
   ],
   "source": [
    "from sklearn.preprocessing import MinMaxScaler\n",
    "import joblib\n",
    "\n",
    "\n",
    "joblib.dump(scaler, 'scaler.pkl')  # Save the scaler"
   ]
  }
 ],
 "metadata": {
  "kernelspec": {
   "display_name": "Python 3",
   "language": "python",
   "name": "python3"
  },
  "language_info": {
   "codemirror_mode": {
    "name": "ipython",
    "version": 3
   },
   "file_extension": ".py",
   "mimetype": "text/x-python",
   "name": "python",
   "nbconvert_exporter": "python",
   "pygments_lexer": "ipython3",
   "version": "3.12.4"
  }
 },
 "nbformat": 4,
 "nbformat_minor": 2
}
