{
 "cells": [
  {
   "cell_type": "code",
   "execution_count": 1,
   "metadata": {},
   "outputs": [],
   "source": [
    "import pandas as pd\n",
    "\n"
   ]
  },
  {
   "cell_type": "code",
   "execution_count": 202,
   "metadata": {},
   "outputs": [],
   "source": [
    "car=pd.read_csv('cars.csv')"
   ]
  },
  {
   "cell_type": "code",
   "execution_count": 203,
   "metadata": {},
   "outputs": [
    {
     "data": {
      "text/html": [
       "<div>\n",
       "<style scoped>\n",
       "    .dataframe tbody tr th:only-of-type {\n",
       "        vertical-align: middle;\n",
       "    }\n",
       "\n",
       "    .dataframe tbody tr th {\n",
       "        vertical-align: top;\n",
       "    }\n",
       "\n",
       "    .dataframe thead th {\n",
       "        text-align: right;\n",
       "    }\n",
       "</style>\n",
       "<table border=\"1\" class=\"dataframe\">\n",
       "  <thead>\n",
       "    <tr style=\"text-align: right;\">\n",
       "      <th></th>\n",
       "      <th>it</th>\n",
       "      <th>ft</th>\n",
       "      <th>bt</th>\n",
       "      <th>km</th>\n",
       "      <th>transmission</th>\n",
       "      <th>ownerNo</th>\n",
       "      <th>owner</th>\n",
       "      <th>oem</th>\n",
       "      <th>model</th>\n",
       "      <th>modelYear</th>\n",
       "      <th>...</th>\n",
       "      <th>Engine and Transmission - Super Charger</th>\n",
       "      <th>Dimensions &amp; Capacity - Front Tread</th>\n",
       "      <th>Dimensions &amp; Capacity - Rear Tread</th>\n",
       "      <th>Dimensions &amp; Capacity - Gross Weight</th>\n",
       "      <th>Miscellaneous - Turning Radius</th>\n",
       "      <th>Miscellaneous - Top Speed</th>\n",
       "      <th>Miscellaneous - Acceleration</th>\n",
       "      <th>Engine and Transmission - BoreX Stroke</th>\n",
       "      <th>Dimensions &amp; Capacity - Ground Clearance Unladen</th>\n",
       "      <th>city</th>\n",
       "    </tr>\n",
       "  </thead>\n",
       "  <tbody>\n",
       "    <tr>\n",
       "      <th>0</th>\n",
       "      <td>0</td>\n",
       "      <td>Petrol</td>\n",
       "      <td>SUV</td>\n",
       "      <td>20,000</td>\n",
       "      <td>Automatic</td>\n",
       "      <td>1</td>\n",
       "      <td>1st Owner</td>\n",
       "      <td>Kia</td>\n",
       "      <td>Kia Sonet</td>\n",
       "      <td>2022</td>\n",
       "      <td>...</td>\n",
       "      <td>NaN</td>\n",
       "      <td>NaN</td>\n",
       "      <td>NaN</td>\n",
       "      <td>NaN</td>\n",
       "      <td>NaN</td>\n",
       "      <td>NaN</td>\n",
       "      <td>NaN</td>\n",
       "      <td>NaN</td>\n",
       "      <td>NaN</td>\n",
       "      <td>chennai</td>\n",
       "    </tr>\n",
       "    <tr>\n",
       "      <th>1</th>\n",
       "      <td>0</td>\n",
       "      <td>Petrol</td>\n",
       "      <td>Minivans</td>\n",
       "      <td>20,687</td>\n",
       "      <td>Manual</td>\n",
       "      <td>1</td>\n",
       "      <td>1st Owner</td>\n",
       "      <td>Maruti</td>\n",
       "      <td>Maruti Eeco</td>\n",
       "      <td>2015</td>\n",
       "      <td>...</td>\n",
       "      <td>No</td>\n",
       "      <td>1280mm</td>\n",
       "      <td>1290mm</td>\n",
       "      <td>1540kg</td>\n",
       "      <td>4.5 metres</td>\n",
       "      <td>145 Kmph</td>\n",
       "      <td>15.7 Seconds</td>\n",
       "      <td>NaN</td>\n",
       "      <td>NaN</td>\n",
       "      <td>chennai</td>\n",
       "    </tr>\n",
       "    <tr>\n",
       "      <th>2</th>\n",
       "      <td>0</td>\n",
       "      <td>Petrol</td>\n",
       "      <td>SUV</td>\n",
       "      <td>30,000</td>\n",
       "      <td>Manual</td>\n",
       "      <td>1</td>\n",
       "      <td>1st Owner</td>\n",
       "      <td>Nissan</td>\n",
       "      <td>Nissan Magnite</td>\n",
       "      <td>2021</td>\n",
       "      <td>...</td>\n",
       "      <td>No</td>\n",
       "      <td>NaN</td>\n",
       "      <td>NaN</td>\n",
       "      <td>NaN</td>\n",
       "      <td>5.0</td>\n",
       "      <td>NaN</td>\n",
       "      <td>11.7</td>\n",
       "      <td>72.2 x 81.3</td>\n",
       "      <td>NaN</td>\n",
       "      <td>chennai</td>\n",
       "    </tr>\n",
       "    <tr>\n",
       "      <th>3</th>\n",
       "      <td>0</td>\n",
       "      <td>Petrol</td>\n",
       "      <td>Hatchback</td>\n",
       "      <td>59,247</td>\n",
       "      <td>Manual</td>\n",
       "      <td>1</td>\n",
       "      <td>1st Owner</td>\n",
       "      <td>Hyundai</td>\n",
       "      <td>Hyundai i10</td>\n",
       "      <td>2015</td>\n",
       "      <td>...</td>\n",
       "      <td>No</td>\n",
       "      <td>1400mm</td>\n",
       "      <td>1385mm</td>\n",
       "      <td>NaN</td>\n",
       "      <td>4.7 metres</td>\n",
       "      <td>165 Kmph</td>\n",
       "      <td>14.3 Seconds</td>\n",
       "      <td>NaN</td>\n",
       "      <td>NaN</td>\n",
       "      <td>chennai</td>\n",
       "    </tr>\n",
       "    <tr>\n",
       "      <th>4</th>\n",
       "      <td>0</td>\n",
       "      <td>Petrol</td>\n",
       "      <td>Hatchback</td>\n",
       "      <td>50,000</td>\n",
       "      <td>Manual</td>\n",
       "      <td>1</td>\n",
       "      <td>1st Owner</td>\n",
       "      <td>Honda</td>\n",
       "      <td>Honda Jazz</td>\n",
       "      <td>2015</td>\n",
       "      <td>...</td>\n",
       "      <td>No</td>\n",
       "      <td>NaN</td>\n",
       "      <td>NaN</td>\n",
       "      <td>NaN</td>\n",
       "      <td>5.1 meters</td>\n",
       "      <td>172 Kmph</td>\n",
       "      <td>13.7 Seconds</td>\n",
       "      <td>NaN</td>\n",
       "      <td>NaN</td>\n",
       "      <td>chennai</td>\n",
       "    </tr>\n",
       "  </tbody>\n",
       "</table>\n",
       "<p>5 rows × 78 columns</p>\n",
       "</div>"
      ],
      "text/plain": [
       "   it      ft         bt      km transmission  ownerNo      owner      oem  \\\n",
       "0   0  Petrol        SUV  20,000    Automatic        1  1st Owner      Kia   \n",
       "1   0  Petrol   Minivans  20,687       Manual        1  1st Owner   Maruti   \n",
       "2   0  Petrol        SUV  30,000       Manual        1  1st Owner   Nissan   \n",
       "3   0  Petrol  Hatchback  59,247       Manual        1  1st Owner  Hyundai   \n",
       "4   0  Petrol  Hatchback  50,000       Manual        1  1st Owner    Honda   \n",
       "\n",
       "            model  modelYear  ...  Engine and Transmission - Super Charger  \\\n",
       "0       Kia Sonet       2022  ...                                      NaN   \n",
       "1     Maruti Eeco       2015  ...                                       No   \n",
       "2  Nissan Magnite       2021  ...                                       No   \n",
       "3     Hyundai i10       2015  ...                                       No   \n",
       "4      Honda Jazz       2015  ...                                       No   \n",
       "\n",
       "  Dimensions & Capacity - Front Tread Dimensions & Capacity - Rear Tread  \\\n",
       "0                                 NaN                                NaN   \n",
       "1                              1280mm                             1290mm   \n",
       "2                                 NaN                                NaN   \n",
       "3                              1400mm                             1385mm   \n",
       "4                                 NaN                                NaN   \n",
       "\n",
       "  Dimensions & Capacity - Gross Weight  Miscellaneous - Turning Radius  \\\n",
       "0                                  NaN                             NaN   \n",
       "1                               1540kg                      4.5 metres   \n",
       "2                                  NaN                             5.0   \n",
       "3                                  NaN                      4.7 metres   \n",
       "4                                  NaN                      5.1 meters   \n",
       "\n",
       "   Miscellaneous - Top Speed Miscellaneous - Acceleration  \\\n",
       "0                        NaN                          NaN   \n",
       "1                   145 Kmph                 15.7 Seconds   \n",
       "2                        NaN                         11.7   \n",
       "3                   165 Kmph                 14.3 Seconds   \n",
       "4                   172 Kmph                 13.7 Seconds   \n",
       "\n",
       "  Engine and Transmission - BoreX Stroke  \\\n",
       "0                                    NaN   \n",
       "1                                    NaN   \n",
       "2                            72.2 x 81.3   \n",
       "3                                    NaN   \n",
       "4                                    NaN   \n",
       "\n",
       "  Dimensions & Capacity - Ground Clearance Unladen     city  \n",
       "0                                              NaN  chennai  \n",
       "1                                              NaN  chennai  \n",
       "2                                              NaN  chennai  \n",
       "3                                              NaN  chennai  \n",
       "4                                              NaN  chennai  \n",
       "\n",
       "[5 rows x 78 columns]"
      ]
     },
     "execution_count": 203,
     "metadata": {},
     "output_type": "execute_result"
    }
   ],
   "source": [
    "car.head()\n"
   ]
  },
  {
   "cell_type": "code",
   "execution_count": 204,
   "metadata": {},
   "outputs": [
    {
     "name": "stdout",
     "output_type": "stream",
     "text": [
      "<class 'pandas.core.frame.DataFrame'>\n",
      "RangeIndex: 8732 entries, 0 to 8731\n",
      "Data columns (total 78 columns):\n",
      " #   Column                                            Non-Null Count  Dtype  \n",
      "---  ------                                            --------------  -----  \n",
      " 0   it                                                8732 non-null   int64  \n",
      " 1   ft                                                8732 non-null   object \n",
      " 2   bt                                                8726 non-null   object \n",
      " 3   km                                                8732 non-null   object \n",
      " 4   transmission                                      8732 non-null   object \n",
      " 5   ownerNo                                           8732 non-null   int64  \n",
      " 6   owner                                             8732 non-null   object \n",
      " 7   oem                                               8732 non-null   object \n",
      " 8   model                                             8732 non-null   object \n",
      " 9   modelYear                                         8732 non-null   int64  \n",
      " 10  centralVariantId                                  8732 non-null   int64  \n",
      " 11  variantName                                       8732 non-null   object \n",
      " 12  price                                             8732 non-null   object \n",
      " 13  priceActual                                       1997 non-null   object \n",
      " 14  priceSaving                                       0 non-null      float64\n",
      " 15  priceFixedText                                    0 non-null      float64\n",
      " 16  trendingText                                      8732 non-null   object \n",
      " 17  heading                                           8369 non-null   object \n",
      " 18  Registration Year                                 8317 non-null   object \n",
      " 19  Insurance Validity                                8365 non-null   object \n",
      " 20  Fuel Type                                         8369 non-null   object \n",
      " 21  Seats                                             8363 non-null   object \n",
      " 22  Kms Driven                                        8367 non-null   object \n",
      " 23  RTO                                               7475 non-null   object \n",
      " 24  Ownership                                         8337 non-null   object \n",
      " 25  Engine Displacement                               8365 non-null   object \n",
      " 26  Transmission                                      8369 non-null   object \n",
      " 27  Year of Manufacture                               8349 non-null   float64\n",
      " 28  heading.1                                         8369 non-null   object \n",
      " 29  top_features                                      8304 non-null   object \n",
      " 30  Comfort & Convenience - Comfort                   8301 non-null   object \n",
      " 31  Interior - Interior                               8292 non-null   object \n",
      " 32  Exterior - Exterior                               8279 non-null   object \n",
      " 33  Safety - Safety                                   8273 non-null   object \n",
      " 34  Entertainment & Communication - Entertainment     7274 non-null   object \n",
      " 35  heading.2                                         8369 non-null   object \n",
      " 36  Engine                                            8365 non-null   object \n",
      " 37  Max Power                                         8309 non-null   object \n",
      " 38  Torque                                            8309 non-null   object \n",
      " 39  Wheel Size                                        5386 non-null   object \n",
      " 40  Seats.1                                           8363 non-null   float64\n",
      " 41  Engine and Transmission - Color                   8366 non-null   object \n",
      " 42  Engine and Transmission - Engine Type             8074 non-null   object \n",
      " 43  Engine and Transmission - Displacement            8365 non-null   float64\n",
      " 44  Engine and Transmission - Max Power               8309 non-null   object \n",
      " 45  Engine and Transmission - Max Torque              8309 non-null   object \n",
      " 46  Engine and Transmission - No of Cylinder          8338 non-null   float64\n",
      " 47  Engine and Transmission - Values per Cylinder     8318 non-null   float64\n",
      " 48  Engine and Transmission - Fuel Suppy System       6642 non-null   object \n",
      " 49  Engine and Transmission - Turbo Charger           7329 non-null   object \n",
      " 50  Dimensions & Capacity - Length                    8290 non-null   object \n",
      " 51  Dimensions & Capacity - Width                     8286 non-null   object \n",
      " 52  Dimensions & Capacity - Height                    8290 non-null   object \n",
      " 53  Dimensions & Capacity - Wheel Base                8206 non-null   object \n",
      " 54  Dimensions & Capacity - Kerb Weight               8310 non-null   object \n",
      " 55  Miscellaneous - Gear Box                          8263 non-null   object \n",
      " 56  Miscellaneous - Drive Type                        6809 non-null   object \n",
      " 57  Miscellaneous - Seating Capacity                  8363 non-null   float64\n",
      " 58  Miscellaneous - Steering Type                     8114 non-null   object \n",
      " 59  Miscellaneous - Front Brake Type                  8273 non-null   object \n",
      " 60  Miscellaneous - Rear Brake Type                   8273 non-null   object \n",
      " 61  Miscellaneous - Tyre Type                         8292 non-null   object \n",
      " 62  Miscellaneous - Alloy Wheel Size                  5386 non-null   object \n",
      " 63  Miscellaneous - No Door Numbers                   8358 non-null   float64\n",
      " 64  Miscellaneous - Cargo Volumn                      6776 non-null   object \n",
      " 65  Mileage                                           8082 non-null   object \n",
      " 66  Engine and Transmission - Value Configuration     6153 non-null   object \n",
      " 67  Engine and Transmission - Compression Ratio       1895 non-null   object \n",
      " 68  Engine and Transmission - Super Charger           6407 non-null   object \n",
      " 69  Dimensions & Capacity - Front Tread               4811 non-null   object \n",
      " 70  Dimensions & Capacity - Rear Tread                4799 non-null   object \n",
      " 71  Dimensions & Capacity - Gross Weight              3828 non-null   object \n",
      " 72  Miscellaneous - Turning Radius                    6769 non-null   object \n",
      " 73  Miscellaneous - Top Speed                         4607 non-null   object \n",
      " 74  Miscellaneous - Acceleration                      4857 non-null   object \n",
      " 75  Engine and Transmission - BoreX Stroke            2405 non-null   object \n",
      " 76  Dimensions & Capacity - Ground Clearance Unladen  515 non-null    object \n",
      " 77  city                                              8732 non-null   object \n",
      "dtypes: float64(9), int64(4), object(65)\n",
      "memory usage: 5.2+ MB\n"
     ]
    }
   ],
   "source": [
    "car.info()"
   ]
  },
  {
   "cell_type": "code",
   "execution_count": 205,
   "metadata": {},
   "outputs": [
    {
     "data": {
      "text/plain": [
       "it                                                     0\n",
       "ft                                                     0\n",
       "bt                                                     6\n",
       "km                                                     0\n",
       "transmission                                           0\n",
       "                                                    ... \n",
       "Miscellaneous - Top Speed                           4125\n",
       "Miscellaneous - Acceleration                        3875\n",
       "Engine and Transmission - BoreX Stroke              6327\n",
       "Dimensions & Capacity - Ground Clearance Unladen    8217\n",
       "city                                                   0\n",
       "Length: 78, dtype: int64"
      ]
     },
     "execution_count": 205,
     "metadata": {},
     "output_type": "execute_result"
    }
   ],
   "source": [
    "car.isna().sum()"
   ]
  },
  {
   "cell_type": "code",
   "execution_count": 206,
   "metadata": {},
   "outputs": [
    {
     "data": {
      "text/plain": [
       "(8732, 78)"
      ]
     },
     "execution_count": 206,
     "metadata": {},
     "output_type": "execute_result"
    }
   ],
   "source": [
    "car.shape"
   ]
  },
  {
   "cell_type": "code",
   "execution_count": 207,
   "metadata": {},
   "outputs": [
    {
     "name": "stdout",
     "output_type": "stream",
     "text": [
      "<class 'pandas.core.frame.DataFrame'>\n",
      "RangeIndex: 8732 entries, 0 to 8731\n",
      "Data columns (total 78 columns):\n",
      " #   Column                                            Non-Null Count  Dtype  \n",
      "---  ------                                            --------------  -----  \n",
      " 0   it                                                8732 non-null   int64  \n",
      " 1   ft                                                8732 non-null   object \n",
      " 2   bt                                                8726 non-null   object \n",
      " 3   km                                                8732 non-null   object \n",
      " 4   transmission                                      8732 non-null   object \n",
      " 5   ownerNo                                           8732 non-null   int64  \n",
      " 6   owner                                             8732 non-null   object \n",
      " 7   oem                                               8732 non-null   object \n",
      " 8   model                                             8732 non-null   object \n",
      " 9   modelYear                                         8732 non-null   int64  \n",
      " 10  centralVariantId                                  8732 non-null   int64  \n",
      " 11  variantName                                       8732 non-null   object \n",
      " 12  price                                             8732 non-null   object \n",
      " 13  priceActual                                       1997 non-null   object \n",
      " 14  priceSaving                                       0 non-null      float64\n",
      " 15  priceFixedText                                    0 non-null      float64\n",
      " 16  trendingText                                      8732 non-null   object \n",
      " 17  heading                                           8369 non-null   object \n",
      " 18  Registration Year                                 8317 non-null   object \n",
      " 19  Insurance Validity                                8365 non-null   object \n",
      " 20  Fuel Type                                         8369 non-null   object \n",
      " 21  Seats                                             8363 non-null   object \n",
      " 22  Kms Driven                                        8367 non-null   object \n",
      " 23  RTO                                               7475 non-null   object \n",
      " 24  Ownership                                         8337 non-null   object \n",
      " 25  Engine Displacement                               8365 non-null   object \n",
      " 26  Transmission                                      8369 non-null   object \n",
      " 27  Year of Manufacture                               8349 non-null   float64\n",
      " 28  heading.1                                         8369 non-null   object \n",
      " 29  top_features                                      8304 non-null   object \n",
      " 30  Comfort & Convenience - Comfort                   8301 non-null   object \n",
      " 31  Interior - Interior                               8292 non-null   object \n",
      " 32  Exterior - Exterior                               8279 non-null   object \n",
      " 33  Safety - Safety                                   8273 non-null   object \n",
      " 34  Entertainment & Communication - Entertainment     7274 non-null   object \n",
      " 35  heading.2                                         8369 non-null   object \n",
      " 36  Engine                                            8365 non-null   object \n",
      " 37  Max Power                                         8309 non-null   object \n",
      " 38  Torque                                            8309 non-null   object \n",
      " 39  Wheel Size                                        5386 non-null   object \n",
      " 40  Seats.1                                           8363 non-null   float64\n",
      " 41  Engine and Transmission - Color                   8366 non-null   object \n",
      " 42  Engine and Transmission - Engine Type             8074 non-null   object \n",
      " 43  Engine and Transmission - Displacement            8365 non-null   float64\n",
      " 44  Engine and Transmission - Max Power               8309 non-null   object \n",
      " 45  Engine and Transmission - Max Torque              8309 non-null   object \n",
      " 46  Engine and Transmission - No of Cylinder          8338 non-null   float64\n",
      " 47  Engine and Transmission - Values per Cylinder     8318 non-null   float64\n",
      " 48  Engine and Transmission - Fuel Suppy System       6642 non-null   object \n",
      " 49  Engine and Transmission - Turbo Charger           7329 non-null   object \n",
      " 50  Dimensions & Capacity - Length                    8290 non-null   object \n",
      " 51  Dimensions & Capacity - Width                     8286 non-null   object \n",
      " 52  Dimensions & Capacity - Height                    8290 non-null   object \n",
      " 53  Dimensions & Capacity - Wheel Base                8206 non-null   object \n",
      " 54  Dimensions & Capacity - Kerb Weight               8310 non-null   object \n",
      " 55  Miscellaneous - Gear Box                          8263 non-null   object \n",
      " 56  Miscellaneous - Drive Type                        6809 non-null   object \n",
      " 57  Miscellaneous - Seating Capacity                  8363 non-null   float64\n",
      " 58  Miscellaneous - Steering Type                     8114 non-null   object \n",
      " 59  Miscellaneous - Front Brake Type                  8273 non-null   object \n",
      " 60  Miscellaneous - Rear Brake Type                   8273 non-null   object \n",
      " 61  Miscellaneous - Tyre Type                         8292 non-null   object \n",
      " 62  Miscellaneous - Alloy Wheel Size                  5386 non-null   object \n",
      " 63  Miscellaneous - No Door Numbers                   8358 non-null   float64\n",
      " 64  Miscellaneous - Cargo Volumn                      6776 non-null   object \n",
      " 65  Mileage                                           8082 non-null   object \n",
      " 66  Engine and Transmission - Value Configuration     6153 non-null   object \n",
      " 67  Engine and Transmission - Compression Ratio       1895 non-null   object \n",
      " 68  Engine and Transmission - Super Charger           6407 non-null   object \n",
      " 69  Dimensions & Capacity - Front Tread               4811 non-null   object \n",
      " 70  Dimensions & Capacity - Rear Tread                4799 non-null   object \n",
      " 71  Dimensions & Capacity - Gross Weight              3828 non-null   object \n",
      " 72  Miscellaneous - Turning Radius                    6769 non-null   object \n",
      " 73  Miscellaneous - Top Speed                         4607 non-null   object \n",
      " 74  Miscellaneous - Acceleration                      4857 non-null   object \n",
      " 75  Engine and Transmission - BoreX Stroke            2405 non-null   object \n",
      " 76  Dimensions & Capacity - Ground Clearance Unladen  515 non-null    object \n",
      " 77  city                                              8732 non-null   object \n",
      "dtypes: float64(9), int64(4), object(65)\n",
      "memory usage: 5.2+ MB\n"
     ]
    }
   ],
   "source": [
    "car.info()"
   ]
  },
  {
   "cell_type": "code",
   "execution_count": 208,
   "metadata": {},
   "outputs": [
    {
     "data": {
      "text/plain": [
       "array(['SUV', 'Minivans', 'Hatchback', 'Sedan', 'MUV', 'Hybrids', 'Coupe',\n",
       "       'Pickup Trucks', 'Convertibles', nan, 'Wagon'], dtype=object)"
      ]
     },
     "execution_count": 208,
     "metadata": {},
     "output_type": "execute_result"
    }
   ],
   "source": [
    "car['bt'].unique()"
   ]
  },
  {
   "cell_type": "markdown",
   "metadata": {},
   "source": [
    "#### body type - bt - handling missing values"
   ]
  },
  {
   "cell_type": "code",
   "execution_count": 209,
   "metadata": {},
   "outputs": [
    {
     "name": "stdout",
     "output_type": "stream",
     "text": [
      "['SUV' 'Minivans' 'Hatchback' 'Sedan' 'MUV' 'Hybrids' 'Coupe'\n",
      " 'Pickup Trucks' 'Convertibles' 'Wagon']\n",
      "0\n"
     ]
    },
    {
     "name": "stderr",
     "output_type": "stream",
     "text": [
      "C:\\Users\\Srivathsan\\AppData\\Local\\Temp\\ipykernel_3068\\3652493162.py:5: FutureWarning: A value is trying to be set on a copy of a DataFrame or Series through chained assignment using an inplace method.\n",
      "The behavior will change in pandas 3.0. This inplace method will never work because the intermediate object on which we are setting values always behaves as a copy.\n",
      "\n",
      "For example, when doing 'df[col].method(value, inplace=True)', try using 'df.method({col: value}, inplace=True)' or df[col] = df[col].method(value) instead, to perform the operation inplace on the original object.\n",
      "\n",
      "\n",
      "  car['bt'].fillna(bt_mode, inplace=True)\n"
     ]
    }
   ],
   "source": [
    "# Find the mode (most frequent category) in 'bt'\n",
    "bt_mode = car['bt'].mode()[0]\n",
    "\n",
    "# Impute missing values with the mode\n",
    "car['bt'].fillna(bt_mode, inplace=True)\n",
    "\n",
    "print(car['bt'].unique())  # To check the unique values after imputation\n",
    "print(car['bt'].isnull().sum())  # Verify no missing values remain\n"
   ]
  },
  {
   "cell_type": "code",
   "execution_count": 210,
   "metadata": {},
   "outputs": [
    {
     "data": {
      "text/plain": [
       "it                                                     0\n",
       "ft                                                     0\n",
       "bt                                                     0\n",
       "km                                                     0\n",
       "transmission                                           0\n",
       "                                                    ... \n",
       "Miscellaneous - Top Speed                           4125\n",
       "Miscellaneous - Acceleration                        3875\n",
       "Engine and Transmission - BoreX Stroke              6327\n",
       "Dimensions & Capacity - Ground Clearance Unladen    8217\n",
       "city                                                   0\n",
       "Length: 78, dtype: int64"
      ]
     },
     "execution_count": 210,
     "metadata": {},
     "output_type": "execute_result"
    }
   ],
   "source": [
    "car.isna().sum()"
   ]
  },
  {
   "cell_type": "code",
   "execution_count": 211,
   "metadata": {},
   "outputs": [
    {
     "data": {
      "text/plain": [
       "415"
      ]
     },
     "execution_count": 211,
     "metadata": {},
     "output_type": "execute_result"
    }
   ],
   "source": [
    "car['Registration Year'].isna().sum()"
   ]
  },
  {
   "cell_type": "code",
   "execution_count": 212,
   "metadata": {},
   "outputs": [
    {
     "data": {
      "text/plain": [
       "367"
      ]
     },
     "execution_count": 212,
     "metadata": {},
     "output_type": "execute_result"
    }
   ],
   "source": [
    "car['Insurance Validity'].isna().sum()"
   ]
  },
  {
   "cell_type": "code",
   "execution_count": 213,
   "metadata": {},
   "outputs": [
    {
     "data": {
      "text/plain": [
       "363"
      ]
     },
     "execution_count": 213,
     "metadata": {},
     "output_type": "execute_result"
    }
   ],
   "source": [
    "car['Fuel Type'].isna().sum()"
   ]
  },
  {
   "cell_type": "markdown",
   "metadata": {},
   "source": [
    "### car Seats -handling missing values"
   ]
  },
  {
   "cell_type": "code",
   "execution_count": 214,
   "metadata": {},
   "outputs": [
    {
     "data": {
      "text/plain": [
       "369"
      ]
     },
     "execution_count": 214,
     "metadata": {},
     "output_type": "execute_result"
    }
   ],
   "source": [
    "car['Seats'].isna().sum()"
   ]
  },
  {
   "cell_type": "code",
   "execution_count": 215,
   "metadata": {},
   "outputs": [
    {
     "data": {
      "text/plain": [
       "array([ 5.,  7.,  6.,  8.,  4., 10.,  9., nan,  2.])"
      ]
     },
     "execution_count": 215,
     "metadata": {},
     "output_type": "execute_result"
    }
   ],
   "source": [
    "car['Seats.1'].unique()"
   ]
  },
  {
   "cell_type": "code",
   "execution_count": 216,
   "metadata": {},
   "outputs": [
    {
     "data": {
      "text/plain": [
       "5.203276336242975"
      ]
     },
     "execution_count": 216,
     "metadata": {},
     "output_type": "execute_result"
    }
   ],
   "source": [
    "car['Seats.1'].mean()\n"
   ]
  },
  {
   "cell_type": "code",
   "execution_count": 217,
   "metadata": {},
   "outputs": [
    {
     "name": "stdout",
     "output_type": "stream",
     "text": [
      "['5 Seats' '7 Seats' '6 Seats' '8 Seats' '4 Seats' '10 Seats' '9 Seats'\n",
      " '2 Seats']\n",
      "0\n"
     ]
    },
    {
     "name": "stderr",
     "output_type": "stream",
     "text": [
      "C:\\Users\\Srivathsan\\AppData\\Local\\Temp\\ipykernel_3068\\31517149.py:5: FutureWarning: A value is trying to be set on a copy of a DataFrame or Series through chained assignment using an inplace method.\n",
      "The behavior will change in pandas 3.0. This inplace method will never work because the intermediate object on which we are setting values always behaves as a copy.\n",
      "\n",
      "For example, when doing 'df[col].method(value, inplace=True)', try using 'df.method({col: value}, inplace=True)' or df[col] = df[col].method(value) instead, to perform the operation inplace on the original object.\n",
      "\n",
      "\n",
      "  car['Seats'].fillna(seats_mode, inplace=True)\n"
     ]
    }
   ],
   "source": [
    "# Find the mode (most frequent number of seats)\n",
    "seats_mode = car['Seats'].mode()[0]\n",
    "\n",
    "# Impute missing values with the mode\n",
    "car['Seats'].fillna(seats_mode, inplace=True)\n",
    "\n",
    "# Check the unique values and missing values after imputation\n",
    "print(car['Seats'].unique())\n",
    "print(car['Seats'].isnull().sum())  # Verify no missing values remain\n"
   ]
  },
  {
   "cell_type": "markdown",
   "metadata": {},
   "source": [
    "### kms driven - handling missing values"
   ]
  },
  {
   "cell_type": "code",
   "execution_count": 218,
   "metadata": {},
   "outputs": [
    {
     "data": {
      "text/plain": [
       "0"
      ]
     },
     "execution_count": 218,
     "metadata": {},
     "output_type": "execute_result"
    }
   ],
   "source": [
    "car['km'].isna().sum()\n"
   ]
  },
  {
   "cell_type": "code",
   "execution_count": 219,
   "metadata": {},
   "outputs": [
    {
     "data": {
      "text/plain": [
       "365"
      ]
     },
     "execution_count": 219,
     "metadata": {},
     "output_type": "execute_result"
    }
   ],
   "source": [
    "car['Kms Driven'].isna().sum()"
   ]
  },
  {
   "cell_type": "code",
   "execution_count": 220,
   "metadata": {},
   "outputs": [],
   "source": [
    "car['Kms Driven']=car['Kms Driven'].fillna(car['km'].apply(lambda x: x))"
   ]
  },
  {
   "cell_type": "code",
   "execution_count": 221,
   "metadata": {},
   "outputs": [
    {
     "data": {
      "text/plain": [
       "0"
      ]
     },
     "execution_count": 221,
     "metadata": {},
     "output_type": "execute_result"
    }
   ],
   "source": [
    "car['Kms Driven'].isna().sum()"
   ]
  },
  {
   "cell_type": "code",
   "execution_count": 222,
   "metadata": {},
   "outputs": [
    {
     "data": {
      "text/plain": [
       "0    20,000 Kms\n",
       "1    20,687 Kms\n",
       "2    30,000 Kms\n",
       "3    59,247 Kms\n",
       "4    50,000 Kms\n",
       "Name: Kms Driven, dtype: object"
      ]
     },
     "execution_count": 222,
     "metadata": {},
     "output_type": "execute_result"
    }
   ],
   "source": [
    "car['Kms Driven'].head()"
   ]
  },
  {
   "cell_type": "markdown",
   "metadata": {},
   "source": [
    "### Registration Year -- handling  missing values with respect to modelYear"
   ]
  },
  {
   "cell_type": "code",
   "execution_count": 223,
   "metadata": {},
   "outputs": [],
   "source": [
    "car['Registration Year']=car['Registration Year'].fillna(car['modelYear'].apply(lambda x: f'1.1.{int(x)}'))\n"
   ]
  },
  {
   "cell_type": "code",
   "execution_count": 224,
   "metadata": {},
   "outputs": [
    {
     "data": {
      "text/plain": [
       "0"
      ]
     },
     "execution_count": 224,
     "metadata": {},
     "output_type": "execute_result"
    }
   ],
   "source": [
    "car['Registration Year'].isna().sum()"
   ]
  },
  {
   "cell_type": "code",
   "execution_count": 225,
   "metadata": {},
   "outputs": [
    {
     "data": {
      "text/plain": [
       "0          2022\n",
       "1      Feb 2015\n",
       "2          2021\n",
       "3      May 2015\n",
       "4          2015\n",
       "         ...   \n",
       "117        2015\n",
       "118    Apr 2017\n",
       "119    Dec 2016\n",
       "120    Jun 2016\n",
       "121    Jun 2016\n",
       "Name: Registration Year, Length: 122, dtype: object"
      ]
     },
     "execution_count": 225,
     "metadata": {},
     "output_type": "execute_result"
    }
   ],
   "source": [
    "car['Registration Year'].head(122)"
   ]
  },
  {
   "cell_type": "markdown",
   "metadata": {},
   "source": [
    "### Fuel type handling missing values  and convert into unique values for repeated values with different case"
   ]
  },
  {
   "cell_type": "code",
   "execution_count": 226,
   "metadata": {},
   "outputs": [
    {
     "data": {
      "text/plain": [
       "363"
      ]
     },
     "execution_count": 226,
     "metadata": {},
     "output_type": "execute_result"
    }
   ],
   "source": [
    "car['Fuel Type'].isna().sum()"
   ]
  },
  {
   "cell_type": "code",
   "execution_count": 227,
   "metadata": {},
   "outputs": [
    {
     "data": {
      "text/plain": [
       "0"
      ]
     },
     "execution_count": 227,
     "metadata": {},
     "output_type": "execute_result"
    }
   ],
   "source": [
    "car['ft'].isna().sum()"
   ]
  },
  {
   "cell_type": "code",
   "execution_count": 228,
   "metadata": {},
   "outputs": [],
   "source": [
    "car['Fuel Type']=car['Fuel Type'].fillna(car['ft'].apply(lambda x: x))"
   ]
  },
  {
   "cell_type": "code",
   "execution_count": 229,
   "metadata": {},
   "outputs": [
    {
     "data": {
      "text/plain": [
       "0"
      ]
     },
     "execution_count": 229,
     "metadata": {},
     "output_type": "execute_result"
    }
   ],
   "source": [
    "car['Fuel Type'].isna().sum()"
   ]
  },
  {
   "cell_type": "code",
   "execution_count": 230,
   "metadata": {},
   "outputs": [
    {
     "data": {
      "text/plain": [
       "array(['Petrol', 'Diesel', 'Electric', 'CNG', 'LPG', 'Cng', 'Lpg'],\n",
       "      dtype=object)"
      ]
     },
     "execution_count": 230,
     "metadata": {},
     "output_type": "execute_result"
    }
   ],
   "source": [
    "car['Fuel Type'].unique()"
   ]
  },
  {
   "cell_type": "code",
   "execution_count": 231,
   "metadata": {},
   "outputs": [
    {
     "data": {
      "text/plain": [
       "array(['Petrol', 'Diesel', 'Electric', 'Cng', 'Lpg'], dtype=object)"
      ]
     },
     "execution_count": 231,
     "metadata": {},
     "output_type": "execute_result"
    }
   ],
   "source": [
    "car['ft'].unique()"
   ]
  },
  {
   "cell_type": "code",
   "execution_count": 232,
   "metadata": {},
   "outputs": [],
   "source": [
    "# Convert 'Cng' and 'Lpg' to 'CNG' and 'LPG' respectively\n",
    "car['Fuel Type'] = car['Fuel Type'].replace({'CNG': 'Cng', 'LPG': 'Lpg'})\n"
   ]
  },
  {
   "cell_type": "code",
   "execution_count": 233,
   "metadata": {},
   "outputs": [
    {
     "data": {
      "text/plain": [
       "array(['Petrol', 'Diesel', 'Electric', 'Cng', 'Lpg'], dtype=object)"
      ]
     },
     "execution_count": 233,
     "metadata": {},
     "output_type": "execute_result"
    }
   ],
   "source": [
    "car['Fuel Type'].unique()"
   ]
  },
  {
   "cell_type": "markdown",
   "metadata": {},
   "source": [
    "### Ownership - Owner handling missing values "
   ]
  },
  {
   "cell_type": "code",
   "execution_count": 234,
   "metadata": {},
   "outputs": [
    {
     "data": {
      "text/plain": [
       "0    1st Owner\n",
       "Name: owner, dtype: object"
      ]
     },
     "execution_count": 234,
     "metadata": {},
     "output_type": "execute_result"
    }
   ],
   "source": [
    "car['Ownership'].head()\n",
    "car['owner'].head(1)"
   ]
  },
  {
   "cell_type": "code",
   "execution_count": 235,
   "metadata": {},
   "outputs": [
    {
     "data": {
      "text/plain": [
       "0"
      ]
     },
     "execution_count": 235,
     "metadata": {},
     "output_type": "execute_result"
    }
   ],
   "source": [
    "car['owner'].isna().sum()"
   ]
  },
  {
   "cell_type": "code",
   "execution_count": 236,
   "metadata": {},
   "outputs": [
    {
     "data": {
      "text/plain": [
       "395"
      ]
     },
     "execution_count": 236,
     "metadata": {},
     "output_type": "execute_result"
    }
   ],
   "source": [
    "car['Ownership'].isna().sum()"
   ]
  },
  {
   "cell_type": "code",
   "execution_count": 237,
   "metadata": {},
   "outputs": [
    {
     "data": {
      "text/plain": [
       "array(['1st Owner', '2nd Owner', '3rd Owner', '4th Owner', '0th Owner',\n",
       "       '5th Owner'], dtype=object)"
      ]
     },
     "execution_count": 237,
     "metadata": {},
     "output_type": "execute_result"
    }
   ],
   "source": [
    "car['owner'].unique()"
   ]
  },
  {
   "cell_type": "code",
   "execution_count": 238,
   "metadata": {},
   "outputs": [
    {
     "data": {
      "text/plain": [
       "array(['First Owner', 'Second Owner', 'Third Owner', 'Fourth Owner', nan,\n",
       "       'Fifth Owner'], dtype=object)"
      ]
     },
     "execution_count": 238,
     "metadata": {},
     "output_type": "execute_result"
    }
   ],
   "source": [
    "car['Ownership'].unique()"
   ]
  },
  {
   "cell_type": "code",
   "execution_count": 239,
   "metadata": {},
   "outputs": [],
   "source": [
    "# Fill missing values in 'Ownership' column with formatted values from 'owner' column\n",
    "car['Ownership'] = car['Ownership'].fillna('Zeroth Owner')\n"
   ]
  },
  {
   "cell_type": "code",
   "execution_count": 240,
   "metadata": {},
   "outputs": [
    {
     "data": {
      "text/plain": [
       "array(['First Owner', 'Second Owner', 'Third Owner', 'Fourth Owner',\n",
       "       'Zeroth Owner', 'Fifth Owner'], dtype=object)"
      ]
     },
     "execution_count": 240,
     "metadata": {},
     "output_type": "execute_result"
    }
   ],
   "source": [
    "car['Ownership'].unique()"
   ]
  },
  {
   "cell_type": "code",
   "execution_count": 241,
   "metadata": {},
   "outputs": [
    {
     "data": {
      "text/plain": [
       "0"
      ]
     },
     "execution_count": 241,
     "metadata": {},
     "output_type": "execute_result"
    }
   ],
   "source": [
    "car['Ownership'].isna().sum()"
   ]
  },
  {
   "cell_type": "markdown",
   "metadata": {},
   "source": [
    "### Transmission -- handling missing values"
   ]
  },
  {
   "cell_type": "code",
   "execution_count": 250,
   "metadata": {},
   "outputs": [
    {
     "data": {
      "text/plain": [
       "array(['Automatic', 'Manual'], dtype=object)"
      ]
     },
     "execution_count": 250,
     "metadata": {},
     "output_type": "execute_result"
    }
   ],
   "source": [
    "car['transmission'].unique()"
   ]
  },
  {
   "cell_type": "code",
   "execution_count": 251,
   "metadata": {},
   "outputs": [
    {
     "data": {
      "text/plain": [
       "array(['Automatic', 'Manual', nan], dtype=object)"
      ]
     },
     "execution_count": 251,
     "metadata": {},
     "output_type": "execute_result"
    }
   ],
   "source": [
    "car['Transmission'].unique()"
   ]
  },
  {
   "cell_type": "code",
   "execution_count": 252,
   "metadata": {},
   "outputs": [
    {
     "data": {
      "text/plain": [
       "363"
      ]
     },
     "execution_count": 252,
     "metadata": {},
     "output_type": "execute_result"
    }
   ],
   "source": [
    "car['Transmission'].isna().sum()"
   ]
  },
  {
   "cell_type": "code",
   "execution_count": 253,
   "metadata": {},
   "outputs": [],
   "source": [
    "car['Transmission']=car['Transmission'].fillna(car['transmission'].apply(lambda x:x))"
   ]
  },
  {
   "cell_type": "code",
   "execution_count": 254,
   "metadata": {},
   "outputs": [
    {
     "data": {
      "text/plain": [
       "array(['Automatic', 'Manual'], dtype=object)"
      ]
     },
     "execution_count": 254,
     "metadata": {},
     "output_type": "execute_result"
    }
   ],
   "source": [
    "car['Transmission'].unique()"
   ]
  },
  {
   "cell_type": "markdown",
   "metadata": {},
   "source": [
    "### OwnerNO "
   ]
  },
  {
   "cell_type": "code",
   "execution_count": 256,
   "metadata": {},
   "outputs": [
    {
     "data": {
      "text/plain": [
       "array([1, 2, 3, 4, 0, 5], dtype=int64)"
      ]
     },
     "execution_count": 256,
     "metadata": {},
     "output_type": "execute_result"
    }
   ],
   "source": [
    "car['ownerNo'].unique()"
   ]
  },
  {
   "cell_type": "code",
   "execution_count": 257,
   "metadata": {},
   "outputs": [
    {
     "data": {
      "text/plain": [
       "0"
      ]
     },
     "execution_count": 257,
     "metadata": {},
     "output_type": "execute_result"
    }
   ],
   "source": [
    "car['ownerNo'].isna().sum()"
   ]
  },
  {
   "cell_type": "markdown",
   "metadata": {},
   "source": [
    "### Model - Handling missing values"
   ]
  },
  {
   "cell_type": "code",
   "execution_count": 258,
   "metadata": {},
   "outputs": [
    {
     "data": {
      "text/plain": [
       "0"
      ]
     },
     "execution_count": 258,
     "metadata": {},
     "output_type": "execute_result"
    }
   ],
   "source": [
    "car['model'].isna().sum()"
   ]
  },
  {
   "cell_type": "markdown",
   "metadata": {},
   "source": [
    "### centralVariantId"
   ]
  },
  {
   "cell_type": "code",
   "execution_count": 259,
   "metadata": {},
   "outputs": [
    {
     "data": {
      "text/plain": [
       "0"
      ]
     },
     "execution_count": 259,
     "metadata": {},
     "output_type": "execute_result"
    }
   ],
   "source": [
    "car['centralVariantId'].isna().sum()"
   ]
  },
  {
   "cell_type": "markdown",
   "metadata": {},
   "source": [
    "### VariantName"
   ]
  },
  {
   "cell_type": "code",
   "execution_count": 260,
   "metadata": {},
   "outputs": [
    {
     "data": {
      "text/plain": [
       "0"
      ]
     },
     "execution_count": 260,
     "metadata": {},
     "output_type": "execute_result"
    }
   ],
   "source": [
    "car['variantName'].isna().sum()"
   ]
  },
  {
   "cell_type": "code",
   "execution_count": null,
   "metadata": {},
   "outputs": [],
   "source": []
  }
 ],
 "metadata": {
  "kernelspec": {
   "display_name": "Python 3",
   "language": "python",
   "name": "python3"
  },
  "language_info": {
   "codemirror_mode": {
    "name": "ipython",
    "version": 3
   },
   "file_extension": ".py",
   "mimetype": "text/x-python",
   "name": "python",
   "nbconvert_exporter": "python",
   "pygments_lexer": "ipython3",
   "version": "3.12.4"
  }
 },
 "nbformat": 4,
 "nbformat_minor": 2
}
