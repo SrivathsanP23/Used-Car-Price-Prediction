{
 "cells": [
  {
   "cell_type": "code",
   "execution_count": 176,
   "metadata": {},
   "outputs": [],
   "source": [
    "import pandas as pd\n",
    "\n"
   ]
  },
  {
   "cell_type": "code",
   "execution_count": 177,
   "metadata": {},
   "outputs": [],
   "source": [
    "car=pd.read_csv('cars.csv')"
   ]
  },
  {
   "cell_type": "code",
   "execution_count": 178,
   "metadata": {},
   "outputs": [
    {
     "data": {
      "text/html": [
       "<div>\n",
       "<style scoped>\n",
       "    .dataframe tbody tr th:only-of-type {\n",
       "        vertical-align: middle;\n",
       "    }\n",
       "\n",
       "    .dataframe tbody tr th {\n",
       "        vertical-align: top;\n",
       "    }\n",
       "\n",
       "    .dataframe thead th {\n",
       "        text-align: right;\n",
       "    }\n",
       "</style>\n",
       "<table border=\"1\" class=\"dataframe\">\n",
       "  <thead>\n",
       "    <tr style=\"text-align: right;\">\n",
       "      <th></th>\n",
       "      <th>it</th>\n",
       "      <th>ft</th>\n",
       "      <th>bt</th>\n",
       "      <th>km</th>\n",
       "      <th>transmission</th>\n",
       "      <th>ownerNo</th>\n",
       "      <th>owner</th>\n",
       "      <th>oem</th>\n",
       "      <th>model</th>\n",
       "      <th>modelYear</th>\n",
       "      <th>centralVariantId</th>\n",
       "      <th>variantName</th>\n",
       "      <th>price</th>\n",
       "      <th>priceActual</th>\n",
       "      <th>priceSaving</th>\n",
       "      <th>priceFixedText</th>\n",
       "      <th>trendingText</th>\n",
       "      <th>heading</th>\n",
       "      <th>Registration Year</th>\n",
       "      <th>Insurance Validity</th>\n",
       "      <th>Fuel Type</th>\n",
       "      <th>Seats</th>\n",
       "      <th>Kms Driven</th>\n",
       "      <th>RTO</th>\n",
       "      <th>Ownership</th>\n",
       "      <th>Engine Displacement</th>\n",
       "      <th>Transmission</th>\n",
       "      <th>Year of Manufacture</th>\n",
       "      <th>heading.1</th>\n",
       "      <th>top_features</th>\n",
       "      <th>Comfort &amp; Convenience - Comfort</th>\n",
       "      <th>Interior - Interior</th>\n",
       "      <th>Exterior - Exterior</th>\n",
       "      <th>Safety - Safety</th>\n",
       "      <th>Entertainment &amp; Communication - Entertainment</th>\n",
       "      <th>heading.2</th>\n",
       "      <th>Engine</th>\n",
       "      <th>Max Power</th>\n",
       "      <th>Torque</th>\n",
       "      <th>Wheel Size</th>\n",
       "      <th>Seats.1</th>\n",
       "      <th>Engine and Transmission - Color</th>\n",
       "      <th>Engine and Transmission - Engine Type</th>\n",
       "      <th>Engine and Transmission - Displacement</th>\n",
       "      <th>Engine and Transmission - Max Power</th>\n",
       "      <th>Engine and Transmission - Max Torque</th>\n",
       "      <th>Engine and Transmission - No of Cylinder</th>\n",
       "      <th>Engine and Transmission - Values per Cylinder</th>\n",
       "      <th>Engine and Transmission - Fuel Suppy System</th>\n",
       "      <th>Engine and Transmission - Turbo Charger</th>\n",
       "      <th>Dimensions &amp; Capacity - Length</th>\n",
       "      <th>Dimensions &amp; Capacity - Width</th>\n",
       "      <th>Dimensions &amp; Capacity - Height</th>\n",
       "      <th>Dimensions &amp; Capacity - Wheel Base</th>\n",
       "      <th>Dimensions &amp; Capacity - Kerb Weight</th>\n",
       "      <th>Miscellaneous - Gear Box</th>\n",
       "      <th>Miscellaneous - Drive Type</th>\n",
       "      <th>Miscellaneous - Seating Capacity</th>\n",
       "      <th>Miscellaneous - Steering Type</th>\n",
       "      <th>Miscellaneous - Front Brake Type</th>\n",
       "      <th>Miscellaneous - Rear Brake Type</th>\n",
       "      <th>Miscellaneous - Tyre Type</th>\n",
       "      <th>Miscellaneous - Alloy Wheel Size</th>\n",
       "      <th>Miscellaneous - No Door Numbers</th>\n",
       "      <th>Miscellaneous - Cargo Volumn</th>\n",
       "      <th>Mileage</th>\n",
       "      <th>Engine and Transmission - Value Configuration</th>\n",
       "      <th>Engine and Transmission - Compression Ratio</th>\n",
       "      <th>Engine and Transmission - Super Charger</th>\n",
       "      <th>Dimensions &amp; Capacity - Front Tread</th>\n",
       "      <th>Dimensions &amp; Capacity - Rear Tread</th>\n",
       "      <th>Dimensions &amp; Capacity - Gross Weight</th>\n",
       "      <th>Miscellaneous - Turning Radius</th>\n",
       "      <th>Miscellaneous - Top Speed</th>\n",
       "      <th>Miscellaneous - Acceleration</th>\n",
       "      <th>Engine and Transmission - BoreX Stroke</th>\n",
       "      <th>Dimensions &amp; Capacity - Ground Clearance Unladen</th>\n",
       "      <th>city</th>\n",
       "    </tr>\n",
       "  </thead>\n",
       "  <tbody>\n",
       "    <tr>\n",
       "      <th>0</th>\n",
       "      <td>0</td>\n",
       "      <td>Petrol</td>\n",
       "      <td>SUV</td>\n",
       "      <td>20,000</td>\n",
       "      <td>Automatic</td>\n",
       "      <td>1</td>\n",
       "      <td>1st Owner</td>\n",
       "      <td>Kia</td>\n",
       "      <td>Kia Sonet</td>\n",
       "      <td>2022</td>\n",
       "      <td>8654</td>\n",
       "      <td>Turbo DCT Anniversary Edition</td>\n",
       "      <td>₹ 11.50 Lakh</td>\n",
       "      <td>NaN</td>\n",
       "      <td>NaN</td>\n",
       "      <td>NaN</td>\n",
       "      <td>{'imgUrl': 'https://stimg.cardekho.com/used-ca...</td>\n",
       "      <td>Car overview</td>\n",
       "      <td>2022</td>\n",
       "      <td>Third Party insurance</td>\n",
       "      <td>Petrol</td>\n",
       "      <td>5 Seats</td>\n",
       "      <td>20,000 Kms</td>\n",
       "      <td>TN02</td>\n",
       "      <td>First Owner</td>\n",
       "      <td>998 cc</td>\n",
       "      <td>Automatic</td>\n",
       "      <td>2022.0</td>\n",
       "      <td>Features</td>\n",
       "      <td>Power Steering, Power Windows Front, Air Condi...</td>\n",
       "      <td>Power Steering, Power Windows Front, Power Win...</td>\n",
       "      <td>Air Conditioner, Heater, Adjustable Steering, ...</td>\n",
       "      <td>Adjustable Head Lights, Fog Lights Front, Powe...</td>\n",
       "      <td>Anti Lock Braking System, Brake Assist, Center...</td>\n",
       "      <td>Radio, Speakers Front, Speakers Rear, Integrat...</td>\n",
       "      <td>Specifications</td>\n",
       "      <td>998 CC</td>\n",
       "      <td>118.36bhp</td>\n",
       "      <td>172nm</td>\n",
       "      <td>16</td>\n",
       "      <td>5.0</td>\n",
       "      <td>Black</td>\n",
       "      <td>Smartstream G1.0 T - GDi</td>\n",
       "      <td>998.0</td>\n",
       "      <td>118.36bhp@6000rpm</td>\n",
       "      <td>172nm@1500-4000rpm</td>\n",
       "      <td>3.0</td>\n",
       "      <td>4.0</td>\n",
       "      <td>GDi</td>\n",
       "      <td>Yes</td>\n",
       "      <td>3995mm</td>\n",
       "      <td>1790</td>\n",
       "      <td>1642</td>\n",
       "      <td>2500</td>\n",
       "      <td>1465</td>\n",
       "      <td>7-Speed DCT</td>\n",
       "      <td>FWD</td>\n",
       "      <td>5.0</td>\n",
       "      <td>Electric</td>\n",
       "      <td>Disc</td>\n",
       "      <td>Drum</td>\n",
       "      <td>Tubeless, Radial</td>\n",
       "      <td>16</td>\n",
       "      <td>5.0</td>\n",
       "      <td>392</td>\n",
       "      <td>NaN</td>\n",
       "      <td>NaN</td>\n",
       "      <td>NaN</td>\n",
       "      <td>NaN</td>\n",
       "      <td>NaN</td>\n",
       "      <td>NaN</td>\n",
       "      <td>NaN</td>\n",
       "      <td>NaN</td>\n",
       "      <td>NaN</td>\n",
       "      <td>NaN</td>\n",
       "      <td>NaN</td>\n",
       "      <td>NaN</td>\n",
       "      <td>chennai</td>\n",
       "    </tr>\n",
       "    <tr>\n",
       "      <th>1</th>\n",
       "      <td>0</td>\n",
       "      <td>Petrol</td>\n",
       "      <td>Minivans</td>\n",
       "      <td>20,687</td>\n",
       "      <td>Manual</td>\n",
       "      <td>1</td>\n",
       "      <td>1st Owner</td>\n",
       "      <td>Maruti</td>\n",
       "      <td>Maruti Eeco</td>\n",
       "      <td>2015</td>\n",
       "      <td>4025</td>\n",
       "      <td>7 Seater Standard BSIV</td>\n",
       "      <td>₹ 4.15 Lakh</td>\n",
       "      <td>NaN</td>\n",
       "      <td>NaN</td>\n",
       "      <td>NaN</td>\n",
       "      <td>{'imgUrl': 'https://stimg.cardekho.com/used-ca...</td>\n",
       "      <td>Car overview</td>\n",
       "      <td>Feb 2015</td>\n",
       "      <td>Comprehensive</td>\n",
       "      <td>Petrol</td>\n",
       "      <td>7 Seats</td>\n",
       "      <td>20,687 Kms</td>\n",
       "      <td>TN04</td>\n",
       "      <td>First Owner</td>\n",
       "      <td>1196 cc</td>\n",
       "      <td>Manual</td>\n",
       "      <td>2015.0</td>\n",
       "      <td>Features</td>\n",
       "      <td>Low Fuel Warning Light, Accessory Power Outlet...</td>\n",
       "      <td>Low Fuel Warning Light, Accessory Power Outlet...</td>\n",
       "      <td>Heater, Digital Odometer, Electronic Multi Tri...</td>\n",
       "      <td>Adjustable Head Lights, Manually Adjustable Ex...</td>\n",
       "      <td>Anti Lock Braking System, Child Safety Locks, ...</td>\n",
       "      <td>NaN</td>\n",
       "      <td>Specifications</td>\n",
       "      <td>1196 CC</td>\n",
       "      <td>73bhp</td>\n",
       "      <td>101Nm</td>\n",
       "      <td>NaN</td>\n",
       "      <td>7.0</td>\n",
       "      <td>Grey</td>\n",
       "      <td>In-Line Engine</td>\n",
       "      <td>1196.0</td>\n",
       "      <td>73bhp@6000rpm</td>\n",
       "      <td>101Nm@3000rpm</td>\n",
       "      <td>4.0</td>\n",
       "      <td>4.0</td>\n",
       "      <td>MPFi</td>\n",
       "      <td>No</td>\n",
       "      <td>3675mm</td>\n",
       "      <td>1475mm</td>\n",
       "      <td>1800mm</td>\n",
       "      <td>2350mm</td>\n",
       "      <td>943kg</td>\n",
       "      <td>5 Speed</td>\n",
       "      <td>RWD</td>\n",
       "      <td>7.0</td>\n",
       "      <td>Manual</td>\n",
       "      <td>Ventilated Disc</td>\n",
       "      <td>Drum</td>\n",
       "      <td>Tubeless Tyres</td>\n",
       "      <td>NaN</td>\n",
       "      <td>5.0</td>\n",
       "      <td>540-liters</td>\n",
       "      <td>15.37 kmpl</td>\n",
       "      <td>DOHC</td>\n",
       "      <td>9.9:1</td>\n",
       "      <td>No</td>\n",
       "      <td>1280mm</td>\n",
       "      <td>1290mm</td>\n",
       "      <td>1540kg</td>\n",
       "      <td>4.5 metres</td>\n",
       "      <td>145 Kmph</td>\n",
       "      <td>15.7 Seconds</td>\n",
       "      <td>NaN</td>\n",
       "      <td>NaN</td>\n",
       "      <td>chennai</td>\n",
       "    </tr>\n",
       "    <tr>\n",
       "      <th>2</th>\n",
       "      <td>0</td>\n",
       "      <td>Petrol</td>\n",
       "      <td>SUV</td>\n",
       "      <td>30,000</td>\n",
       "      <td>Manual</td>\n",
       "      <td>1</td>\n",
       "      <td>1st Owner</td>\n",
       "      <td>Nissan</td>\n",
       "      <td>Nissan Magnite</td>\n",
       "      <td>2021</td>\n",
       "      <td>8135</td>\n",
       "      <td>Turbo XV Premium BSVI</td>\n",
       "      <td>₹ 7.50 Lakh</td>\n",
       "      <td>NaN</td>\n",
       "      <td>NaN</td>\n",
       "      <td>NaN</td>\n",
       "      <td>{'imgUrl': 'https://stimg.cardekho.com/used-ca...</td>\n",
       "      <td>Car overview</td>\n",
       "      <td>2021</td>\n",
       "      <td>Third Party insurance</td>\n",
       "      <td>Petrol</td>\n",
       "      <td>5 Seats</td>\n",
       "      <td>30,000 Kms</td>\n",
       "      <td>TN22</td>\n",
       "      <td>First Owner</td>\n",
       "      <td>999 cc</td>\n",
       "      <td>Manual</td>\n",
       "      <td>2021.0</td>\n",
       "      <td>Features</td>\n",
       "      <td>Power Steering, Power Windows Front, Air Condi...</td>\n",
       "      <td>Power Steering, Power Windows Front, Power Win...</td>\n",
       "      <td>Air Conditioner, Heater, Adjustable Steering, ...</td>\n",
       "      <td>Adjustable Head Lights, Fog Lights Front, Powe...</td>\n",
       "      <td>Anti Lock Braking System, Brake Assist, Center...</td>\n",
       "      <td>Radio, Speakers Front, Speakers Rear, Integrat...</td>\n",
       "      <td>Specifications</td>\n",
       "      <td>999 CC</td>\n",
       "      <td>98.63bhp</td>\n",
       "      <td>160Nm</td>\n",
       "      <td>16</td>\n",
       "      <td>5.0</td>\n",
       "      <td>Others</td>\n",
       "      <td>HRA0 1.0 TURBO PETROL</td>\n",
       "      <td>999.0</td>\n",
       "      <td>98.63bhp@5000rpm</td>\n",
       "      <td>160Nm@2800-3600rpm</td>\n",
       "      <td>3.0</td>\n",
       "      <td>4.0</td>\n",
       "      <td>MPFi</td>\n",
       "      <td>Yes</td>\n",
       "      <td>3994mm</td>\n",
       "      <td>1758</td>\n",
       "      <td>1572</td>\n",
       "      <td>2500</td>\n",
       "      <td>1014</td>\n",
       "      <td>5 Speed</td>\n",
       "      <td>NaN</td>\n",
       "      <td>5.0</td>\n",
       "      <td>Electronic</td>\n",
       "      <td>Disc</td>\n",
       "      <td>Drum</td>\n",
       "      <td>Tubeless,Radial</td>\n",
       "      <td>16</td>\n",
       "      <td>5.0</td>\n",
       "      <td>336</td>\n",
       "      <td>20 kmpl</td>\n",
       "      <td>SOHC</td>\n",
       "      <td>NaN</td>\n",
       "      <td>No</td>\n",
       "      <td>NaN</td>\n",
       "      <td>NaN</td>\n",
       "      <td>NaN</td>\n",
       "      <td>5.0</td>\n",
       "      <td>NaN</td>\n",
       "      <td>11.7</td>\n",
       "      <td>72.2 x 81.3</td>\n",
       "      <td>NaN</td>\n",
       "      <td>chennai</td>\n",
       "    </tr>\n",
       "    <tr>\n",
       "      <th>3</th>\n",
       "      <td>0</td>\n",
       "      <td>Petrol</td>\n",
       "      <td>Hatchback</td>\n",
       "      <td>59,247</td>\n",
       "      <td>Manual</td>\n",
       "      <td>1</td>\n",
       "      <td>1st Owner</td>\n",
       "      <td>Hyundai</td>\n",
       "      <td>Hyundai i10</td>\n",
       "      <td>2015</td>\n",
       "      <td>1579</td>\n",
       "      <td>Sportz 1.1L</td>\n",
       "      <td>₹ 3.98 Lakh</td>\n",
       "      <td>NaN</td>\n",
       "      <td>NaN</td>\n",
       "      <td>NaN</td>\n",
       "      <td>{'imgUrl': 'https://stimg.cardekho.com/used-ca...</td>\n",
       "      <td>Car overview</td>\n",
       "      <td>May 2015</td>\n",
       "      <td>Comprehensive</td>\n",
       "      <td>Petrol</td>\n",
       "      <td>5 Seats</td>\n",
       "      <td>59,247 Kms</td>\n",
       "      <td>TN11</td>\n",
       "      <td>First Owner</td>\n",
       "      <td>1086 cc</td>\n",
       "      <td>Manual</td>\n",
       "      <td>2015.0</td>\n",
       "      <td>Features</td>\n",
       "      <td>Power Steering, Power Windows Front, Air Condi...</td>\n",
       "      <td>Power Steering, Power Windows Front, Power Win...</td>\n",
       "      <td>Air Conditioner, Heater, Adjustable Steering, ...</td>\n",
       "      <td>Adjustable Head Lights, Fog Lights Front, Manu...</td>\n",
       "      <td>Centeral Locking, Power Door Locks, Child Safe...</td>\n",
       "      <td>Cd Player, Radio, Speakers Front, Speakers Rea...</td>\n",
       "      <td>Specifications</td>\n",
       "      <td>1086 CC</td>\n",
       "      <td>68.05bhp</td>\n",
       "      <td>99.04Nm</td>\n",
       "      <td>NaN</td>\n",
       "      <td>5.0</td>\n",
       "      <td>Silver</td>\n",
       "      <td>IRDE2 Engine</td>\n",
       "      <td>1086.0</td>\n",
       "      <td>68.05bhp@5500rpm</td>\n",
       "      <td>99.04Nm@4500rpm</td>\n",
       "      <td>4.0</td>\n",
       "      <td>3.0</td>\n",
       "      <td>MPFI</td>\n",
       "      <td>No</td>\n",
       "      <td>3585mm</td>\n",
       "      <td>1595mm</td>\n",
       "      <td>1550mm</td>\n",
       "      <td>2380mm</td>\n",
       "      <td>860kg</td>\n",
       "      <td>5 Speed</td>\n",
       "      <td>FWD</td>\n",
       "      <td>5.0</td>\n",
       "      <td>Power</td>\n",
       "      <td>Ventilated Disc</td>\n",
       "      <td>Drum</td>\n",
       "      <td>Tubeless</td>\n",
       "      <td>NaN</td>\n",
       "      <td>5.0</td>\n",
       "      <td>225-litres</td>\n",
       "      <td>19.81 kmpl</td>\n",
       "      <td>SOHC</td>\n",
       "      <td>NaN</td>\n",
       "      <td>No</td>\n",
       "      <td>1400mm</td>\n",
       "      <td>1385mm</td>\n",
       "      <td>NaN</td>\n",
       "      <td>4.7 metres</td>\n",
       "      <td>165 Kmph</td>\n",
       "      <td>14.3 Seconds</td>\n",
       "      <td>NaN</td>\n",
       "      <td>NaN</td>\n",
       "      <td>chennai</td>\n",
       "    </tr>\n",
       "    <tr>\n",
       "      <th>4</th>\n",
       "      <td>0</td>\n",
       "      <td>Petrol</td>\n",
       "      <td>Hatchback</td>\n",
       "      <td>50,000</td>\n",
       "      <td>Manual</td>\n",
       "      <td>1</td>\n",
       "      <td>1st Owner</td>\n",
       "      <td>Honda</td>\n",
       "      <td>Honda Jazz</td>\n",
       "      <td>2015</td>\n",
       "      <td>1341</td>\n",
       "      <td>1.2 VX i VTEC</td>\n",
       "      <td>₹ 5.50 Lakh</td>\n",
       "      <td>NaN</td>\n",
       "      <td>NaN</td>\n",
       "      <td>NaN</td>\n",
       "      <td>{'imgUrl': 'https://stimg.cardekho.com/used-ca...</td>\n",
       "      <td>Car overview</td>\n",
       "      <td>2015</td>\n",
       "      <td>Third Party insurance</td>\n",
       "      <td>Petrol</td>\n",
       "      <td>5 Seats</td>\n",
       "      <td>50,000 Kms</td>\n",
       "      <td>KA03</td>\n",
       "      <td>First Owner</td>\n",
       "      <td>1199 cc</td>\n",
       "      <td>Manual</td>\n",
       "      <td>2015.0</td>\n",
       "      <td>Features</td>\n",
       "      <td>Power Steering, Power Windows Front, Air Condi...</td>\n",
       "      <td>Power Steering, Power Windows Front, Power Win...</td>\n",
       "      <td>Air Conditioner, Heater, Adjustable Steering, ...</td>\n",
       "      <td>Adjustable Head Lights, Fog Lights Front, Powe...</td>\n",
       "      <td>Anti Lock Braking System, Centeral Locking, Po...</td>\n",
       "      <td>Cd Player, Dvd Player, Radio, Speakers Front, ...</td>\n",
       "      <td>Specifications</td>\n",
       "      <td>1199 CC</td>\n",
       "      <td>88.7bhp</td>\n",
       "      <td>110Nm</td>\n",
       "      <td>15</td>\n",
       "      <td>5.0</td>\n",
       "      <td>Others</td>\n",
       "      <td>i-VTEC Petrol Engine</td>\n",
       "      <td>1199.0</td>\n",
       "      <td>88.7bhp@6000rpm</td>\n",
       "      <td>110Nm@4800rpm</td>\n",
       "      <td>4.0</td>\n",
       "      <td>4.0</td>\n",
       "      <td>PGM - Fi</td>\n",
       "      <td>No</td>\n",
       "      <td>3955mm</td>\n",
       "      <td>1694mm</td>\n",
       "      <td>1544mm</td>\n",
       "      <td>2530mm</td>\n",
       "      <td>1042kg</td>\n",
       "      <td>5 Speed</td>\n",
       "      <td>FWD</td>\n",
       "      <td>5.0</td>\n",
       "      <td>Power</td>\n",
       "      <td>Disc</td>\n",
       "      <td>Drum</td>\n",
       "      <td>Tubeless,Radial</td>\n",
       "      <td>15</td>\n",
       "      <td>5.0</td>\n",
       "      <td>354-litres</td>\n",
       "      <td>18.7 kmpl</td>\n",
       "      <td>SOHC</td>\n",
       "      <td>NaN</td>\n",
       "      <td>No</td>\n",
       "      <td>NaN</td>\n",
       "      <td>NaN</td>\n",
       "      <td>NaN</td>\n",
       "      <td>5.1 meters</td>\n",
       "      <td>172 Kmph</td>\n",
       "      <td>13.7 Seconds</td>\n",
       "      <td>NaN</td>\n",
       "      <td>NaN</td>\n",
       "      <td>chennai</td>\n",
       "    </tr>\n",
       "  </tbody>\n",
       "</table>\n",
       "</div>"
      ],
      "text/plain": [
       "   it      ft         bt      km transmission  ownerNo      owner      oem  \\\n",
       "0   0  Petrol        SUV  20,000    Automatic        1  1st Owner      Kia   \n",
       "1   0  Petrol   Minivans  20,687       Manual        1  1st Owner   Maruti   \n",
       "2   0  Petrol        SUV  30,000       Manual        1  1st Owner   Nissan   \n",
       "3   0  Petrol  Hatchback  59,247       Manual        1  1st Owner  Hyundai   \n",
       "4   0  Petrol  Hatchback  50,000       Manual        1  1st Owner    Honda   \n",
       "\n",
       "            model  modelYear  centralVariantId                    variantName  \\\n",
       "0       Kia Sonet       2022              8654  Turbo DCT Anniversary Edition   \n",
       "1     Maruti Eeco       2015              4025         7 Seater Standard BSIV   \n",
       "2  Nissan Magnite       2021              8135          Turbo XV Premium BSVI   \n",
       "3     Hyundai i10       2015              1579                    Sportz 1.1L   \n",
       "4      Honda Jazz       2015              1341                  1.2 VX i VTEC   \n",
       "\n",
       "          price priceActual  priceSaving  priceFixedText  \\\n",
       "0  ₹ 11.50 Lakh         NaN          NaN             NaN   \n",
       "1   ₹ 4.15 Lakh         NaN          NaN             NaN   \n",
       "2   ₹ 7.50 Lakh         NaN          NaN             NaN   \n",
       "3   ₹ 3.98 Lakh         NaN          NaN             NaN   \n",
       "4   ₹ 5.50 Lakh         NaN          NaN             NaN   \n",
       "\n",
       "                                        trendingText       heading  \\\n",
       "0  {'imgUrl': 'https://stimg.cardekho.com/used-ca...  Car overview   \n",
       "1  {'imgUrl': 'https://stimg.cardekho.com/used-ca...  Car overview   \n",
       "2  {'imgUrl': 'https://stimg.cardekho.com/used-ca...  Car overview   \n",
       "3  {'imgUrl': 'https://stimg.cardekho.com/used-ca...  Car overview   \n",
       "4  {'imgUrl': 'https://stimg.cardekho.com/used-ca...  Car overview   \n",
       "\n",
       "  Registration Year     Insurance Validity Fuel Type    Seats  Kms Driven  \\\n",
       "0              2022  Third Party insurance    Petrol  5 Seats  20,000 Kms   \n",
       "1          Feb 2015          Comprehensive    Petrol  7 Seats  20,687 Kms   \n",
       "2              2021  Third Party insurance    Petrol  5 Seats  30,000 Kms   \n",
       "3          May 2015          Comprehensive    Petrol  5 Seats  59,247 Kms   \n",
       "4              2015  Third Party insurance    Petrol  5 Seats  50,000 Kms   \n",
       "\n",
       "    RTO    Ownership Engine Displacement Transmission  Year of Manufacture  \\\n",
       "0  TN02  First Owner              998 cc    Automatic               2022.0   \n",
       "1  TN04  First Owner             1196 cc       Manual               2015.0   \n",
       "2  TN22  First Owner              999 cc       Manual               2021.0   \n",
       "3  TN11  First Owner             1086 cc       Manual               2015.0   \n",
       "4  KA03  First Owner             1199 cc       Manual               2015.0   \n",
       "\n",
       "  heading.1                                       top_features  \\\n",
       "0  Features  Power Steering, Power Windows Front, Air Condi...   \n",
       "1  Features  Low Fuel Warning Light, Accessory Power Outlet...   \n",
       "2  Features  Power Steering, Power Windows Front, Air Condi...   \n",
       "3  Features  Power Steering, Power Windows Front, Air Condi...   \n",
       "4  Features  Power Steering, Power Windows Front, Air Condi...   \n",
       "\n",
       "                     Comfort & Convenience - Comfort  \\\n",
       "0  Power Steering, Power Windows Front, Power Win...   \n",
       "1  Low Fuel Warning Light, Accessory Power Outlet...   \n",
       "2  Power Steering, Power Windows Front, Power Win...   \n",
       "3  Power Steering, Power Windows Front, Power Win...   \n",
       "4  Power Steering, Power Windows Front, Power Win...   \n",
       "\n",
       "                                 Interior - Interior  \\\n",
       "0  Air Conditioner, Heater, Adjustable Steering, ...   \n",
       "1  Heater, Digital Odometer, Electronic Multi Tri...   \n",
       "2  Air Conditioner, Heater, Adjustable Steering, ...   \n",
       "3  Air Conditioner, Heater, Adjustable Steering, ...   \n",
       "4  Air Conditioner, Heater, Adjustable Steering, ...   \n",
       "\n",
       "                                 Exterior - Exterior  \\\n",
       "0  Adjustable Head Lights, Fog Lights Front, Powe...   \n",
       "1  Adjustable Head Lights, Manually Adjustable Ex...   \n",
       "2  Adjustable Head Lights, Fog Lights Front, Powe...   \n",
       "3  Adjustable Head Lights, Fog Lights Front, Manu...   \n",
       "4  Adjustable Head Lights, Fog Lights Front, Powe...   \n",
       "\n",
       "                                     Safety - Safety  \\\n",
       "0  Anti Lock Braking System, Brake Assist, Center...   \n",
       "1  Anti Lock Braking System, Child Safety Locks, ...   \n",
       "2  Anti Lock Braking System, Brake Assist, Center...   \n",
       "3  Centeral Locking, Power Door Locks, Child Safe...   \n",
       "4  Anti Lock Braking System, Centeral Locking, Po...   \n",
       "\n",
       "       Entertainment & Communication - Entertainment       heading.2   Engine  \\\n",
       "0  Radio, Speakers Front, Speakers Rear, Integrat...  Specifications   998 CC   \n",
       "1                                                NaN  Specifications  1196 CC   \n",
       "2  Radio, Speakers Front, Speakers Rear, Integrat...  Specifications   999 CC   \n",
       "3  Cd Player, Radio, Speakers Front, Speakers Rea...  Specifications  1086 CC   \n",
       "4  Cd Player, Dvd Player, Radio, Speakers Front, ...  Specifications  1199 CC   \n",
       "\n",
       "   Max Power   Torque Wheel Size  Seats.1 Engine and Transmission - Color  \\\n",
       "0  118.36bhp    172nm         16      5.0                           Black   \n",
       "1      73bhp    101Nm        NaN      7.0                            Grey   \n",
       "2   98.63bhp    160Nm         16      5.0                          Others   \n",
       "3   68.05bhp  99.04Nm        NaN      5.0                          Silver   \n",
       "4    88.7bhp    110Nm         15      5.0                          Others   \n",
       "\n",
       "  Engine and Transmission - Engine Type  \\\n",
       "0              Smartstream G1.0 T - GDi   \n",
       "1                        In-Line Engine   \n",
       "2                 HRA0 1.0 TURBO PETROL   \n",
       "3                          IRDE2 Engine   \n",
       "4                  i-VTEC Petrol Engine   \n",
       "\n",
       "   Engine and Transmission - Displacement Engine and Transmission - Max Power  \\\n",
       "0                                   998.0                   118.36bhp@6000rpm   \n",
       "1                                  1196.0                       73bhp@6000rpm   \n",
       "2                                   999.0                    98.63bhp@5000rpm   \n",
       "3                                  1086.0                    68.05bhp@5500rpm   \n",
       "4                                  1199.0                     88.7bhp@6000rpm   \n",
       "\n",
       "  Engine and Transmission - Max Torque  \\\n",
       "0                   172nm@1500-4000rpm   \n",
       "1                        101Nm@3000rpm   \n",
       "2                   160Nm@2800-3600rpm   \n",
       "3                      99.04Nm@4500rpm   \n",
       "4                        110Nm@4800rpm   \n",
       "\n",
       "   Engine and Transmission - No of Cylinder  \\\n",
       "0                                       3.0   \n",
       "1                                       4.0   \n",
       "2                                       3.0   \n",
       "3                                       4.0   \n",
       "4                                       4.0   \n",
       "\n",
       "   Engine and Transmission - Values per Cylinder  \\\n",
       "0                                            4.0   \n",
       "1                                            4.0   \n",
       "2                                            4.0   \n",
       "3                                            3.0   \n",
       "4                                            4.0   \n",
       "\n",
       "  Engine and Transmission - Fuel Suppy System  \\\n",
       "0                                         GDi   \n",
       "1                                        MPFi   \n",
       "2                                        MPFi   \n",
       "3                                        MPFI   \n",
       "4                                    PGM - Fi   \n",
       "\n",
       "  Engine and Transmission - Turbo Charger Dimensions & Capacity - Length  \\\n",
       "0                                     Yes                         3995mm   \n",
       "1                                      No                         3675mm   \n",
       "2                                     Yes                         3994mm   \n",
       "3                                      No                         3585mm   \n",
       "4                                      No                         3955mm   \n",
       "\n",
       "  Dimensions & Capacity - Width Dimensions & Capacity - Height  \\\n",
       "0                          1790                           1642   \n",
       "1                        1475mm                         1800mm   \n",
       "2                          1758                           1572   \n",
       "3                        1595mm                         1550mm   \n",
       "4                        1694mm                         1544mm   \n",
       "\n",
       "  Dimensions & Capacity - Wheel Base Dimensions & Capacity - Kerb Weight  \\\n",
       "0                               2500                                1465   \n",
       "1                             2350mm                               943kg   \n",
       "2                               2500                                1014   \n",
       "3                             2380mm                               860kg   \n",
       "4                             2530mm                              1042kg   \n",
       "\n",
       "  Miscellaneous - Gear Box Miscellaneous - Drive Type  \\\n",
       "0              7-Speed DCT                        FWD   \n",
       "1                  5 Speed                        RWD   \n",
       "2                  5 Speed                        NaN   \n",
       "3                  5 Speed                        FWD   \n",
       "4                  5 Speed                        FWD   \n",
       "\n",
       "   Miscellaneous - Seating Capacity Miscellaneous - Steering Type  \\\n",
       "0                               5.0                      Electric   \n",
       "1                               7.0                        Manual   \n",
       "2                               5.0                    Electronic   \n",
       "3                               5.0                         Power   \n",
       "4                               5.0                         Power   \n",
       "\n",
       "  Miscellaneous - Front Brake Type Miscellaneous - Rear Brake Type  \\\n",
       "0                             Disc                            Drum   \n",
       "1                  Ventilated Disc                            Drum   \n",
       "2                             Disc                            Drum   \n",
       "3                  Ventilated Disc                            Drum   \n",
       "4                             Disc                            Drum   \n",
       "\n",
       "  Miscellaneous - Tyre Type Miscellaneous - Alloy Wheel Size  \\\n",
       "0          Tubeless, Radial                               16   \n",
       "1            Tubeless Tyres                              NaN   \n",
       "2           Tubeless,Radial                               16   \n",
       "3                  Tubeless                              NaN   \n",
       "4           Tubeless,Radial                               15   \n",
       "\n",
       "   Miscellaneous - No Door Numbers Miscellaneous - Cargo Volumn     Mileage  \\\n",
       "0                              5.0                          392         NaN   \n",
       "1                              5.0                   540-liters  15.37 kmpl   \n",
       "2                              5.0                          336     20 kmpl   \n",
       "3                              5.0                   225-litres  19.81 kmpl   \n",
       "4                              5.0                   354-litres   18.7 kmpl   \n",
       "\n",
       "  Engine and Transmission - Value Configuration  \\\n",
       "0                                           NaN   \n",
       "1                                          DOHC   \n",
       "2                                          SOHC   \n",
       "3                                          SOHC   \n",
       "4                                          SOHC   \n",
       "\n",
       "  Engine and Transmission - Compression Ratio  \\\n",
       "0                                         NaN   \n",
       "1                                       9.9:1   \n",
       "2                                         NaN   \n",
       "3                                         NaN   \n",
       "4                                         NaN   \n",
       "\n",
       "  Engine and Transmission - Super Charger Dimensions & Capacity - Front Tread  \\\n",
       "0                                     NaN                                 NaN   \n",
       "1                                      No                              1280mm   \n",
       "2                                      No                                 NaN   \n",
       "3                                      No                              1400mm   \n",
       "4                                      No                                 NaN   \n",
       "\n",
       "  Dimensions & Capacity - Rear Tread Dimensions & Capacity - Gross Weight  \\\n",
       "0                                NaN                                  NaN   \n",
       "1                             1290mm                               1540kg   \n",
       "2                                NaN                                  NaN   \n",
       "3                             1385mm                                  NaN   \n",
       "4                                NaN                                  NaN   \n",
       "\n",
       "  Miscellaneous - Turning Radius Miscellaneous - Top Speed  \\\n",
       "0                            NaN                       NaN   \n",
       "1                     4.5 metres                  145 Kmph   \n",
       "2                            5.0                       NaN   \n",
       "3                     4.7 metres                  165 Kmph   \n",
       "4                     5.1 meters                  172 Kmph   \n",
       "\n",
       "  Miscellaneous - Acceleration Engine and Transmission - BoreX Stroke  \\\n",
       "0                          NaN                                    NaN   \n",
       "1                 15.7 Seconds                                    NaN   \n",
       "2                         11.7                            72.2 x 81.3   \n",
       "3                 14.3 Seconds                                    NaN   \n",
       "4                 13.7 Seconds                                    NaN   \n",
       "\n",
       "  Dimensions & Capacity - Ground Clearance Unladen     city  \n",
       "0                                              NaN  chennai  \n",
       "1                                              NaN  chennai  \n",
       "2                                              NaN  chennai  \n",
       "3                                              NaN  chennai  \n",
       "4                                              NaN  chennai  "
      ]
     },
     "execution_count": 178,
     "metadata": {},
     "output_type": "execute_result"
    }
   ],
   "source": [
    "car.head()\n"
   ]
  },
  {
   "cell_type": "code",
   "execution_count": 179,
   "metadata": {},
   "outputs": [
    {
     "data": {
      "text/plain": [
       "it                                                     0\n",
       "ft                                                     0\n",
       "bt                                                     6\n",
       "km                                                     0\n",
       "transmission                                           0\n",
       "ownerNo                                                0\n",
       "owner                                                  0\n",
       "oem                                                    0\n",
       "model                                                  0\n",
       "modelYear                                              0\n",
       "centralVariantId                                       0\n",
       "variantName                                            0\n",
       "price                                                  0\n",
       "priceActual                                         6735\n",
       "priceSaving                                         8732\n",
       "priceFixedText                                      8732\n",
       "trendingText                                           0\n",
       "heading                                              363\n",
       "Registration Year                                    415\n",
       "Insurance Validity                                   367\n",
       "Fuel Type                                            363\n",
       "Seats                                                369\n",
       "Kms Driven                                           365\n",
       "RTO                                                 1257\n",
       "Ownership                                            395\n",
       "Engine Displacement                                  367\n",
       "Transmission                                         363\n",
       "Year of Manufacture                                  383\n",
       "heading.1                                            363\n",
       "top_features                                         428\n",
       "Comfort & Convenience - Comfort                      431\n",
       "Interior - Interior                                  440\n",
       "Exterior - Exterior                                  453\n",
       "Safety - Safety                                      459\n",
       "Entertainment & Communication - Entertainment       1458\n",
       "heading.2                                            363\n",
       "Engine                                               367\n",
       "Max Power                                            423\n",
       "Torque                                               423\n",
       "Wheel Size                                          3346\n",
       "Seats.1                                              369\n",
       "Engine and Transmission - Color                      366\n",
       "Engine and Transmission - Engine Type                658\n",
       "Engine and Transmission - Displacement               367\n",
       "Engine and Transmission - Max Power                  423\n",
       "Engine and Transmission - Max Torque                 423\n",
       "Engine and Transmission - No of Cylinder             394\n",
       "Engine and Transmission - Values per Cylinder        414\n",
       "Engine and Transmission - Fuel Suppy System         2090\n",
       "Engine and Transmission - Turbo Charger             1403\n",
       "Dimensions & Capacity - Length                       442\n",
       "Dimensions & Capacity - Width                        446\n",
       "Dimensions & Capacity - Height                       442\n",
       "Dimensions & Capacity - Wheel Base                   526\n",
       "Dimensions & Capacity - Kerb Weight                  422\n",
       "Miscellaneous - Gear Box                             469\n",
       "Miscellaneous - Drive Type                          1923\n",
       "Miscellaneous - Seating Capacity                     369\n",
       "Miscellaneous - Steering Type                        618\n",
       "Miscellaneous - Front Brake Type                     459\n",
       "Miscellaneous - Rear Brake Type                      459\n",
       "Miscellaneous - Tyre Type                            440\n",
       "Miscellaneous - Alloy Wheel Size                    3346\n",
       "Miscellaneous - No Door Numbers                      374\n",
       "Miscellaneous - Cargo Volumn                        1956\n",
       "Mileage                                              650\n",
       "Engine and Transmission - Value Configuration       2579\n",
       "Engine and Transmission - Compression Ratio         6837\n",
       "Engine and Transmission - Super Charger             2325\n",
       "Dimensions & Capacity - Front Tread                 3921\n",
       "Dimensions & Capacity - Rear Tread                  3933\n",
       "Dimensions & Capacity - Gross Weight                4904\n",
       "Miscellaneous - Turning Radius                      1963\n",
       "Miscellaneous - Top Speed                           4125\n",
       "Miscellaneous - Acceleration                        3875\n",
       "Engine and Transmission - BoreX Stroke              6327\n",
       "Dimensions & Capacity - Ground Clearance Unladen    8217\n",
       "city                                                   0\n",
       "dtype: int64"
      ]
     },
     "execution_count": 179,
     "metadata": {},
     "output_type": "execute_result"
    }
   ],
   "source": [
    "car.isna().sum()"
   ]
  },
  {
   "cell_type": "code",
   "execution_count": 180,
   "metadata": {},
   "outputs": [
    {
     "data": {
      "text/plain": [
       "(8732, 78)"
      ]
     },
     "execution_count": 180,
     "metadata": {},
     "output_type": "execute_result"
    }
   ],
   "source": [
    "car.shape"
   ]
  },
  {
   "cell_type": "code",
   "execution_count": 181,
   "metadata": {},
   "outputs": [
    {
     "name": "stdout",
     "output_type": "stream",
     "text": [
      "<class 'pandas.core.frame.DataFrame'>\n",
      "RangeIndex: 8732 entries, 0 to 8731\n",
      "Data columns (total 78 columns):\n",
      " #   Column                                            Non-Null Count  Dtype  \n",
      "---  ------                                            --------------  -----  \n",
      " 0   it                                                8732 non-null   int64  \n",
      " 1   ft                                                8732 non-null   object \n",
      " 2   bt                                                8726 non-null   object \n",
      " 3   km                                                8732 non-null   object \n",
      " 4   transmission                                      8732 non-null   object \n",
      " 5   ownerNo                                           8732 non-null   int64  \n",
      " 6   owner                                             8732 non-null   object \n",
      " 7   oem                                               8732 non-null   object \n",
      " 8   model                                             8732 non-null   object \n",
      " 9   modelYear                                         8732 non-null   int64  \n",
      " 10  centralVariantId                                  8732 non-null   int64  \n",
      " 11  variantName                                       8732 non-null   object \n",
      " 12  price                                             8732 non-null   object \n",
      " 13  priceActual                                       1997 non-null   object \n",
      " 14  priceSaving                                       0 non-null      float64\n",
      " 15  priceFixedText                                    0 non-null      float64\n",
      " 16  trendingText                                      8732 non-null   object \n",
      " 17  heading                                           8369 non-null   object \n",
      " 18  Registration Year                                 8317 non-null   object \n",
      " 19  Insurance Validity                                8365 non-null   object \n",
      " 20  Fuel Type                                         8369 non-null   object \n",
      " 21  Seats                                             8363 non-null   object \n",
      " 22  Kms Driven                                        8367 non-null   object \n",
      " 23  RTO                                               7475 non-null   object \n",
      " 24  Ownership                                         8337 non-null   object \n",
      " 25  Engine Displacement                               8365 non-null   object \n",
      " 26  Transmission                                      8369 non-null   object \n",
      " 27  Year of Manufacture                               8349 non-null   float64\n",
      " 28  heading.1                                         8369 non-null   object \n",
      " 29  top_features                                      8304 non-null   object \n",
      " 30  Comfort & Convenience - Comfort                   8301 non-null   object \n",
      " 31  Interior - Interior                               8292 non-null   object \n",
      " 32  Exterior - Exterior                               8279 non-null   object \n",
      " 33  Safety - Safety                                   8273 non-null   object \n",
      " 34  Entertainment & Communication - Entertainment     7274 non-null   object \n",
      " 35  heading.2                                         8369 non-null   object \n",
      " 36  Engine                                            8365 non-null   object \n",
      " 37  Max Power                                         8309 non-null   object \n",
      " 38  Torque                                            8309 non-null   object \n",
      " 39  Wheel Size                                        5386 non-null   object \n",
      " 40  Seats.1                                           8363 non-null   float64\n",
      " 41  Engine and Transmission - Color                   8366 non-null   object \n",
      " 42  Engine and Transmission - Engine Type             8074 non-null   object \n",
      " 43  Engine and Transmission - Displacement            8365 non-null   float64\n",
      " 44  Engine and Transmission - Max Power               8309 non-null   object \n",
      " 45  Engine and Transmission - Max Torque              8309 non-null   object \n",
      " 46  Engine and Transmission - No of Cylinder          8338 non-null   float64\n",
      " 47  Engine and Transmission - Values per Cylinder     8318 non-null   float64\n",
      " 48  Engine and Transmission - Fuel Suppy System       6642 non-null   object \n",
      " 49  Engine and Transmission - Turbo Charger           7329 non-null   object \n",
      " 50  Dimensions & Capacity - Length                    8290 non-null   object \n",
      " 51  Dimensions & Capacity - Width                     8286 non-null   object \n",
      " 52  Dimensions & Capacity - Height                    8290 non-null   object \n",
      " 53  Dimensions & Capacity - Wheel Base                8206 non-null   object \n",
      " 54  Dimensions & Capacity - Kerb Weight               8310 non-null   object \n",
      " 55  Miscellaneous - Gear Box                          8263 non-null   object \n",
      " 56  Miscellaneous - Drive Type                        6809 non-null   object \n",
      " 57  Miscellaneous - Seating Capacity                  8363 non-null   float64\n",
      " 58  Miscellaneous - Steering Type                     8114 non-null   object \n",
      " 59  Miscellaneous - Front Brake Type                  8273 non-null   object \n",
      " 60  Miscellaneous - Rear Brake Type                   8273 non-null   object \n",
      " 61  Miscellaneous - Tyre Type                         8292 non-null   object \n",
      " 62  Miscellaneous - Alloy Wheel Size                  5386 non-null   object \n",
      " 63  Miscellaneous - No Door Numbers                   8358 non-null   float64\n",
      " 64  Miscellaneous - Cargo Volumn                      6776 non-null   object \n",
      " 65  Mileage                                           8082 non-null   object \n",
      " 66  Engine and Transmission - Value Configuration     6153 non-null   object \n",
      " 67  Engine and Transmission - Compression Ratio       1895 non-null   object \n",
      " 68  Engine and Transmission - Super Charger           6407 non-null   object \n",
      " 69  Dimensions & Capacity - Front Tread               4811 non-null   object \n",
      " 70  Dimensions & Capacity - Rear Tread                4799 non-null   object \n",
      " 71  Dimensions & Capacity - Gross Weight              3828 non-null   object \n",
      " 72  Miscellaneous - Turning Radius                    6769 non-null   object \n",
      " 73  Miscellaneous - Top Speed                         4607 non-null   object \n",
      " 74  Miscellaneous - Acceleration                      4857 non-null   object \n",
      " 75  Engine and Transmission - BoreX Stroke            2405 non-null   object \n",
      " 76  Dimensions & Capacity - Ground Clearance Unladen  515 non-null    object \n",
      " 77  city                                              8732 non-null   object \n",
      "dtypes: float64(9), int64(4), object(65)\n",
      "memory usage: 5.2+ MB\n"
     ]
    }
   ],
   "source": [
    "car.info()"
   ]
  },
  {
   "cell_type": "code",
   "execution_count": 182,
   "metadata": {},
   "outputs": [
    {
     "data": {
      "text/plain": [
       "array(['SUV', 'Minivans', 'Hatchback', 'Sedan', 'MUV', 'Hybrids', 'Coupe',\n",
       "       'Pickup Trucks', 'Convertibles', nan, 'Wagon'], dtype=object)"
      ]
     },
     "execution_count": 182,
     "metadata": {},
     "output_type": "execute_result"
    }
   ],
   "source": [
    "car['bt'].unique()"
   ]
  },
  {
   "cell_type": "markdown",
   "metadata": {},
   "source": [
    "#### body type - bt - handling missing values"
   ]
  },
  {
   "cell_type": "code",
   "execution_count": 183,
   "metadata": {},
   "outputs": [
    {
     "name": "stdout",
     "output_type": "stream",
     "text": [
      "['SUV' 'Minivans' 'Hatchback' 'Sedan' 'MUV' 'Hybrids' 'Coupe'\n",
      " 'Pickup Trucks' 'Convertibles' 'Wagon']\n",
      "0\n"
     ]
    },
    {
     "name": "stderr",
     "output_type": "stream",
     "text": [
      "C:\\Users\\Srivathsan\\AppData\\Local\\Temp\\ipykernel_31100\\3652493162.py:5: FutureWarning: A value is trying to be set on a copy of a DataFrame or Series through chained assignment using an inplace method.\n",
      "The behavior will change in pandas 3.0. This inplace method will never work because the intermediate object on which we are setting values always behaves as a copy.\n",
      "\n",
      "For example, when doing 'df[col].method(value, inplace=True)', try using 'df.method({col: value}, inplace=True)' or df[col] = df[col].method(value) instead, to perform the operation inplace on the original object.\n",
      "\n",
      "\n",
      "  car['bt'].fillna(bt_mode, inplace=True)\n"
     ]
    }
   ],
   "source": [
    "# Find the mode (most frequent category) in 'bt'\n",
    "bt_mode = car['bt'].mode()[0]\n",
    "\n",
    "# Impute missing values with the mode\n",
    "car['bt'].fillna(bt_mode, inplace=True)\n",
    "\n",
    "print(car['bt'].unique())  # To check the unique values after imputation\n",
    "print(car['bt'].isnull().sum())  # Verify no missing values remain\n"
   ]
  },
  {
   "cell_type": "code",
   "execution_count": 184,
   "metadata": {},
   "outputs": [
    {
     "data": {
      "text/plain": [
       "it                                                     0\n",
       "ft                                                     0\n",
       "bt                                                     0\n",
       "km                                                     0\n",
       "transmission                                           0\n",
       "ownerNo                                                0\n",
       "owner                                                  0\n",
       "oem                                                    0\n",
       "model                                                  0\n",
       "modelYear                                              0\n",
       "centralVariantId                                       0\n",
       "variantName                                            0\n",
       "price                                                  0\n",
       "priceActual                                         6735\n",
       "priceSaving                                         8732\n",
       "priceFixedText                                      8732\n",
       "trendingText                                           0\n",
       "heading                                              363\n",
       "Registration Year                                    415\n",
       "Insurance Validity                                   367\n",
       "Fuel Type                                            363\n",
       "Seats                                                369\n",
       "Kms Driven                                           365\n",
       "RTO                                                 1257\n",
       "Ownership                                            395\n",
       "Engine Displacement                                  367\n",
       "Transmission                                         363\n",
       "Year of Manufacture                                  383\n",
       "heading.1                                            363\n",
       "top_features                                         428\n",
       "Comfort & Convenience - Comfort                      431\n",
       "Interior - Interior                                  440\n",
       "Exterior - Exterior                                  453\n",
       "Safety - Safety                                      459\n",
       "Entertainment & Communication - Entertainment       1458\n",
       "heading.2                                            363\n",
       "Engine                                               367\n",
       "Max Power                                            423\n",
       "Torque                                               423\n",
       "Wheel Size                                          3346\n",
       "Seats.1                                              369\n",
       "Engine and Transmission - Color                      366\n",
       "Engine and Transmission - Engine Type                658\n",
       "Engine and Transmission - Displacement               367\n",
       "Engine and Transmission - Max Power                  423\n",
       "Engine and Transmission - Max Torque                 423\n",
       "Engine and Transmission - No of Cylinder             394\n",
       "Engine and Transmission - Values per Cylinder        414\n",
       "Engine and Transmission - Fuel Suppy System         2090\n",
       "Engine and Transmission - Turbo Charger             1403\n",
       "Dimensions & Capacity - Length                       442\n",
       "Dimensions & Capacity - Width                        446\n",
       "Dimensions & Capacity - Height                       442\n",
       "Dimensions & Capacity - Wheel Base                   526\n",
       "Dimensions & Capacity - Kerb Weight                  422\n",
       "Miscellaneous - Gear Box                             469\n",
       "Miscellaneous - Drive Type                          1923\n",
       "Miscellaneous - Seating Capacity                     369\n",
       "Miscellaneous - Steering Type                        618\n",
       "Miscellaneous - Front Brake Type                     459\n",
       "Miscellaneous - Rear Brake Type                      459\n",
       "Miscellaneous - Tyre Type                            440\n",
       "Miscellaneous - Alloy Wheel Size                    3346\n",
       "Miscellaneous - No Door Numbers                      374\n",
       "Miscellaneous - Cargo Volumn                        1956\n",
       "Mileage                                              650\n",
       "Engine and Transmission - Value Configuration       2579\n",
       "Engine and Transmission - Compression Ratio         6837\n",
       "Engine and Transmission - Super Charger             2325\n",
       "Dimensions & Capacity - Front Tread                 3921\n",
       "Dimensions & Capacity - Rear Tread                  3933\n",
       "Dimensions & Capacity - Gross Weight                4904\n",
       "Miscellaneous - Turning Radius                      1963\n",
       "Miscellaneous - Top Speed                           4125\n",
       "Miscellaneous - Acceleration                        3875\n",
       "Engine and Transmission - BoreX Stroke              6327\n",
       "Dimensions & Capacity - Ground Clearance Unladen    8217\n",
       "city                                                   0\n",
       "dtype: int64"
      ]
     },
     "execution_count": 184,
     "metadata": {},
     "output_type": "execute_result"
    }
   ],
   "source": [
    "car.isna().sum()"
   ]
  },
  {
   "cell_type": "code",
   "execution_count": 185,
   "metadata": {},
   "outputs": [
    {
     "data": {
      "text/plain": [
       "415"
      ]
     },
     "execution_count": 185,
     "metadata": {},
     "output_type": "execute_result"
    }
   ],
   "source": [
    "car['Registration Year'].isna().sum()"
   ]
  },
  {
   "cell_type": "code",
   "execution_count": 186,
   "metadata": {},
   "outputs": [
    {
     "data": {
      "text/plain": [
       "367"
      ]
     },
     "execution_count": 186,
     "metadata": {},
     "output_type": "execute_result"
    }
   ],
   "source": [
    "car['Insurance Validity'].isna().sum()"
   ]
  },
  {
   "cell_type": "code",
   "execution_count": 187,
   "metadata": {},
   "outputs": [
    {
     "data": {
      "text/plain": [
       "363"
      ]
     },
     "execution_count": 187,
     "metadata": {},
     "output_type": "execute_result"
    }
   ],
   "source": [
    "car['Fuel Type'].isna().sum()"
   ]
  },
  {
   "cell_type": "markdown",
   "metadata": {},
   "source": [
    "### car Seats -handling missing values"
   ]
  },
  {
   "cell_type": "code",
   "execution_count": 188,
   "metadata": {},
   "outputs": [
    {
     "data": {
      "text/plain": [
       "369"
      ]
     },
     "execution_count": 188,
     "metadata": {},
     "output_type": "execute_result"
    }
   ],
   "source": [
    "car['Seats'].isna().sum()"
   ]
  },
  {
   "cell_type": "code",
   "execution_count": 189,
   "metadata": {},
   "outputs": [
    {
     "data": {
      "text/plain": [
       "array([ 5.,  7.,  6.,  8.,  4., 10.,  9., nan,  2.])"
      ]
     },
     "execution_count": 189,
     "metadata": {},
     "output_type": "execute_result"
    }
   ],
   "source": [
    "car['Seats.1'].unique()"
   ]
  },
  {
   "cell_type": "code",
   "execution_count": 190,
   "metadata": {},
   "outputs": [
    {
     "data": {
      "text/plain": [
       "5.203276336242975"
      ]
     },
     "execution_count": 190,
     "metadata": {},
     "output_type": "execute_result"
    }
   ],
   "source": [
    "car['Seats.1'].mean()\n"
   ]
  },
  {
   "cell_type": "code",
   "execution_count": 191,
   "metadata": {},
   "outputs": [
    {
     "name": "stdout",
     "output_type": "stream",
     "text": [
      "['5 Seats' '7 Seats' '6 Seats' '8 Seats' '4 Seats' '10 Seats' '9 Seats'\n",
      " '2 Seats']\n",
      "0\n"
     ]
    },
    {
     "name": "stderr",
     "output_type": "stream",
     "text": [
      "C:\\Users\\Srivathsan\\AppData\\Local\\Temp\\ipykernel_31100\\31517149.py:5: FutureWarning: A value is trying to be set on a copy of a DataFrame or Series through chained assignment using an inplace method.\n",
      "The behavior will change in pandas 3.0. This inplace method will never work because the intermediate object on which we are setting values always behaves as a copy.\n",
      "\n",
      "For example, when doing 'df[col].method(value, inplace=True)', try using 'df.method({col: value}, inplace=True)' or df[col] = df[col].method(value) instead, to perform the operation inplace on the original object.\n",
      "\n",
      "\n",
      "  car['Seats'].fillna(seats_mode, inplace=True)\n"
     ]
    }
   ],
   "source": [
    "# Find the mode (most frequent number of seats)\n",
    "seats_mode = car['Seats'].mode()[0]\n",
    "\n",
    "# Impute missing values with the mode\n",
    "car['Seats'].fillna(seats_mode, inplace=True)\n",
    "\n",
    "# Check the unique values and missing values after imputation\n",
    "print(car['Seats'].unique())\n",
    "print(car['Seats'].isnull().sum())  # Verify no missing values remain\n"
   ]
  },
  {
   "cell_type": "code",
   "execution_count": 192,
   "metadata": {},
   "outputs": [
    {
     "name": "stdout",
     "output_type": "stream",
     "text": [
      "[ 5.  7.  6.  8.  4. 10.  9.  2.]\n",
      "0\n"
     ]
    },
    {
     "name": "stderr",
     "output_type": "stream",
     "text": [
      "C:\\Users\\Srivathsan\\AppData\\Local\\Temp\\ipykernel_31100\\3481241744.py:5: FutureWarning: A value is trying to be set on a copy of a DataFrame or Series through chained assignment using an inplace method.\n",
      "The behavior will change in pandas 3.0. This inplace method will never work because the intermediate object on which we are setting values always behaves as a copy.\n",
      "\n",
      "For example, when doing 'df[col].method(value, inplace=True)', try using 'df.method({col: value}, inplace=True)' or df[col] = df[col].method(value) instead, to perform the operation inplace on the original object.\n",
      "\n",
      "\n",
      "  car['Seats.1'].fillna(seats_mode, inplace=True)\n"
     ]
    }
   ],
   "source": [
    "# Find the mode (most frequent number of seats)\n",
    "seats_mode = car['Seats.1'].mode()[0]\n",
    "\n",
    "# Impute missing values with the mode\n",
    "car['Seats.1'].fillna(seats_mode, inplace=True)\n",
    "\n",
    "# Check the unique values and missing values after imputation\n",
    "print(car['Seats.1'].unique())\n",
    "print(car['Seats.1'].isnull().sum())  # Verify no missing values remain\n"
   ]
  },
  {
   "cell_type": "markdown",
   "metadata": {},
   "source": [
    "### kms driven - handling missing values"
   ]
  },
  {
   "cell_type": "code",
   "execution_count": 193,
   "metadata": {},
   "outputs": [
    {
     "data": {
      "text/plain": [
       "0"
      ]
     },
     "execution_count": 193,
     "metadata": {},
     "output_type": "execute_result"
    }
   ],
   "source": [
    "car['km'].isna().sum()\n"
   ]
  },
  {
   "cell_type": "code",
   "execution_count": 194,
   "metadata": {},
   "outputs": [
    {
     "data": {
      "text/plain": [
       "365"
      ]
     },
     "execution_count": 194,
     "metadata": {},
     "output_type": "execute_result"
    }
   ],
   "source": [
    "car['Kms Driven'].isna().sum()"
   ]
  },
  {
   "cell_type": "code",
   "execution_count": 195,
   "metadata": {},
   "outputs": [],
   "source": [
    "car['Kms Driven']=car['Kms Driven'].fillna(car['km'].apply(lambda x: x))"
   ]
  },
  {
   "cell_type": "code",
   "execution_count": 196,
   "metadata": {},
   "outputs": [
    {
     "data": {
      "text/plain": [
       "0"
      ]
     },
     "execution_count": 196,
     "metadata": {},
     "output_type": "execute_result"
    }
   ],
   "source": [
    "car['Kms Driven'].isna().sum()"
   ]
  },
  {
   "cell_type": "code",
   "execution_count": 197,
   "metadata": {},
   "outputs": [
    {
     "data": {
      "text/plain": [
       "0    20,000 Kms\n",
       "1    20,687 Kms\n",
       "2    30,000 Kms\n",
       "3    59,247 Kms\n",
       "4    50,000 Kms\n",
       "Name: Kms Driven, dtype: object"
      ]
     },
     "execution_count": 197,
     "metadata": {},
     "output_type": "execute_result"
    }
   ],
   "source": [
    "car['Kms Driven'].head()"
   ]
  },
  {
   "cell_type": "markdown",
   "metadata": {},
   "source": [
    "### Registration Year -- handling  missing values with respect to modelYear"
   ]
  },
  {
   "cell_type": "code",
   "execution_count": 198,
   "metadata": {},
   "outputs": [],
   "source": [
    "car['Registration Year']=car['Registration Year'].fillna(car['modelYear'].apply(lambda x: f'1.1.{int(x)}'))\n"
   ]
  },
  {
   "cell_type": "code",
   "execution_count": 199,
   "metadata": {},
   "outputs": [
    {
     "data": {
      "text/plain": [
       "0"
      ]
     },
     "execution_count": 199,
     "metadata": {},
     "output_type": "execute_result"
    }
   ],
   "source": [
    "car['Registration Year'].isna().sum()"
   ]
  },
  {
   "cell_type": "code",
   "execution_count": 200,
   "metadata": {},
   "outputs": [
    {
     "data": {
      "text/plain": [
       "0           2022\n",
       "1       Feb 2015\n",
       "2           2021\n",
       "3       May 2015\n",
       "4           2015\n",
       "5      Sept 2017\n",
       "6       Aug 2016\n",
       "7       May 2010\n",
       "8       Oct 2018\n",
       "9      Sept 2018\n",
       "10          2021\n",
       "11      Jul 2019\n",
       "12      Apr 2020\n",
       "13          2018\n",
       "14      Aug 2019\n",
       "15      Feb 2019\n",
       "16     Sept 2017\n",
       "17      Feb 2014\n",
       "18     Sept 2022\n",
       "19      Feb 2014\n",
       "20          2016\n",
       "21     Sept 2014\n",
       "22      Mar 2018\n",
       "23      Oct 2017\n",
       "24          2020\n",
       "25      Aug 2019\n",
       "26      Mar 2020\n",
       "27          2016\n",
       "28      Aug 2013\n",
       "29      Jun 2019\n",
       "30          2017\n",
       "31      Jul 2016\n",
       "32      Aug 2017\n",
       "33      Jul 2022\n",
       "34      Nov 2016\n",
       "35      Jun 2015\n",
       "36          2017\n",
       "37          2017\n",
       "38      Aug 2016\n",
       "39          2008\n",
       "40      Jun 2017\n",
       "41      Aug 2016\n",
       "42          2016\n",
       "43      Jun 2022\n",
       "44      Aug 2016\n",
       "45          2013\n",
       "46      Jun 2021\n",
       "47      Aug 2018\n",
       "48      Jan 2018\n",
       "49      Mar 2018\n",
       "50      Jul 2016\n",
       "51     Sept 2014\n",
       "52      Nov 2015\n",
       "53      Jun 2019\n",
       "54          2017\n",
       "55          2017\n",
       "56      Jul 2020\n",
       "57      Jun 2018\n",
       "58      Aug 2018\n",
       "59      Aug 2017\n",
       "60      Jul 2018\n",
       "61      Jul 2019\n",
       "62      Mar 2016\n",
       "63      Jul 2021\n",
       "64      Jun 2019\n",
       "65      Aug 2013\n",
       "66      Dec 2018\n",
       "67      Jun 2022\n",
       "68      Mar 2019\n",
       "69      Jun 2020\n",
       "70          2022\n",
       "71          2010\n",
       "72      Aug 2020\n",
       "73      Dec 2022\n",
       "74      Oct 2016\n",
       "75      Jul 2011\n",
       "76          2018\n",
       "77      Oct 2016\n",
       "78      Feb 2014\n",
       "79          2011\n",
       "80      Jun 2020\n",
       "81      Jun 2016\n",
       "82          2016\n",
       "83      Jun 2017\n",
       "84      Nov 2018\n",
       "85          2015\n",
       "86      Jun 2021\n",
       "87      May 2019\n",
       "88      May 2017\n",
       "89      Aug 2019\n",
       "90          2016\n",
       "91      Aug 2019\n",
       "92      Jun 2019\n",
       "93      Jun 2016\n",
       "94      Jun 2015\n",
       "95          2017\n",
       "96      Jul 2017\n",
       "97          2017\n",
       "98      Dec 2012\n",
       "99          2019\n",
       "100     Apr 2017\n",
       "101     Oct 2019\n",
       "102         2017\n",
       "103     Mar 2012\n",
       "104     Jun 2020\n",
       "105         2017\n",
       "106     Mar 2017\n",
       "107         2015\n",
       "108     Jun 2018\n",
       "109     Jul 2018\n",
       "110         2007\n",
       "111         2015\n",
       "112     Aug 2017\n",
       "113     Jul 2018\n",
       "114     Jan 2016\n",
       "115     Mar 2016\n",
       "116     Feb 2015\n",
       "117         2015\n",
       "118     Apr 2017\n",
       "119     Dec 2016\n",
       "120     Jun 2016\n",
       "121     Jun 2016\n",
       "Name: Registration Year, dtype: object"
      ]
     },
     "execution_count": 200,
     "metadata": {},
     "output_type": "execute_result"
    }
   ],
   "source": [
    "car['Registration Year'].head(122)"
   ]
  },
  {
   "cell_type": "markdown",
   "metadata": {},
   "source": [
    "### Fuel type handling missing values  and convert into unique values for repeated values with different case"
   ]
  },
  {
   "cell_type": "code",
   "execution_count": 201,
   "metadata": {},
   "outputs": [
    {
     "data": {
      "text/plain": [
       "363"
      ]
     },
     "execution_count": 201,
     "metadata": {},
     "output_type": "execute_result"
    }
   ],
   "source": [
    "car['Fuel Type'].isna().sum()"
   ]
  },
  {
   "cell_type": "code",
   "execution_count": 202,
   "metadata": {},
   "outputs": [
    {
     "data": {
      "text/plain": [
       "0"
      ]
     },
     "execution_count": 202,
     "metadata": {},
     "output_type": "execute_result"
    }
   ],
   "source": [
    "car['ft'].isna().sum()"
   ]
  },
  {
   "cell_type": "code",
   "execution_count": 203,
   "metadata": {},
   "outputs": [],
   "source": [
    "car['Fuel Type']=car['Fuel Type'].fillna(car['ft'].apply(lambda x: x))"
   ]
  },
  {
   "cell_type": "code",
   "execution_count": 204,
   "metadata": {},
   "outputs": [
    {
     "data": {
      "text/plain": [
       "0"
      ]
     },
     "execution_count": 204,
     "metadata": {},
     "output_type": "execute_result"
    }
   ],
   "source": [
    "car['Fuel Type'].isna().sum()"
   ]
  },
  {
   "cell_type": "code",
   "execution_count": 205,
   "metadata": {},
   "outputs": [
    {
     "data": {
      "text/plain": [
       "array(['Petrol', 'Diesel', 'Electric', 'CNG', 'LPG', 'Cng', 'Lpg'],\n",
       "      dtype=object)"
      ]
     },
     "execution_count": 205,
     "metadata": {},
     "output_type": "execute_result"
    }
   ],
   "source": [
    "car['Fuel Type'].unique()"
   ]
  },
  {
   "cell_type": "code",
   "execution_count": 206,
   "metadata": {},
   "outputs": [
    {
     "data": {
      "text/plain": [
       "array(['Petrol', 'Diesel', 'Electric', 'Cng', 'Lpg'], dtype=object)"
      ]
     },
     "execution_count": 206,
     "metadata": {},
     "output_type": "execute_result"
    }
   ],
   "source": [
    "car['ft'].unique()"
   ]
  },
  {
   "cell_type": "code",
   "execution_count": 207,
   "metadata": {},
   "outputs": [],
   "source": [
    "# Convert 'Cng' and 'Lpg' to 'CNG' and 'LPG' respectively\n",
    "car['Fuel Type'] = car['Fuel Type'].replace({'CNG': 'Cng', 'LPG': 'Lpg'})\n"
   ]
  },
  {
   "cell_type": "code",
   "execution_count": 208,
   "metadata": {},
   "outputs": [
    {
     "data": {
      "text/plain": [
       "array(['Petrol', 'Diesel', 'Electric', 'Cng', 'Lpg'], dtype=object)"
      ]
     },
     "execution_count": 208,
     "metadata": {},
     "output_type": "execute_result"
    }
   ],
   "source": [
    "car['Fuel Type'].unique()"
   ]
  },
  {
   "cell_type": "markdown",
   "metadata": {},
   "source": [
    "### Ownership - Owner handling missing values "
   ]
  },
  {
   "cell_type": "code",
   "execution_count": 209,
   "metadata": {},
   "outputs": [
    {
     "data": {
      "text/plain": [
       "0    1st Owner\n",
       "Name: owner, dtype: object"
      ]
     },
     "execution_count": 209,
     "metadata": {},
     "output_type": "execute_result"
    }
   ],
   "source": [
    "car['Ownership'].head()\n",
    "car['owner'].head(1)"
   ]
  },
  {
   "cell_type": "code",
   "execution_count": 210,
   "metadata": {},
   "outputs": [
    {
     "data": {
      "text/plain": [
       "0"
      ]
     },
     "execution_count": 210,
     "metadata": {},
     "output_type": "execute_result"
    }
   ],
   "source": [
    "car['owner'].isna().sum()"
   ]
  },
  {
   "cell_type": "code",
   "execution_count": 211,
   "metadata": {},
   "outputs": [
    {
     "data": {
      "text/plain": [
       "395"
      ]
     },
     "execution_count": 211,
     "metadata": {},
     "output_type": "execute_result"
    }
   ],
   "source": [
    "car['Ownership'].isna().sum()"
   ]
  },
  {
   "cell_type": "code",
   "execution_count": 212,
   "metadata": {},
   "outputs": [
    {
     "data": {
      "text/plain": [
       "array(['1st Owner', '2nd Owner', '3rd Owner', '4th Owner', '0th Owner',\n",
       "       '5th Owner'], dtype=object)"
      ]
     },
     "execution_count": 212,
     "metadata": {},
     "output_type": "execute_result"
    }
   ],
   "source": [
    "car['owner'].unique()"
   ]
  },
  {
   "cell_type": "code",
   "execution_count": 213,
   "metadata": {},
   "outputs": [
    {
     "data": {
      "text/plain": [
       "array(['First Owner', 'Second Owner', 'Third Owner', 'Fourth Owner', nan,\n",
       "       'Fifth Owner'], dtype=object)"
      ]
     },
     "execution_count": 213,
     "metadata": {},
     "output_type": "execute_result"
    }
   ],
   "source": [
    "car['Ownership'].unique()"
   ]
  },
  {
   "cell_type": "code",
   "execution_count": 214,
   "metadata": {},
   "outputs": [],
   "source": [
    "# Fill missing values in 'Ownership' column with formatted values from 'owner' column\n",
    "car['Ownership'] = car['Ownership'].fillna('Zeroth Owner')\n"
   ]
  },
  {
   "cell_type": "code",
   "execution_count": 215,
   "metadata": {},
   "outputs": [
    {
     "data": {
      "text/plain": [
       "array(['First Owner', 'Second Owner', 'Third Owner', 'Fourth Owner',\n",
       "       'Zeroth Owner', 'Fifth Owner'], dtype=object)"
      ]
     },
     "execution_count": 215,
     "metadata": {},
     "output_type": "execute_result"
    }
   ],
   "source": [
    "car['Ownership'].unique()"
   ]
  },
  {
   "cell_type": "code",
   "execution_count": 216,
   "metadata": {},
   "outputs": [
    {
     "data": {
      "text/plain": [
       "0"
      ]
     },
     "execution_count": 216,
     "metadata": {},
     "output_type": "execute_result"
    }
   ],
   "source": [
    "car['Ownership'].isna().sum()"
   ]
  },
  {
   "cell_type": "markdown",
   "metadata": {},
   "source": [
    "### Transmission -- handling missing values"
   ]
  },
  {
   "cell_type": "code",
   "execution_count": 217,
   "metadata": {},
   "outputs": [
    {
     "data": {
      "text/plain": [
       "array(['Automatic', 'Manual'], dtype=object)"
      ]
     },
     "execution_count": 217,
     "metadata": {},
     "output_type": "execute_result"
    }
   ],
   "source": [
    "car['transmission'].unique()"
   ]
  },
  {
   "cell_type": "code",
   "execution_count": 218,
   "metadata": {},
   "outputs": [
    {
     "data": {
      "text/plain": [
       "array(['Automatic', 'Manual', nan], dtype=object)"
      ]
     },
     "execution_count": 218,
     "metadata": {},
     "output_type": "execute_result"
    }
   ],
   "source": [
    "car['Transmission'].unique()"
   ]
  },
  {
   "cell_type": "code",
   "execution_count": 219,
   "metadata": {},
   "outputs": [
    {
     "data": {
      "text/plain": [
       "363"
      ]
     },
     "execution_count": 219,
     "metadata": {},
     "output_type": "execute_result"
    }
   ],
   "source": [
    "car['Transmission'].isna().sum()"
   ]
  },
  {
   "cell_type": "code",
   "execution_count": 220,
   "metadata": {},
   "outputs": [],
   "source": [
    "car['Transmission']=car['Transmission'].fillna(car['transmission'].apply(lambda x:x))"
   ]
  },
  {
   "cell_type": "code",
   "execution_count": 221,
   "metadata": {},
   "outputs": [
    {
     "data": {
      "text/plain": [
       "array(['Automatic', 'Manual'], dtype=object)"
      ]
     },
     "execution_count": 221,
     "metadata": {},
     "output_type": "execute_result"
    }
   ],
   "source": [
    "car['Transmission'].unique()"
   ]
  },
  {
   "cell_type": "markdown",
   "metadata": {},
   "source": [
    "### OwnerNO "
   ]
  },
  {
   "cell_type": "code",
   "execution_count": 222,
   "metadata": {},
   "outputs": [
    {
     "data": {
      "text/plain": [
       "array([1, 2, 3, 4, 0, 5], dtype=int64)"
      ]
     },
     "execution_count": 222,
     "metadata": {},
     "output_type": "execute_result"
    }
   ],
   "source": [
    "car['ownerNo'].unique()"
   ]
  },
  {
   "cell_type": "code",
   "execution_count": 223,
   "metadata": {},
   "outputs": [
    {
     "data": {
      "text/plain": [
       "0"
      ]
     },
     "execution_count": 223,
     "metadata": {},
     "output_type": "execute_result"
    }
   ],
   "source": [
    "car['ownerNo'].isna().sum()"
   ]
  },
  {
   "cell_type": "markdown",
   "metadata": {},
   "source": [
    "### Model - Handling missing values"
   ]
  },
  {
   "cell_type": "code",
   "execution_count": 224,
   "metadata": {},
   "outputs": [
    {
     "data": {
      "text/plain": [
       "0"
      ]
     },
     "execution_count": 224,
     "metadata": {},
     "output_type": "execute_result"
    }
   ],
   "source": [
    "car['model'].isna().sum()"
   ]
  },
  {
   "cell_type": "code",
   "execution_count": 225,
   "metadata": {},
   "outputs": [
    {
     "data": {
      "text/plain": [
       "0         Kia Sonet\n",
       "1       Maruti Eeco\n",
       "2    Nissan Magnite\n",
       "3       Hyundai i10\n",
       "4        Honda Jazz\n",
       "Name: model, dtype: object"
      ]
     },
     "execution_count": 225,
     "metadata": {},
     "output_type": "execute_result"
    }
   ],
   "source": [
    "car['model'].head()"
   ]
  },
  {
   "cell_type": "markdown",
   "metadata": {},
   "source": [
    "### centralVariantId"
   ]
  },
  {
   "cell_type": "code",
   "execution_count": 226,
   "metadata": {},
   "outputs": [
    {
     "data": {
      "text/plain": [
       "0"
      ]
     },
     "execution_count": 226,
     "metadata": {},
     "output_type": "execute_result"
    }
   ],
   "source": [
    "car['centralVariantId'].isna().sum()"
   ]
  },
  {
   "cell_type": "code",
   "execution_count": 227,
   "metadata": {},
   "outputs": [
    {
     "data": {
      "text/plain": [
       "0    8654\n",
       "1    4025\n",
       "2    8135\n",
       "3    1579\n",
       "4    1341\n",
       "Name: centralVariantId, dtype: int64"
      ]
     },
     "execution_count": 227,
     "metadata": {},
     "output_type": "execute_result"
    }
   ],
   "source": [
    "car['centralVariantId'].head()"
   ]
  },
  {
   "cell_type": "markdown",
   "metadata": {},
   "source": [
    "### VariantName"
   ]
  },
  {
   "cell_type": "code",
   "execution_count": 228,
   "metadata": {},
   "outputs": [
    {
     "data": {
      "text/plain": [
       "0"
      ]
     },
     "execution_count": 228,
     "metadata": {},
     "output_type": "execute_result"
    }
   ],
   "source": [
    "car['variantName'].isna().sum()"
   ]
  },
  {
   "cell_type": "code",
   "execution_count": 229,
   "metadata": {},
   "outputs": [
    {
     "data": {
      "text/plain": [
       "0    Turbo DCT Anniversary Edition\n",
       "1           7 Seater Standard BSIV\n",
       "2            Turbo XV Premium BSVI\n",
       "3                      Sportz 1.1L\n",
       "4                    1.2 VX i VTEC\n",
       "Name: variantName, dtype: object"
      ]
     },
     "execution_count": 229,
     "metadata": {},
     "output_type": "execute_result"
    }
   ],
   "source": [
    "car['variantName'].head()"
   ]
  },
  {
   "cell_type": "markdown",
   "metadata": {},
   "source": [
    "### price - handle missing value "
   ]
  },
  {
   "cell_type": "code",
   "execution_count": 230,
   "metadata": {},
   "outputs": [
    {
     "data": {
      "text/plain": [
       "0"
      ]
     },
     "execution_count": 230,
     "metadata": {},
     "output_type": "execute_result"
    }
   ],
   "source": [
    "car['price'].isna().sum()"
   ]
  },
  {
   "cell_type": "code",
   "execution_count": 231,
   "metadata": {},
   "outputs": [
    {
     "data": {
      "text/plain": [
       "0    ₹ 11.50 Lakh\n",
       "1     ₹ 4.15 Lakh\n",
       "2     ₹ 7.50 Lakh\n",
       "3     ₹ 3.98 Lakh\n",
       "4     ₹ 5.50 Lakh\n",
       "5       ₹ 33 Lakh\n",
       "6     ₹ 4.53 Lakh\n",
       "7     ₹ 2.85 Lakh\n",
       "8       ₹ 50 Lakh\n",
       "9     ₹ 8.21 Lakh\n",
       "Name: price, dtype: object"
      ]
     },
     "execution_count": 231,
     "metadata": {},
     "output_type": "execute_result"
    }
   ],
   "source": [
    "car['price'].head(10)"
   ]
  },
  {
   "cell_type": "code",
   "execution_count": 232,
   "metadata": {},
   "outputs": [],
   "source": [
    "a=car[car['price'].str.contains('Crore', na=False)]"
   ]
  },
  {
   "cell_type": "code",
   "execution_count": 233,
   "metadata": {},
   "outputs": [
    {
     "data": {
      "text/plain": [
       "131     ₹ 1.10 Crore\n",
       "192     ₹ 1.18 Crore\n",
       "287     ₹ 1.13 Crore\n",
       "2242    ₹ 1.30 Crore\n",
       "3448    ₹ 2.60 Crore\n",
       "Name: price, dtype: object"
      ]
     },
     "execution_count": 233,
     "metadata": {},
     "output_type": "execute_result"
    }
   ],
   "source": [
    "a['price'].head()"
   ]
  },
  {
   "cell_type": "code",
   "execution_count": 234,
   "metadata": {},
   "outputs": [
    {
     "data": {
      "text/plain": [
       "array(['₹ 11.50 Lakh', '₹ 4.15 Lakh', '₹ 7.50 Lakh', ..., '₹ 35,000 ',\n",
       "       '₹ 10.82 Lakh', '₹ 1.05 Lakh'], dtype=object)"
      ]
     },
     "execution_count": 234,
     "metadata": {},
     "output_type": "execute_result"
    }
   ],
   "source": [
    "car['price'].unique()"
   ]
  },
  {
   "cell_type": "code",
   "execution_count": 235,
   "metadata": {},
   "outputs": [
    {
     "name": "stdout",
     "output_type": "stream",
     "text": [
      "0    1150000\n",
      "1     415000\n",
      "2     750000\n",
      "3     398000\n",
      "4     550000\n",
      "Name: price, dtype: int64\n"
     ]
    }
   ],
   "source": [
    "# Ensure the price column is treated as a string\n",
    "car['price'] = car['price'].astype(str)\n",
    "\n",
    "# Clean the price column\n",
    "car['price'] = car['price'].str.replace('₹', '').str.strip()  # Remove currency symbol\n",
    "\n",
    "# Define the conversion function with Crore and Lakh check\n",
    "def convert_price(price):\n",
    "    price = price.replace(',', '').strip()  # Remove commas for easier conversion\n",
    "    if 'Crore' in price:\n",
    "        return int(float(price.replace(' Crore', '').strip()) * 10000000)  # Convert Crore to integer\n",
    "    elif 'Lakh' in price:\n",
    "        return int(float(price.replace(' Lakh', '').strip()) * 100000)  # Convert Lakh to integer\n",
    "    else:\n",
    "        return int(price) if price.isdigit() else 0  # Treat as thousands or just integer\n",
    "\n",
    "# Apply the conversion function to the price column\n",
    "car['price'] = car['price'].apply(convert_price)\n",
    "\n",
    "# Display the updated price column\n",
    "print(car['price'].head())\n"
   ]
  },
  {
   "cell_type": "code",
   "execution_count": 236,
   "metadata": {},
   "outputs": [
    {
     "data": {
      "text/plain": [
       "41500000"
      ]
     },
     "execution_count": 236,
     "metadata": {},
     "output_type": "execute_result"
    }
   ],
   "source": [
    "car.price.max()"
   ]
  },
  {
   "cell_type": "code",
   "execution_count": 237,
   "metadata": {},
   "outputs": [
    {
     "data": {
      "text/plain": [
       "20161"
      ]
     },
     "execution_count": 237,
     "metadata": {},
     "output_type": "execute_result"
    }
   ],
   "source": [
    "car.price.min()"
   ]
  },
  {
   "cell_type": "code",
   "execution_count": 238,
   "metadata": {},
   "outputs": [
    {
     "data": {
      "text/plain": [
       "array([1150000,  415000,  750000, ...,   35000, 1082000,  105000],\n",
       "      dtype=int64)"
      ]
     },
     "execution_count": 238,
     "metadata": {},
     "output_type": "execute_result"
    }
   ],
   "source": [
    "car['price'].unique()"
   ]
  },
  {
   "cell_type": "code",
   "execution_count": 239,
   "metadata": {},
   "outputs": [
    {
     "data": {
      "text/plain": [
       "dtype('int64')"
      ]
     },
     "execution_count": 239,
     "metadata": {},
     "output_type": "execute_result"
    }
   ],
   "source": [
    "car['price'].dtype"
   ]
  },
  {
   "cell_type": "code",
   "execution_count": 240,
   "metadata": {},
   "outputs": [
    {
     "data": {
      "text/plain": [
       "41500000"
      ]
     },
     "execution_count": 240,
     "metadata": {},
     "output_type": "execute_result"
    }
   ],
   "source": [
    "car['price'].max()"
   ]
  },
  {
   "cell_type": "code",
   "execution_count": 241,
   "metadata": {},
   "outputs": [
    {
     "data": {
      "text/plain": [
       "0    1150000\n",
       "1     415000\n",
       "2     750000\n",
       "3     398000\n",
       "4     550000\n",
       "Name: price, dtype: int64"
      ]
     },
     "execution_count": 241,
     "metadata": {},
     "output_type": "execute_result"
    }
   ],
   "source": [
    "car['price'].head()"
   ]
  },
  {
   "cell_type": "markdown",
   "metadata": {},
   "source": [
    "### Insurance - handling missing values"
   ]
  },
  {
   "cell_type": "code",
   "execution_count": 242,
   "metadata": {},
   "outputs": [
    {
     "data": {
      "text/plain": [
       "367"
      ]
     },
     "execution_count": 242,
     "metadata": {},
     "output_type": "execute_result"
    }
   ],
   "source": [
    "car['Insurance Validity'].isna().sum()"
   ]
  },
  {
   "cell_type": "code",
   "execution_count": 243,
   "metadata": {},
   "outputs": [
    {
     "name": "stderr",
     "output_type": "stream",
     "text": [
      "C:\\Users\\Srivathsan\\AppData\\Local\\Temp\\ipykernel_31100\\209631941.py:1: FutureWarning: A value is trying to be set on a copy of a DataFrame or Series through chained assignment using an inplace method.\n",
      "The behavior will change in pandas 3.0. This inplace method will never work because the intermediate object on which we are setting values always behaves as a copy.\n",
      "\n",
      "For example, when doing 'df[col].method(value, inplace=True)', try using 'df.method({col: value}, inplace=True)' or df[col] = df[col].method(value) instead, to perform the operation inplace on the original object.\n",
      "\n",
      "\n",
      "  car['Insurance Validity'].fillna(car['Insurance Validity'].mode()[0], inplace=True)\n"
     ]
    }
   ],
   "source": [
    "car['Insurance Validity'].fillna(car['Insurance Validity'].mode()[0], inplace=True)\n"
   ]
  },
  {
   "cell_type": "code",
   "execution_count": 244,
   "metadata": {},
   "outputs": [
    {
     "data": {
      "text/plain": [
       "array(['Third Party insurance', 'Comprehensive', 'Third Party',\n",
       "       'Zero Dep', 'Not Available', '2', '1'], dtype=object)"
      ]
     },
     "execution_count": 244,
     "metadata": {},
     "output_type": "execute_result"
    }
   ],
   "source": [
    "car['Insurance Validity'].unique() #.isna().sum()"
   ]
  },
  {
   "cell_type": "code",
   "execution_count": 245,
   "metadata": {},
   "outputs": [],
   "source": [
    "# Mapping numerical and other inconsistent values to valid categories\n",
    "car['Insurance Validity'] = car['Insurance Validity'].replace({\n",
    "    '1': 'Third Party',\n",
    "    '2': 'Comprehensive',\n",
    "    'Zero Dep': 'Zero Dep'\n",
    "})\n"
   ]
  },
  {
   "cell_type": "code",
   "execution_count": 246,
   "metadata": {},
   "outputs": [
    {
     "data": {
      "text/plain": [
       "array(['Third Party insurance', 'Comprehensive', 'Third Party',\n",
       "       'Zero Dep', 'Not Available'], dtype=object)"
      ]
     },
     "execution_count": 246,
     "metadata": {},
     "output_type": "execute_result"
    }
   ],
   "source": [
    "car['Insurance Validity'].unique()"
   ]
  },
  {
   "cell_type": "code",
   "execution_count": 247,
   "metadata": {},
   "outputs": [
    {
     "data": {
      "text/plain": [
       "0"
      ]
     },
     "execution_count": 247,
     "metadata": {},
     "output_type": "execute_result"
    }
   ],
   "source": [
    "car['Insurance Validity'].isna().sum()"
   ]
  },
  {
   "cell_type": "markdown",
   "metadata": {},
   "source": [
    "### Engine Displacement - Handling missing values"
   ]
  },
  {
   "cell_type": "code",
   "execution_count": 248,
   "metadata": {},
   "outputs": [
    {
     "data": {
      "text/plain": [
       "367"
      ]
     },
     "execution_count": 248,
     "metadata": {},
     "output_type": "execute_result"
    }
   ],
   "source": [
    "car['Engine Displacement'].isna().sum()"
   ]
  },
  {
   "cell_type": "code",
   "execution_count": 249,
   "metadata": {},
   "outputs": [
    {
     "data": {
      "text/plain": [
       "367"
      ]
     },
     "execution_count": 249,
     "metadata": {},
     "output_type": "execute_result"
    }
   ],
   "source": [
    "car['Engine'].isna().sum()"
   ]
  },
  {
   "cell_type": "code",
   "execution_count": 250,
   "metadata": {},
   "outputs": [
    {
     "data": {
      "text/plain": [
       "array(['998 cc', '1196 cc', '999 cc', '1086 cc', '1199 cc', '2143 cc',\n",
       "       '1995 cc', '1497 cc', '1197 cc', '1956 cc', '2755 cc', '1198 cc',\n",
       "       '1248 cc', '0 cc', '1582 cc', '1984 cc', '2694 cc', '1498 cc',\n",
       "       '1298 cc', '1461 cc', '1798 cc', '1364 cc', '1591 cc', '1968 cc',\n",
       "       '2967 cc', '2393 cc', '2993 cc', '1368 cc', '2198 cc', '1373 cc',\n",
       "       '1598 cc', '2179 cc', '1462 cc', '1451 cc', '1194 cc', '1991 cc',\n",
       "       '1493 cc', '1998 cc', '4663 cc', '2987 cc', '796 cc', '1186 cc',\n",
       "       '1799 cc', '1950 cc', '1496 cc', '2925 cc', '1396 cc', '1353 cc',\n",
       "       '799 cc', '1405 cc', '814 cc', '2494 cc', '1399 cc', '1997 cc',\n",
       "       '1047 cc', '2999 cc', '1499 cc', '2184 cc', '1896 cc', '1999 cc',\n",
       "       '1969 cc', '1495 cc', '1390 cc', '1120 cc', '1482 cc', '2523 cc',\n",
       "       '2354 cc', '624 cc', '793 cc', '936 cc', '4134 cc', '993 cc',\n",
       "       '2499 cc', '2982 cc', '1596 cc', '1796 cc', '1422 cc', '1172 cc',\n",
       "       '1468 cc', '1599 cc', '1586 cc', '1193 cc', '2199 cc', '1330 cc',\n",
       "       '2696 cc', '2400 cc', '2477 cc', '2998 cc', '2997 cc', '2995 cc',\n",
       "       '1395 cc', '2487 cc', '1797 cc', '1341 cc', '1397 cc', '3198 cc',\n",
       "       '1332 cc', '2148 cc', '1299 cc', '1061 cc', '2497 cc', '1590 cc',\n",
       "       '1781 cc', '2953 cc', '1595 cc', nan, '2496 cc', '2362 cc',\n",
       "       '970 cc', '1389 cc', '1597 cc', '2498 cc', '995 cc', '72 cc',\n",
       "       '1589 cc', '3597 cc', '5000 cc', '2200 cc', '2996 cc', '1108 cc',\n",
       "       '1996 cc', '1985 cc', '2157 cc', '2112 cc', '2446 cc', '1794 cc',\n",
       "       '2359 cc', '2609 cc', '2956 cc', '2231 cc', '1349 cc', '3456 cc',\n",
       "       '2360 cc', '3982 cc', '2894 cc', '3346 cc', '3498 cc', '2979 cc',\n",
       "       '2835 cc', '1150 cc', '1343 cc', '2981 cc', '4395 cc', '1817 cc',\n",
       "       '3993 cc', '1948 cc', '4806 cc', '2994 cc', '1993 cc', '1490 cc',\n",
       "       '2489 cc'], dtype=object)"
      ]
     },
     "execution_count": 250,
     "metadata": {},
     "output_type": "execute_result"
    }
   ],
   "source": [
    "car['Engine Displacement'].unique()"
   ]
  },
  {
   "cell_type": "code",
   "execution_count": 251,
   "metadata": {},
   "outputs": [],
   "source": [
    "car['Engine Displacement'] = car['Engine Displacement'].fillna(car['Engine Displacement'].mode()[0])\n"
   ]
  },
  {
   "cell_type": "code",
   "execution_count": 252,
   "metadata": {},
   "outputs": [
    {
     "data": {
      "text/plain": [
       "0"
      ]
     },
     "execution_count": 252,
     "metadata": {},
     "output_type": "execute_result"
    }
   ],
   "source": [
    "car['Engine Displacement'].isna().sum()"
   ]
  },
  {
   "cell_type": "code",
   "execution_count": 253,
   "metadata": {},
   "outputs": [],
   "source": [
    "car['Engine'] = car['Engine'].fillna(car['Engine'].mode()[0])\n"
   ]
  },
  {
   "cell_type": "code",
   "execution_count": 254,
   "metadata": {},
   "outputs": [
    {
     "data": {
      "text/plain": [
       "0"
      ]
     },
     "execution_count": 254,
     "metadata": {},
     "output_type": "execute_result"
    }
   ],
   "source": [
    "car['Engine'].isna().sum()"
   ]
  },
  {
   "cell_type": "code",
   "execution_count": 255,
   "metadata": {},
   "outputs": [
    {
     "data": {
      "text/plain": [
       "367"
      ]
     },
     "execution_count": 255,
     "metadata": {},
     "output_type": "execute_result"
    }
   ],
   "source": [
    "car['Engine and Transmission - Displacement'].isna().sum()"
   ]
  },
  {
   "cell_type": "code",
   "execution_count": 256,
   "metadata": {},
   "outputs": [],
   "source": [
    "car['Engine and Transmission - Displacement'] = car['Engine and Transmission - Displacement'].fillna(car['Engine and Transmission - Displacement'].mode()[0])"
   ]
  },
  {
   "cell_type": "markdown",
   "metadata": {},
   "source": [
    "### Oem Handling missing values"
   ]
  },
  {
   "cell_type": "code",
   "execution_count": 257,
   "metadata": {},
   "outputs": [
    {
     "data": {
      "text/plain": [
       "0"
      ]
     },
     "execution_count": 257,
     "metadata": {},
     "output_type": "execute_result"
    }
   ],
   "source": [
    "car['oem'].isna().sum()"
   ]
  },
  {
   "cell_type": "code",
   "execution_count": 258,
   "metadata": {},
   "outputs": [
    {
     "data": {
      "text/plain": [
       "0        Kia\n",
       "1     Maruti\n",
       "2     Nissan\n",
       "3    Hyundai\n",
       "4      Honda\n",
       "Name: oem, dtype: object"
      ]
     },
     "execution_count": 258,
     "metadata": {},
     "output_type": "execute_result"
    }
   ],
   "source": [
    "car.oem.head()"
   ]
  },
  {
   "cell_type": "code",
   "execution_count": 259,
   "metadata": {},
   "outputs": [
    {
     "data": {
      "text/plain": [
       "array(['Kia', 'Maruti', 'Nissan', 'Hyundai', 'Honda', 'Mercedes-Benz',\n",
       "       'BMW', 'Ford', 'Tata', 'Jeep', 'Toyota', 'Audi', 'Mahindra',\n",
       "       'Renault', 'Chevrolet', 'Volkswagen', 'Datsun', 'Fiat',\n",
       "       'Land Rover', 'MG', 'Skoda', 'Isuzu', 'Mini', 'Volvo', 'Jaguar',\n",
       "       'Citroen', 'Mitsubishi', 'Mahindra Renault', 'Mahindra Ssangyong',\n",
       "       'Lexus', 'Opel', 'Hindustan Motors', 'Porsche'], dtype=object)"
      ]
     },
     "execution_count": 259,
     "metadata": {},
     "output_type": "execute_result"
    }
   ],
   "source": [
    "car['oem'].unique()      "
   ]
  },
  {
   "cell_type": "code",
   "execution_count": 260,
   "metadata": {},
   "outputs": [],
   "source": [
    "car['oem'] = car['oem'].replace({\n",
    "    'Mahindra Renault': 'Renault',\n",
    "    'Mahindra Ssangyong': 'Ssangyong'\n",
    "})"
   ]
  },
  {
   "cell_type": "markdown",
   "metadata": {},
   "source": [
    "### Year of Manufacture Handling missing values"
   ]
  },
  {
   "cell_type": "code",
   "execution_count": 261,
   "metadata": {},
   "outputs": [
    {
     "data": {
      "text/plain": [
       "383"
      ]
     },
     "execution_count": 261,
     "metadata": {},
     "output_type": "execute_result"
    }
   ],
   "source": [
    "car['Year of Manufacture'].isna().sum()"
   ]
  },
  {
   "cell_type": "code",
   "execution_count": 262,
   "metadata": {},
   "outputs": [
    {
     "data": {
      "text/plain": [
       "0    2022.0\n",
       "1    2015.0\n",
       "2    2021.0\n",
       "3    2015.0\n",
       "4    2015.0\n",
       "Name: Year of Manufacture, dtype: float64"
      ]
     },
     "execution_count": 262,
     "metadata": {},
     "output_type": "execute_result"
    }
   ],
   "source": [
    "car['Year of Manufacture'].head()"
   ]
  },
  {
   "cell_type": "code",
   "execution_count": 263,
   "metadata": {},
   "outputs": [],
   "source": [
    "car['Year of Manufacture']=car['Year of Manufacture'].fillna(car['modelYear'].apply(lambda x:x))"
   ]
  },
  {
   "cell_type": "code",
   "execution_count": 264,
   "metadata": {},
   "outputs": [
    {
     "data": {
      "text/plain": [
       "0    2022\n",
       "1    2015\n",
       "2    2021\n",
       "3    2015\n",
       "4    2015\n",
       "Name: modelYear, dtype: int64"
      ]
     },
     "execution_count": 264,
     "metadata": {},
     "output_type": "execute_result"
    }
   ],
   "source": [
    "car['modelYear'].head()"
   ]
  },
  {
   "cell_type": "code",
   "execution_count": 265,
   "metadata": {},
   "outputs": [
    {
     "data": {
      "text/plain": [
       "0"
      ]
     },
     "execution_count": 265,
     "metadata": {},
     "output_type": "execute_result"
    }
   ],
   "source": [
    "car['Year of Manufacture'].isna().sum()"
   ]
  },
  {
   "cell_type": "code",
   "execution_count": 266,
   "metadata": {},
   "outputs": [],
   "source": [
    "car['Year of Manufacture'] = car['Year of Manufacture'].astype(int)"
   ]
  },
  {
   "cell_type": "markdown",
   "metadata": {},
   "source": [
    "### Null Percentage "
   ]
  },
  {
   "cell_type": "code",
   "execution_count": 267,
   "metadata": {},
   "outputs": [],
   "source": [
    "import pandas as pd\n",
    "\n",
    "# Set the option to display all rows and columns\n",
    "pd.set_option('display.max_rows', None)  # Show all rows\n",
    "pd.set_option('display.max_columns', None)  # Show all columns\n"
   ]
  },
  {
   "cell_type": "code",
   "execution_count": 268,
   "metadata": {},
   "outputs": [
    {
     "data": {
      "text/html": [
       "<div>\n",
       "<style scoped>\n",
       "    .dataframe tbody tr th:only-of-type {\n",
       "        vertical-align: middle;\n",
       "    }\n",
       "\n",
       "    .dataframe tbody tr th {\n",
       "        vertical-align: top;\n",
       "    }\n",
       "\n",
       "    .dataframe thead th {\n",
       "        text-align: right;\n",
       "    }\n",
       "</style>\n",
       "<table border=\"1\" class=\"dataframe\">\n",
       "  <thead>\n",
       "    <tr style=\"text-align: right;\">\n",
       "      <th></th>\n",
       "      <th>columns</th>\n",
       "      <th>null_percentage</th>\n",
       "    </tr>\n",
       "  </thead>\n",
       "  <tbody>\n",
       "    <tr>\n",
       "      <th>15</th>\n",
       "      <td>priceFixedText</td>\n",
       "      <td>100.00</td>\n",
       "    </tr>\n",
       "    <tr>\n",
       "      <th>14</th>\n",
       "      <td>priceSaving</td>\n",
       "      <td>100.00</td>\n",
       "    </tr>\n",
       "    <tr>\n",
       "      <th>76</th>\n",
       "      <td>Dimensions &amp; Capacity - Ground Clearance Unladen</td>\n",
       "      <td>94.10</td>\n",
       "    </tr>\n",
       "    <tr>\n",
       "      <th>67</th>\n",
       "      <td>Engine and Transmission - Compression Ratio</td>\n",
       "      <td>78.30</td>\n",
       "    </tr>\n",
       "    <tr>\n",
       "      <th>13</th>\n",
       "      <td>priceActual</td>\n",
       "      <td>77.13</td>\n",
       "    </tr>\n",
       "    <tr>\n",
       "      <th>75</th>\n",
       "      <td>Engine and Transmission - BoreX Stroke</td>\n",
       "      <td>72.46</td>\n",
       "    </tr>\n",
       "    <tr>\n",
       "      <th>71</th>\n",
       "      <td>Dimensions &amp; Capacity - Gross Weight</td>\n",
       "      <td>56.16</td>\n",
       "    </tr>\n",
       "    <tr>\n",
       "      <th>73</th>\n",
       "      <td>Miscellaneous - Top Speed</td>\n",
       "      <td>47.24</td>\n",
       "    </tr>\n",
       "    <tr>\n",
       "      <th>70</th>\n",
       "      <td>Dimensions &amp; Capacity - Rear Tread</td>\n",
       "      <td>45.04</td>\n",
       "    </tr>\n",
       "    <tr>\n",
       "      <th>69</th>\n",
       "      <td>Dimensions &amp; Capacity - Front Tread</td>\n",
       "      <td>44.90</td>\n",
       "    </tr>\n",
       "    <tr>\n",
       "      <th>74</th>\n",
       "      <td>Miscellaneous - Acceleration</td>\n",
       "      <td>44.38</td>\n",
       "    </tr>\n",
       "    <tr>\n",
       "      <th>39</th>\n",
       "      <td>Wheel Size</td>\n",
       "      <td>38.32</td>\n",
       "    </tr>\n",
       "    <tr>\n",
       "      <th>62</th>\n",
       "      <td>Miscellaneous - Alloy Wheel Size</td>\n",
       "      <td>38.32</td>\n",
       "    </tr>\n",
       "    <tr>\n",
       "      <th>66</th>\n",
       "      <td>Engine and Transmission - Value Configuration</td>\n",
       "      <td>29.54</td>\n",
       "    </tr>\n",
       "    <tr>\n",
       "      <th>68</th>\n",
       "      <td>Engine and Transmission - Super Charger</td>\n",
       "      <td>26.63</td>\n",
       "    </tr>\n",
       "    <tr>\n",
       "      <th>48</th>\n",
       "      <td>Engine and Transmission - Fuel Suppy System</td>\n",
       "      <td>23.93</td>\n",
       "    </tr>\n",
       "    <tr>\n",
       "      <th>72</th>\n",
       "      <td>Miscellaneous - Turning Radius</td>\n",
       "      <td>22.48</td>\n",
       "    </tr>\n",
       "    <tr>\n",
       "      <th>64</th>\n",
       "      <td>Miscellaneous - Cargo Volumn</td>\n",
       "      <td>22.40</td>\n",
       "    </tr>\n",
       "    <tr>\n",
       "      <th>56</th>\n",
       "      <td>Miscellaneous - Drive Type</td>\n",
       "      <td>22.02</td>\n",
       "    </tr>\n",
       "    <tr>\n",
       "      <th>34</th>\n",
       "      <td>Entertainment &amp; Communication - Entertainment</td>\n",
       "      <td>16.70</td>\n",
       "    </tr>\n",
       "    <tr>\n",
       "      <th>49</th>\n",
       "      <td>Engine and Transmission - Turbo Charger</td>\n",
       "      <td>16.07</td>\n",
       "    </tr>\n",
       "    <tr>\n",
       "      <th>23</th>\n",
       "      <td>RTO</td>\n",
       "      <td>14.40</td>\n",
       "    </tr>\n",
       "    <tr>\n",
       "      <th>42</th>\n",
       "      <td>Engine and Transmission - Engine Type</td>\n",
       "      <td>7.54</td>\n",
       "    </tr>\n",
       "    <tr>\n",
       "      <th>65</th>\n",
       "      <td>Mileage</td>\n",
       "      <td>7.44</td>\n",
       "    </tr>\n",
       "    <tr>\n",
       "      <th>58</th>\n",
       "      <td>Miscellaneous - Steering Type</td>\n",
       "      <td>7.08</td>\n",
       "    </tr>\n",
       "    <tr>\n",
       "      <th>53</th>\n",
       "      <td>Dimensions &amp; Capacity - Wheel Base</td>\n",
       "      <td>6.02</td>\n",
       "    </tr>\n",
       "    <tr>\n",
       "      <th>55</th>\n",
       "      <td>Miscellaneous - Gear Box</td>\n",
       "      <td>5.37</td>\n",
       "    </tr>\n",
       "    <tr>\n",
       "      <th>33</th>\n",
       "      <td>Safety - Safety</td>\n",
       "      <td>5.26</td>\n",
       "    </tr>\n",
       "    <tr>\n",
       "      <th>59</th>\n",
       "      <td>Miscellaneous - Front Brake Type</td>\n",
       "      <td>5.26</td>\n",
       "    </tr>\n",
       "    <tr>\n",
       "      <th>60</th>\n",
       "      <td>Miscellaneous - Rear Brake Type</td>\n",
       "      <td>5.26</td>\n",
       "    </tr>\n",
       "    <tr>\n",
       "      <th>32</th>\n",
       "      <td>Exterior - Exterior</td>\n",
       "      <td>5.19</td>\n",
       "    </tr>\n",
       "    <tr>\n",
       "      <th>51</th>\n",
       "      <td>Dimensions &amp; Capacity - Width</td>\n",
       "      <td>5.11</td>\n",
       "    </tr>\n",
       "    <tr>\n",
       "      <th>52</th>\n",
       "      <td>Dimensions &amp; Capacity - Height</td>\n",
       "      <td>5.06</td>\n",
       "    </tr>\n",
       "    <tr>\n",
       "      <th>50</th>\n",
       "      <td>Dimensions &amp; Capacity - Length</td>\n",
       "      <td>5.06</td>\n",
       "    </tr>\n",
       "    <tr>\n",
       "      <th>31</th>\n",
       "      <td>Interior - Interior</td>\n",
       "      <td>5.04</td>\n",
       "    </tr>\n",
       "    <tr>\n",
       "      <th>61</th>\n",
       "      <td>Miscellaneous - Tyre Type</td>\n",
       "      <td>5.04</td>\n",
       "    </tr>\n",
       "    <tr>\n",
       "      <th>30</th>\n",
       "      <td>Comfort &amp; Convenience - Comfort</td>\n",
       "      <td>4.94</td>\n",
       "    </tr>\n",
       "    <tr>\n",
       "      <th>29</th>\n",
       "      <td>top_features</td>\n",
       "      <td>4.90</td>\n",
       "    </tr>\n",
       "    <tr>\n",
       "      <th>37</th>\n",
       "      <td>Max Power</td>\n",
       "      <td>4.84</td>\n",
       "    </tr>\n",
       "    <tr>\n",
       "      <th>44</th>\n",
       "      <td>Engine and Transmission - Max Power</td>\n",
       "      <td>4.84</td>\n",
       "    </tr>\n",
       "    <tr>\n",
       "      <th>45</th>\n",
       "      <td>Engine and Transmission - Max Torque</td>\n",
       "      <td>4.84</td>\n",
       "    </tr>\n",
       "    <tr>\n",
       "      <th>38</th>\n",
       "      <td>Torque</td>\n",
       "      <td>4.84</td>\n",
       "    </tr>\n",
       "    <tr>\n",
       "      <th>54</th>\n",
       "      <td>Dimensions &amp; Capacity - Kerb Weight</td>\n",
       "      <td>4.83</td>\n",
       "    </tr>\n",
       "    <tr>\n",
       "      <th>47</th>\n",
       "      <td>Engine and Transmission - Values per Cylinder</td>\n",
       "      <td>4.74</td>\n",
       "    </tr>\n",
       "    <tr>\n",
       "      <th>46</th>\n",
       "      <td>Engine and Transmission - No of Cylinder</td>\n",
       "      <td>4.51</td>\n",
       "    </tr>\n",
       "    <tr>\n",
       "      <th>63</th>\n",
       "      <td>Miscellaneous - No Door Numbers</td>\n",
       "      <td>4.28</td>\n",
       "    </tr>\n",
       "    <tr>\n",
       "      <th>57</th>\n",
       "      <td>Miscellaneous - Seating Capacity</td>\n",
       "      <td>4.23</td>\n",
       "    </tr>\n",
       "    <tr>\n",
       "      <th>41</th>\n",
       "      <td>Engine and Transmission - Color</td>\n",
       "      <td>4.19</td>\n",
       "    </tr>\n",
       "    <tr>\n",
       "      <th>35</th>\n",
       "      <td>heading.2</td>\n",
       "      <td>4.16</td>\n",
       "    </tr>\n",
       "    <tr>\n",
       "      <th>28</th>\n",
       "      <td>heading.1</td>\n",
       "      <td>4.16</td>\n",
       "    </tr>\n",
       "    <tr>\n",
       "      <th>17</th>\n",
       "      <td>heading</td>\n",
       "      <td>4.16</td>\n",
       "    </tr>\n",
       "    <tr>\n",
       "      <th>0</th>\n",
       "      <td>it</td>\n",
       "      <td>0.00</td>\n",
       "    </tr>\n",
       "    <tr>\n",
       "      <th>43</th>\n",
       "      <td>Engine and Transmission - Displacement</td>\n",
       "      <td>0.00</td>\n",
       "    </tr>\n",
       "    <tr>\n",
       "      <th>40</th>\n",
       "      <td>Seats.1</td>\n",
       "      <td>0.00</td>\n",
       "    </tr>\n",
       "    <tr>\n",
       "      <th>2</th>\n",
       "      <td>bt</td>\n",
       "      <td>0.00</td>\n",
       "    </tr>\n",
       "    <tr>\n",
       "      <th>3</th>\n",
       "      <td>km</td>\n",
       "      <td>0.00</td>\n",
       "    </tr>\n",
       "    <tr>\n",
       "      <th>4</th>\n",
       "      <td>transmission</td>\n",
       "      <td>0.00</td>\n",
       "    </tr>\n",
       "    <tr>\n",
       "      <th>5</th>\n",
       "      <td>ownerNo</td>\n",
       "      <td>0.00</td>\n",
       "    </tr>\n",
       "    <tr>\n",
       "      <th>6</th>\n",
       "      <td>owner</td>\n",
       "      <td>0.00</td>\n",
       "    </tr>\n",
       "    <tr>\n",
       "      <th>7</th>\n",
       "      <td>oem</td>\n",
       "      <td>0.00</td>\n",
       "    </tr>\n",
       "    <tr>\n",
       "      <th>8</th>\n",
       "      <td>model</td>\n",
       "      <td>0.00</td>\n",
       "    </tr>\n",
       "    <tr>\n",
       "      <th>9</th>\n",
       "      <td>modelYear</td>\n",
       "      <td>0.00</td>\n",
       "    </tr>\n",
       "    <tr>\n",
       "      <th>10</th>\n",
       "      <td>centralVariantId</td>\n",
       "      <td>0.00</td>\n",
       "    </tr>\n",
       "    <tr>\n",
       "      <th>11</th>\n",
       "      <td>variantName</td>\n",
       "      <td>0.00</td>\n",
       "    </tr>\n",
       "    <tr>\n",
       "      <th>12</th>\n",
       "      <td>price</td>\n",
       "      <td>0.00</td>\n",
       "    </tr>\n",
       "    <tr>\n",
       "      <th>16</th>\n",
       "      <td>trendingText</td>\n",
       "      <td>0.00</td>\n",
       "    </tr>\n",
       "    <tr>\n",
       "      <th>18</th>\n",
       "      <td>Registration Year</td>\n",
       "      <td>0.00</td>\n",
       "    </tr>\n",
       "    <tr>\n",
       "      <th>19</th>\n",
       "      <td>Insurance Validity</td>\n",
       "      <td>0.00</td>\n",
       "    </tr>\n",
       "    <tr>\n",
       "      <th>20</th>\n",
       "      <td>Fuel Type</td>\n",
       "      <td>0.00</td>\n",
       "    </tr>\n",
       "    <tr>\n",
       "      <th>21</th>\n",
       "      <td>Seats</td>\n",
       "      <td>0.00</td>\n",
       "    </tr>\n",
       "    <tr>\n",
       "      <th>22</th>\n",
       "      <td>Kms Driven</td>\n",
       "      <td>0.00</td>\n",
       "    </tr>\n",
       "    <tr>\n",
       "      <th>24</th>\n",
       "      <td>Ownership</td>\n",
       "      <td>0.00</td>\n",
       "    </tr>\n",
       "    <tr>\n",
       "      <th>25</th>\n",
       "      <td>Engine Displacement</td>\n",
       "      <td>0.00</td>\n",
       "    </tr>\n",
       "    <tr>\n",
       "      <th>26</th>\n",
       "      <td>Transmission</td>\n",
       "      <td>0.00</td>\n",
       "    </tr>\n",
       "    <tr>\n",
       "      <th>27</th>\n",
       "      <td>Year of Manufacture</td>\n",
       "      <td>0.00</td>\n",
       "    </tr>\n",
       "    <tr>\n",
       "      <th>36</th>\n",
       "      <td>Engine</td>\n",
       "      <td>0.00</td>\n",
       "    </tr>\n",
       "    <tr>\n",
       "      <th>1</th>\n",
       "      <td>ft</td>\n",
       "      <td>0.00</td>\n",
       "    </tr>\n",
       "    <tr>\n",
       "      <th>77</th>\n",
       "      <td>city</td>\n",
       "      <td>0.00</td>\n",
       "    </tr>\n",
       "  </tbody>\n",
       "</table>\n",
       "</div>"
      ],
      "text/plain": [
       "                                             columns  null_percentage\n",
       "15                                    priceFixedText           100.00\n",
       "14                                       priceSaving           100.00\n",
       "76  Dimensions & Capacity - Ground Clearance Unladen            94.10\n",
       "67       Engine and Transmission - Compression Ratio            78.30\n",
       "13                                       priceActual            77.13\n",
       "75            Engine and Transmission - BoreX Stroke            72.46\n",
       "71              Dimensions & Capacity - Gross Weight            56.16\n",
       "73                         Miscellaneous - Top Speed            47.24\n",
       "70                Dimensions & Capacity - Rear Tread            45.04\n",
       "69               Dimensions & Capacity - Front Tread            44.90\n",
       "74                      Miscellaneous - Acceleration            44.38\n",
       "39                                        Wheel Size            38.32\n",
       "62                  Miscellaneous - Alloy Wheel Size            38.32\n",
       "66     Engine and Transmission - Value Configuration            29.54\n",
       "68           Engine and Transmission - Super Charger            26.63\n",
       "48       Engine and Transmission - Fuel Suppy System            23.93\n",
       "72                    Miscellaneous - Turning Radius            22.48\n",
       "64                      Miscellaneous - Cargo Volumn            22.40\n",
       "56                        Miscellaneous - Drive Type            22.02\n",
       "34     Entertainment & Communication - Entertainment            16.70\n",
       "49           Engine and Transmission - Turbo Charger            16.07\n",
       "23                                               RTO            14.40\n",
       "42             Engine and Transmission - Engine Type             7.54\n",
       "65                                           Mileage             7.44\n",
       "58                     Miscellaneous - Steering Type             7.08\n",
       "53                Dimensions & Capacity - Wheel Base             6.02\n",
       "55                          Miscellaneous - Gear Box             5.37\n",
       "33                                   Safety - Safety             5.26\n",
       "59                  Miscellaneous - Front Brake Type             5.26\n",
       "60                   Miscellaneous - Rear Brake Type             5.26\n",
       "32                               Exterior - Exterior             5.19\n",
       "51                     Dimensions & Capacity - Width             5.11\n",
       "52                    Dimensions & Capacity - Height             5.06\n",
       "50                    Dimensions & Capacity - Length             5.06\n",
       "31                               Interior - Interior             5.04\n",
       "61                         Miscellaneous - Tyre Type             5.04\n",
       "30                   Comfort & Convenience - Comfort             4.94\n",
       "29                                      top_features             4.90\n",
       "37                                         Max Power             4.84\n",
       "44               Engine and Transmission - Max Power             4.84\n",
       "45              Engine and Transmission - Max Torque             4.84\n",
       "38                                            Torque             4.84\n",
       "54               Dimensions & Capacity - Kerb Weight             4.83\n",
       "47     Engine and Transmission - Values per Cylinder             4.74\n",
       "46          Engine and Transmission - No of Cylinder             4.51\n",
       "63                   Miscellaneous - No Door Numbers             4.28\n",
       "57                  Miscellaneous - Seating Capacity             4.23\n",
       "41                   Engine and Transmission - Color             4.19\n",
       "35                                         heading.2             4.16\n",
       "28                                         heading.1             4.16\n",
       "17                                           heading             4.16\n",
       "0                                                 it             0.00\n",
       "43            Engine and Transmission - Displacement             0.00\n",
       "40                                           Seats.1             0.00\n",
       "2                                                 bt             0.00\n",
       "3                                                 km             0.00\n",
       "4                                       transmission             0.00\n",
       "5                                            ownerNo             0.00\n",
       "6                                              owner             0.00\n",
       "7                                                oem             0.00\n",
       "8                                              model             0.00\n",
       "9                                          modelYear             0.00\n",
       "10                                  centralVariantId             0.00\n",
       "11                                       variantName             0.00\n",
       "12                                             price             0.00\n",
       "16                                      trendingText             0.00\n",
       "18                                 Registration Year             0.00\n",
       "19                                Insurance Validity             0.00\n",
       "20                                         Fuel Type             0.00\n",
       "21                                             Seats             0.00\n",
       "22                                        Kms Driven             0.00\n",
       "24                                         Ownership             0.00\n",
       "25                               Engine Displacement             0.00\n",
       "26                                      Transmission             0.00\n",
       "27                               Year of Manufacture             0.00\n",
       "36                                            Engine             0.00\n",
       "1                                                 ft             0.00\n",
       "77                                              city             0.00"
      ]
     },
     "execution_count": 268,
     "metadata": {},
     "output_type": "execute_result"
    }
   ],
   "source": [
    "null_percentage=(car.isnull().mean()*100).round(2)\n",
    "pd.DataFrame({\n",
    "    'columns':null_percentage.index,\n",
    "    'null_percentage':null_percentage.values\n",
    "}).sort_values('null_percentage',ascending=False)"
   ]
  },
  {
   "cell_type": "markdown",
   "metadata": {},
   "source": [
    "### Torque - Max Torque   -- Handling missing values"
   ]
  },
  {
   "cell_type": "code",
   "execution_count": 269,
   "metadata": {},
   "outputs": [
    {
     "data": {
      "text/plain": [
       "423"
      ]
     },
     "execution_count": 269,
     "metadata": {},
     "output_type": "execute_result"
    }
   ],
   "source": [
    "car['Torque'].isna().sum()"
   ]
  },
  {
   "cell_type": "code",
   "execution_count": 270,
   "metadata": {},
   "outputs": [
    {
     "data": {
      "text/plain": [
       "423"
      ]
     },
     "execution_count": 270,
     "metadata": {},
     "output_type": "execute_result"
    }
   ],
   "source": [
    "car['Engine and Transmission - Max Torque'].isna().sum()"
   ]
  },
  {
   "cell_type": "code",
   "execution_count": 271,
   "metadata": {},
   "outputs": [],
   "source": [
    "car['Torque'] = car['Torque'].str.replace('Nm', '', regex=True)"
   ]
  },
  {
   "cell_type": "code",
   "execution_count": 272,
   "metadata": {},
   "outputs": [],
   "source": [
    "car['Torque'] = car['Torque'].str.replace('nm', '', regex=True)"
   ]
  },
  {
   "cell_type": "code",
   "execution_count": 273,
   "metadata": {},
   "outputs": [],
   "source": [
    "car['Torque'] = car['Torque'].str.replace('NM', '' ,regex=True)"
   ]
  },
  {
   "cell_type": "code",
   "execution_count": 274,
   "metadata": {},
   "outputs": [],
   "source": [
    "car['Torque'] = car['Torque'].str.replace('kgm', '' ,regex=True)"
   ]
  },
  {
   "cell_type": "code",
   "execution_count": 275,
   "metadata": {},
   "outputs": [
    {
     "data": {
      "text/plain": [
       "array(['172', '101', '160', '99.04', '110', '500', '90', '400', '150',\n",
       "       '114.74', '113', '113.75', '260', '350', '145', '420', '109',\n",
       "       '94.14', '190', '245', '259.9', '171.6', '320', '115', '114',\n",
       "       '200', '250', '110  ', '173', '205', '151', '108.5', '580', '600',\n",
       "       '343', '560', '170', '95', '104', '99', '178', '144', '113.76',\n",
       "       '450', '111.7', '115  ', '130', '117', '153', '146', '138', '385',\n",
       "       '114.7', '120', '33 ', '240', '113.8', '700', '50', '69', '190.24',\n",
       "       '89', '91', '330', '154.9', '122', '132', '220', '146 at 4800 rpm',\n",
       "       '242', '380', '72', '175', '620', '13.5', '259.87', '111.8', '540',\n",
       "       '96', '74.5', '20.4', '204', nan, '210', '300', '219.66', '360',\n",
       "       '224', '140', '51 ', '370', '62', '59', '114.73', '102', '25.5 ',\n",
       "       '192.2', '219.7', '124.6', '430', '259.8', '180.4', '253', '143.8',\n",
       "       '240.26', '319', '230', '191', '22.4  at 1750-2750rpm', '340',\n",
       "       '13.5  ', '215', '180  at 1440-1500rpm', '480', '222', '550',\n",
       "       '100', '51', '125', '11.4  at 4,000 rpm', '119', '113.7', '180',\n",
       "       '22.6 ', '25 KGM', '800', '112', '213', '11.5', '78  ', '280',\n",
       "       '19 ', '270', '152', '171.62', '290', '127', '219.6', '285',\n",
       "       '155  at 1600-2800 rpm', '8.5', '136.8', '190.25', '142.5', '142',\n",
       "       '113 ', '210 / 1900', '640', '10.4', '132.3', '14.9 ',\n",
       "       '153  at 3800 rpm', '98', '135  ', '197', '96.1', '16', '148   ',\n",
       "       '436.39', '186', '254 ', '172.5', '440', '42 ', '32.6', '196',\n",
       "       '134', '110 (11.2) ', '248', '149', '221', '202', '619', '35.7 ',\n",
       "       '142 ', '343  ', '177.5', '34.7 ', '470', '400.11', '218', '181',\n",
       "       '436.4', '402', '10.7 ', '17.8 ', '84', '25.1 ', '124.5', '130  ',\n",
       "       '25.5', '207', '148', '11.4 ', '22.9', '35.7', '226', '70',\n",
       "       '6.1  ', '13.1  ', '327', '212', '108', '85',\n",
       "       '14.9 KGM at 3000 RPM', '12.7 ', '260  at 1800-2200 rpm', '182.5',\n",
       "       '121.5', '365', '90.3', '171', '11', '126  ', '4.8 ', '195', '116',\n",
       "       '25.2 ', '12.5', '25 ', '35.0 ', '172.5 ', '136', '515', '135',\n",
       "       '12.5 ', '16.3 ', '520', '9.4 ', '247', '373.5', '60', '209',\n",
       "       '240  ', '200  ', '254', '225', '82.1', '103', '510 ', '259.88',\n",
       "       '98.5', '23.6 ', '320 ', '7.8', '13.5 ', '132.38', '204 ', '135.3',\n",
       "       '24 ', '250 ', '28.3 ', '265', '210/1750-4600', '78', '104.4',\n",
       "       '135.4', '97.96', '760', '187   ', '11.8 ', '689', '77', '190  ',\n",
       "       '12', '424', '90.3  ', '200 ', '151  ', '16.1', '24.5 ', '20 ',\n",
       "       '95.2', '84.33', '490', '335', '226 ', '134.2', '478.5', '850',\n",
       "       '475', '8.6', '110 ', '192.21', '520 ', '99.1', '174', '345',\n",
       "       '147.6', '355', '54', '275', '88.4', '382', '395',\n",
       "       '110  at 3750 rpm', '9.8 ', '10.4 ', '190  at 1750  rpm ', '13',\n",
       "       '11.3  ', '530', '17.5 ', '99.07', '85.32', '500 ', '106  ', '650',\n",
       "       '106.5', '192', '12.9 ', '650 ', '190  at 1750 rpm ', '460', '233',\n",
       "       '96 '], dtype=object)"
      ]
     },
     "execution_count": 275,
     "metadata": {},
     "output_type": "execute_result"
    }
   ],
   "source": [
    "car['Torque'].unique()"
   ]
  },
  {
   "cell_type": "code",
   "execution_count": 276,
   "metadata": {},
   "outputs": [],
   "source": [
    "car['Torque'] = car['Torque'].str.extract(r'(\\d+\\.?\\d*)')"
   ]
  },
  {
   "cell_type": "code",
   "execution_count": 277,
   "metadata": {},
   "outputs": [
    {
     "data": {
      "text/plain": [
       "array(['172', '101', '160', '99.04', '110', '500', '90', '400', '150',\n",
       "       '114.74', '113', '113.75', '260', '350', '145', '420', '109',\n",
       "       '94.14', '190', '245', '259.9', '171.6', '320', '115', '114',\n",
       "       '200', '250', '173', '205', '151', '108.5', '580', '600', '343',\n",
       "       '560', '170', '95', '104', '99', '178', '144', '113.76', '450',\n",
       "       '111.7', '130', '117', '153', '146', '138', '385', '114.7', '120',\n",
       "       '33', '240', '113.8', '700', '50', '69', '190.24', '89', '91',\n",
       "       '330', '154.9', '122', '132', '220', '242', '380', '72', '175',\n",
       "       '620', '13.5', '259.87', '111.8', '540', '96', '74.5', '20.4',\n",
       "       '204', nan, '210', '300', '219.66', '360', '224', '140', '51',\n",
       "       '370', '62', '59', '114.73', '102', '25.5', '192.2', '219.7',\n",
       "       '124.6', '430', '259.8', '180.4', '253', '143.8', '240.26', '319',\n",
       "       '230', '191', '22.4', '340', '215', '180', '480', '222', '550',\n",
       "       '100', '125', '11.4', '119', '113.7', '22.6', '25', '800', '112',\n",
       "       '213', '11.5', '78', '280', '19', '270', '152', '171.62', '290',\n",
       "       '127', '219.6', '285', '155', '8.5', '136.8', '190.25', '142.5',\n",
       "       '142', '640', '10.4', '132.3', '14.9', '98', '135', '197', '96.1',\n",
       "       '16', '148', '436.39', '186', '254', '172.5', '440', '42', '32.6',\n",
       "       '196', '134', '248', '149', '221', '202', '619', '35.7', '177.5',\n",
       "       '34.7', '470', '400.11', '218', '181', '436.4', '402', '10.7',\n",
       "       '17.8', '84', '25.1', '124.5', '207', '22.9', '226', '70', '6.1',\n",
       "       '13.1', '327', '212', '108', '85', '12.7', '182.5', '121.5', '365',\n",
       "       '90.3', '171', '11', '126', '4.8', '195', '116', '25.2', '12.5',\n",
       "       '35.0', '136', '515', '16.3', '520', '9.4', '247', '373.5', '60',\n",
       "       '209', '225', '82.1', '103', '510', '259.88', '98.5', '23.6',\n",
       "       '7.8', '132.38', '135.3', '24', '28.3', '265', '104.4', '135.4',\n",
       "       '97.96', '760', '187', '11.8', '689', '77', '12', '424', '16.1',\n",
       "       '24.5', '20', '95.2', '84.33', '490', '335', '134.2', '478.5',\n",
       "       '850', '475', '8.6', '192.21', '99.1', '174', '345', '147.6',\n",
       "       '355', '54', '275', '88.4', '382', '395', '9.8', '13', '11.3',\n",
       "       '530', '17.5', '99.07', '85.32', '106', '650', '106.5', '192',\n",
       "       '12.9', '460', '233'], dtype=object)"
      ]
     },
     "execution_count": 277,
     "metadata": {},
     "output_type": "execute_result"
    }
   ],
   "source": [
    "car['Torque'].unique()"
   ]
  },
  {
   "cell_type": "code",
   "execution_count": 278,
   "metadata": {},
   "outputs": [
    {
     "data": {
      "text/plain": [
       "0      172\n",
       "1      101\n",
       "2      160\n",
       "3    99.04\n",
       "4      110\n",
       "Name: Torque, dtype: object"
      ]
     },
     "execution_count": 278,
     "metadata": {},
     "output_type": "execute_result"
    }
   ],
   "source": [
    "car['Torque'].head()"
   ]
  },
  {
   "cell_type": "code",
   "execution_count": 279,
   "metadata": {},
   "outputs": [],
   "source": [
    "# Step 2: Find the mode of the column\n",
    "mode_torque = car['Torque'].mode()[0]  # mode() returns a series, so we take the first value\n"
   ]
  },
  {
   "cell_type": "code",
   "execution_count": 280,
   "metadata": {},
   "outputs": [],
   "source": [
    "car['Torque']=car['Torque'].fillna(mode_torque)"
   ]
  },
  {
   "cell_type": "code",
   "execution_count": 281,
   "metadata": {},
   "outputs": [
    {
     "data": {
      "text/plain": [
       "0"
      ]
     },
     "execution_count": 281,
     "metadata": {},
     "output_type": "execute_result"
    }
   ],
   "source": [
    "car['Torque'].isna().sum()"
   ]
  },
  {
   "cell_type": "code",
   "execution_count": 282,
   "metadata": {},
   "outputs": [],
   "source": [
    "car['Torque'] = car['Torque'].astype(float)"
   ]
  },
  {
   "cell_type": "code",
   "execution_count": 283,
   "metadata": {},
   "outputs": [],
   "source": [
    "car.drop(columns='Engine and Transmission - Max Torque',inplace=True)"
   ]
  },
  {
   "cell_type": "markdown",
   "metadata": {},
   "source": [
    "### Gear Box - handling missing values"
   ]
  },
  {
   "cell_type": "code",
   "execution_count": 284,
   "metadata": {},
   "outputs": [],
   "source": [
    "car.rename(columns={'Miscellaneous - Gear Box': 'Gearbox'}, inplace=True)"
   ]
  },
  {
   "cell_type": "code",
   "execution_count": 285,
   "metadata": {},
   "outputs": [
    {
     "data": {
      "text/plain": [
       "array(['7-Speed DCT', '5 Speed', '7 Speed', '5 Speed ', '8 Speed',\n",
       "       '6 Speed', '5', '6 Speed iMT', nan, '7-Speed', 'CVT',\n",
       "       '7G DCT 7-Speed Dual Clutch Transmission ', '5-Speed',\n",
       "       '5 Speed CVT', '6 Speed ', '7 Speed ', '9 Speed', '6-Speed',\n",
       "       '6-Speed iMT', 'Five Speed', '4 Speed',\n",
       "       '5 Speed AT+ Paddle Shifters', '4-Speed', '7 Speed DSG',\n",
       "       '4 Speed ', '7-speed', '8 Speed CVT', '6-speed', '6-Speed AT',\n",
       "       '8-Speed', '7-Speed S-Tronic ', '6-Speed IMT',\n",
       "       '8-Speed Steptronic', '6-speed AutoSHIFT', '6', '9G-TRONIC', 'IVT',\n",
       "       '9 speed Tronic', '9G-TRONIC automatic', 'AGS', '6-Speed DCT',\n",
       "       '6 Speed AT', '9-Speed', '7-speed DCT', '8 Speed Tiptronic',\n",
       "       '7-Speed DSG', 'Six Speed Manual', 'iMT', '8 Speed Sport',\n",
       "       '6 Speed with Sequential Shift', '6-speed IVT',\n",
       "       '7-Speed Steptronic', '6 Speed IMT', '8', '8-Speed ',\n",
       "       'Five Speed Manual Transmission', '5-speed', '8-speed',\n",
       "       '7 Speed DCT', 'Five Speed Manual Transmission Gearbox',\n",
       "       'AMG SPEEDSHIFT DCT 8G', 'AMG 7-SPEED DCT', '5 speed', 'E-CVT',\n",
       "       '8 Speed ', '7-speed Stronic',\n",
       "       '8-Speed Steptronic Sport Automatic Transmission',\n",
       "       '7-Speed S-Tronic', '8G-DCT', '6-speed CVT', '6 speed ',\n",
       "       '7 Speed CVT', 'Five Speed Manual', '5-Speed`', '6-Speed IVT',\n",
       "       'Direct Drive', '6 Speed IVT', '6Speed', '6 Speed MT',\n",
       "       '6-speed iMT', '7 speed', '6 speed automatic', '7G-DCT',\n",
       "       'Six Speed Geartronic, Six Speed Automati',\n",
       "       '5 Speed Manual (Cable Type Gear Shift)',\n",
       "       'Six Speed Automatic Gearbox', '10 Speed', 'Fully Automatic',\n",
       "       'Single-speed transmission', 'Six Speed  Gearbox',\n",
       "       '5 Speed Forward, 1 Reverse', '7 Speed S tronic', '6-speed DCT',\n",
       "       '8 speed', '8-Speed Automatic Transmission',\n",
       "       'Six Speed Manual with Paddle Shifter', '7 Speed Steptronic Sport',\n",
       "       '4-speed', '9-speed automatic', 'SPEEDSHIFT TCT 9G',\n",
       "       '7 Speed 7G-DCT', '7-speed PDK', '8Speed',\n",
       "       '8-speed Steptronic Automatic', '10-speed Automatic',\n",
       "       'Six Speed Automatic Transmission', '9G TRONIC', '5-Speed ',\n",
       "       '7-Speed DCT Steptronic', '8-Speed DCT',\n",
       "       'Mercedes Benz 7 Speed Automatic', '10 speed',\n",
       "       'Single speed reduction gear', 'Single Speed', '5 speed manual',\n",
       "       '9 -speed', '8-speed tiptronic', '7-Speed S tronic', 'eCVT'],\n",
       "      dtype=object)"
      ]
     },
     "execution_count": 285,
     "metadata": {},
     "output_type": "execute_result"
    }
   ],
   "source": [
    "car['Gearbox'].unique()"
   ]
  },
  {
   "cell_type": "code",
   "execution_count": 286,
   "metadata": {},
   "outputs": [
    {
     "data": {
      "text/plain": [
       "469"
      ]
     },
     "execution_count": 286,
     "metadata": {},
     "output_type": "execute_result"
    }
   ],
   "source": [
    "car['Gearbox'].isna().sum()"
   ]
  },
  {
   "cell_type": "code",
   "execution_count": 287,
   "metadata": {},
   "outputs": [
    {
     "name": "stderr",
     "output_type": "stream",
     "text": [
      "C:\\Users\\Srivathsan\\AppData\\Local\\Temp\\ipykernel_31100\\2337080032.py:5: FutureWarning: A value is trying to be set on a copy of a DataFrame or Series through chained assignment using an inplace method.\n",
      "The behavior will change in pandas 3.0. This inplace method will never work because the intermediate object on which we are setting values always behaves as a copy.\n",
      "\n",
      "For example, when doing 'df[col].method(value, inplace=True)', try using 'df.method({col: value}, inplace=True)' or df[col] = df[col].method(value) instead, to perform the operation inplace on the original object.\n",
      "\n",
      "\n",
      "  car['Gearbox'].fillna(mode_gearbox, inplace=True)\n"
     ]
    }
   ],
   "source": [
    "# Calculate the mode of the 'Gearbox' column\n",
    "mode_gearbox = car['Gearbox'].mode()[0]\n",
    "\n",
    "# Fill missing values in Gearbox column with the mode\n",
    "car['Gearbox'].fillna(mode_gearbox, inplace=True)"
   ]
  },
  {
   "cell_type": "code",
   "execution_count": 288,
   "metadata": {},
   "outputs": [
    {
     "data": {
      "text/plain": [
       "array(['7-Speed DCT', '5 Speed', '7 Speed', '5 Speed ', '8 Speed',\n",
       "       '6 Speed', '5', '6 Speed iMT', '7-Speed', 'CVT',\n",
       "       '7G DCT 7-Speed Dual Clutch Transmission ', '5-Speed',\n",
       "       '5 Speed CVT', '6 Speed ', '7 Speed ', '9 Speed', '6-Speed',\n",
       "       '6-Speed iMT', 'Five Speed', '4 Speed',\n",
       "       '5 Speed AT+ Paddle Shifters', '4-Speed', '7 Speed DSG',\n",
       "       '4 Speed ', '7-speed', '8 Speed CVT', '6-speed', '6-Speed AT',\n",
       "       '8-Speed', '7-Speed S-Tronic ', '6-Speed IMT',\n",
       "       '8-Speed Steptronic', '6-speed AutoSHIFT', '6', '9G-TRONIC', 'IVT',\n",
       "       '9 speed Tronic', '9G-TRONIC automatic', 'AGS', '6-Speed DCT',\n",
       "       '6 Speed AT', '9-Speed', '7-speed DCT', '8 Speed Tiptronic',\n",
       "       '7-Speed DSG', 'Six Speed Manual', 'iMT', '8 Speed Sport',\n",
       "       '6 Speed with Sequential Shift', '6-speed IVT',\n",
       "       '7-Speed Steptronic', '6 Speed IMT', '8', '8-Speed ',\n",
       "       'Five Speed Manual Transmission', '5-speed', '8-speed',\n",
       "       '7 Speed DCT', 'Five Speed Manual Transmission Gearbox',\n",
       "       'AMG SPEEDSHIFT DCT 8G', 'AMG 7-SPEED DCT', '5 speed', 'E-CVT',\n",
       "       '8 Speed ', '7-speed Stronic',\n",
       "       '8-Speed Steptronic Sport Automatic Transmission',\n",
       "       '7-Speed S-Tronic', '8G-DCT', '6-speed CVT', '6 speed ',\n",
       "       '7 Speed CVT', 'Five Speed Manual', '5-Speed`', '6-Speed IVT',\n",
       "       'Direct Drive', '6 Speed IVT', '6Speed', '6 Speed MT',\n",
       "       '6-speed iMT', '7 speed', '6 speed automatic', '7G-DCT',\n",
       "       'Six Speed Geartronic, Six Speed Automati',\n",
       "       '5 Speed Manual (Cable Type Gear Shift)',\n",
       "       'Six Speed Automatic Gearbox', '10 Speed', 'Fully Automatic',\n",
       "       'Single-speed transmission', 'Six Speed  Gearbox',\n",
       "       '5 Speed Forward, 1 Reverse', '7 Speed S tronic', '6-speed DCT',\n",
       "       '8 speed', '8-Speed Automatic Transmission',\n",
       "       'Six Speed Manual with Paddle Shifter', '7 Speed Steptronic Sport',\n",
       "       '4-speed', '9-speed automatic', 'SPEEDSHIFT TCT 9G',\n",
       "       '7 Speed 7G-DCT', '7-speed PDK', '8Speed',\n",
       "       '8-speed Steptronic Automatic', '10-speed Automatic',\n",
       "       'Six Speed Automatic Transmission', '9G TRONIC', '5-Speed ',\n",
       "       '7-Speed DCT Steptronic', '8-Speed DCT',\n",
       "       'Mercedes Benz 7 Speed Automatic', '10 speed',\n",
       "       'Single speed reduction gear', 'Single Speed', '5 speed manual',\n",
       "       '9 -speed', '8-speed tiptronic', '7-Speed S tronic', 'eCVT'],\n",
       "      dtype=object)"
      ]
     },
     "execution_count": 288,
     "metadata": {},
     "output_type": "execute_result"
    }
   ],
   "source": [
    "car['Gearbox'].unique()"
   ]
  },
  {
   "cell_type": "code",
   "execution_count": 289,
   "metadata": {},
   "outputs": [],
   "source": [
    "# Extract numeric part using regex directly with raw string\n",
    "car['Gearbox'] = car['Gearbox'].astype(str).str.extract(r'(\\d+)', expand=False)\n",
    "\n",
    "# Convert extracted values to numeric type\n",
    "car['Gearbox'] = pd.to_numeric(car['Gearbox'], errors='coerce')"
   ]
  },
  {
   "cell_type": "code",
   "execution_count": 290,
   "metadata": {},
   "outputs": [
    {
     "data": {
      "text/plain": [
       "array([ 7.,  5.,  8.,  6., nan,  9.,  4., 10.])"
      ]
     },
     "execution_count": 290,
     "metadata": {},
     "output_type": "execute_result"
    }
   ],
   "source": [
    "car['Gearbox'].unique()\n"
   ]
  },
  {
   "cell_type": "code",
   "execution_count": 291,
   "metadata": {},
   "outputs": [
    {
     "data": {
      "text/plain": [
       "0    5.0\n",
       "Name: Gearbox, dtype: float64"
      ]
     },
     "execution_count": 291,
     "metadata": {},
     "output_type": "execute_result"
    }
   ],
   "source": [
    "car['Gearbox'].mode()"
   ]
  },
  {
   "cell_type": "code",
   "execution_count": 292,
   "metadata": {},
   "outputs": [
    {
     "data": {
      "text/plain": [
       "5.456766917293233"
      ]
     },
     "execution_count": 292,
     "metadata": {},
     "output_type": "execute_result"
    }
   ],
   "source": [
    "car['Gearbox'].mean()"
   ]
  },
  {
   "cell_type": "code",
   "execution_count": 293,
   "metadata": {},
   "outputs": [
    {
     "data": {
      "text/plain": [
       "5.0"
      ]
     },
     "execution_count": 293,
     "metadata": {},
     "output_type": "execute_result"
    }
   ],
   "source": [
    "car['Gearbox'].median()"
   ]
  },
  {
   "cell_type": "code",
   "execution_count": 294,
   "metadata": {},
   "outputs": [
    {
     "name": "stderr",
     "output_type": "stream",
     "text": [
      "C:\\Users\\Srivathsan\\AppData\\Local\\Temp\\ipykernel_31100\\2911708809.py:4: FutureWarning: A value is trying to be set on a copy of a DataFrame or Series through chained assignment using an inplace method.\n",
      "The behavior will change in pandas 3.0. This inplace method will never work because the intermediate object on which we are setting values always behaves as a copy.\n",
      "\n",
      "For example, when doing 'df[col].method(value, inplace=True)', try using 'df.method({col: value}, inplace=True)' or df[col] = df[col].method(value) instead, to perform the operation inplace on the original object.\n",
      "\n",
      "\n",
      "  car['Gearbox'].fillna(mode_gearbox, inplace=True)\n"
     ]
    }
   ],
   "source": [
    "mode_gearbox = car['Gearbox'].mode()[0]\n",
    "\n",
    "# Fill NaN values with the mode\n",
    "car['Gearbox'].fillna(mode_gearbox, inplace=True)\n"
   ]
  },
  {
   "cell_type": "code",
   "execution_count": 295,
   "metadata": {},
   "outputs": [
    {
     "data": {
      "text/plain": [
       "array([ 7.,  5.,  8.,  6.,  9.,  4., 10.])"
      ]
     },
     "execution_count": 295,
     "metadata": {},
     "output_type": "execute_result"
    }
   ],
   "source": [
    "car['Gearbox'].unique()"
   ]
  },
  {
   "cell_type": "code",
   "execution_count": 296,
   "metadata": {},
   "outputs": [],
   "source": [
    "car['Gearbox'] = car['Gearbox'].astype(int)\n"
   ]
  },
  {
   "cell_type": "code",
   "execution_count": 297,
   "metadata": {},
   "outputs": [
    {
     "data": {
      "text/plain": [
       "array([ 7,  5,  8,  6,  9,  4, 10])"
      ]
     },
     "execution_count": 297,
     "metadata": {},
     "output_type": "execute_result"
    }
   ],
   "source": [
    "car['Gearbox'].unique()"
   ]
  },
  {
   "cell_type": "markdown",
   "metadata": {},
   "source": [
    "### Max Power - Handling Missing Values\n"
   ]
  },
  {
   "cell_type": "code",
   "execution_count": 298,
   "metadata": {},
   "outputs": [
    {
     "data": {
      "text/plain": [
       "423"
      ]
     },
     "execution_count": 298,
     "metadata": {},
     "output_type": "execute_result"
    }
   ],
   "source": [
    "car['Max Power'].isna().sum()"
   ]
  },
  {
   "cell_type": "code",
   "execution_count": 299,
   "metadata": {},
   "outputs": [
    {
     "data": {
      "text/plain": [
       "array(['118.36bhp', '73bhp', '98.63bhp', '68.05bhp', '88.7bhp', '204bhp',\n",
       "       '67.04bhp', '66.1bhp', '187.7bhp', '121.36bhp', '81.80bhp',\n",
       "       '187.74bhp', '81.86bhp', '108.5bhp', '167.67bhp', '117.3bhp',\n",
       "       '201.15bhp', '86.7bhp', '74bhp', '127bhp', '126.2bhp', '118.35bhp',\n",
       "       '177.01bhp', '117.6bhp', '83.1bhp', '82bhp', '163.60bhp',\n",
       "       '98.6bhp', '107.3bhp', '85 PS ', '108.45bhp', '138.1bhp',\n",
       "       '108.62bhp', '86.79bhp', '74.02bhp', '121.3bhp', '82.4bhp',\n",
       "       '241.4bhp', '88.5bhp', '245bhp', '147.8bhp', '167.62bhp', '258bhp',\n",
       "       '75.10bhp', '67.05bhp', '68bhp', '113.98bhp', '78.9bhp',\n",
       "       '113.43bhp', '182.38bhp', '88.76bhp', '90 PS ', '88.50bhp',\n",
       "       '98.96bhp', '91.1bhp', '160.77bhp', '103.2bhp', '73.75bhp',\n",
       "       '116.3bhp', '86.8bhp', '141bhp', '157.7bhp', '81.83bhp',\n",
       "       '94.68bhp', '142 ', '100bhp', '203.2bhp', '143bhp', '252bhp',\n",
       "       '459bhp', '210', '190bhp', '87.2bhp', '47.33bhp', '147.51bhp',\n",
       "       '108.49bhp', '73.97bhp', '130bhp', '65.71bhp', '67bhp',\n",
       "       '117.60bhp', '113.45bhp', '114.41bhp', '191.7bhp', '140bhp',\n",
       "       '91.18bhp', '88.73bhp', '103.6bhp', '103.25bhp', '281.61bhp',\n",
       "       '118PS at 6,600 rpm', '67.1bhp', '138.08bhp', '174.33bhp',\n",
       "       '53.3bhp', '103.5bhp', '261.50bhp', '85.8bhp', '70', '174.5bhp',\n",
       "       '108.6bhp', '261.4bhp', '71.01bhp', '84bhp', '55.2bhp', '102',\n",
       "       '89.84bhp', '85.80bhp', '241.38bhp', '103.26bhp', '194bhp', nan,\n",
       "       '84.82bhp', '325.86bhp3600-4200rpm', '74.96bhp', '73.9bhp',\n",
       "       '188bhp', '150bhp', '53.64bhp', '148bhp', '119.35bhp', '83.83bhp',\n",
       "       '167.68bhp', '69bhp', '161bhp', '136bhp', '191.76bhp', '138.03bhp',\n",
       "       '235 ', '98bhp', '248bhp', '181bhp', '110.4bhp', '46.3bhp',\n",
       "       '37bhp', '172.35bhp', '97.9bhp', '67.06bhp', '138.12bhp',\n",
       "       '103.52bhp', '147.52bhp', '98.59bhp', '254.79bhp', '158bhp',\n",
       "       '70bhp', '75bhp', '105 ', '149.92bhp', '93.7bhp', '177bhp',\n",
       "       '120.3bhp', '88.77bhp', '126.32bhp', '73.94bhp', '248.08bhp',\n",
       "       '157.81bhp', '113.18bhp', '174.33', '83.14bhp', '75.94bhp',\n",
       "       '136.78bhp', '53.26bhp', '47.3bhp', '88.8bhp', '86.63bhp',\n",
       "       '184bhp', '138.05bhp', '115.05bhp', '172.45bhp', '187.40bhp',\n",
       "       '156.9bhp', '90PS at 4000rpm', '106 bhp ', '63 HP at 3200 rpm',\n",
       "       '235bhp', '177.6bhp', '103bhp', '65', '37.5bhp', '47bhp',\n",
       "       '80 PS at 5200 rpm', '57.6bhp', '94.93bhp', '82.85bhp', '170bhp',\n",
       "       '180 ', '84.48bhp', '110bhp', '160 BHP', '335.2bhp', '99bhp',\n",
       "       '118.41bhp', '152.87bhp', '83.81bhp', '160bhp', '218bhp', '88.2',\n",
       "       '60 PS ', '170.63bhp', '100.5bhp', '114bhp', '189.08bhp', '80 ',\n",
       "       '168.5bhp', '123.24bhp', '88bhp', '38Ps', '120bhp', '121.31bhp',\n",
       "       '77bhp', '71.02bhp', '134.1bhp', '92.7bhp', '186bhp',\n",
       "       '70 bhp at 4000 rpm', '116.4bhp', '86.83bhp', '53.5', '101.64bhp',\n",
       "       '171.5bhp', '56.3bhp', '104.5bhp', '126.3bhp', '85ps ',\n",
       "       '66(90) / 4000', '72bhp', '400bhp', '83.1', '103.2 ',\n",
       "       '105 PS at 5250 rpm', '108.50bhp', '104.68', '95.48bhp',\n",
       "       '72.41bhp', '71 PS ', '175bhp', '108.48bhp', '62.1bhp', '64.1bhp',\n",
       "       '105.94bhp', '104  PS ', '194.3bhp', '153.866bhp', '162bhp',\n",
       "       '73.74bhp', '215bhp', '175.56bhp', '170 ', '140', '335.26bhp',\n",
       "       '120bhp (86.7kw)', '70.02bhp', '197bhp', '236.7bhp', '158.2bhp',\n",
       "       '254.8bhp', '97.7bhp', '90(66) ', '335.2', '63.1bhp', '301.73bhp',\n",
       "       '83.8bhp', '120.69bhp', '255bhp', '214.5bhp', '214.56bhp',\n",
       "       '97.89bhp', '76.43bhp', '138bhp', '181.04bhp', '153.86bhp', '177 ',\n",
       "       '104.55bhp', '453.26bhp', '194.4bhp', '171 PS ', '147.5bhp',\n",
       "       '83 PS ', '178bhp', '105.5bhp', '147.94bhp', '102.57bhp',\n",
       "       '174.3bhp', '113.42bhp', '182.46bhp', '158.8bhp', '160.92bhp',\n",
       "       '130.1bhp', '203bhp', '100.6bhp', '70 ', '115 ', '215 ', '115bhp',\n",
       "       '94 PS ', '120.7bhp', '197.2bhp', '106', '177.46bhp', '112bhp',\n",
       "       '218 ', '102.53bhp', '163.2', '65bhp', '120.33bhp', '261.49bhp',\n",
       "       '187.4bhp', '25.4bhp', '41.42bhp', '35 bhp ', '141.04bhp',\n",
       "       '86.76bhp', '163.7bhp', '71bhp', '100 bhp ', '61 PS ', '147.9bhp',\n",
       "       '164.7bhp', '145hp', '79.4bhp', '52.8bhp', '103.2 PS at 5500 RPM',\n",
       "       '88 PS ', '78 ', '92', '112bhp at 3800 rpm', '63bhp', '167.6bhp',\n",
       "       '61.68bhp', '85.7bhp', '246.74bhp', '62bhp', '72.4bhp',\n",
       "       '335.25bhp', '75', '40bhp', '93 PS ', '80.46bhp', '35 bhp',\n",
       "       '161.6 ', '68', '101 ', '157.75bhp', '75.09bhp', '112.2 ',\n",
       "       '101.65bhp', '260.0 ', '73.8bhp', '110.5bhp', '121bhp', '379.7bhp',\n",
       "       '120 ', '84.8bhp', '94 ', '126.24bhp', '68 ', '384.87bhp',\n",
       "       '48.21bhp', '201.1bhp', '57 ', '105bhp', '173bhp', '84bhp3750rpm',\n",
       "       '200bhp', '177.5bhp', '99.23bhp', '158.79bhp', '197.26bhp',\n",
       "       '118.3bhp', '296bhp', '40.36bhp', '91.7bhp', '78 kW ', '163bhp',\n",
       "       '90 PS', '153.87bhp', '178.49bhp', '93.87bhp', '138.13bhp',\n",
       "       '55.92bhp', '120.96bhp', '80bhp', '271.2bhp', '165 [224] at 3800',\n",
       "       '245.59bhp', '123.37bhp', '99.6bhp', '241.6bhp', '165 ',\n",
       "       '107.5bhp', '91.72bhp', '270.9bhp', '140PS ', '57.5', '100 ',\n",
       "       '96.55bhp', '89.75bhp', '89bhp', '102.5bhp', '110 ', '105PS ',\n",
       "       '157.57bhp', '116.6 ', '82.9bhp', '110(150)/5700', '167.7bhp',\n",
       "       '58.33bhp', '79.65bhp', '41.57bhp', '65.39bhp', '402.30Bhpbhp',\n",
       "       '82  PS ', '82.9 ', '58.2bhp', '75 PS ', '85bhp', '85', '63 ',\n",
       "       '208bhp', '125', '178 ', '61.6bhp', '144 ', '67.72bhp',\n",
       "       '181.03bhp', '215.01bhp', '64bhp', '321.84bhp', '58bhp',\n",
       "       '91.19bhp', '268bhp', '183bhp', '83.11bhp', '197.13bhp',\n",
       "       '296.3bhp', '282bhp', '258.81bhp', '170PS ',\n",
       "       '362.07bhp5500-6100bhp', '241.3bhp', '103.39bhp', '192bhp',\n",
       "       '237bhp', '212.55bhp', '245.40bhp', '259bhp', '576.63bhp',\n",
       "       '70.40Bhp', '469bhp', '375.48bhp', '194.44bhp', '64', '333bhp',\n",
       "       '250bhp', '75 ', '237.36bhp', '140.1bhp', '159.74bhp', '304.41bhp',\n",
       "       '257.47bhp', '306bhp', '76bhp', '130.07bhp', '152.88bhp',\n",
       "       '362.07bhp', '185bhp', '134bhp', '163.5bhp', '68.1bhp', '130.3bhp',\n",
       "       '130.2bhp', '168.7bhp', '321bhp', '58.16bhp', '139.46bhp',\n",
       "       '364.9bhp', '86.80bhp', '98.69bhp', '175.67bhp', '272bhp',\n",
       "       '38.4bhp', '103.3bhp', '355.37Bhp', '107.2bhp', '59bhp',\n",
       "       '141.1bhp', '74.9bhp', '148.31bhp', '134.10bhp',\n",
       "       '75 bhp at 5400 rpm', '66.6 ', '75 PS at 4000  rpm ', '169bhp',\n",
       "       '140.8bhp', '113.4bhp', '34.2bhp', '84.5', '90 bhp ', '100.57bhp',\n",
       "       '443.87bhp', '450bhp', '72.40bhp', '84.88bhp', '63.12bhp',\n",
       "       '245.4bhp', '132 ', '68.07bhp', '247bhp', '97.6bhp', '59.18bhp',\n",
       "       '394.3bhp ', '198.25bhp', '52 PS ', '510bhp', '76.8bhp',\n",
       "       '150.19bhp', '348.66bhp', '300bhp', '75 PS at 4000 rpm ', '265bhp',\n",
       "       '155bhp', '78.8bhp', '47', '375.5bhp', '154bhp', '168bhp',\n",
       "       '221.3bhp', '156.82bhp', '178.4bhp', '97.64bhp', '68PS '],\n",
       "      dtype=object)"
      ]
     },
     "execution_count": 299,
     "metadata": {},
     "output_type": "execute_result"
    }
   ],
   "source": [
    "car['Max Power'].unique()"
   ]
  },
  {
   "cell_type": "code",
   "execution_count": 300,
   "metadata": {},
   "outputs": [
    {
     "name": "stderr",
     "output_type": "stream",
     "text": [
      "C:\\Users\\Srivathsan\\AppData\\Local\\Temp\\ipykernel_31100\\1170617831.py:11: FutureWarning: A value is trying to be set on a copy of a DataFrame or Series through chained assignment using an inplace method.\n",
      "The behavior will change in pandas 3.0. This inplace method will never work because the intermediate object on which we are setting values always behaves as a copy.\n",
      "\n",
      "For example, when doing 'df[col].method(value, inplace=True)', try using 'df.method({col: value}, inplace=True)' or df[col] = df[col].method(value) instead, to perform the operation inplace on the original object.\n",
      "\n",
      "\n",
      "  car['Max Power'].fillna(mode_max_power, inplace=True)\n"
     ]
    }
   ],
   "source": [
    "# Step 1: Extract numeric values using regex\n",
    "car['Max Power'] = car['Max Power'].astype(str).str.extract(r'(\\d+(\\.\\d+)?)', expand=False)[0]\n",
    "\n",
    "# Step 2: Convert the extracted values to numeric (float type)\n",
    "car['Max Power'] = pd.to_numeric(car['Max Power'], errors='coerce')\n",
    "\n",
    "# Step 3: Calculate the mode of the 'Max Power' column\n",
    "mode_max_power = car['Max Power'].mode()[0]\n",
    "\n",
    "# Step 4: Fill missing values with the mode\n",
    "car['Max Power'].fillna(mode_max_power, inplace=True)"
   ]
  },
  {
   "cell_type": "code",
   "execution_count": 301,
   "metadata": {},
   "outputs": [
    {
     "data": {
      "text/plain": [
       "0"
      ]
     },
     "execution_count": 301,
     "metadata": {},
     "output_type": "execute_result"
    }
   ],
   "source": [
    "car['Max Power'].isna().sum()"
   ]
  },
  {
   "cell_type": "code",
   "execution_count": 302,
   "metadata": {},
   "outputs": [
    {
     "data": {
      "text/plain": [
       "array([118.36 ,  73.   ,  98.63 ,  68.05 ,  88.7  , 204.   ,  67.04 ,\n",
       "        66.1  , 187.7  , 121.36 ,  81.8  , 187.74 ,  81.86 , 108.5  ,\n",
       "       167.67 , 117.3  , 201.15 ,  86.7  ,  74.   , 127.   , 126.2  ,\n",
       "       118.35 , 177.01 , 117.6  ,  83.1  ,  82.   , 163.6  ,  98.6  ,\n",
       "       107.3  ,  85.   , 108.45 , 138.1  , 108.62 ,  86.79 ,  74.02 ,\n",
       "       121.3  ,  82.4  , 241.4  ,  88.5  , 245.   , 147.8  , 167.62 ,\n",
       "       258.   ,  75.1  ,  67.05 ,  68.   , 113.98 ,  78.9  , 113.43 ,\n",
       "       182.38 ,  88.76 ,  90.   ,  98.96 ,  91.1  , 160.77 , 103.2  ,\n",
       "        73.75 , 116.3  ,  86.8  , 141.   , 157.7  ,  81.83 ,  94.68 ,\n",
       "       142.   , 100.   , 203.2  , 143.   , 252.   , 459.   , 210.   ,\n",
       "       190.   ,  87.2  ,  47.33 , 147.51 , 108.49 ,  73.97 , 130.   ,\n",
       "        65.71 ,  67.   , 113.45 , 114.41 , 191.7  , 140.   ,  91.18 ,\n",
       "        88.73 , 103.6  , 103.25 , 281.61 , 118.   ,  67.1  , 138.08 ,\n",
       "       174.33 ,  53.3  , 103.5  , 261.5  ,  85.8  ,  70.   , 174.5  ,\n",
       "       108.6  , 261.4  ,  71.01 ,  84.   ,  55.2  , 102.   ,  89.84 ,\n",
       "       241.38 , 103.26 , 194.   ,  84.82 , 325.86 ,  74.96 ,  73.9  ,\n",
       "       188.   , 150.   ,  53.64 , 148.   , 119.35 ,  83.83 , 167.68 ,\n",
       "        69.   , 161.   , 136.   , 191.76 , 138.03 , 235.   ,  98.   ,\n",
       "       248.   , 181.   , 110.4  ,  46.3  ,  37.   , 172.35 ,  97.9  ,\n",
       "        67.06 , 138.12 , 103.52 , 147.52 ,  98.59 , 254.79 , 158.   ,\n",
       "        75.   , 105.   , 149.92 ,  93.7  , 177.   , 120.3  ,  88.77 ,\n",
       "       126.32 ,  73.94 , 248.08 , 157.81 , 113.18 ,  83.14 ,  75.94 ,\n",
       "       136.78 ,  53.26 ,  47.3  ,  88.8  ,  86.63 , 184.   , 138.05 ,\n",
       "       115.05 , 172.45 , 187.4  , 156.9  , 106.   ,  63.   , 177.6  ,\n",
       "       103.   ,  65.   ,  37.5  ,  47.   ,  80.   ,  57.6  ,  94.93 ,\n",
       "        82.85 , 170.   , 180.   ,  84.48 , 110.   , 160.   , 335.2  ,\n",
       "        99.   , 118.41 , 152.87 ,  83.81 , 218.   ,  88.2  ,  60.   ,\n",
       "       170.63 , 100.5  , 114.   , 189.08 , 168.5  , 123.24 ,  88.   ,\n",
       "        38.   , 120.   , 121.31 ,  77.   ,  71.02 , 134.1  ,  92.7  ,\n",
       "       186.   , 116.4  ,  86.83 ,  53.5  , 101.64 , 171.5  ,  56.3  ,\n",
       "       104.5  , 126.3  ,  66.   ,  72.   , 400.   , 104.68 ,  95.48 ,\n",
       "        72.41 ,  71.   , 175.   , 108.48 ,  62.1  ,  64.1  , 105.94 ,\n",
       "       104.   , 194.3  , 153.866, 162.   ,  73.74 , 215.   , 175.56 ,\n",
       "       335.26 ,  70.02 , 197.   , 236.7  , 158.2  , 254.8  ,  97.7  ,\n",
       "        63.1  , 301.73 ,  83.8  , 120.69 , 255.   , 214.5  , 214.56 ,\n",
       "        97.89 ,  76.43 , 138.   , 181.04 , 153.86 , 104.55 , 453.26 ,\n",
       "       194.4  , 171.   , 147.5  ,  83.   , 178.   , 105.5  , 147.94 ,\n",
       "       102.57 , 174.3  , 113.42 , 182.46 , 158.8  , 160.92 , 130.1  ,\n",
       "       203.   , 100.6  , 115.   ,  94.   , 120.7  , 197.2  , 177.46 ,\n",
       "       112.   , 102.53 , 163.2  , 120.33 , 261.49 ,  25.4  ,  41.42 ,\n",
       "        35.   , 141.04 ,  86.76 , 163.7  ,  61.   , 147.9  , 164.7  ,\n",
       "       145.   ,  79.4  ,  52.8  ,  78.   ,  92.   , 167.6  ,  61.68 ,\n",
       "        85.7  , 246.74 ,  62.   ,  72.4  , 335.25 ,  40.   ,  93.   ,\n",
       "        80.46 , 161.6  , 101.   , 157.75 ,  75.09 , 112.2  , 101.65 ,\n",
       "       260.   ,  73.8  , 110.5  , 121.   , 379.7  ,  84.8  , 126.24 ,\n",
       "       384.87 ,  48.21 , 201.1  ,  57.   , 173.   , 200.   , 177.5  ,\n",
       "        99.23 , 158.79 , 197.26 , 118.3  , 296.   ,  40.36 ,  91.7  ,\n",
       "       163.   , 153.87 , 178.49 ,  93.87 , 138.13 ,  55.92 , 120.96 ,\n",
       "       271.2  , 165.   , 245.59 , 123.37 ,  99.6  , 241.6  , 107.5  ,\n",
       "        91.72 , 270.9  ,  57.5  ,  96.55 ,  89.75 ,  89.   , 102.5  ,\n",
       "       157.57 , 116.6  ,  82.9  , 167.7  ,  58.33 ,  79.65 ,  41.57 ,\n",
       "        65.39 , 402.3  ,  58.2  , 208.   , 125.   ,  61.6  , 144.   ,\n",
       "        67.72 , 181.03 , 215.01 ,  64.   , 321.84 ,  58.   ,  91.19 ,\n",
       "       268.   , 183.   ,  83.11 , 197.13 , 296.3  , 282.   , 258.81 ,\n",
       "       362.07 , 241.3  , 103.39 , 192.   , 237.   , 212.55 , 245.4  ,\n",
       "       259.   , 576.63 ,  70.4  , 469.   , 375.48 , 194.44 , 333.   ,\n",
       "       250.   , 237.36 , 140.1  , 159.74 , 304.41 , 257.47 , 306.   ,\n",
       "        76.   , 130.07 , 152.88 , 185.   , 134.   , 163.5  ,  68.1  ,\n",
       "       130.3  , 130.2  , 168.7  , 321.   ,  58.16 , 139.46 , 364.9  ,\n",
       "        98.69 , 175.67 , 272.   ,  38.4  , 103.3  , 355.37 , 107.2  ,\n",
       "        59.   , 141.1  ,  74.9  , 148.31 ,  66.6  , 169.   , 140.8  ,\n",
       "       113.4  ,  34.2  ,  84.5  , 100.57 , 443.87 , 450.   ,  84.88 ,\n",
       "        63.12 , 132.   ,  68.07 , 247.   ,  97.6  ,  59.18 , 394.3  ,\n",
       "       198.25 ,  52.   , 510.   ,  76.8  , 150.19 , 348.66 , 300.   ,\n",
       "       265.   , 155.   ,  78.8  , 375.5  , 154.   , 168.   , 221.3  ,\n",
       "       156.82 , 178.4  ,  97.64 ])"
      ]
     },
     "execution_count": 302,
     "metadata": {},
     "output_type": "execute_result"
    }
   ],
   "source": [
    "car['Max Power'].unique()"
   ]
  },
  {
   "cell_type": "markdown",
   "metadata": {},
   "source": [
    "### Car Length "
   ]
  },
  {
   "cell_type": "code",
   "execution_count": 303,
   "metadata": {},
   "outputs": [],
   "source": [
    "car['Dimensions & Capacity - Length']=car.rename(columns={\"Dimensions & Capacity - Length\":\"Carlength\"},inplace=True)"
   ]
  },
  {
   "cell_type": "code",
   "execution_count": 304,
   "metadata": {},
   "outputs": [
    {
     "data": {
      "text/plain": [
       "0    3995mm\n",
       "1    3675mm\n",
       "2    3994mm\n",
       "3    3585mm\n",
       "4    3955mm\n",
       "Name: Carlength, dtype: object"
      ]
     },
     "execution_count": 304,
     "metadata": {},
     "output_type": "execute_result"
    }
   ],
   "source": [
    "car['Carlength'].head()"
   ]
  },
  {
   "cell_type": "code",
   "execution_count": 305,
   "metadata": {},
   "outputs": [
    {
     "data": {
      "text/plain": [
       "array(['3995mm', '3675mm', '3994mm', '3585mm', '3955mm', '4879mm',\n",
       "       '3715mm', '3500mm', '4708mm', '3998mm', '3955 mm', '4709mm',\n",
       "       '3840mm', '3765mm', '4405mm', '4440mm', '4795mm', '3990mm',\n",
       "       '3515mm', '3993mm', '4270mm', '3995 mm', '4915mm', '3600mm',\n",
       "       '4735mm', '3999mm', '4359mm', '4095mm', '4315mm', '3805mm',\n",
       "       '4620mm', '4933mm', '4249mm', '4629mm', '4490mm', '5052 mm',\n",
       "       '4686mm', '5219mm', '3971mm', '4657mm', '4661mm', '3788mm',\n",
       "       '3610 mm', '4221mm', '3987mm', '4695mm', '4,560mm', '3989mm',\n",
       "       '3985mm', '4296mm', '4598mm', '4390mm', '4600mm', '4445mm',\n",
       "       '3610mm', '4655mm', '4892mm', '3954mm', '4,800 mm', '4817mm',\n",
       "       '4456mm', '4384mm', '4824mm', '5453mm', '5206mm', '4907mm',\n",
       "       '3599mm', '4375mm', '4458mm', '3445mm', '4225mm', '3995', '4323mm',\n",
       "       '3545mm', '4545mm', '3801mm', '3695mm', '3731mm', '4440', '4300mm',\n",
       "       '4540mm', '5063mm', '4585mm', '4370mm', '4395', nan, '4386mm',\n",
       "       '4490 mm', '5255mm', '4420 mm', '3595mm', '4388mm', '3679mm',\n",
       "       '4922 mm', '4150 mm', '3700mm', '3530mm', '3565', '4886mm',\n",
       "       '5091mm', '3991mm', '3746mm', '3495mm', '4385mm', '4,580 mm',\n",
       "       '3620mm', '4598 mm', '3775mm', '4924mm', '4658mm', '4413mm',\n",
       "       '5207mm', '3795mm', '4160mm', '3429mm', '4735', '4549mm', '3992mm',\n",
       "       '4955mm', '4630mm', '5075mm', '4265mm', '4833mm', '4841mm',\n",
       "       '4097mm', '4819mm', '4663mm', '4635mm', '3845mm', '3335mm',\n",
       "       '4769mm', '3731', '4541mm', '4819', '4720mm', '4,554 mm', '4570mm',\n",
       "       '4963 mm', '4250mm', '4731mm', '4420mm', '4659mm', '4618mm',\n",
       "       '4701mm', '4500mm', '3825 mm', '3970mm', '4456', '3655mm',\n",
       "       '3827mm', '4624mm', '4662mm', '3940 mm', '4697mm', '3850mm',\n",
       "       '4056mm', '4950mm', '5089mm', '4598', '4395 mm', '3988 mm',\n",
       "       '3099mm  ', '3445', '3395mm', '3640mm', '3430mm', '3655 mm',\n",
       "       '4591mm', '3435mm', '4395mm', '3802mm', '4838mm', '3886mm',\n",
       "       '4850mm', '3760mm', '4656 mm', '3535mm', '4595mm', '4526mm',\n",
       "       '4,435 mm', '3636mm', '4705mm', '3982mm', '4699mm', '4439mm',\n",
       "       '3099mm', '4430mm', '3993', '4417mm', '4310mm', '4797mm',\n",
       "       '3941 mm', '3,690 mm', '3988mm', '4365mm', '4477mm', '4355mm',\n",
       "       '4507 mm', '4290mm', '4384 mm', '3941', '3675', '3795 mm',\n",
       "       '4825mm', '3565mm', '3690mm', '3780mm', '4247mm', '4425mm',\n",
       "       '4299 mm', '4648mm', '4690mm', '4360', '4755mm', '4305mm',\n",
       "       '4851mm', '4695 mm', '4,596 mm', '4586mm', '4223mm', '4860',\n",
       "       '4490', '3805', '3900mm', '3825mm', '5302mm', '4644mm', '4436mm',\n",
       "       '4559mm', '4331mm', '4561mm', '4936mm', '4988mm', '4885 mm',\n",
       "       '4975 mm', '5067mm', '5120mm', '4318mm', '4482', '4300', '4400 mm',\n",
       "       '4486mm', '3785mm', '5246mm', '4530mm', '3810mm', '4498mm',\n",
       "       '4670mm', '4708', '4234mm', '4531mm', '4520mm', '4475mm', '4575mm',\n",
       "       '4660mm', '4329mm', '4,560 mm', '4852mm', '4868mm', '4,140 mm',\n",
       "       '4480mm', '4961mm', '5115', '4,572 mm', '4861mm', '4560mm',\n",
       "       '4752 mm', '4580mm', '3714mm', '3,565 mm', '4,586 mm', '4277mm',\n",
       "       '5060mm', '4726mm', '4292mm', '4803 mm', '3765', '4655 mm',\n",
       "       '3590mm', '2974', '3370mm', '4509mm', '4597mm', '4815mm',\n",
       "       '4300 mm', '3535 mm', '4222mm', '4435mm', '5150 mm', '3981mm',\n",
       "       '3099 mm', '4838 mm', '4788mm', '3801 mm', '4,282 mm', '4859mm',\n",
       "       '4525mm', '4,838 mm', '4585 mm', '5247mm', '4,421 mm', '4596mm',\n",
       "       '4282mm', '4891mm', '3,827 mm', '4369mm', '4650mm', '3920mm',\n",
       "       '4324mm', '4000mm', '4807mm', '4421mm', '4985mm', '5115mm', '4500',\n",
       "       '4618 mm', '4107mm', '4627mm', '4413 mm', '4345mm', '3895mm',\n",
       "       '4850 mm', '5130mm', '3884mm', '4693 mm', '4569mm', '4767mm',\n",
       "       '4010mm', '4781mm', '4410mm', '4682mm', '4360mm', '4455mm',\n",
       "       '4800mm', '4291mm', '5200mm', '4633mm', '4628mm', '4569 mm',\n",
       "       '3520 mm', '4320mm', '4535mm', '4780mm', '4495mm', '4903mm',\n",
       "       '4583', '4869mm', '4170mm', '4762mm', '5350mm', '4158 mm',\n",
       "       '4673mm', '5215mm', '4425 mm', '4,530 mm', '4870mm', '3815mm',\n",
       "       '3996', '5238mm', '4882mm', '4424 mm', '4751mm', '5018mm',\n",
       "       '5226mm', '5000mm', '4429', '5064mm', '4253mm', '4939mm', '4890mm',\n",
       "       '4940mm', '4371 mm', '4855mm', '4518mm', '5462 mm', '3520mm',\n",
       "       '4606 mm', '4963mm', '3,970 mm', '5010', '4922mm', '4685mm',\n",
       "       '4447mm', '4691mm', '4143mm', '5295mm', '4365', '4405', '5179mm',\n",
       "       '4656mm', '4665 mm', '3695', '4850', '4716', '4637mm', '4315',\n",
       "       '4377mm', '4017mm', '4749mm', '3880mm', '4180mm', '4453mm',\n",
       "       '4270 mm', '4519mm', '4894mm', '3990', '4688mm', '4325mm',\n",
       "       '4285 mm', '4697 mm', '5252mm', '4970mm', '4574', '4820mm',\n",
       "       '4546mm', '4823', '4765mm', '4,310 mm', '5015mm', '4470mm'],\n",
       "      dtype=object)"
      ]
     },
     "execution_count": 305,
     "metadata": {},
     "output_type": "execute_result"
    }
   ],
   "source": [
    "car['Carlength'].unique()"
   ]
  },
  {
   "cell_type": "code",
   "execution_count": 306,
   "metadata": {},
   "outputs": [
    {
     "data": {
      "text/plain": [
       "442"
      ]
     },
     "execution_count": 306,
     "metadata": {},
     "output_type": "execute_result"
    }
   ],
   "source": [
    "car['Carlength'].isna().sum()\n"
   ]
  },
  {
   "cell_type": "code",
   "execution_count": 307,
   "metadata": {},
   "outputs": [],
   "source": [
    "# Step 1: Remove 'mm' (with or without space) and commas\n",
    "car['Carlength'] = car['Carlength'].str.replace(r'\\s*mm', '', regex=True)  # Remove 'mm'\n",
    "car['Carlength'] = car['Carlength'].str.replace(',', '')  # Remove commas\n"
   ]
  },
  {
   "cell_type": "code",
   "execution_count": 308,
   "metadata": {},
   "outputs": [],
   "source": [
    "car['Carlength'] = car['Carlength'].fillna(car['Carlength'].mode()[0])"
   ]
  },
  {
   "cell_type": "code",
   "execution_count": 309,
   "metadata": {},
   "outputs": [],
   "source": [
    "car['Carlength'] = car['Carlength'].astype(int)"
   ]
  },
  {
   "cell_type": "code",
   "execution_count": null,
   "metadata": {},
   "outputs": [],
   "source": []
  },
  {
   "cell_type": "markdown",
   "metadata": {},
   "source": [
    "### Car Width "
   ]
  },
  {
   "cell_type": "code",
   "execution_count": 310,
   "metadata": {},
   "outputs": [],
   "source": [
    "car['Dimensions & Capacity - Width']=car.rename(columns={\"Dimensions & Capacity - Width\":\"Carwidth\"},inplace=True)"
   ]
  },
  {
   "cell_type": "code",
   "execution_count": 311,
   "metadata": {},
   "outputs": [
    {
     "data": {
      "text/plain": [
       "0      1790\n",
       "1    1475mm\n",
       "2      1758\n",
       "3    1595mm\n",
       "4    1694mm\n",
       "Name: Carwidth, dtype: object"
      ]
     },
     "execution_count": 311,
     "metadata": {},
     "output_type": "execute_result"
    }
   ],
   "source": [
    "car['Carwidth'].head()"
   ]
  },
  {
   "cell_type": "code",
   "execution_count": 312,
   "metadata": {},
   "outputs": [
    {
     "data": {
      "text/plain": [
       "446"
      ]
     },
     "execution_count": 312,
     "metadata": {},
     "output_type": "execute_result"
    }
   ],
   "source": [
    "car['Carwidth'].isna().sum()"
   ]
  },
  {
   "cell_type": "code",
   "execution_count": 313,
   "metadata": {},
   "outputs": [],
   "source": [
    "# Step 1: Remove 'mm' (with or without space) and commas\n",
    "car['Carwidth'] = car['Carwidth'].str.replace(r'\\s*mm', '', regex=True)  # Remove 'mm'\n",
    "car['Carwidth'] = car['Carwidth'].str.replace(',', '')  # Remove commas\n"
   ]
  },
  {
   "cell_type": "code",
   "execution_count": 314,
   "metadata": {},
   "outputs": [],
   "source": [
    "car['Carwidth'] = car['Carwidth'].fillna(car['Carwidth'].mode()[0])"
   ]
  },
  {
   "cell_type": "code",
   "execution_count": 315,
   "metadata": {},
   "outputs": [],
   "source": [
    "car['Carwidth']=car['Carwidth'].astype(int)"
   ]
  },
  {
   "cell_type": "markdown",
   "metadata": {},
   "source": [
    "### Car Height"
   ]
  },
  {
   "cell_type": "code",
   "execution_count": 316,
   "metadata": {},
   "outputs": [],
   "source": [
    "car['Dimensions & Capacity - Height']=car.rename(columns={\"Dimensions & Capacity - Height\":\"Carheight\"},inplace=True)"
   ]
  },
  {
   "cell_type": "code",
   "execution_count": 317,
   "metadata": {},
   "outputs": [
    {
     "data": {
      "text/plain": [
       "0      1642\n",
       "1    1800mm\n",
       "2      1572\n",
       "3    1550mm\n",
       "4    1544mm\n",
       "Name: Carheight, dtype: object"
      ]
     },
     "execution_count": 317,
     "metadata": {},
     "output_type": "execute_result"
    }
   ],
   "source": [
    "car['Carheight'].head()\n"
   ]
  },
  {
   "cell_type": "code",
   "execution_count": 318,
   "metadata": {},
   "outputs": [
    {
     "data": {
      "text/plain": [
       "442"
      ]
     },
     "execution_count": 318,
     "metadata": {},
     "output_type": "execute_result"
    }
   ],
   "source": [
    "car['Carheight'].isna().sum()\n"
   ]
  },
  {
   "cell_type": "code",
   "execution_count": 319,
   "metadata": {},
   "outputs": [],
   "source": [
    "# Step 1: Remove 'mm' (with or without space) and commas\n",
    "car['Carheight'] = car['Carheight'].str.replace(r'\\s*mm', '', regex=True)  # Remove 'mm'\n",
    "car['Carheight'] = car['Carheight'].str.replace(',', '')  # Remove commas\n",
    "car['Carheight'] = car['Carheight'].str.split('-').str[0]\n",
    "\n"
   ]
  },
  {
   "cell_type": "code",
   "execution_count": 320,
   "metadata": {},
   "outputs": [],
   "source": [
    "car['Carheight']=car['Carheight'].fillna(car['Carheight'].mode()[0])"
   ]
  },
  {
   "cell_type": "code",
   "execution_count": 321,
   "metadata": {},
   "outputs": [],
   "source": [
    "car['Carheight']=car['Carheight'].astype(int)"
   ]
  },
  {
   "cell_type": "code",
   "execution_count": 322,
   "metadata": {},
   "outputs": [
    {
     "data": {
      "text/plain": [
       "1288"
      ]
     },
     "execution_count": 322,
     "metadata": {},
     "output_type": "execute_result"
    }
   ],
   "source": [
    "car['Carheight'].min()"
   ]
  },
  {
   "cell_type": "markdown",
   "metadata": {},
   "source": [
    "### Car Mileage -- Handling missing values"
   ]
  },
  {
   "cell_type": "code",
   "execution_count": 323,
   "metadata": {},
   "outputs": [
    {
     "data": {
      "text/plain": [
       "array([nan, '15.37 kmpl', '20 kmpl', '19.81 kmpl', '18.7 kmpl', '13 kmpl',\n",
       "       '23.1 kmpl', '19 kmpl', '16.55 kmpl', '14.8 kmpl', '21 kmpl',\n",
       "       '18.2 kmpl', '20.37 kmpl', '22 kmpl', '18.9 kmpl', '21.5 kmpl',\n",
       "       '17.1 kmpl', '17.4 kmpl', '18 kmpl', '20.3 kmpl', '25.2 kmpl',\n",
       "       '17.8 kmpl', '17.01 kmpl', '18.15 kmpl', '13.53 kmpl', '21.4 kmpl',\n",
       "       '8 kmpl', '17.5 kmpl', '27.3 kmpl', '15 kmpl', '15.9 kmpl',\n",
       "       '19.6 kmpl', '20.7 kmpl', '14.53 kmpl', '16.82 kmpl', '21.43 kmpl',\n",
       "       '28.4 kmpl', '17 kmpl', '18.53 kmpl', '13.22 kmpl', '25.5 kmpl',\n",
       "       '28.09 kmpl', '14.75 kmpl', '13.68 kmpl', '19.27 kmpl',\n",
       "       '16.46 kmpl', '17.74 kmpl', '14.08 kmpl', '19.02 kmpl',\n",
       "       '18.41 kmpl', '23.8 kmpl', '16.8 kmpl', '14.6 kmpl', '17.52 kmpl',\n",
       "       '20.36 kmpl', '18.6 kmpl', '16 kmpl', '15.5 kmpl', '16.2 kmpl',\n",
       "       '23 kmpl', '19.12 kmpl', '14.3 kmpl', '20.14 kmpl', '24.52 kmpl',\n",
       "       '16.35 kmpl', '16.09 kmpl', '12.51 kmpl', '15.6 kmpl',\n",
       "       '17.99 kmpl', '19.4 kmpl', '15.81 kmpl', '13.5 kmpl', '13.6 kmpl',\n",
       "       '18.49 kmpl', '21.21 kmpl', '15.26 kmpl', '20.38 kmpl',\n",
       "       '21.66 kmpl', '19.1 kmpl', '22.41 kmpl', '15.34 kmpl', '7.81 kmpl',\n",
       "       '18.12 kmpl', '20.51 kmpl', '19.08 kmpl', '22.05 kmpl',\n",
       "       '18.86 kmpl', '14.82 kmpl', '19.56 kmpl', '23.95 kmpl', '24 kmpl',\n",
       "       '19.49 kmpl', '25.24 kmpl', '24.7 kmpl', '21.74 kmpl',\n",
       "       '19.67 kmpl', '16.1 kmpl', '15.1 kmpl', '17.6 kmpl', '21.14 kmpl',\n",
       "       '22.95 kmpl', '26 kmpl', '20.28 kmpl', '23.7 kmpl', '16.5 kmpl',\n",
       "       '15.73 kmpl', '25.17 kmpl', '16.14 kmpl', '17.21 kmpl',\n",
       "       '13.38 kmpl', '15.04 kmpl', '26.68 kmpl', '20.89 kmpl',\n",
       "       '24.39 kmpl', '21.7 kmpl', '15.8 kmpl', '11.7 kmpl', '24.3 kmpl',\n",
       "       '25.8 kmpl', '20.73 kmpl', '18.5 kmpl', '21.01 kmpl', '17.09 kmpl',\n",
       "       '26.21 kmpl', '23.84 kmpl', '21.1 kmpl', '12.8 kmpl', '16.47 kmpl',\n",
       "       '20.92 kmpl', '22.7 kmpl', '17.03 kmpl', '15.29 kmpl',\n",
       "       '16.95 kmpl', '19.01 kmpl', '18.97 kmpl', '19.3 kmpl',\n",
       "       '21.76 kmpl', '15.2 kmpl', '19.28 kmpl', '21.63 kmpl', '19.5 kmpl',\n",
       "       '21.19 kmpl', '12 kmpl', '17.41 kmpl', '22.54 kmpl', '12.08 kmpl',\n",
       "       '17.9 kmpl', '16.78 kmpl', '17.2 kmpl', '11.5 kmpl', '14.16 kmpl',\n",
       "       '19.23 kmpl', '8.5 kmpl', '15.97 kmpl', '9 kmpl', '22.38 kmpl',\n",
       "       '23.65 kmpl', '15.85 kmpl', '19.7 kmpl', '17.68 kmpl',\n",
       "       '19.03 kmpl', '14.84 kmpl', '25.6 kmpl', '22.3 kmpl', '20.1 kmpl',\n",
       "       '18.72 kmpl', '17.19 kmpl', '18.3 kmpl', '13.96 kmpl',\n",
       "       '22.77 kmpl', '15.3 kmpl', '23.01 kmpl', '16.65 kmpl',\n",
       "       '12.62 kmpl', '20.5 kmpl', '19.44 kmpl', '14.62 kmpl',\n",
       "       '22.69 kmpl', '18.78 kmpl', '16.36 kmpl', '16.38 kmpl',\n",
       "       '14.69 kmpl', '23.64 kmpl', '26.59 kmpl', '19.71 kmpl',\n",
       "       '20.4 kmpl', '17.11 kmpl', '22.32 kmpl', '24.4 kmpl', '23.2 kmpl',\n",
       "       '13.17 kmpl', '20.85 kmpl', '14.24 kmpl', '19.15 kmpl', '25 kmpl',\n",
       "       '22.25 kmpl', '22.15 kmpl', '23.56 kmpl', '20.09 kmpl',\n",
       "       '23.4 kmpl', '18.88 kmpl', '15.4 kmpl', '19.62 kmpl', '14.5 kmpl',\n",
       "       '21.9 kmpl', '16.25 kmpl', '19.72 kmpl', '22.9 kmpl', '18.76 kmpl',\n",
       "       '12.07 kmpl', '17.88 kmpl', '19.34 kmpl', '14.4 kmpl', '25.4 kmpl',\n",
       "       '27.62 kmpl', '22.74 kmpl', '25.44 kmpl', '18.27 kmpl',\n",
       "       '21.72 kmpl', '21.79 kmpl', '22.07 kmpl', '20.71 kmpl', '9.8 kmpl',\n",
       "       '13.14 kmpl', '11.33 kmpl', '25.19 kmpl', '18.16 kmpl',\n",
       "       '24.29 kmpl', '15.63 kmpl', '19.16 kmpl', '16.73 kmpl',\n",
       "       '14.2 kmpl', '17.3 kmpl', '19.83 kmpl', '27.28 kmpl', '25.83 kmpl',\n",
       "       '16.3 kmpl', '22.1 kmpl', '12.2 kmpl', '18.4 kmpl', '12.78 kmpl',\n",
       "       '20.68 kmpl', '24.04 kmpl', '27.39 kmpl', '20.08 kmpl',\n",
       "       '12.05 kmpl', '25.32 kmpl', '20.52 kmpl', '18.75 kmpl',\n",
       "       '14.49 kmpl', '11.74 kmpl', '12.99 kmpl', '20.58 kmpl',\n",
       "       '24.35 kmpl', '11.36 kmpl', '14.19 kmpl', '18.19 kmpl',\n",
       "       '17.05 kmpl', '12.7 kmpl', '26.49 km/kg', '11.3 kmpl', '15.7 kmpl',\n",
       "       '13.7 kmpl', '13.9 kmpl', '16.98 kmpl', '21.56 kmpl', '23.9 kmpl',\n",
       "       '16.02 kmpl', '16.11 kmpl', '17.57 kmpl', '20.54 kmpl',\n",
       "       '13.8 kmpl', '18.05 kmpl', '18.24 kmpl', '17.92 kmpl',\n",
       "       '18.06 kmpl', '20.25 kmpl', '24.2 kmpl', '19.2 kmpl', '18.1 kmpl',\n",
       "       '15.64 kmpl', '21.13 kmpl', '19.19 kmpl', '13.01 kmpl',\n",
       "       '16.42 kmpl', '12.83 kmpl', '22.35 kmpl', '14.59 kmpl',\n",
       "       '17.67 kmpl', '11.24 kmpl', '20.77 kmpl', '12.18 kmpl',\n",
       "       '18.8 kmpl', '20.65 kmpl', '20.8 kmpl', '26.2 kmpl', '14.7 kmpl',\n",
       "       '23.08 kmpl', '16.24 kmpl', '19.87 kmpl', '22.37 kmpl',\n",
       "       '19.33 kmpl', '16.9 kmpl', '14.57 kmpl', '19.59 kmpl',\n",
       "       '14.85 kmpl', '16.13 kmpl', '15.17 kmpl', '18.55 kmpl',\n",
       "       '14.74 kmpl', '20.45 kmpl', '14.28 kmpl', '20.63 kmpl',\n",
       "       '21.27 kmpl', '17.33 kmpl', '18.48 kmpl', '13.45 kmpl',\n",
       "       '12.6 kmpl', '15.56 kmpl', '19.98 kmpl', '27.03 kmpl',\n",
       "       '16.56 kmpl', '13.2 kmpl', '14.1 kmpl', '13.24 kmpl', '10.91 kmpl',\n",
       "       '16.07 kmpl', '11.1 kmpl', '11.4 kmpl', '11.72 kmpl', '13.32 kmpl',\n",
       "       '10 kmpl', '11.18 kmpl', '14.21 kmpl', '10.9 kmpl', '15.43 kmpl',\n",
       "       '14.11 kmpl', '22.56 kmpl', '14.67 kmpl', '14.71 kmpl',\n",
       "       '17.69 kmpl', '12.55 kmpl', '17.7 kmpl', '13.06 kmpl', '12.3 kmpl',\n",
       "       '17.14 kmpl', '21.03 kmpl', '22.5 kmpl', '21.46 kmpl',\n",
       "       '17.42 kmpl', '18.56 kmpl', '13.79 kmpl', '18.25 kmpl',\n",
       "       '14.99 kmpl', '11.9 kmpl', '11.57 kmpl', '20.04 kmpl', '110 kmpl',\n",
       "       '14 kmpl', '18.45 kmpl', '16.96 kmpl', '12.65 kmpl', '19.65 kmpl',\n",
       "       '10.75 kmpl', '21.73 kmpl', '13.4 kmpl', '20.46 kmpl',\n",
       "       '12.35 kmpl', '20.88 km/kg', '26.11 kmpl', '13.58 kmpl',\n",
       "       '10.54 kmpl', '19.64 kmpl', '140 kmpl', '19.69 kmpl', '15.41 kmpl',\n",
       "       '14.9 kmpl', '19.47 kmpl', '10.5 kmpl', '19.09 kmpl', '21.64 kmpl',\n",
       "       '22.61 kmpl', '18.09 kmpl', '8.9 kmpl', '23.59 kmpl', '15.96 kmpl',\n",
       "       '13.93 kmpl', '16.4 kmpl', '16.28 kmpl', '20.86 kmpl',\n",
       "       '18.07 kmpl', '16.6 kmpl', '26.1 kmpl', '13.92 kmpl', '14.02 kmpl',\n",
       "       '31.59 km/kg', '21.8 kmpl', '24.76 kmpl', '12.34 kmpl',\n",
       "       '21.11 kmpl', '14.23 kmpl', '26.82 kmpl', '11 kmpl', '17.32 kmpl',\n",
       "       '25.3 kmpl', '19.95 kmpl', '35.6 km/kg', '21.12 kmpl',\n",
       "       '11.96 kmpl', '21.02 kmpl', '19.68 kmpl', '25.1 kmpl',\n",
       "       '13.47 kmpl', '18.23 kmpl', '31.12 kmpl', '23.22 kmpl',\n",
       "       '17.38 kmpl', '15.68 kmpl', '17.97 kmpl', '22.27 kmpl',\n",
       "       '16.97 kmpl', '13.33 kmpl', '19.89 kmpl', '27.4 kmpl', '26.5 kmpl',\n",
       "       '25.01 kmpl', '17.43 kmpl', '22.71 kmpl', '20.34 kmpl',\n",
       "       '33.54 kmpl', '12.9 kmpl', '12.4 kmpl', '32.52 kmpl', '24.1 kmpl',\n",
       "       '30.47 km/kg', '17.29 kmpl', '21.49 kmpl', '13.1 kmpl',\n",
       "       '14.47 kmpl', '21.1 km/kg', '18.43 kmpl', '12.12 kmpl',\n",
       "       '26.8 kmpl', '9.74 kmpl', '14.34 kmpl', '11.67 kmpl', '12.74 kmpl',\n",
       "       '28 km/kg', '12.5 kmpl', '14.025 kmpl', '30.48 km/kg',\n",
       "       '19.61 kmpl', '26.08 km/kg', '12.1 kmpl', '12.81 kmpl', '9.2 kmpl',\n",
       "       '17.71 kmpl', '16.34 kmpl', '30.46 kmpl', '11.21 kmpl',\n",
       "       '16.39 kmpl', '11.2 kmpl', '12.04 kmpl', '16.12 kmpl',\n",
       "       '26.55 kmpl', '7.08 kmpl', '31.2 kmpl', '12.33 kmpl', '31.79 kmpl',\n",
       "       '8.13 kmpl', '16.72 kmpl', '22.48 kmpl', '20.6 kmpl', '14.01 kmpl',\n",
       "       '10.8 kmpl', '9.26 kmpl', '12.95 kmpl', '16.7 kmpl', '10.4 kmpl',\n",
       "       '20.15 kmpl', '31.12 km/kg', '11.88 kmpl', '18.69 kmpl',\n",
       "       '18.9 km/kg', '15.01 kmpl', '10.26 kmpl', '19.39 kmpl',\n",
       "       '8.45 kmpl', '26.11 km/kg', '12.63 kmpl', '26.6 kmpl',\n",
       "       '10.13 kmpl', '20.27 kmpl', '14.09 kmpl', '20.01 kmpl',\n",
       "       '10.93 kmpl', '26.6 km/kg', '26.83 kmpl', '16.77 kmpl',\n",
       "       '19.17 kmpl', '21.38 kmpl', '23.57 kmpl', '24.8 kmpl', '7.94 kmpl',\n",
       "       '26.49 kmpl', '25.47 kmpl', '18.33 kmpl', '9.4 kmpl', '7.5 kmpl',\n",
       "       '13.44 kmpl', '14.94 kmpl', '23.03 kmpl', '15.39 kmpl',\n",
       "       '24.97 kmpl', '34.05 kmpl', '17.85 kmpl', '27.97 kmpl',\n",
       "       '20.62 kmpl', '15.15 kmpl', '19.8 kmpl', '14.95 kmpl',\n",
       "       '11.81 kmpl', '12.98 kmpl'], dtype=object)"
      ]
     },
     "execution_count": 323,
     "metadata": {},
     "output_type": "execute_result"
    }
   ],
   "source": [
    "car['Mileage'].unique()"
   ]
  },
  {
   "cell_type": "code",
   "execution_count": 324,
   "metadata": {},
   "outputs": [],
   "source": [
    "car['Mileage'] = car['Mileage'].str.replace(r'\\s*kmpl', '', regex=True)  # Remove 'mm'\n",
    "car['Mileage'] = car['Mileage'].str.replace(',', '')  # Remove commas"
   ]
  },
  {
   "cell_type": "code",
   "execution_count": 325,
   "metadata": {},
   "outputs": [
    {
     "data": {
      "text/plain": [
       "650"
      ]
     },
     "execution_count": 325,
     "metadata": {},
     "output_type": "execute_result"
    }
   ],
   "source": [
    "car['Mileage'].isna().sum()"
   ]
  },
  {
   "cell_type": "code",
   "execution_count": 326,
   "metadata": {},
   "outputs": [],
   "source": [
    "car['Mileage']=car['Mileage'].fillna(car['Mileage'].mode()[0])"
   ]
  },
  {
   "cell_type": "code",
   "execution_count": 327,
   "metadata": {},
   "outputs": [
    {
     "name": "stderr",
     "output_type": "stream",
     "text": [
      "C:\\Users\\Srivathsan\\AppData\\Local\\Temp\\ipykernel_31100\\4142282532.py:3: FutureWarning: ChainedAssignmentError: behaviour will change in pandas 3.0!\n",
      "You are setting values through chained assignment. Currently this works in certain cases, but when using Copy-on-Write (which will become the default behaviour in pandas 3.0) this will never work to update the original DataFrame or Series, because the intermediate object on which we are setting values will behave as a copy.\n",
      "A typical example is when you are setting values in a column of a DataFrame, like:\n",
      "\n",
      "df[\"col\"][row_indexer] = value\n",
      "\n",
      "Use `df.loc[row_indexer, \"col\"] = values` instead, to perform the assignment in a single step and ensure this keeps updating the original `df`.\n",
      "\n",
      "See the caveats in the documentation: https://pandas.pydata.org/pandas-docs/stable/user_guide/indexing.html#returning-a-view-versus-a-copy\n",
      "\n",
      "  car['Mileage'][i] = float(car['Mileage'][i][:-6]) * 1.40\n",
      "C:\\Users\\Srivathsan\\AppData\\Local\\Temp\\ipykernel_31100\\4142282532.py:3: SettingWithCopyWarning: \n",
      "A value is trying to be set on a copy of a slice from a DataFrame\n",
      "\n",
      "See the caveats in the documentation: https://pandas.pydata.org/pandas-docs/stable/user_guide/indexing.html#returning-a-view-versus-a-copy\n",
      "  car['Mileage'][i] = float(car['Mileage'][i][:-6]) * 1.40\n",
      "C:\\Users\\Srivathsan\\AppData\\Local\\Temp\\ipykernel_31100\\4142282532.py:3: FutureWarning: ChainedAssignmentError: behaviour will change in pandas 3.0!\n",
      "You are setting values through chained assignment. Currently this works in certain cases, but when using Copy-on-Write (which will become the default behaviour in pandas 3.0) this will never work to update the original DataFrame or Series, because the intermediate object on which we are setting values will behave as a copy.\n",
      "A typical example is when you are setting values in a column of a DataFrame, like:\n",
      "\n",
      "df[\"col\"][row_indexer] = value\n",
      "\n",
      "Use `df.loc[row_indexer, \"col\"] = values` instead, to perform the assignment in a single step and ensure this keeps updating the original `df`.\n",
      "\n",
      "See the caveats in the documentation: https://pandas.pydata.org/pandas-docs/stable/user_guide/indexing.html#returning-a-view-versus-a-copy\n",
      "\n",
      "  car['Mileage'][i] = float(car['Mileage'][i][:-6]) * 1.40\n",
      "C:\\Users\\Srivathsan\\AppData\\Local\\Temp\\ipykernel_31100\\4142282532.py:3: SettingWithCopyWarning: \n",
      "A value is trying to be set on a copy of a slice from a DataFrame\n",
      "\n",
      "See the caveats in the documentation: https://pandas.pydata.org/pandas-docs/stable/user_guide/indexing.html#returning-a-view-versus-a-copy\n",
      "  car['Mileage'][i] = float(car['Mileage'][i][:-6]) * 1.40\n",
      "C:\\Users\\Srivathsan\\AppData\\Local\\Temp\\ipykernel_31100\\4142282532.py:3: FutureWarning: ChainedAssignmentError: behaviour will change in pandas 3.0!\n",
      "You are setting values through chained assignment. Currently this works in certain cases, but when using Copy-on-Write (which will become the default behaviour in pandas 3.0) this will never work to update the original DataFrame or Series, because the intermediate object on which we are setting values will behave as a copy.\n",
      "A typical example is when you are setting values in a column of a DataFrame, like:\n",
      "\n",
      "df[\"col\"][row_indexer] = value\n",
      "\n",
      "Use `df.loc[row_indexer, \"col\"] = values` instead, to perform the assignment in a single step and ensure this keeps updating the original `df`.\n",
      "\n",
      "See the caveats in the documentation: https://pandas.pydata.org/pandas-docs/stable/user_guide/indexing.html#returning-a-view-versus-a-copy\n",
      "\n",
      "  car['Mileage'][i] = float(car['Mileage'][i][:-6]) * 1.40\n",
      "C:\\Users\\Srivathsan\\AppData\\Local\\Temp\\ipykernel_31100\\4142282532.py:3: SettingWithCopyWarning: \n",
      "A value is trying to be set on a copy of a slice from a DataFrame\n",
      "\n",
      "See the caveats in the documentation: https://pandas.pydata.org/pandas-docs/stable/user_guide/indexing.html#returning-a-view-versus-a-copy\n",
      "  car['Mileage'][i] = float(car['Mileage'][i][:-6]) * 1.40\n",
      "C:\\Users\\Srivathsan\\AppData\\Local\\Temp\\ipykernel_31100\\4142282532.py:3: FutureWarning: ChainedAssignmentError: behaviour will change in pandas 3.0!\n",
      "You are setting values through chained assignment. Currently this works in certain cases, but when using Copy-on-Write (which will become the default behaviour in pandas 3.0) this will never work to update the original DataFrame or Series, because the intermediate object on which we are setting values will behave as a copy.\n",
      "A typical example is when you are setting values in a column of a DataFrame, like:\n",
      "\n",
      "df[\"col\"][row_indexer] = value\n",
      "\n",
      "Use `df.loc[row_indexer, \"col\"] = values` instead, to perform the assignment in a single step and ensure this keeps updating the original `df`.\n",
      "\n",
      "See the caveats in the documentation: https://pandas.pydata.org/pandas-docs/stable/user_guide/indexing.html#returning-a-view-versus-a-copy\n",
      "\n",
      "  car['Mileage'][i] = float(car['Mileage'][i][:-6]) * 1.40\n",
      "C:\\Users\\Srivathsan\\AppData\\Local\\Temp\\ipykernel_31100\\4142282532.py:3: SettingWithCopyWarning: \n",
      "A value is trying to be set on a copy of a slice from a DataFrame\n",
      "\n",
      "See the caveats in the documentation: https://pandas.pydata.org/pandas-docs/stable/user_guide/indexing.html#returning-a-view-versus-a-copy\n",
      "  car['Mileage'][i] = float(car['Mileage'][i][:-6]) * 1.40\n",
      "C:\\Users\\Srivathsan\\AppData\\Local\\Temp\\ipykernel_31100\\4142282532.py:3: FutureWarning: ChainedAssignmentError: behaviour will change in pandas 3.0!\n",
      "You are setting values through chained assignment. Currently this works in certain cases, but when using Copy-on-Write (which will become the default behaviour in pandas 3.0) this will never work to update the original DataFrame or Series, because the intermediate object on which we are setting values will behave as a copy.\n",
      "A typical example is when you are setting values in a column of a DataFrame, like:\n",
      "\n",
      "df[\"col\"][row_indexer] = value\n",
      "\n",
      "Use `df.loc[row_indexer, \"col\"] = values` instead, to perform the assignment in a single step and ensure this keeps updating the original `df`.\n",
      "\n",
      "See the caveats in the documentation: https://pandas.pydata.org/pandas-docs/stable/user_guide/indexing.html#returning-a-view-versus-a-copy\n",
      "\n",
      "  car['Mileage'][i] = float(car['Mileage'][i][:-6]) * 1.40\n",
      "C:\\Users\\Srivathsan\\AppData\\Local\\Temp\\ipykernel_31100\\4142282532.py:3: SettingWithCopyWarning: \n",
      "A value is trying to be set on a copy of a slice from a DataFrame\n",
      "\n",
      "See the caveats in the documentation: https://pandas.pydata.org/pandas-docs/stable/user_guide/indexing.html#returning-a-view-versus-a-copy\n",
      "  car['Mileage'][i] = float(car['Mileage'][i][:-6]) * 1.40\n",
      "C:\\Users\\Srivathsan\\AppData\\Local\\Temp\\ipykernel_31100\\4142282532.py:3: FutureWarning: ChainedAssignmentError: behaviour will change in pandas 3.0!\n",
      "You are setting values through chained assignment. Currently this works in certain cases, but when using Copy-on-Write (which will become the default behaviour in pandas 3.0) this will never work to update the original DataFrame or Series, because the intermediate object on which we are setting values will behave as a copy.\n",
      "A typical example is when you are setting values in a column of a DataFrame, like:\n",
      "\n",
      "df[\"col\"][row_indexer] = value\n",
      "\n",
      "Use `df.loc[row_indexer, \"col\"] = values` instead, to perform the assignment in a single step and ensure this keeps updating the original `df`.\n",
      "\n",
      "See the caveats in the documentation: https://pandas.pydata.org/pandas-docs/stable/user_guide/indexing.html#returning-a-view-versus-a-copy\n",
      "\n",
      "  car['Mileage'][i] = float(car['Mileage'][i][:-6]) * 1.40\n",
      "C:\\Users\\Srivathsan\\AppData\\Local\\Temp\\ipykernel_31100\\4142282532.py:3: SettingWithCopyWarning: \n",
      "A value is trying to be set on a copy of a slice from a DataFrame\n",
      "\n",
      "See the caveats in the documentation: https://pandas.pydata.org/pandas-docs/stable/user_guide/indexing.html#returning-a-view-versus-a-copy\n",
      "  car['Mileage'][i] = float(car['Mileage'][i][:-6]) * 1.40\n",
      "C:\\Users\\Srivathsan\\AppData\\Local\\Temp\\ipykernel_31100\\4142282532.py:3: FutureWarning: ChainedAssignmentError: behaviour will change in pandas 3.0!\n",
      "You are setting values through chained assignment. Currently this works in certain cases, but when using Copy-on-Write (which will become the default behaviour in pandas 3.0) this will never work to update the original DataFrame or Series, because the intermediate object on which we are setting values will behave as a copy.\n",
      "A typical example is when you are setting values in a column of a DataFrame, like:\n",
      "\n",
      "df[\"col\"][row_indexer] = value\n",
      "\n",
      "Use `df.loc[row_indexer, \"col\"] = values` instead, to perform the assignment in a single step and ensure this keeps updating the original `df`.\n",
      "\n",
      "See the caveats in the documentation: https://pandas.pydata.org/pandas-docs/stable/user_guide/indexing.html#returning-a-view-versus-a-copy\n",
      "\n",
      "  car['Mileage'][i] = float(car['Mileage'][i][:-6]) * 1.40\n",
      "C:\\Users\\Srivathsan\\AppData\\Local\\Temp\\ipykernel_31100\\4142282532.py:3: SettingWithCopyWarning: \n",
      "A value is trying to be set on a copy of a slice from a DataFrame\n",
      "\n",
      "See the caveats in the documentation: https://pandas.pydata.org/pandas-docs/stable/user_guide/indexing.html#returning-a-view-versus-a-copy\n",
      "  car['Mileage'][i] = float(car['Mileage'][i][:-6]) * 1.40\n",
      "C:\\Users\\Srivathsan\\AppData\\Local\\Temp\\ipykernel_31100\\4142282532.py:3: FutureWarning: ChainedAssignmentError: behaviour will change in pandas 3.0!\n",
      "You are setting values through chained assignment. Currently this works in certain cases, but when using Copy-on-Write (which will become the default behaviour in pandas 3.0) this will never work to update the original DataFrame or Series, because the intermediate object on which we are setting values will behave as a copy.\n",
      "A typical example is when you are setting values in a column of a DataFrame, like:\n",
      "\n",
      "df[\"col\"][row_indexer] = value\n",
      "\n",
      "Use `df.loc[row_indexer, \"col\"] = values` instead, to perform the assignment in a single step and ensure this keeps updating the original `df`.\n",
      "\n",
      "See the caveats in the documentation: https://pandas.pydata.org/pandas-docs/stable/user_guide/indexing.html#returning-a-view-versus-a-copy\n",
      "\n",
      "  car['Mileage'][i] = float(car['Mileage'][i][:-6]) * 1.40\n",
      "C:\\Users\\Srivathsan\\AppData\\Local\\Temp\\ipykernel_31100\\4142282532.py:3: SettingWithCopyWarning: \n",
      "A value is trying to be set on a copy of a slice from a DataFrame\n",
      "\n",
      "See the caveats in the documentation: https://pandas.pydata.org/pandas-docs/stable/user_guide/indexing.html#returning-a-view-versus-a-copy\n",
      "  car['Mileage'][i] = float(car['Mileage'][i][:-6]) * 1.40\n",
      "C:\\Users\\Srivathsan\\AppData\\Local\\Temp\\ipykernel_31100\\4142282532.py:3: FutureWarning: ChainedAssignmentError: behaviour will change in pandas 3.0!\n",
      "You are setting values through chained assignment. Currently this works in certain cases, but when using Copy-on-Write (which will become the default behaviour in pandas 3.0) this will never work to update the original DataFrame or Series, because the intermediate object on which we are setting values will behave as a copy.\n",
      "A typical example is when you are setting values in a column of a DataFrame, like:\n",
      "\n",
      "df[\"col\"][row_indexer] = value\n",
      "\n",
      "Use `df.loc[row_indexer, \"col\"] = values` instead, to perform the assignment in a single step and ensure this keeps updating the original `df`.\n",
      "\n",
      "See the caveats in the documentation: https://pandas.pydata.org/pandas-docs/stable/user_guide/indexing.html#returning-a-view-versus-a-copy\n",
      "\n",
      "  car['Mileage'][i] = float(car['Mileage'][i][:-6]) * 1.40\n",
      "C:\\Users\\Srivathsan\\AppData\\Local\\Temp\\ipykernel_31100\\4142282532.py:3: SettingWithCopyWarning: \n",
      "A value is trying to be set on a copy of a slice from a DataFrame\n",
      "\n",
      "See the caveats in the documentation: https://pandas.pydata.org/pandas-docs/stable/user_guide/indexing.html#returning-a-view-versus-a-copy\n",
      "  car['Mileage'][i] = float(car['Mileage'][i][:-6]) * 1.40\n",
      "C:\\Users\\Srivathsan\\AppData\\Local\\Temp\\ipykernel_31100\\4142282532.py:3: FutureWarning: ChainedAssignmentError: behaviour will change in pandas 3.0!\n",
      "You are setting values through chained assignment. Currently this works in certain cases, but when using Copy-on-Write (which will become the default behaviour in pandas 3.0) this will never work to update the original DataFrame or Series, because the intermediate object on which we are setting values will behave as a copy.\n",
      "A typical example is when you are setting values in a column of a DataFrame, like:\n",
      "\n",
      "df[\"col\"][row_indexer] = value\n",
      "\n",
      "Use `df.loc[row_indexer, \"col\"] = values` instead, to perform the assignment in a single step and ensure this keeps updating the original `df`.\n",
      "\n",
      "See the caveats in the documentation: https://pandas.pydata.org/pandas-docs/stable/user_guide/indexing.html#returning-a-view-versus-a-copy\n",
      "\n",
      "  car['Mileage'][i] = float(car['Mileage'][i][:-6]) * 1.40\n",
      "C:\\Users\\Srivathsan\\AppData\\Local\\Temp\\ipykernel_31100\\4142282532.py:3: SettingWithCopyWarning: \n",
      "A value is trying to be set on a copy of a slice from a DataFrame\n",
      "\n",
      "See the caveats in the documentation: https://pandas.pydata.org/pandas-docs/stable/user_guide/indexing.html#returning-a-view-versus-a-copy\n",
      "  car['Mileage'][i] = float(car['Mileage'][i][:-6]) * 1.40\n",
      "C:\\Users\\Srivathsan\\AppData\\Local\\Temp\\ipykernel_31100\\4142282532.py:3: FutureWarning: ChainedAssignmentError: behaviour will change in pandas 3.0!\n",
      "You are setting values through chained assignment. Currently this works in certain cases, but when using Copy-on-Write (which will become the default behaviour in pandas 3.0) this will never work to update the original DataFrame or Series, because the intermediate object on which we are setting values will behave as a copy.\n",
      "A typical example is when you are setting values in a column of a DataFrame, like:\n",
      "\n",
      "df[\"col\"][row_indexer] = value\n",
      "\n",
      "Use `df.loc[row_indexer, \"col\"] = values` instead, to perform the assignment in a single step and ensure this keeps updating the original `df`.\n",
      "\n",
      "See the caveats in the documentation: https://pandas.pydata.org/pandas-docs/stable/user_guide/indexing.html#returning-a-view-versus-a-copy\n",
      "\n",
      "  car['Mileage'][i] = float(car['Mileage'][i][:-6]) * 1.40\n",
      "C:\\Users\\Srivathsan\\AppData\\Local\\Temp\\ipykernel_31100\\4142282532.py:3: SettingWithCopyWarning: \n",
      "A value is trying to be set on a copy of a slice from a DataFrame\n",
      "\n",
      "See the caveats in the documentation: https://pandas.pydata.org/pandas-docs/stable/user_guide/indexing.html#returning-a-view-versus-a-copy\n",
      "  car['Mileage'][i] = float(car['Mileage'][i][:-6]) * 1.40\n",
      "C:\\Users\\Srivathsan\\AppData\\Local\\Temp\\ipykernel_31100\\4142282532.py:3: FutureWarning: ChainedAssignmentError: behaviour will change in pandas 3.0!\n",
      "You are setting values through chained assignment. Currently this works in certain cases, but when using Copy-on-Write (which will become the default behaviour in pandas 3.0) this will never work to update the original DataFrame or Series, because the intermediate object on which we are setting values will behave as a copy.\n",
      "A typical example is when you are setting values in a column of a DataFrame, like:\n",
      "\n",
      "df[\"col\"][row_indexer] = value\n",
      "\n",
      "Use `df.loc[row_indexer, \"col\"] = values` instead, to perform the assignment in a single step and ensure this keeps updating the original `df`.\n",
      "\n",
      "See the caveats in the documentation: https://pandas.pydata.org/pandas-docs/stable/user_guide/indexing.html#returning-a-view-versus-a-copy\n",
      "\n",
      "  car['Mileage'][i] = float(car['Mileage'][i][:-6]) * 1.40\n",
      "C:\\Users\\Srivathsan\\AppData\\Local\\Temp\\ipykernel_31100\\4142282532.py:3: SettingWithCopyWarning: \n",
      "A value is trying to be set on a copy of a slice from a DataFrame\n",
      "\n",
      "See the caveats in the documentation: https://pandas.pydata.org/pandas-docs/stable/user_guide/indexing.html#returning-a-view-versus-a-copy\n",
      "  car['Mileage'][i] = float(car['Mileage'][i][:-6]) * 1.40\n",
      "C:\\Users\\Srivathsan\\AppData\\Local\\Temp\\ipykernel_31100\\4142282532.py:3: FutureWarning: ChainedAssignmentError: behaviour will change in pandas 3.0!\n",
      "You are setting values through chained assignment. Currently this works in certain cases, but when using Copy-on-Write (which will become the default behaviour in pandas 3.0) this will never work to update the original DataFrame or Series, because the intermediate object on which we are setting values will behave as a copy.\n",
      "A typical example is when you are setting values in a column of a DataFrame, like:\n",
      "\n",
      "df[\"col\"][row_indexer] = value\n",
      "\n",
      "Use `df.loc[row_indexer, \"col\"] = values` instead, to perform the assignment in a single step and ensure this keeps updating the original `df`.\n",
      "\n",
      "See the caveats in the documentation: https://pandas.pydata.org/pandas-docs/stable/user_guide/indexing.html#returning-a-view-versus-a-copy\n",
      "\n",
      "  car['Mileage'][i] = float(car['Mileage'][i][:-6]) * 1.40\n",
      "C:\\Users\\Srivathsan\\AppData\\Local\\Temp\\ipykernel_31100\\4142282532.py:3: SettingWithCopyWarning: \n",
      "A value is trying to be set on a copy of a slice from a DataFrame\n",
      "\n",
      "See the caveats in the documentation: https://pandas.pydata.org/pandas-docs/stable/user_guide/indexing.html#returning-a-view-versus-a-copy\n",
      "  car['Mileage'][i] = float(car['Mileage'][i][:-6]) * 1.40\n",
      "C:\\Users\\Srivathsan\\AppData\\Local\\Temp\\ipykernel_31100\\4142282532.py:3: FutureWarning: ChainedAssignmentError: behaviour will change in pandas 3.0!\n",
      "You are setting values through chained assignment. Currently this works in certain cases, but when using Copy-on-Write (which will become the default behaviour in pandas 3.0) this will never work to update the original DataFrame or Series, because the intermediate object on which we are setting values will behave as a copy.\n",
      "A typical example is when you are setting values in a column of a DataFrame, like:\n",
      "\n",
      "df[\"col\"][row_indexer] = value\n",
      "\n",
      "Use `df.loc[row_indexer, \"col\"] = values` instead, to perform the assignment in a single step and ensure this keeps updating the original `df`.\n",
      "\n",
      "See the caveats in the documentation: https://pandas.pydata.org/pandas-docs/stable/user_guide/indexing.html#returning-a-view-versus-a-copy\n",
      "\n",
      "  car['Mileage'][i] = float(car['Mileage'][i][:-6]) * 1.40\n",
      "C:\\Users\\Srivathsan\\AppData\\Local\\Temp\\ipykernel_31100\\4142282532.py:3: SettingWithCopyWarning: \n",
      "A value is trying to be set on a copy of a slice from a DataFrame\n",
      "\n",
      "See the caveats in the documentation: https://pandas.pydata.org/pandas-docs/stable/user_guide/indexing.html#returning-a-view-versus-a-copy\n",
      "  car['Mileage'][i] = float(car['Mileage'][i][:-6]) * 1.40\n",
      "C:\\Users\\Srivathsan\\AppData\\Local\\Temp\\ipykernel_31100\\4142282532.py:3: FutureWarning: ChainedAssignmentError: behaviour will change in pandas 3.0!\n",
      "You are setting values through chained assignment. Currently this works in certain cases, but when using Copy-on-Write (which will become the default behaviour in pandas 3.0) this will never work to update the original DataFrame or Series, because the intermediate object on which we are setting values will behave as a copy.\n",
      "A typical example is when you are setting values in a column of a DataFrame, like:\n",
      "\n",
      "df[\"col\"][row_indexer] = value\n",
      "\n",
      "Use `df.loc[row_indexer, \"col\"] = values` instead, to perform the assignment in a single step and ensure this keeps updating the original `df`.\n",
      "\n",
      "See the caveats in the documentation: https://pandas.pydata.org/pandas-docs/stable/user_guide/indexing.html#returning-a-view-versus-a-copy\n",
      "\n",
      "  car['Mileage'][i] = float(car['Mileage'][i][:-6]) * 1.40\n",
      "C:\\Users\\Srivathsan\\AppData\\Local\\Temp\\ipykernel_31100\\4142282532.py:3: SettingWithCopyWarning: \n",
      "A value is trying to be set on a copy of a slice from a DataFrame\n",
      "\n",
      "See the caveats in the documentation: https://pandas.pydata.org/pandas-docs/stable/user_guide/indexing.html#returning-a-view-versus-a-copy\n",
      "  car['Mileage'][i] = float(car['Mileage'][i][:-6]) * 1.40\n",
      "C:\\Users\\Srivathsan\\AppData\\Local\\Temp\\ipykernel_31100\\4142282532.py:3: FutureWarning: ChainedAssignmentError: behaviour will change in pandas 3.0!\n",
      "You are setting values through chained assignment. Currently this works in certain cases, but when using Copy-on-Write (which will become the default behaviour in pandas 3.0) this will never work to update the original DataFrame or Series, because the intermediate object on which we are setting values will behave as a copy.\n",
      "A typical example is when you are setting values in a column of a DataFrame, like:\n",
      "\n",
      "df[\"col\"][row_indexer] = value\n",
      "\n",
      "Use `df.loc[row_indexer, \"col\"] = values` instead, to perform the assignment in a single step and ensure this keeps updating the original `df`.\n",
      "\n",
      "See the caveats in the documentation: https://pandas.pydata.org/pandas-docs/stable/user_guide/indexing.html#returning-a-view-versus-a-copy\n",
      "\n",
      "  car['Mileage'][i] = float(car['Mileage'][i][:-6]) * 1.40\n",
      "C:\\Users\\Srivathsan\\AppData\\Local\\Temp\\ipykernel_31100\\4142282532.py:3: SettingWithCopyWarning: \n",
      "A value is trying to be set on a copy of a slice from a DataFrame\n",
      "\n",
      "See the caveats in the documentation: https://pandas.pydata.org/pandas-docs/stable/user_guide/indexing.html#returning-a-view-versus-a-copy\n",
      "  car['Mileage'][i] = float(car['Mileage'][i][:-6]) * 1.40\n",
      "C:\\Users\\Srivathsan\\AppData\\Local\\Temp\\ipykernel_31100\\4142282532.py:3: FutureWarning: ChainedAssignmentError: behaviour will change in pandas 3.0!\n",
      "You are setting values through chained assignment. Currently this works in certain cases, but when using Copy-on-Write (which will become the default behaviour in pandas 3.0) this will never work to update the original DataFrame or Series, because the intermediate object on which we are setting values will behave as a copy.\n",
      "A typical example is when you are setting values in a column of a DataFrame, like:\n",
      "\n",
      "df[\"col\"][row_indexer] = value\n",
      "\n",
      "Use `df.loc[row_indexer, \"col\"] = values` instead, to perform the assignment in a single step and ensure this keeps updating the original `df`.\n",
      "\n",
      "See the caveats in the documentation: https://pandas.pydata.org/pandas-docs/stable/user_guide/indexing.html#returning-a-view-versus-a-copy\n",
      "\n",
      "  car['Mileage'][i] = float(car['Mileage'][i][:-6]) * 1.40\n",
      "C:\\Users\\Srivathsan\\AppData\\Local\\Temp\\ipykernel_31100\\4142282532.py:3: SettingWithCopyWarning: \n",
      "A value is trying to be set on a copy of a slice from a DataFrame\n",
      "\n",
      "See the caveats in the documentation: https://pandas.pydata.org/pandas-docs/stable/user_guide/indexing.html#returning-a-view-versus-a-copy\n",
      "  car['Mileage'][i] = float(car['Mileage'][i][:-6]) * 1.40\n",
      "C:\\Users\\Srivathsan\\AppData\\Local\\Temp\\ipykernel_31100\\4142282532.py:3: FutureWarning: ChainedAssignmentError: behaviour will change in pandas 3.0!\n",
      "You are setting values through chained assignment. Currently this works in certain cases, but when using Copy-on-Write (which will become the default behaviour in pandas 3.0) this will never work to update the original DataFrame or Series, because the intermediate object on which we are setting values will behave as a copy.\n",
      "A typical example is when you are setting values in a column of a DataFrame, like:\n",
      "\n",
      "df[\"col\"][row_indexer] = value\n",
      "\n",
      "Use `df.loc[row_indexer, \"col\"] = values` instead, to perform the assignment in a single step and ensure this keeps updating the original `df`.\n",
      "\n",
      "See the caveats in the documentation: https://pandas.pydata.org/pandas-docs/stable/user_guide/indexing.html#returning-a-view-versus-a-copy\n",
      "\n",
      "  car['Mileage'][i] = float(car['Mileage'][i][:-6]) * 1.40\n",
      "C:\\Users\\Srivathsan\\AppData\\Local\\Temp\\ipykernel_31100\\4142282532.py:3: SettingWithCopyWarning: \n",
      "A value is trying to be set on a copy of a slice from a DataFrame\n",
      "\n",
      "See the caveats in the documentation: https://pandas.pydata.org/pandas-docs/stable/user_guide/indexing.html#returning-a-view-versus-a-copy\n",
      "  car['Mileage'][i] = float(car['Mileage'][i][:-6]) * 1.40\n",
      "C:\\Users\\Srivathsan\\AppData\\Local\\Temp\\ipykernel_31100\\4142282532.py:3: FutureWarning: ChainedAssignmentError: behaviour will change in pandas 3.0!\n",
      "You are setting values through chained assignment. Currently this works in certain cases, but when using Copy-on-Write (which will become the default behaviour in pandas 3.0) this will never work to update the original DataFrame or Series, because the intermediate object on which we are setting values will behave as a copy.\n",
      "A typical example is when you are setting values in a column of a DataFrame, like:\n",
      "\n",
      "df[\"col\"][row_indexer] = value\n",
      "\n",
      "Use `df.loc[row_indexer, \"col\"] = values` instead, to perform the assignment in a single step and ensure this keeps updating the original `df`.\n",
      "\n",
      "See the caveats in the documentation: https://pandas.pydata.org/pandas-docs/stable/user_guide/indexing.html#returning-a-view-versus-a-copy\n",
      "\n",
      "  car['Mileage'][i] = float(car['Mileage'][i][:-6]) * 1.40\n",
      "C:\\Users\\Srivathsan\\AppData\\Local\\Temp\\ipykernel_31100\\4142282532.py:3: SettingWithCopyWarning: \n",
      "A value is trying to be set on a copy of a slice from a DataFrame\n",
      "\n",
      "See the caveats in the documentation: https://pandas.pydata.org/pandas-docs/stable/user_guide/indexing.html#returning-a-view-versus-a-copy\n",
      "  car['Mileage'][i] = float(car['Mileage'][i][:-6]) * 1.40\n",
      "C:\\Users\\Srivathsan\\AppData\\Local\\Temp\\ipykernel_31100\\4142282532.py:3: FutureWarning: ChainedAssignmentError: behaviour will change in pandas 3.0!\n",
      "You are setting values through chained assignment. Currently this works in certain cases, but when using Copy-on-Write (which will become the default behaviour in pandas 3.0) this will never work to update the original DataFrame or Series, because the intermediate object on which we are setting values will behave as a copy.\n",
      "A typical example is when you are setting values in a column of a DataFrame, like:\n",
      "\n",
      "df[\"col\"][row_indexer] = value\n",
      "\n",
      "Use `df.loc[row_indexer, \"col\"] = values` instead, to perform the assignment in a single step and ensure this keeps updating the original `df`.\n",
      "\n",
      "See the caveats in the documentation: https://pandas.pydata.org/pandas-docs/stable/user_guide/indexing.html#returning-a-view-versus-a-copy\n",
      "\n",
      "  car['Mileage'][i] = float(car['Mileage'][i][:-6]) * 1.40\n",
      "C:\\Users\\Srivathsan\\AppData\\Local\\Temp\\ipykernel_31100\\4142282532.py:3: SettingWithCopyWarning: \n",
      "A value is trying to be set on a copy of a slice from a DataFrame\n",
      "\n",
      "See the caveats in the documentation: https://pandas.pydata.org/pandas-docs/stable/user_guide/indexing.html#returning-a-view-versus-a-copy\n",
      "  car['Mileage'][i] = float(car['Mileage'][i][:-6]) * 1.40\n",
      "C:\\Users\\Srivathsan\\AppData\\Local\\Temp\\ipykernel_31100\\4142282532.py:3: FutureWarning: ChainedAssignmentError: behaviour will change in pandas 3.0!\n",
      "You are setting values through chained assignment. Currently this works in certain cases, but when using Copy-on-Write (which will become the default behaviour in pandas 3.0) this will never work to update the original DataFrame or Series, because the intermediate object on which we are setting values will behave as a copy.\n",
      "A typical example is when you are setting values in a column of a DataFrame, like:\n",
      "\n",
      "df[\"col\"][row_indexer] = value\n",
      "\n",
      "Use `df.loc[row_indexer, \"col\"] = values` instead, to perform the assignment in a single step and ensure this keeps updating the original `df`.\n",
      "\n",
      "See the caveats in the documentation: https://pandas.pydata.org/pandas-docs/stable/user_guide/indexing.html#returning-a-view-versus-a-copy\n",
      "\n",
      "  car['Mileage'][i] = float(car['Mileage'][i][:-6]) * 1.40\n",
      "C:\\Users\\Srivathsan\\AppData\\Local\\Temp\\ipykernel_31100\\4142282532.py:3: SettingWithCopyWarning: \n",
      "A value is trying to be set on a copy of a slice from a DataFrame\n",
      "\n",
      "See the caveats in the documentation: https://pandas.pydata.org/pandas-docs/stable/user_guide/indexing.html#returning-a-view-versus-a-copy\n",
      "  car['Mileage'][i] = float(car['Mileage'][i][:-6]) * 1.40\n",
      "C:\\Users\\Srivathsan\\AppData\\Local\\Temp\\ipykernel_31100\\4142282532.py:3: FutureWarning: ChainedAssignmentError: behaviour will change in pandas 3.0!\n",
      "You are setting values through chained assignment. Currently this works in certain cases, but when using Copy-on-Write (which will become the default behaviour in pandas 3.0) this will never work to update the original DataFrame or Series, because the intermediate object on which we are setting values will behave as a copy.\n",
      "A typical example is when you are setting values in a column of a DataFrame, like:\n",
      "\n",
      "df[\"col\"][row_indexer] = value\n",
      "\n",
      "Use `df.loc[row_indexer, \"col\"] = values` instead, to perform the assignment in a single step and ensure this keeps updating the original `df`.\n",
      "\n",
      "See the caveats in the documentation: https://pandas.pydata.org/pandas-docs/stable/user_guide/indexing.html#returning-a-view-versus-a-copy\n",
      "\n",
      "  car['Mileage'][i] = float(car['Mileage'][i][:-6]) * 1.40\n",
      "C:\\Users\\Srivathsan\\AppData\\Local\\Temp\\ipykernel_31100\\4142282532.py:3: SettingWithCopyWarning: \n",
      "A value is trying to be set on a copy of a slice from a DataFrame\n",
      "\n",
      "See the caveats in the documentation: https://pandas.pydata.org/pandas-docs/stable/user_guide/indexing.html#returning-a-view-versus-a-copy\n",
      "  car['Mileage'][i] = float(car['Mileage'][i][:-6]) * 1.40\n",
      "C:\\Users\\Srivathsan\\AppData\\Local\\Temp\\ipykernel_31100\\4142282532.py:3: FutureWarning: ChainedAssignmentError: behaviour will change in pandas 3.0!\n",
      "You are setting values through chained assignment. Currently this works in certain cases, but when using Copy-on-Write (which will become the default behaviour in pandas 3.0) this will never work to update the original DataFrame or Series, because the intermediate object on which we are setting values will behave as a copy.\n",
      "A typical example is when you are setting values in a column of a DataFrame, like:\n",
      "\n",
      "df[\"col\"][row_indexer] = value\n",
      "\n",
      "Use `df.loc[row_indexer, \"col\"] = values` instead, to perform the assignment in a single step and ensure this keeps updating the original `df`.\n",
      "\n",
      "See the caveats in the documentation: https://pandas.pydata.org/pandas-docs/stable/user_guide/indexing.html#returning-a-view-versus-a-copy\n",
      "\n",
      "  car['Mileage'][i] = float(car['Mileage'][i][:-6]) * 1.40\n",
      "C:\\Users\\Srivathsan\\AppData\\Local\\Temp\\ipykernel_31100\\4142282532.py:3: SettingWithCopyWarning: \n",
      "A value is trying to be set on a copy of a slice from a DataFrame\n",
      "\n",
      "See the caveats in the documentation: https://pandas.pydata.org/pandas-docs/stable/user_guide/indexing.html#returning-a-view-versus-a-copy\n",
      "  car['Mileage'][i] = float(car['Mileage'][i][:-6]) * 1.40\n",
      "C:\\Users\\Srivathsan\\AppData\\Local\\Temp\\ipykernel_31100\\4142282532.py:3: FutureWarning: ChainedAssignmentError: behaviour will change in pandas 3.0!\n",
      "You are setting values through chained assignment. Currently this works in certain cases, but when using Copy-on-Write (which will become the default behaviour in pandas 3.0) this will never work to update the original DataFrame or Series, because the intermediate object on which we are setting values will behave as a copy.\n",
      "A typical example is when you are setting values in a column of a DataFrame, like:\n",
      "\n",
      "df[\"col\"][row_indexer] = value\n",
      "\n",
      "Use `df.loc[row_indexer, \"col\"] = values` instead, to perform the assignment in a single step and ensure this keeps updating the original `df`.\n",
      "\n",
      "See the caveats in the documentation: https://pandas.pydata.org/pandas-docs/stable/user_guide/indexing.html#returning-a-view-versus-a-copy\n",
      "\n",
      "  car['Mileage'][i] = float(car['Mileage'][i][:-6]) * 1.40\n",
      "C:\\Users\\Srivathsan\\AppData\\Local\\Temp\\ipykernel_31100\\4142282532.py:3: SettingWithCopyWarning: \n",
      "A value is trying to be set on a copy of a slice from a DataFrame\n",
      "\n",
      "See the caveats in the documentation: https://pandas.pydata.org/pandas-docs/stable/user_guide/indexing.html#returning-a-view-versus-a-copy\n",
      "  car['Mileage'][i] = float(car['Mileage'][i][:-6]) * 1.40\n",
      "C:\\Users\\Srivathsan\\AppData\\Local\\Temp\\ipykernel_31100\\4142282532.py:3: FutureWarning: ChainedAssignmentError: behaviour will change in pandas 3.0!\n",
      "You are setting values through chained assignment. Currently this works in certain cases, but when using Copy-on-Write (which will become the default behaviour in pandas 3.0) this will never work to update the original DataFrame or Series, because the intermediate object on which we are setting values will behave as a copy.\n",
      "A typical example is when you are setting values in a column of a DataFrame, like:\n",
      "\n",
      "df[\"col\"][row_indexer] = value\n",
      "\n",
      "Use `df.loc[row_indexer, \"col\"] = values` instead, to perform the assignment in a single step and ensure this keeps updating the original `df`.\n",
      "\n",
      "See the caveats in the documentation: https://pandas.pydata.org/pandas-docs/stable/user_guide/indexing.html#returning-a-view-versus-a-copy\n",
      "\n",
      "  car['Mileage'][i] = float(car['Mileage'][i][:-6]) * 1.40\n",
      "C:\\Users\\Srivathsan\\AppData\\Local\\Temp\\ipykernel_31100\\4142282532.py:3: SettingWithCopyWarning: \n",
      "A value is trying to be set on a copy of a slice from a DataFrame\n",
      "\n",
      "See the caveats in the documentation: https://pandas.pydata.org/pandas-docs/stable/user_guide/indexing.html#returning-a-view-versus-a-copy\n",
      "  car['Mileage'][i] = float(car['Mileage'][i][:-6]) * 1.40\n",
      "C:\\Users\\Srivathsan\\AppData\\Local\\Temp\\ipykernel_31100\\4142282532.py:3: FutureWarning: ChainedAssignmentError: behaviour will change in pandas 3.0!\n",
      "You are setting values through chained assignment. Currently this works in certain cases, but when using Copy-on-Write (which will become the default behaviour in pandas 3.0) this will never work to update the original DataFrame or Series, because the intermediate object on which we are setting values will behave as a copy.\n",
      "A typical example is when you are setting values in a column of a DataFrame, like:\n",
      "\n",
      "df[\"col\"][row_indexer] = value\n",
      "\n",
      "Use `df.loc[row_indexer, \"col\"] = values` instead, to perform the assignment in a single step and ensure this keeps updating the original `df`.\n",
      "\n",
      "See the caveats in the documentation: https://pandas.pydata.org/pandas-docs/stable/user_guide/indexing.html#returning-a-view-versus-a-copy\n",
      "\n",
      "  car['Mileage'][i] = float(car['Mileage'][i][:-6]) * 1.40\n",
      "C:\\Users\\Srivathsan\\AppData\\Local\\Temp\\ipykernel_31100\\4142282532.py:3: SettingWithCopyWarning: \n",
      "A value is trying to be set on a copy of a slice from a DataFrame\n",
      "\n",
      "See the caveats in the documentation: https://pandas.pydata.org/pandas-docs/stable/user_guide/indexing.html#returning-a-view-versus-a-copy\n",
      "  car['Mileage'][i] = float(car['Mileage'][i][:-6]) * 1.40\n",
      "C:\\Users\\Srivathsan\\AppData\\Local\\Temp\\ipykernel_31100\\4142282532.py:3: FutureWarning: ChainedAssignmentError: behaviour will change in pandas 3.0!\n",
      "You are setting values through chained assignment. Currently this works in certain cases, but when using Copy-on-Write (which will become the default behaviour in pandas 3.0) this will never work to update the original DataFrame or Series, because the intermediate object on which we are setting values will behave as a copy.\n",
      "A typical example is when you are setting values in a column of a DataFrame, like:\n",
      "\n",
      "df[\"col\"][row_indexer] = value\n",
      "\n",
      "Use `df.loc[row_indexer, \"col\"] = values` instead, to perform the assignment in a single step and ensure this keeps updating the original `df`.\n",
      "\n",
      "See the caveats in the documentation: https://pandas.pydata.org/pandas-docs/stable/user_guide/indexing.html#returning-a-view-versus-a-copy\n",
      "\n",
      "  car['Mileage'][i] = float(car['Mileage'][i][:-6]) * 1.40\n",
      "C:\\Users\\Srivathsan\\AppData\\Local\\Temp\\ipykernel_31100\\4142282532.py:3: SettingWithCopyWarning: \n",
      "A value is trying to be set on a copy of a slice from a DataFrame\n",
      "\n",
      "See the caveats in the documentation: https://pandas.pydata.org/pandas-docs/stable/user_guide/indexing.html#returning-a-view-versus-a-copy\n",
      "  car['Mileage'][i] = float(car['Mileage'][i][:-6]) * 1.40\n",
      "C:\\Users\\Srivathsan\\AppData\\Local\\Temp\\ipykernel_31100\\4142282532.py:3: FutureWarning: ChainedAssignmentError: behaviour will change in pandas 3.0!\n",
      "You are setting values through chained assignment. Currently this works in certain cases, but when using Copy-on-Write (which will become the default behaviour in pandas 3.0) this will never work to update the original DataFrame or Series, because the intermediate object on which we are setting values will behave as a copy.\n",
      "A typical example is when you are setting values in a column of a DataFrame, like:\n",
      "\n",
      "df[\"col\"][row_indexer] = value\n",
      "\n",
      "Use `df.loc[row_indexer, \"col\"] = values` instead, to perform the assignment in a single step and ensure this keeps updating the original `df`.\n",
      "\n",
      "See the caveats in the documentation: https://pandas.pydata.org/pandas-docs/stable/user_guide/indexing.html#returning-a-view-versus-a-copy\n",
      "\n",
      "  car['Mileage'][i] = float(car['Mileage'][i][:-6]) * 1.40\n",
      "C:\\Users\\Srivathsan\\AppData\\Local\\Temp\\ipykernel_31100\\4142282532.py:3: SettingWithCopyWarning: \n",
      "A value is trying to be set on a copy of a slice from a DataFrame\n",
      "\n",
      "See the caveats in the documentation: https://pandas.pydata.org/pandas-docs/stable/user_guide/indexing.html#returning-a-view-versus-a-copy\n",
      "  car['Mileage'][i] = float(car['Mileage'][i][:-6]) * 1.40\n",
      "C:\\Users\\Srivathsan\\AppData\\Local\\Temp\\ipykernel_31100\\4142282532.py:3: FutureWarning: ChainedAssignmentError: behaviour will change in pandas 3.0!\n",
      "You are setting values through chained assignment. Currently this works in certain cases, but when using Copy-on-Write (which will become the default behaviour in pandas 3.0) this will never work to update the original DataFrame or Series, because the intermediate object on which we are setting values will behave as a copy.\n",
      "A typical example is when you are setting values in a column of a DataFrame, like:\n",
      "\n",
      "df[\"col\"][row_indexer] = value\n",
      "\n",
      "Use `df.loc[row_indexer, \"col\"] = values` instead, to perform the assignment in a single step and ensure this keeps updating the original `df`.\n",
      "\n",
      "See the caveats in the documentation: https://pandas.pydata.org/pandas-docs/stable/user_guide/indexing.html#returning-a-view-versus-a-copy\n",
      "\n",
      "  car['Mileage'][i] = float(car['Mileage'][i][:-6]) * 1.40\n",
      "C:\\Users\\Srivathsan\\AppData\\Local\\Temp\\ipykernel_31100\\4142282532.py:3: SettingWithCopyWarning: \n",
      "A value is trying to be set on a copy of a slice from a DataFrame\n",
      "\n",
      "See the caveats in the documentation: https://pandas.pydata.org/pandas-docs/stable/user_guide/indexing.html#returning-a-view-versus-a-copy\n",
      "  car['Mileage'][i] = float(car['Mileage'][i][:-6]) * 1.40\n",
      "C:\\Users\\Srivathsan\\AppData\\Local\\Temp\\ipykernel_31100\\4142282532.py:3: FutureWarning: ChainedAssignmentError: behaviour will change in pandas 3.0!\n",
      "You are setting values through chained assignment. Currently this works in certain cases, but when using Copy-on-Write (which will become the default behaviour in pandas 3.0) this will never work to update the original DataFrame or Series, because the intermediate object on which we are setting values will behave as a copy.\n",
      "A typical example is when you are setting values in a column of a DataFrame, like:\n",
      "\n",
      "df[\"col\"][row_indexer] = value\n",
      "\n",
      "Use `df.loc[row_indexer, \"col\"] = values` instead, to perform the assignment in a single step and ensure this keeps updating the original `df`.\n",
      "\n",
      "See the caveats in the documentation: https://pandas.pydata.org/pandas-docs/stable/user_guide/indexing.html#returning-a-view-versus-a-copy\n",
      "\n",
      "  car['Mileage'][i] = float(car['Mileage'][i][:-6]) * 1.40\n",
      "C:\\Users\\Srivathsan\\AppData\\Local\\Temp\\ipykernel_31100\\4142282532.py:3: SettingWithCopyWarning: \n",
      "A value is trying to be set on a copy of a slice from a DataFrame\n",
      "\n",
      "See the caveats in the documentation: https://pandas.pydata.org/pandas-docs/stable/user_guide/indexing.html#returning-a-view-versus-a-copy\n",
      "  car['Mileage'][i] = float(car['Mileage'][i][:-6]) * 1.40\n",
      "C:\\Users\\Srivathsan\\AppData\\Local\\Temp\\ipykernel_31100\\4142282532.py:3: FutureWarning: ChainedAssignmentError: behaviour will change in pandas 3.0!\n",
      "You are setting values through chained assignment. Currently this works in certain cases, but when using Copy-on-Write (which will become the default behaviour in pandas 3.0) this will never work to update the original DataFrame or Series, because the intermediate object on which we are setting values will behave as a copy.\n",
      "A typical example is when you are setting values in a column of a DataFrame, like:\n",
      "\n",
      "df[\"col\"][row_indexer] = value\n",
      "\n",
      "Use `df.loc[row_indexer, \"col\"] = values` instead, to perform the assignment in a single step and ensure this keeps updating the original `df`.\n",
      "\n",
      "See the caveats in the documentation: https://pandas.pydata.org/pandas-docs/stable/user_guide/indexing.html#returning-a-view-versus-a-copy\n",
      "\n",
      "  car['Mileage'][i] = float(car['Mileage'][i][:-6]) * 1.40\n",
      "C:\\Users\\Srivathsan\\AppData\\Local\\Temp\\ipykernel_31100\\4142282532.py:3: SettingWithCopyWarning: \n",
      "A value is trying to be set on a copy of a slice from a DataFrame\n",
      "\n",
      "See the caveats in the documentation: https://pandas.pydata.org/pandas-docs/stable/user_guide/indexing.html#returning-a-view-versus-a-copy\n",
      "  car['Mileage'][i] = float(car['Mileage'][i][:-6]) * 1.40\n",
      "C:\\Users\\Srivathsan\\AppData\\Local\\Temp\\ipykernel_31100\\4142282532.py:3: FutureWarning: ChainedAssignmentError: behaviour will change in pandas 3.0!\n",
      "You are setting values through chained assignment. Currently this works in certain cases, but when using Copy-on-Write (which will become the default behaviour in pandas 3.0) this will never work to update the original DataFrame or Series, because the intermediate object on which we are setting values will behave as a copy.\n",
      "A typical example is when you are setting values in a column of a DataFrame, like:\n",
      "\n",
      "df[\"col\"][row_indexer] = value\n",
      "\n",
      "Use `df.loc[row_indexer, \"col\"] = values` instead, to perform the assignment in a single step and ensure this keeps updating the original `df`.\n",
      "\n",
      "See the caveats in the documentation: https://pandas.pydata.org/pandas-docs/stable/user_guide/indexing.html#returning-a-view-versus-a-copy\n",
      "\n",
      "  car['Mileage'][i] = float(car['Mileage'][i][:-6]) * 1.40\n",
      "C:\\Users\\Srivathsan\\AppData\\Local\\Temp\\ipykernel_31100\\4142282532.py:3: SettingWithCopyWarning: \n",
      "A value is trying to be set on a copy of a slice from a DataFrame\n",
      "\n",
      "See the caveats in the documentation: https://pandas.pydata.org/pandas-docs/stable/user_guide/indexing.html#returning-a-view-versus-a-copy\n",
      "  car['Mileage'][i] = float(car['Mileage'][i][:-6]) * 1.40\n",
      "C:\\Users\\Srivathsan\\AppData\\Local\\Temp\\ipykernel_31100\\4142282532.py:3: FutureWarning: ChainedAssignmentError: behaviour will change in pandas 3.0!\n",
      "You are setting values through chained assignment. Currently this works in certain cases, but when using Copy-on-Write (which will become the default behaviour in pandas 3.0) this will never work to update the original DataFrame or Series, because the intermediate object on which we are setting values will behave as a copy.\n",
      "A typical example is when you are setting values in a column of a DataFrame, like:\n",
      "\n",
      "df[\"col\"][row_indexer] = value\n",
      "\n",
      "Use `df.loc[row_indexer, \"col\"] = values` instead, to perform the assignment in a single step and ensure this keeps updating the original `df`.\n",
      "\n",
      "See the caveats in the documentation: https://pandas.pydata.org/pandas-docs/stable/user_guide/indexing.html#returning-a-view-versus-a-copy\n",
      "\n",
      "  car['Mileage'][i] = float(car['Mileage'][i][:-6]) * 1.40\n",
      "C:\\Users\\Srivathsan\\AppData\\Local\\Temp\\ipykernel_31100\\4142282532.py:3: SettingWithCopyWarning: \n",
      "A value is trying to be set on a copy of a slice from a DataFrame\n",
      "\n",
      "See the caveats in the documentation: https://pandas.pydata.org/pandas-docs/stable/user_guide/indexing.html#returning-a-view-versus-a-copy\n",
      "  car['Mileage'][i] = float(car['Mileage'][i][:-6]) * 1.40\n",
      "C:\\Users\\Srivathsan\\AppData\\Local\\Temp\\ipykernel_31100\\4142282532.py:3: FutureWarning: ChainedAssignmentError: behaviour will change in pandas 3.0!\n",
      "You are setting values through chained assignment. Currently this works in certain cases, but when using Copy-on-Write (which will become the default behaviour in pandas 3.0) this will never work to update the original DataFrame or Series, because the intermediate object on which we are setting values will behave as a copy.\n",
      "A typical example is when you are setting values in a column of a DataFrame, like:\n",
      "\n",
      "df[\"col\"][row_indexer] = value\n",
      "\n",
      "Use `df.loc[row_indexer, \"col\"] = values` instead, to perform the assignment in a single step and ensure this keeps updating the original `df`.\n",
      "\n",
      "See the caveats in the documentation: https://pandas.pydata.org/pandas-docs/stable/user_guide/indexing.html#returning-a-view-versus-a-copy\n",
      "\n",
      "  car['Mileage'][i] = float(car['Mileage'][i][:-6]) * 1.40\n",
      "C:\\Users\\Srivathsan\\AppData\\Local\\Temp\\ipykernel_31100\\4142282532.py:3: SettingWithCopyWarning: \n",
      "A value is trying to be set on a copy of a slice from a DataFrame\n",
      "\n",
      "See the caveats in the documentation: https://pandas.pydata.org/pandas-docs/stable/user_guide/indexing.html#returning-a-view-versus-a-copy\n",
      "  car['Mileage'][i] = float(car['Mileage'][i][:-6]) * 1.40\n",
      "C:\\Users\\Srivathsan\\AppData\\Local\\Temp\\ipykernel_31100\\4142282532.py:3: FutureWarning: ChainedAssignmentError: behaviour will change in pandas 3.0!\n",
      "You are setting values through chained assignment. Currently this works in certain cases, but when using Copy-on-Write (which will become the default behaviour in pandas 3.0) this will never work to update the original DataFrame or Series, because the intermediate object on which we are setting values will behave as a copy.\n",
      "A typical example is when you are setting values in a column of a DataFrame, like:\n",
      "\n",
      "df[\"col\"][row_indexer] = value\n",
      "\n",
      "Use `df.loc[row_indexer, \"col\"] = values` instead, to perform the assignment in a single step and ensure this keeps updating the original `df`.\n",
      "\n",
      "See the caveats in the documentation: https://pandas.pydata.org/pandas-docs/stable/user_guide/indexing.html#returning-a-view-versus-a-copy\n",
      "\n",
      "  car['Mileage'][i] = float(car['Mileage'][i][:-6]) * 1.40\n",
      "C:\\Users\\Srivathsan\\AppData\\Local\\Temp\\ipykernel_31100\\4142282532.py:3: SettingWithCopyWarning: \n",
      "A value is trying to be set on a copy of a slice from a DataFrame\n",
      "\n",
      "See the caveats in the documentation: https://pandas.pydata.org/pandas-docs/stable/user_guide/indexing.html#returning-a-view-versus-a-copy\n",
      "  car['Mileage'][i] = float(car['Mileage'][i][:-6]) * 1.40\n",
      "C:\\Users\\Srivathsan\\AppData\\Local\\Temp\\ipykernel_31100\\4142282532.py:3: FutureWarning: ChainedAssignmentError: behaviour will change in pandas 3.0!\n",
      "You are setting values through chained assignment. Currently this works in certain cases, but when using Copy-on-Write (which will become the default behaviour in pandas 3.0) this will never work to update the original DataFrame or Series, because the intermediate object on which we are setting values will behave as a copy.\n",
      "A typical example is when you are setting values in a column of a DataFrame, like:\n",
      "\n",
      "df[\"col\"][row_indexer] = value\n",
      "\n",
      "Use `df.loc[row_indexer, \"col\"] = values` instead, to perform the assignment in a single step and ensure this keeps updating the original `df`.\n",
      "\n",
      "See the caveats in the documentation: https://pandas.pydata.org/pandas-docs/stable/user_guide/indexing.html#returning-a-view-versus-a-copy\n",
      "\n",
      "  car['Mileage'][i] = float(car['Mileage'][i][:-6]) * 1.40\n",
      "C:\\Users\\Srivathsan\\AppData\\Local\\Temp\\ipykernel_31100\\4142282532.py:3: SettingWithCopyWarning: \n",
      "A value is trying to be set on a copy of a slice from a DataFrame\n",
      "\n",
      "See the caveats in the documentation: https://pandas.pydata.org/pandas-docs/stable/user_guide/indexing.html#returning-a-view-versus-a-copy\n",
      "  car['Mileage'][i] = float(car['Mileage'][i][:-6]) * 1.40\n"
     ]
    }
   ],
   "source": [
    "for i in range(len(car['Mileage'])):\n",
    "    if pd.notna(car['Mileage'][i]) and str(car['Mileage'][i]).endswith('km/kg'):\n",
    "        car['Mileage'][i] = float(car['Mileage'][i][:-6]) * 1.40"
   ]
  },
  {
   "cell_type": "code",
   "execution_count": 328,
   "metadata": {},
   "outputs": [],
   "source": [
    "car['Mileage'] = pd.to_numeric(car['Mileage'], errors='coerce')\n"
   ]
  },
  {
   "cell_type": "code",
   "execution_count": 329,
   "metadata": {},
   "outputs": [
    {
     "data": {
      "text/plain": [
       "0      18.90\n",
       "1      15.37\n",
       "2      20.00\n",
       "3      19.81\n",
       "4      18.70\n",
       "5      13.00\n",
       "6      23.10\n",
       "7      19.00\n",
       "8      16.55\n",
       "9      14.80\n",
       "10     21.00\n",
       "11     18.20\n",
       "12     20.37\n",
       "13     22.00\n",
       "14     18.90\n",
       "15     21.50\n",
       "16     17.10\n",
       "17     17.40\n",
       "18     18.90\n",
       "19     18.00\n",
       "20     20.30\n",
       "21     18.00\n",
       "22     25.20\n",
       "23     17.80\n",
       "24     18.90\n",
       "25     17.01\n",
       "26     18.15\n",
       "27     17.80\n",
       "28     13.53\n",
       "29     17.40\n",
       "30     21.40\n",
       "31     18.90\n",
       "32     23.10\n",
       "33      8.00\n",
       "34     23.10\n",
       "35     18.00\n",
       "36     17.50\n",
       "37     27.30\n",
       "38     15.00\n",
       "39     15.90\n",
       "40     21.40\n",
       "41     18.15\n",
       "42     19.60\n",
       "43     20.70\n",
       "44     18.00\n",
       "45     14.53\n",
       "46     16.82\n",
       "47     21.43\n",
       "48     28.40\n",
       "49     17.00\n",
       "50     18.53\n",
       "51     18.20\n",
       "52     13.22\n",
       "53     25.50\n",
       "54     28.09\n",
       "55     28.09\n",
       "56     14.75\n",
       "57     13.68\n",
       "58     19.27\n",
       "59     16.46\n",
       "60     17.00\n",
       "61     17.74\n",
       "62     16.55\n",
       "63     14.08\n",
       "64     19.02\n",
       "65     13.00\n",
       "66     20.30\n",
       "67     18.41\n",
       "68     23.80\n",
       "69     16.82\n",
       "70     16.80\n",
       "71     14.60\n",
       "72     17.52\n",
       "73     18.90\n",
       "74     21.40\n",
       "75     20.36\n",
       "76     17.00\n",
       "77     21.40\n",
       "78     18.60\n",
       "79     16.00\n",
       "80     17.10\n",
       "81     18.70\n",
       "82     15.50\n",
       "83     16.20\n",
       "84     23.00\n",
       "85     19.12\n",
       "86     14.30\n",
       "87     18.60\n",
       "88     21.40\n",
       "89     20.14\n",
       "90     19.00\n",
       "91     24.52\n",
       "92     16.35\n",
       "93     21.40\n",
       "94     16.09\n",
       "95     17.00\n",
       "96     17.40\n",
       "97     12.51\n",
       "98     15.60\n",
       "99     17.99\n",
       "100    17.80\n",
       "101    20.30\n",
       "102    17.00\n",
       "103    19.40\n",
       "104    15.81\n",
       "105    13.50\n",
       "106    18.90\n",
       "107    18.60\n",
       "108    19.00\n",
       "109    21.40\n",
       "110    13.60\n",
       "111    16.20\n",
       "112    25.20\n",
       "113    18.49\n",
       "114    21.21\n",
       "115    15.26\n",
       "116    20.38\n",
       "117    18.49\n",
       "118    28.09\n",
       "119    21.66\n",
       "120    19.10\n",
       "121    17.80\n",
       "122    17.50\n",
       "123    20.70\n",
       "124    18.60\n",
       "125    21.21\n",
       "126    22.41\n",
       "127    15.34\n",
       "128    18.90\n",
       "129    21.40\n",
       "130    21.21\n",
       "131     7.81\n",
       "132    18.70\n",
       "133    18.70\n",
       "134    13.00\n",
       "135    18.12\n",
       "136    16.46\n",
       "137    23.10\n",
       "138    21.43\n",
       "139    20.51\n",
       "140    21.40\n",
       "141    18.60\n",
       "142    23.10\n",
       "143    19.08\n",
       "144    18.90\n",
       "145    20.38\n",
       "146    22.41\n",
       "147    18.90\n",
       "148    18.90\n",
       "149    22.05\n",
       "Name: Mileage, dtype: float64"
      ]
     },
     "execution_count": 329,
     "metadata": {},
     "output_type": "execute_result"
    }
   ],
   "source": [
    "car['Mileage'].head(150)"
   ]
  },
  {
   "cell_type": "code",
   "execution_count": 330,
   "metadata": {},
   "outputs": [
    {
     "data": {
      "text/plain": [
       "array([ 18.9  ,  15.37 ,  20.   ,  19.81 ,  18.7  ,  13.   ,  23.1  ,\n",
       "        19.   ,  16.55 ,  14.8  ,  21.   ,  18.2  ,  20.37 ,  22.   ,\n",
       "        21.5  ,  17.1  ,  17.4  ,  18.   ,  20.3  ,  25.2  ,  17.8  ,\n",
       "        17.01 ,  18.15 ,  13.53 ,  21.4  ,   8.   ,  17.5  ,  27.3  ,\n",
       "        15.   ,  15.9  ,  19.6  ,  20.7  ,  14.53 ,  16.82 ,  21.43 ,\n",
       "        28.4  ,  17.   ,  18.53 ,  13.22 ,  25.5  ,  28.09 ,  14.75 ,\n",
       "        13.68 ,  19.27 ,  16.46 ,  17.74 ,  14.08 ,  19.02 ,  18.41 ,\n",
       "        23.8  ,  16.8  ,  14.6  ,  17.52 ,  20.36 ,  18.6  ,  16.   ,\n",
       "        15.5  ,  16.2  ,  23.   ,  19.12 ,  14.3  ,  20.14 ,  24.52 ,\n",
       "        16.35 ,  16.09 ,  12.51 ,  15.6  ,  17.99 ,  19.4  ,  15.81 ,\n",
       "        13.5  ,  13.6  ,  18.49 ,  21.21 ,  15.26 ,  20.38 ,  21.66 ,\n",
       "        19.1  ,  22.41 ,  15.34 ,   7.81 ,  18.12 ,  20.51 ,  19.08 ,\n",
       "        22.05 ,  18.86 ,  14.82 ,  19.56 ,  23.95 ,  24.   ,  19.49 ,\n",
       "        25.24 ,  24.7  ,  21.74 ,  19.67 ,  16.1  ,  15.1  ,  17.6  ,\n",
       "        21.14 ,  22.95 ,  26.   ,  20.28 ,  23.7  ,  16.5  ,  15.73 ,\n",
       "        25.17 ,  16.14 ,  17.21 ,  13.38 ,  15.04 ,  26.68 ,  20.89 ,\n",
       "        24.39 ,  21.7  ,  15.8  ,  11.7  ,  24.3  ,  25.8  ,  20.73 ,\n",
       "        18.5  ,  21.01 ,  17.09 ,  26.21 ,  23.84 ,  21.1  ,  12.8  ,\n",
       "        16.47 ,  20.92 ,  22.7  ,  17.03 ,  15.29 ,  16.95 ,  19.01 ,\n",
       "        18.97 ,  19.3  ,  21.76 ,  15.2  ,  19.28 ,  21.63 ,  19.5  ,\n",
       "        21.19 ,  12.   ,  17.41 ,  22.54 ,  12.08 ,  17.9  ,  16.78 ,\n",
       "        17.2  ,  11.5  ,  14.16 ,  19.23 ,   8.5  ,  15.97 ,   9.   ,\n",
       "        22.38 ,  23.65 ,  15.85 ,  19.7  ,  17.68 ,  19.03 ,  14.84 ,\n",
       "        25.6  ,  22.3  ,  20.1  ,  18.72 ,  17.19 ,  18.3  ,  13.96 ,\n",
       "        22.77 ,  15.3  ,  23.01 ,  16.65 ,  12.62 ,  20.5  ,  19.44 ,\n",
       "        14.62 ,  22.69 ,  18.78 ,  16.36 ,  16.38 ,  14.69 ,  23.64 ,\n",
       "        26.59 ,  19.71 ,  20.4  ,  17.11 ,  22.32 ,  24.4  ,  23.2  ,\n",
       "        13.17 ,  20.85 ,  14.24 ,  19.15 ,  25.   ,  22.25 ,  22.15 ,\n",
       "        23.56 ,  20.09 ,  23.4  ,  18.88 ,  15.4  ,  19.62 ,  14.5  ,\n",
       "        21.9  ,  16.25 ,  19.72 ,  22.9  ,  18.76 ,  12.07 ,  17.88 ,\n",
       "        19.34 ,  14.4  ,  25.4  ,  27.62 ,  22.74 ,  25.44 ,  18.27 ,\n",
       "        21.72 ,  21.79 ,  22.07 ,  20.71 ,   9.8  ,  13.14 ,  11.33 ,\n",
       "        25.19 ,  18.16 ,  24.29 ,  15.63 ,  19.16 ,  16.73 ,  14.2  ,\n",
       "        17.3  ,  19.83 ,  27.28 ,  25.83 ,  16.3  ,  22.1  ,  12.2  ,\n",
       "        18.4  ,  12.78 ,  20.68 ,  24.04 ,  27.39 ,  20.08 ,  12.05 ,\n",
       "        25.32 ,  20.52 ,  18.75 ,  14.49 ,  11.74 ,  12.99 ,  20.58 ,\n",
       "        24.35 ,  11.36 ,  14.19 ,  18.19 ,  17.05 ,  12.7  ,  37.086,\n",
       "        11.3  ,  15.7  ,  13.7  ,  13.9  ,  16.98 ,  21.56 ,  23.9  ,\n",
       "        16.02 ,  16.11 ,  17.57 ,  20.54 ,  13.8  ,  18.05 ,  18.24 ,\n",
       "        17.92 ,  18.06 ,  20.25 ,  24.2  ,  19.2  ,  18.1  ,  15.64 ,\n",
       "        21.13 ,  19.19 ,  13.01 ,  16.42 ,  12.83 ,  22.35 ,  14.59 ,\n",
       "        17.67 ,  11.24 ,  20.77 ,  12.18 ,  18.8  ,  20.65 ,  20.8  ,\n",
       "        26.2  ,  14.7  ,  23.08 ,  16.24 ,  19.87 ,  22.37 ,  19.33 ,\n",
       "        16.9  ,  14.57 ,  19.59 ,  14.85 ,  16.13 ,  15.17 ,  18.55 ,\n",
       "        14.74 ,  20.45 ,  14.28 ,  20.63 ,  21.27 ,  17.33 ,  18.48 ,\n",
       "        13.45 ,  12.6  ,  15.56 ,  19.98 ,  27.03 ,  16.56 ,  13.2  ,\n",
       "        14.1  ,  13.24 ,  10.91 ,  16.07 ,  11.1  ,  11.4  ,  11.72 ,\n",
       "        13.32 ,  10.   ,  11.18 ,  14.21 ,  10.9  ,  15.43 ,  14.11 ,\n",
       "        22.56 ,  14.67 ,  14.71 ,  17.69 ,  12.55 ,  17.7  ,  13.06 ,\n",
       "        12.3  ,  17.14 ,  21.03 ,  22.5  ,  21.46 ,  17.42 ,  18.56 ,\n",
       "        13.79 ,  18.25 ,  14.99 ,  11.9  ,  11.57 ,  20.04 , 110.   ,\n",
       "        14.   ,  18.45 ,  16.96 ,  12.65 ,  19.65 ,  10.75 ,  21.73 ,\n",
       "        13.4  ,  20.46 ,  12.35 ,  29.232,  26.11 ,  13.58 ,  10.54 ,\n",
       "        19.64 , 140.   ,  19.69 ,  15.41 ,  14.9  ,  19.47 ,  10.5  ,\n",
       "        19.09 ,  21.64 ,  22.61 ,  18.09 ,   8.9  ,  23.59 ,  15.96 ,\n",
       "        13.93 ,  16.4  ,  16.28 ,  20.86 ,  18.07 ,  16.6  ,  26.1  ,\n",
       "        13.92 ,  14.02 ,  44.226,  21.8  ,  24.76 ,  12.34 ,  21.11 ,\n",
       "        14.23 ,  26.82 ,  11.   ,  17.32 ,  25.3  ,  19.95 ,  49.84 ,\n",
       "        21.12 ,  11.96 ,  21.02 ,  19.68 ,  25.1  ,  13.47 ,  18.23 ,\n",
       "        31.12 ,  23.22 ,  17.38 ,  15.68 ,  17.97 ,  22.27 ,  16.97 ,\n",
       "        13.33 ,  19.89 ,  27.4  ,  26.5  ,  25.01 ,  17.43 ,  22.71 ,\n",
       "        20.34 ,  33.54 ,  12.9  ,  12.4  ,  32.52 ,  24.1  ,  42.658,\n",
       "        17.29 ,  21.49 ,  13.1  ,  14.47 ,  29.54 ,  18.43 ,  12.12 ,\n",
       "        26.8  ,   9.74 ,  14.34 ,  11.67 ,  12.74 ,  39.2  ,  12.5  ,\n",
       "        14.025,  42.672,  19.61 ,  36.512,  12.1  ,  12.81 ,   9.2  ,\n",
       "        17.71 ,  16.34 ,  30.46 ,  11.21 ,  16.39 ,  11.2  ,  12.04 ,\n",
       "        16.12 ,  26.55 ,   7.08 ,  31.2  ,  12.33 ,  31.79 ,   8.13 ,\n",
       "        16.72 ,  22.48 ,  20.6  ,  14.01 ,  10.8  ,   9.26 ,  12.95 ,\n",
       "        16.7  ,  10.4  ,  20.15 ,  43.568,  11.88 ,  18.69 ,  26.46 ,\n",
       "        15.01 ,  10.26 ,  19.39 ,   8.45 ,  36.554,  12.63 ,  26.6  ,\n",
       "        10.13 ,  20.27 ,  14.09 ,  20.01 ,  10.93 ,  37.24 ,  26.83 ,\n",
       "        16.77 ,  19.17 ,  21.38 ,  23.57 ,  24.8  ,   7.94 ,  26.49 ,\n",
       "        25.47 ,  18.33 ,   9.4  ,   7.5  ,  13.44 ,  14.94 ,  23.03 ,\n",
       "        15.39 ,  24.97 ,  34.05 ,  17.85 ,  27.97 ,  20.62 ,  15.15 ,\n",
       "        19.8  ,  14.95 ,  11.81 ,  12.98 ])"
      ]
     },
     "execution_count": 330,
     "metadata": {},
     "output_type": "execute_result"
    }
   ],
   "source": [
    "car['Mileage'].unique()"
   ]
  },
  {
   "cell_type": "markdown",
   "metadata": {},
   "source": [
    "### DRIVE TYPE -- FWD or RWD or 4X4 -- Handling missing values"
   ]
  },
  {
   "cell_type": "code",
   "execution_count": 331,
   "metadata": {},
   "outputs": [],
   "source": [
    "car['Miscellaneous - Drive Type']=car.rename(columns={\"Miscellaneous - Drive Type\":\"DriveType\"},inplace=True)"
   ]
  },
  {
   "cell_type": "code",
   "execution_count": 332,
   "metadata": {},
   "outputs": [
    {
     "data": {
      "text/plain": [
       "0    FWD\n",
       "Name: DriveType, dtype: object"
      ]
     },
     "execution_count": 332,
     "metadata": {},
     "output_type": "execute_result"
    }
   ],
   "source": [
    "car['DriveType'].mode()"
   ]
  },
  {
   "cell_type": "code",
   "execution_count": 333,
   "metadata": {},
   "outputs": [
    {
     "data": {
      "text/plain": [
       "array(['FWD', 'RWD', nan, 'AWD', '4x2', '2WD', '4WD', 'Front Wheel Drive',\n",
       "       'FWD ', '2 WD', '4X4', '4X2', 'Two Wheel Drive',\n",
       "       'Rear Wheel Drive with ESP', '2WD ', 'All Wheel Drive',\n",
       "       'RWD(with MTT)', '4x4', 'Permanent all-wheel drive quattro',\n",
       "       'AWD INTEGRATED MANAGEMENT', '4 WD'], dtype=object)"
      ]
     },
     "execution_count": 333,
     "metadata": {},
     "output_type": "execute_result"
    }
   ],
   "source": [
    "car['DriveType'].unique()"
   ]
  },
  {
   "cell_type": "code",
   "execution_count": 334,
   "metadata": {},
   "outputs": [
    {
     "data": {
      "text/plain": [
       "1923"
      ]
     },
     "execution_count": 334,
     "metadata": {},
     "output_type": "execute_result"
    }
   ],
   "source": [
    "car['DriveType'].isnull().sum()"
   ]
  },
  {
   "cell_type": "code",
   "execution_count": 335,
   "metadata": {},
   "outputs": [
    {
     "data": {
      "text/plain": [
       "dtype('O')"
      ]
     },
     "execution_count": 335,
     "metadata": {},
     "output_type": "execute_result"
    }
   ],
   "source": [
    "car['DriveType'].dtype"
   ]
  },
  {
   "cell_type": "code",
   "execution_count": 336,
   "metadata": {},
   "outputs": [
    {
     "name": "stderr",
     "output_type": "stream",
     "text": [
      "C:\\Users\\Srivathsan\\AppData\\Local\\Temp\\ipykernel_31100\\330633647.py:32: FutureWarning: A value is trying to be set on a copy of a DataFrame or Series through chained assignment using an inplace method.\n",
      "The behavior will change in pandas 3.0. This inplace method will never work because the intermediate object on which we are setting values always behaves as a copy.\n",
      "\n",
      "For example, when doing 'df[col].method(value, inplace=True)', try using 'df.method({col: value}, inplace=True)' or df[col] = df[col].method(value) instead, to perform the operation inplace on the original object.\n",
      "\n",
      "\n",
      "  car['DriveType'].fillna(mode_drive_type, inplace=True)\n"
     ]
    }
   ],
   "source": [
    "# Step 1: Define a mapping for DriveType\n",
    "mapping = {\n",
    "    'FWD': 'FWD',\n",
    "    'FWD ': 'FWD',\n",
    "    'Front Wheel Drive': 'FWD',\n",
    "    'RWD': 'RWD',\n",
    "    'RWD ': 'RWD',\n",
    "    'Rear Wheel Drive with ESP': 'RWD',\n",
    "    'RWD(with MTT)': 'RWD',\n",
    "    '4WD': '4WD',\n",
    "    '4x4': '4WD',\n",
    "    '4X4': '4WD',\n",
    "    '4x2': '4WD',\n",
    "    '4X2': '4WD',\n",
    "    '2WD': 'RWD',  # or use 'FWD' based on your preference\n",
    "    '2 WD': 'RWD',  # same as above\n",
    "    'Two Wheel Drive': 'RWD',  # same as above\n",
    "    'AWD': 'AWD',\n",
    "    'All Wheel Drive': 'AWD',\n",
    "    'AWD INTEGRATED MANAGEMENT': 'AWD',\n",
    "    'Permanent all-wheel drive quattro': 'AWD',\n",
    "    'Real Wheel Drive':'RWD',\n",
    "    '4 WD': '4WD',\n",
    "    None: None  # Keep NaN as is\n",
    "}\n",
    "\n",
    "# Step 2: Map the values using the defined mapping\n",
    "car['DriveType'] = car['DriveType'].map(mapping)\n",
    "\n",
    "# Step 3: Handle missing values using the mode\n",
    "mode_drive_type = car['DriveType'].mode()[0]\n",
    "car['DriveType'].fillna(mode_drive_type, inplace=True)"
   ]
  },
  {
   "cell_type": "code",
   "execution_count": 337,
   "metadata": {},
   "outputs": [
    {
     "data": {
      "text/plain": [
       "array(['FWD', 'RWD', 'AWD', '4WD'], dtype=object)"
      ]
     },
     "execution_count": 337,
     "metadata": {},
     "output_type": "execute_result"
    }
   ],
   "source": [
    "car['DriveType'].unique()"
   ]
  },
  {
   "cell_type": "markdown",
   "metadata": {},
   "source": [
    "## rename some columns"
   ]
  },
  {
   "cell_type": "code",
   "execution_count": 338,
   "metadata": {},
   "outputs": [],
   "source": [
    "car['bt']=car.rename(columns={\"bt\":\"bodytype\"},inplace=True)"
   ]
  },
  {
   "cell_type": "code",
   "execution_count": 339,
   "metadata": {},
   "outputs": [],
   "source": [
    "car['ft']=car.rename(columns={\"ft\":\"fueltype\"},inplace=True)"
   ]
  },
  {
   "cell_type": "code",
   "execution_count": 340,
   "metadata": {},
   "outputs": [],
   "source": [
    "car['km']=car.rename(columns={\"km\":\"kms driven\"},inplace=True)"
   ]
  },
  {
   "cell_type": "code",
   "execution_count": 341,
   "metadata": {},
   "outputs": [],
   "source": [
    "car['Insurance Validity']=car.rename(columns={\"Insurance Validity\":\"Insurance\"},inplace=True)"
   ]
  },
  {
   "cell_type": "code",
   "execution_count": null,
   "metadata": {},
   "outputs": [],
   "source": []
  },
  {
   "cell_type": "markdown",
   "metadata": {},
   "source": [
    "## Merging the columns needed for final Analysis\n"
   ]
  },
  {
   "cell_type": "code",
   "execution_count": 342,
   "metadata": {},
   "outputs": [],
   "source": [
    "columns_to_keep = ['bodytype','fueltype','oem','owner','transmission', 'ownerNo','kms driven', 'Mileage','model','variantName','Seats','DriveType','Insurance',\n",
    "                   'modelYear', 'Registration Year','Gearbox','Torque','Year of Manufacture','Carlength','Engine Displacement','Carwidth','city','Max Power','price']"
   ]
  },
  {
   "cell_type": "code",
   "execution_count": 343,
   "metadata": {},
   "outputs": [],
   "source": [
    "final_car = car[columns_to_keep]\n",
    "\n",
    "# Optionally, save this new DataFrame to a CSV file\n",
    "final_car.to_csv('finalcardata.csv', index=False)"
   ]
  },
  {
   "cell_type": "code",
   "execution_count": 344,
   "metadata": {},
   "outputs": [
    {
     "name": "stdout",
     "output_type": "stream",
     "text": [
      "    bodytype fueltype      oem      owner transmission  ownerNo kms driven  \\\n",
      "0        SUV   Petrol      Kia  1st Owner    Automatic        1     20,000   \n",
      "1   Minivans   Petrol   Maruti  1st Owner       Manual        1     20,687   \n",
      "2        SUV   Petrol   Nissan  1st Owner       Manual        1     30,000   \n",
      "3  Hatchback   Petrol  Hyundai  1st Owner       Manual        1     59,247   \n",
      "4  Hatchback   Petrol    Honda  1st Owner       Manual        1     50,000   \n",
      "\n",
      "   Mileage           model                    variantName    Seats DriveType  \\\n",
      "0    18.90       Kia Sonet  Turbo DCT Anniversary Edition  5 Seats       FWD   \n",
      "1    15.37     Maruti Eeco         7 Seater Standard BSIV  7 Seats       RWD   \n",
      "2    20.00  Nissan Magnite          Turbo XV Premium BSVI  5 Seats       FWD   \n",
      "3    19.81     Hyundai i10                    Sportz 1.1L  5 Seats       FWD   \n",
      "4    18.70      Honda Jazz                  1.2 VX i VTEC  5 Seats       FWD   \n",
      "\n",
      "               Insurance  modelYear Registration Year  Gearbox  Torque  \\\n",
      "0  Third Party insurance       2022              2022        7  172.00   \n",
      "1          Comprehensive       2015          Feb 2015        5  101.00   \n",
      "2  Third Party insurance       2021              2021        5  160.00   \n",
      "3          Comprehensive       2015          May 2015        5   99.04   \n",
      "4  Third Party insurance       2015              2015        5  110.00   \n",
      "\n",
      "   Year of Manufacture  Carlength Engine Displacement  Carwidth     city  \\\n",
      "0                 2022       3995              998 cc      1790  chennai   \n",
      "1                 2015       3675             1196 cc      1475  chennai   \n",
      "2                 2021       3994              999 cc      1758  chennai   \n",
      "3                 2015       3585             1086 cc      1595  chennai   \n",
      "4                 2015       3955             1199 cc      1694  chennai   \n",
      "\n",
      "   Max Power    price  \n",
      "0     118.36  1150000  \n",
      "1      73.00   415000  \n",
      "2      98.63   750000  \n",
      "3      68.05   398000  \n",
      "4      88.70   550000  \n"
     ]
    }
   ],
   "source": [
    "import pandas as pd\n",
    "\n",
    "# Assuming 'car' is your DataFrame\n",
    "# Remove duplicate columns\n",
    "final_car = final_car.loc[:, ~final_car.columns.duplicated()]\n",
    "\n",
    "# Remove columns that are entirely empty\n",
    "final_car = final_car.dropna(axis=1, how='all')\n",
    "\n",
    "# Save to CSV\n",
    "final_car.to_csv('finalcarsdata.csv', index=False)\n",
    "\n",
    "# Display the cleaned DataFrame\n",
    "print(final_car.head())\n"
   ]
  },
  {
   "cell_type": "code",
   "execution_count": null,
   "metadata": {},
   "outputs": [],
   "source": []
  }
 ],
 "metadata": {
  "kernelspec": {
   "display_name": "Python 3",
   "language": "python",
   "name": "python3"
  },
  "language_info": {
   "codemirror_mode": {
    "name": "ipython",
    "version": 3
   },
   "file_extension": ".py",
   "mimetype": "text/x-python",
   "name": "python",
   "nbconvert_exporter": "python",
   "pygments_lexer": "ipython3",
   "version": "3.12.4"
  }
 },
 "nbformat": 4,
 "nbformat_minor": 2
}
